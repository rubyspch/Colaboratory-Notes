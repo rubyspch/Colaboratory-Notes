{
  "nbformat": 4,
  "nbformat_minor": 0,
  "metadata": {
    "colab": {
      "name": "RegexJavaScript.ipynb",
      "provenance": [],
      "collapsed_sections": [],
      "authorship_tag": "ABX9TyPlP7f3UPbavCfvmnW4TrlD",
      "include_colab_link": true
    },
    "kernelspec": {
      "name": "python3",
      "display_name": "Python 3"
    },
    "language_info": {
      "name": "python"
    }
  },
  "cells": [
    {
      "cell_type": "markdown",
      "metadata": {
        "id": "view-in-github",
        "colab_type": "text"
      },
      "source": [
        "<a href=\"https://colab.research.google.com/github/rubyspch/Colaboratory-Notes/blob/main/RegexJavaScript.ipynb\" target=\"_parent\"><img src=\"https://colab.research.google.com/assets/colab-badge.svg\" alt=\"Open In Colab\"/></a>"
      ]
    },
    {
      "cell_type": "markdown",
      "metadata": {
        "id": "12rGzg0hbWW8"
      },
      "source": [
        "Regular expressions:\n",
        "\n",
        "Use regex to search a string for a pattern (eg a particular word)\n",
        "\n",
        "```\n",
        "let helloVar=\"Hello Colab\";\n",
        "let myRegex= /Hello/;\n",
        "let result= myRegex.test(helloVar);\n",
        "```\n",
        "Use OR operator to search a string for multiple patterns:\n",
        "```\n",
        "let nameRegex= /Josh|Donna|Josiah|Leo|CJ/\n",
        "```\n",
        "Use i flag to ignore case differences:\n",
        "```\n",
        "let nameRegex= /Josh|Donna|Josiah|Leo|CJ/i\n",
        "```\n",
        "^ This will find the patterns regardless of upper/lowercase\n",
        "\n",
        ".test() will return a Boolean True or False whether the pattern is located.\n",
        "\n",
        "Use .match() to grab the located pattern with the opposite syntax like this:\n",
        "\n",
        "'string'.match(/regex/); \n",
        "\n",
        "/regex/ .test('string');\n",
        "\n",
        "To grab the 'Hello' from the hello Var string:\n",
        "```\n",
        "let helloVar=\"Hello Colab\";\n",
        "let myRegex= /Hello/;\n",
        "let booleanResult= myRegex.test(helloVar);\n",
        "let stringResult= helloVar.match(myRegex);\n",
        "```\n",
        "Use g flag with the i flag to grab all repeated patterns from a string in all cases:\n",
        "\n",
        "```\n",
        "let twinkleStar = \"Twinkle, twinkle, little star\";\n",
        "let starRegex = /Twinkle/gi; \n",
        "let result = twinkleStar.match(starRegex);\n",
        "```\n",
        "\n",
        "\n",
        "\n",
        "\n",
        "\n",
        "\n"
      ]
    },
    {
      "cell_type": "markdown",
      "metadata": {
        "id": "tXnBhI6Dghyy"
      },
      "source": [
        "If you want to find a partial word pattern you can use the wildcard character- a dot/period.\n",
        "In this result will return [Twinkle, twinkle, little]:\n",
        "```\n",
        "let twinkleStar = \"Twinkle, twinkle, little star\";\n",
        "let starRegex = /.le/\n",
        "let result = twinkleStar.match(starRegex);\n",
        "```\n",
        "\n"
      ]
    },
    {
      "cell_type": "markdown",
      "metadata": {
        "id": "XmDVcqlFinOD"
      },
      "source": [
        "Character Classes:\n",
        "If you want to match bag, big, and bug but not bog. You can create the regex /b[aiu]g/ to do this:\n",
        "```\n",
        "let bgRegex = /b[aiu]g/\n",
        "```\n",
        "To find a range of numbers or a range of letters (using the sequence of the alphabet) use '-' :\n",
        "```\n",
        "let alphabetRegex = /[a-z]/gi\n",
        "let numberRegex = /[4-7]/ig\n",
        "let myRegex = /[a-z0-9]/ig\n",
        "```\n",
        "Specifying a character set you don't want to find using caret ^:\n",
        "```\n",
        "let myRegex = /[^aeiou0-9]/gi; //This won't find vowels or numbers\n",
        "```\n",
        "Shortcut for finding upper/lower case alphabet, and number ranges:\n",
        "```\n",
        "let longHand = /[A-Za-z0-9_]+/; \n",
        "\n",
        "let shortHand = /\\w+/\n",
        "```\n",
        "Shortcut for finding the opposite of the alphanumeric characters using capital W:\n",
        "```\n",
        "let shortHand = /\\W/; \n",
        "```\n",
        "Caret is used outside of a character set to search for patterns that occur at the beginning of a string, and a dollar sign to search the end of a string:\n",
        "```\n",
        "let startRegex=/^Hello/ #Does the string start with Hello?\n",
        "\n",
        "let endRegex=/Hello$/ #Does the string end with Hello?\n",
        "```\n",
        "\n",
        "Find one or more of the same character:\n",
        "```\n",
        "let findA = /a+/g\n",
        "```\n",
        "^ BUT any consecutive letters will be returned together as \"aaa\"\n",
        "\n",
        "Find zero or more of the same character with *. Find an uppercase A that is immediately followed by zero or more lowercase 'a' characters:\n",
        "```\n",
        "let chewieRegex = /Aa*/;\n",
        "```\n",
        "Regex will find the largest pattern to fit the pattern, a 'greedy' match, but ? will find a lazy match- the shortest possible match:\n",
        "```\n",
        "let chewieRegex = /Aa*?/; #Will return the 'Aa' only\n",
        "```\n",
        "\n"
      ]
    },
    {
      "cell_type": "markdown",
      "metadata": {
        "id": "50kUEJzh1QGb"
      },
      "source": [
        "The shortcut to look for number digit characters is \\d\\ - This is equal to the character class [0-9].\n",
        "The opposite, looking for none didgits, is /\\D/\n",
        "\n",
        "```\n",
        "let yesNumRegex = /\\d/g; #cpunts digits\n",
        "\n",
        "let noNumRegex = /\\D/g; #counts non-digits\n",
        "```\n",
        "\n",
        "\n"
      ]
    },
    {
      "cell_type": "markdown",
      "metadata": {
        "id": "Uto4rjNA2Soi"
      },
      "source": [
        "Test:\n",
        "You need to check all the usernames in a database. Here are some simple rules that users have to follow when creating their username.\n",
        "\n",
        "1. Usernames can only use alpha-numeric characters.\n",
        "\n",
        "2. The only numbers in the username have to be at the end. There can be zero or more of them at the end. Username cannot start with the number.\n",
        "\n",
        "3. Username letters can be lowercase and uppercase.\n",
        "\n",
        "4. Usernames have to be at least two characters long. A two-character username can only use alphabet letters as characters.\n",
        "\n",
        "```\n",
        "let userCheck = /^[a-z][a-z]+\\d*$|^[a-z]\\d\\d+$/i; \n",
        "```"
      ]
    },
    {
      "cell_type": "markdown",
      "metadata": {
        "id": "NkJdYlGNOiDZ"
      },
      "source": [
        "searching for Whitespace:\n",
        "```\n",
        "let countWhiteSpace = /\\s/g;\n",
        "```\n",
        "This pattern matches whitespace, but also carriage return, tab, form feed, and new line characters. Similar to the character class [ \\r\\t\\f\\n\\v].\n",
        "\n",
        "Searching for non-whitespace:\n",
        "```\n",
        "let countNonWhiteSpace = /\\S/g; \n",
        "```\n",
        "can use .length after match to get to the number of matched characters to the pattern.\n",
        "\n",
        "\n",
        "Searching a specific range of patterns, not just 1 or more [+], or 0 or more [*]:\n",
        "Quantity specifiers {x,y} = upper and lower number of patterns. This will find 'Oh' with 3 to 6 h characters. \n",
        "```\n",
        "let ohRegex = /Oh{3,6}/;\n",
        "let haRegex = /Haz{4,}ah/ #matches hazzah with 4 or more z characters\n",
        "let timRegex = /Tim{4}ber/; #matches timber with exactly 4 m characters\n",
        "```\n",
        "To make a character optional in the pattern use ?:\n",
        "```\n",
        "let rainbowRegex= /colou?r/ #This will catch both brit and us spellings\n",
        "```\n",
        "\n",
        "When you want to search for something but not grab it you use lookaheads- \n",
        "positive lookahead (?=)\n",
        "negative lookahead (?!)\n",
        "\n",
        "SO:\n",
        "```\n",
        "let quRegex= /q(?=u)/ # this will search for qu pattern but only grab the \"q\"\n",
        "let qRegex = /q(?!u) #this will search for a q without a u after and will grab the \"q\" if it finds that.\n",
        "```\n",
        "A more practical use of lookaheads is to check two or more patterns in one string. Use lookaheads in the pwRegex to match passwords that are greater than 5 characters long, and have two consecutive digits:\n",
        "```\n",
        "let pwRegex = /(?=\\w{6,})(?=\\w*\\d{2})/;\n",
        "```\n",
        "\n",
        "Checking for optional groups of characters using ():\n",
        "```let testRegex = /P(engu|umpk)in/```\n",
        "\n",
        "Capture groups:\n",
        "\n",
        "use () to make a group, then use numbers to use a repetition of that group as part of the regex:\n",
        "```repeatRegex = /(\\w+)\\s\\1/``` -the 1 refers to a repetition of the elements in the parentheses(\\w+).\n",
        "If you have more than one group the next groups are called 2, 3...etc\n"
      ]
    },
    {
      "cell_type": "markdown",
      "metadata": {
        "id": "J9DOwEbG-K8q"
      },
      "source": [
        "Using .replace and capture groups:\n",
        "\n",
        "```\n",
        "let wrongText = \"The sky is silver.\"; let silverRegex = /silver/; wrongText.replace(silverRegex, \"blue\");\n",
        "```\n",
        "OR USING DOLLAR SIGN SYNTAX:\n",
        "\n",
        "Write a regex fixRegex using three capture groups that will search for each word in the string one two three. Then update the replaceText variable to replace one two three with the string three two one and assign the result to the result variable:\n",
        "```\n",
        "let str = \"one two three\";\n",
        "let fixRegex = /(\\w+)\\s(\\w+)\\s(\\w+)/; // Change this line\n",
        "let replaceText = \"$3 $2 $1\"; // Change this line\n",
        "let result = str.replace(fixRegex, replaceText);\n",
        "```\n",
        "Write a regex and use the appropriate string methods to remove whitespace at the beginning and end of strings.\n",
        "  -The String.prototype.trim() method would work here, but you'll need to complete this challenge using regular expressions.\n",
        "\n",
        "```\n",
        "let hello = \"   Hello, World!  \";\n",
        "let wsRegex = /^\\s+|\\s+$/g; // Change this line\n",
        "let result = hello.replace(wsRegex,\"\"); \n",
        "```"
      ]
    }
  ]
}