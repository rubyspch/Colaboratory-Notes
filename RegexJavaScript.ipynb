{
  "nbformat": 4,
  "nbformat_minor": 0,
  "metadata": {
    "colab": {
      "name": "RegexJavaScript.ipynb",
      "provenance": [],
      "authorship_tag": "ABX9TyNQ7tAJOEEiCM9XRNBJZNep",
      "include_colab_link": true
    },
    "kernelspec": {
      "name": "python3",
      "display_name": "Python 3"
    },
    "language_info": {
      "name": "python"
    }
  },
  "cells": [
    {
      "cell_type": "markdown",
      "metadata": {
        "id": "view-in-github",
        "colab_type": "text"
      },
      "source": [
        "<a href=\"https://colab.research.google.com/github/rubyspch/Colaboratory-Notes/blob/main/RegexJavaScript.ipynb\" target=\"_parent\"><img src=\"https://colab.research.google.com/assets/colab-badge.svg\" alt=\"Open In Colab\"/></a>"
      ]
    },
    {
      "cell_type": "markdown",
      "metadata": {
        "id": "12rGzg0hbWW8"
      },
      "source": [
        "Regular expressions:\n",
        "\n",
        "Use regex to search a string for a pattern (eg a particular word)\n",
        "\n",
        "```\n",
        "let helloVar=\"Hello Colab\";\n",
        "let myRegex= /Hello/;\n",
        "let result= myRegex.test(helloVar);\n",
        "```\n",
        "Use OR operator to search a string for multiple patterns:\n",
        "```\n",
        "let nameRegex= /Josh|Donna|Josiah|Leo|CJ/\n",
        "```\n",
        "Use i flag to ignore case differences:\n",
        "```\n",
        "let nameRegex= /Josh|Donna|Josiah|Leo|CJ/i\n",
        "```\n",
        "^ This will find the patterns regardless of upper/lowercase\n",
        "\n",
        ".test() will return a Boolean True or False whether the pattern is located.\n",
        "\n",
        "Use .match() to grab the located pattern with the opposite syntax like this:\n",
        "\n",
        "'string'.match(/regex/); \n",
        "\n",
        "/regex/ .test('string');\n",
        "\n",
        "To grab the 'Hello' from the hello Var string:\n",
        "```\n",
        "let helloVar=\"Hello Colab\";\n",
        "let myRegex= /Hello/;\n",
        "let booleanResult= myRegex.test(helloVar);\n",
        "let stringResult= helloVar.match(myRegex);\n",
        "```\n",
        "Use g flag with the i flag to grab all repeated patterns from a string in all cases:\n",
        "\n",
        "```\n",
        "let twinkleStar = \"Twinkle, twinkle, little star\";\n",
        "let starRegex = /Twinkle/gi; \n",
        "let result = twinkleStar.match(starRegex);\n",
        "```\n",
        "\n",
        "\n",
        "\n",
        "\n",
        "\n",
        "\n"
      ]
    },
    {
      "cell_type": "markdown",
      "metadata": {
        "id": "tXnBhI6Dghyy"
      },
      "source": [
        "If you want to find a partial word pattern you can use the wildcard character- a dot/period.\n",
        "In this result will return [Twinkle, twinkle, little]:\n",
        "```\n",
        "let twinkleStar = \"Twinkle, twinkle, little star\";\n",
        "let starRegex = /.le/\n",
        "let result = twinkleStar.match(starRegex);\n",
        "```\n",
        "\n"
      ]
    },
    {
      "cell_type": "markdown",
      "metadata": {
        "id": "XmDVcqlFinOD"
      },
      "source": [
        "Character Classes:\n",
        "If you want to match bag, big, and bug but not bog. You can create the regex /b[aiu]g/ to do this:\n",
        "```\n",
        "let bgRegex = /b[aiu]g/\n",
        "```\n",
        "To find a range of numbers or a range of letters (using the sequence of the alphabet) use '-' :\n",
        "```\n",
        "let alphabetRegex = /[a-z]/gi\n",
        "let numberRegex = /[4-7]/ig\n",
        "let myRegex = /[a-z0-9]/ig\n",
        "```\n",
        "\n",
        "Specifying characters you don't want to find using ^:\n",
        "```\n",
        "let myRegex = /[^aeiou0-9]/gi; //This won't find vowels or numbers\n",
        "```\n"
      ]
    }
  ]
}