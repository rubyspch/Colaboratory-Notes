{
  "nbformat": 4,
  "nbformat_minor": 0,
  "metadata": {
    "colab": {
      "name": "null_values.ipynb",
      "provenance": [],
      "collapsed_sections": [],
      "authorship_tag": "ABX9TyOA62udfgW8fzamD4LBRJcv",
      "include_colab_link": true
    },
    "kernelspec": {
      "name": "python3",
      "display_name": "Python 3"
    },
    "language_info": {
      "name": "python"
    }
  },
  "cells": [
    {
      "cell_type": "markdown",
      "metadata": {
        "id": "view-in-github",
        "colab_type": "text"
      },
      "source": [
        "<a href=\"https://colab.research.google.com/github/rubyspch/Colaboratory-Notes/blob/main/null_values.ipynb\" target=\"_parent\"><img src=\"https://colab.research.google.com/assets/colab-badge.svg\" alt=\"Open In Colab\"/></a>"
      ]
    },
    {
      "cell_type": "code",
      "metadata": {
        "id": "fCluK4bJ3yRv"
      },
      "source": [
        "import numpy as np\n",
        "import pandas as pd"
      ],
      "execution_count": 1,
      "outputs": []
    },
    {
      "cell_type": "code",
      "metadata": {
        "colab": {
          "base_uri": "https://localhost:8080/"
        },
        "id": "xDbWNXXO4uIX",
        "outputId": "a4f8970f-719e-453a-95cb-94949ff3eea0"
      },
      "source": [
        "falsy_values = (0, False, None, '', [], {})\n",
        "any(falsy_values)"
      ],
      "execution_count": 6,
      "outputs": [
        {
          "output_type": "execute_result",
          "data": {
            "text/plain": [
              "False"
            ]
          },
          "metadata": {
            "tags": []
          },
          "execution_count": 6
        }
      ]
    },
    {
      "cell_type": "markdown",
      "metadata": {
        "id": "fg4dAGBs5DT0"
      },
      "source": [
        "NumPy has:\n",
        "```\n",
        "np.nan\n",
        "```\n",
        "which is 'Not a Number'. Do any arithmatic with this it will result in nan.\n",
        "\n",
        "3+none would raise a traceback error and stop code."
      ]
    },
    {
      "cell_type": "code",
      "metadata": {
        "colab": {
          "base_uri": "https://localhost:8080/"
        },
        "id": "S6spOSye5Toj",
        "outputId": "1965debd-3d02-49a6-fdb0-000271169df8"
      },
      "source": [
        "3 + np.nan"
      ],
      "execution_count": 8,
      "outputs": [
        {
          "output_type": "execute_result",
          "data": {
            "text/plain": [
              "nan"
            ]
          },
          "metadata": {
            "tags": []
          },
          "execution_count": 8
        }
      ]
    },
    {
      "cell_type": "markdown",
      "metadata": {
        "id": "q6m8H4PK5nJo"
      },
      "source": [
        "But using np.nan for empty values just registers as nan with no traceback."
      ]
    },
    {
      "cell_type": "markdown",
      "metadata": {
        "id": "GDdvUqne30rJ"
      },
      "source": [
        "There is also the infinite type:"
      ]
    },
    {
      "cell_type": "code",
      "metadata": {
        "colab": {
          "base_uri": "https://localhost:8080/"
        },
        "id": "ZviRKNbQ4vkK",
        "outputId": "90c5ffe5-d195-4423-c2ee-3fa0c0ef76fc"
      },
      "source": [
        "np.inf"
      ],
      "execution_count": 12,
      "outputs": [
        {
          "output_type": "execute_result",
          "data": {
            "text/plain": [
              "inf"
            ]
          },
          "metadata": {
            "tags": []
          },
          "execution_count": 12
        }
      ]
    },
    {
      "cell_type": "markdown",
      "metadata": {
        "id": "KcewwQ7z531O"
      },
      "source": [
        "Do any arithmatic with this it will result in inf."
      ]
    },
    {
      "cell_type": "markdown",
      "metadata": {
        "id": "cuAA6lH56Tnp"
      },
      "source": [
        "Two functions: np.isnan and np.isinf will check for nan and inf:\n",
        "\n",
        "They return boolean arrays if you pass through an array"
      ]
    },
    {
      "cell_type": "code",
      "metadata": {
        "colab": {
          "base_uri": "https://localhost:8080/"
        },
        "id": "4-7GkEhr6cTT",
        "outputId": "3748a76c-9a5a-42ec-8f59-91e63524a67f"
      },
      "source": [
        "np.isnan(np.array([1, 2, 3, np.nan, np.inf, 4]))"
      ],
      "execution_count": 15,
      "outputs": [
        {
          "output_type": "execute_result",
          "data": {
            "text/plain": [
              "array([False, False, False,  True, False, False])"
            ]
          },
          "metadata": {
            "tags": []
          },
          "execution_count": 15
        }
      ]
    },
    {
      "cell_type": "code",
      "metadata": {
        "colab": {
          "base_uri": "https://localhost:8080/"
        },
        "id": "p9r8O8LU6eX2",
        "outputId": "33174d21-75c5-43d9-a3fb-8d45d8ba08ba"
      },
      "source": [
        "np.isinf(np.inf)"
      ],
      "execution_count": 14,
      "outputs": [
        {
          "output_type": "execute_result",
          "data": {
            "text/plain": [
              "True"
            ]
          },
          "metadata": {
            "tags": []
          },
          "execution_count": 14
        }
      ]
    },
    {
      "cell_type": "code",
      "metadata": {
        "colab": {
          "base_uri": "https://localhost:8080/"
        },
        "id": "w34ASB8p7RBz",
        "outputId": "2b1634a5-3f7f-4b82-8a7a-ca683f8c4f02"
      },
      "source": [
        "np.isfinite(np.array([1, 2, 3, np.nan, np.inf, 4]))"
      ],
      "execution_count": 19,
      "outputs": [
        {
          "output_type": "execute_result",
          "data": {
            "text/plain": [
              "array([ True,  True,  True, False, False,  True])"
            ]
          },
          "metadata": {
            "tags": []
          },
          "execution_count": 19
        }
      ]
    },
    {
      "cell_type": "markdown",
      "metadata": {
        "id": "1iqLm2Xi7SpH"
      },
      "source": [
        "isfinite filters for both inf and nan"
      ]
    },
    {
      "cell_type": "markdown",
      "metadata": {
        "id": "cYirNcxr6wiH"
      },
      "source": [
        "**Filtering**\n",
        "To filter them out of an array:"
      ]
    },
    {
      "cell_type": "code",
      "metadata": {
        "id": "uUmPW4Gp6_fA"
      },
      "source": [
        "a = np.array([1, 2, 3, np.nan, np.nan, 4])"
      ],
      "execution_count": 16,
      "outputs": []
    },
    {
      "cell_type": "code",
      "metadata": {
        "colab": {
          "base_uri": "https://localhost:8080/"
        },
        "id": "87dT54CF7eet",
        "outputId": "44b22555-5be2-409d-cb28-9537920bf2dd"
      },
      "source": [
        "a[~np.isnan(a)]"
      ],
      "execution_count": 20,
      "outputs": [
        {
          "output_type": "execute_result",
          "data": {
            "text/plain": [
              "array([1., 2., 3., 4.])"
            ]
          },
          "metadata": {
            "tags": []
          },
          "execution_count": 20
        }
      ]
    },
    {
      "cell_type": "code",
      "metadata": {
        "colab": {
          "base_uri": "https://localhost:8080/"
        },
        "id": "8mZQXUGa7BBx",
        "outputId": "95442609-a70a-4eea-eb3d-714d0c03c5ef"
      },
      "source": [
        "a[np.isfinite(a)]"
      ],
      "execution_count": 18,
      "outputs": [
        {
          "output_type": "execute_result",
          "data": {
            "text/plain": [
              "array([1., 2., 3., 4.])"
            ]
          },
          "metadata": {
            "tags": []
          },
          "execution_count": 18
        }
      ]
    },
    {
      "cell_type": "markdown",
      "metadata": {
        "id": "wCHmhp3E7xs-"
      },
      "source": [
        "**Pandas has utility functions to detect nulls as well:**\n",
        "\n",
        "isnull, isna, notnull, notna:\n",
        "- return true or false.\n",
        "-work with series and dataframes"
      ]
    },
    {
      "cell_type": "code",
      "metadata": {
        "colab": {
          "base_uri": "https://localhost:8080/"
        },
        "id": "kV5gHHjZ73gH",
        "outputId": "a105aa0b-296a-464a-8a83-b7ce8afe8220"
      },
      "source": [
        "pd.isnull(np.nan)"
      ],
      "execution_count": 21,
      "outputs": [
        {
          "output_type": "execute_result",
          "data": {
            "text/plain": [
              "True"
            ]
          },
          "metadata": {
            "tags": []
          },
          "execution_count": 21
        }
      ]
    },
    {
      "cell_type": "markdown",
      "metadata": {
        "id": "G2kP2rF58QEc"
      },
      "source": [
        "To count the amount of not null/null values use .sum:"
      ]
    },
    {
      "cell_type": "code",
      "metadata": {
        "colab": {
          "base_uri": "https://localhost:8080/"
        },
        "id": "kj04g6wg8lJC",
        "outputId": "0b038824-c697-4ca0-a60f-376ec9a95123"
      },
      "source": [
        "a=pd.Series([1,2,3,np.nan,4])\n",
        "pd.notnull(a).sum()"
      ],
      "execution_count": 22,
      "outputs": [
        {
          "output_type": "execute_result",
          "data": {
            "text/plain": [
              "4"
            ]
          },
          "metadata": {
            "tags": []
          },
          "execution_count": 22
        }
      ]
    },
    {
      "cell_type": "markdown",
      "metadata": {
        "id": "-Zh9SvAT9LAF"
      },
      "source": [
        "Can filter data series by:\n",
        "```\n",
        "series_name[pd.notnull(series_name)]\n",
        "```\n",
        "This will output all the values in series_name that are not null as a new series\n",
        "\n",
        "Another way to write that:\n",
        "\n",
        "```\n",
        "series_name[series_name.notnull()]\n",
        "```\n",
        "\n",
        "But if you're wanting to drop null values in a series or dataframe you can use:\n",
        "\n",
        "```\n",
        "s.dropna()\n",
        "```"
      ]
    },
    {
      "cell_type": "markdown",
      "metadata": {
        "id": "cpO9OPHu94yH"
      },
      "source": [
        "In a dataframe, dropna will drop entire rows that have any nan values, not just the nans themselves.\n",
        "Can get it to delete columns instead if you do:\n",
        "```\n",
        "df.dropna(axis=1)\n",
        "```\n",
        "\n",
        "Other attributes for dropna:\n",
        "`how='any'` is the default (deletes row with any amount of nans)\n",
        "`how='all'` (deletes rows/cols where ALL of the values are nans\n",
        "\n",
        "`thresh=3` specifies a threshhold. Saying 3 means keep any rows/cols with `at least 3 `nonnull values, at least 3 truthy values."
      ]
    },
    {
      "cell_type": "markdown",
      "metadata": {
        "id": "_QbZe3BcAUW2"
      },
      "source": [
        "**filling values**\n",
        "\n",
        "\n",
        "```\n",
        "s.fillna(0)\n",
        "```\n",
        "This will fill any nan values with 0.\n",
        "\n",
        "\n",
        "```\n",
        "s.fillna(s.mean())\n",
        "```\n",
        "\n",
        "This will fill them with the mean.\n",
        "\n",
        "fillna attribute 'method':\n",
        "`method='bfill'` OR `'ffill'`\n",
        "- this will give the nan values the value of the data after or before it\n",
        "-add `axis=1` to do this by row"
      ]
    },
    {
      "cell_type": "markdown",
      "metadata": {
        "id": "IVyKfg31Brjf"
      },
      "source": [
        "Boolean tests:\n",
        "`series.any()`\n",
        "`series.all()`\n"
      ]
    },
    {
      "cell_type": "code",
      "metadata": {
        "id": "sgh5peVWCKgR"
      },
      "source": [
        "s=pd.Series([True, False, True])"
      ],
      "execution_count": 39,
      "outputs": []
    },
    {
      "cell_type": "code",
      "metadata": {
        "colab": {
          "base_uri": "https://localhost:8080/"
        },
        "id": "5aS87xjhCTlU",
        "outputId": "8ced86b0-9b41-437c-9752-3756b3375652"
      },
      "source": [
        "s.any()"
      ],
      "execution_count": 24,
      "outputs": [
        {
          "output_type": "execute_result",
          "data": {
            "text/plain": [
              "True"
            ]
          },
          "metadata": {
            "tags": []
          },
          "execution_count": 24
        }
      ]
    },
    {
      "cell_type": "code",
      "metadata": {
        "colab": {
          "base_uri": "https://localhost:8080/"
        },
        "id": "QPp1f7qKCW0l",
        "outputId": "45d4a7fa-0ee6-453b-ffec-7ae675860354"
      },
      "source": [
        "s.all()"
      ],
      "execution_count": 25,
      "outputs": [
        {
          "output_type": "execute_result",
          "data": {
            "text/plain": [
              "False"
            ]
          },
          "metadata": {
            "tags": []
          },
          "execution_count": 25
        }
      ]
    }
  ]
}