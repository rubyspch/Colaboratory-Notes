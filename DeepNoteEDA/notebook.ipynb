{
 "cells": [
  {
   "cell_type": "code",
   "metadata": {
    "tags": [],
    "cell_id": "00000-f463831c-661b-4446-9aba-166ab02342e3",
    "deepnote_to_be_reexecuted": false,
    "source_hash": "60469fb6",
    "execution_start": 1620466237747,
    "execution_millis": 1493,
    "deepnote_cell_type": "code"
   },
   "source": "import pandas as pd\nimport numpy as np\nimport matplotlib.pyplot as plt\nimport seaborn as sns\n%matplotlib inline\ndataframe=pd.read_csv(\"/work/listings.csv.gz\")\ndf=dataframe",
   "execution_count": null,
   "outputs": []
  },
  {
   "cell_type": "code",
   "metadata": {
    "tags": [],
    "cell_id": "00001-499d5f62-5821-4fc7-9242-978b65b440d7",
    "deepnote_to_be_reexecuted": false,
    "source_hash": "c085b6ba",
    "execution_start": 1620466239334,
    "execution_millis": 132,
    "deepnote_cell_type": "code"
   },
   "source": "df.head()",
   "execution_count": null,
   "outputs": [
    {
     "output_type": "execute_result",
     "execution_count": 2,
     "data": {
      "application/vnd.deepnote.dataframe.v2+json": {
       "row_count": 5,
       "column_count": 74,
       "columns": [
        {
         "name": "id",
         "dtype": "int64",
         "stats": {
          "unique_count": 5,
          "nan_count": 0,
          "min": "2818",
          "max": "28871",
          "histogram": [
           {
            "bin_start": 2818,
            "bin_end": 5423.3,
            "count": 1
           },
           {
            "bin_start": 5423.3,
            "bin_end": 8028.6,
            "count": 0
           },
           {
            "bin_start": 8028.6,
            "bin_end": 10633.900000000001,
            "count": 0
           },
           {
            "bin_start": 10633.900000000001,
            "bin_end": 13239.2,
            "count": 0
           },
           {
            "bin_start": 13239.2,
            "bin_end": 15844.5,
            "count": 0
           },
           {
            "bin_start": 15844.5,
            "bin_end": 18449.800000000003,
            "count": 0
           },
           {
            "bin_start": 18449.800000000003,
            "bin_end": 21055.100000000002,
            "count": 1
           },
           {
            "bin_start": 21055.100000000002,
            "bin_end": 23660.4,
            "count": 0
           },
           {
            "bin_start": 23660.4,
            "bin_end": 26265.7,
            "count": 1
           },
           {
            "bin_start": 26265.7,
            "bin_end": 28871,
            "count": 2
           }
          ]
         }
        },
        {
         "name": "listing_url",
         "dtype": "object",
         "stats": {
          "unique_count": 5,
          "nan_count": 0,
          "categories": [
           {
            "name": "https://www.airbnb.com/rooms/2818",
            "count": 1
           },
           {
            "name": "https://www.airbnb.com/rooms/20168",
            "count": 1
           },
           {
            "name": "3 others",
            "count": 3
           }
          ]
         }
        },
        {
         "name": "scrape_id",
         "dtype": "int64",
         "stats": {
          "unique_count": 1,
          "nan_count": 0,
          "min": "20210409161549",
          "max": "20210409161549",
          "histogram": [
           {
            "bin_start": 20210409161548.5,
            "bin_end": 20210409161548.6,
            "count": 0
           },
           {
            "bin_start": 20210409161548.6,
            "bin_end": 20210409161548.7,
            "count": 0
           },
           {
            "bin_start": 20210409161548.7,
            "bin_end": 20210409161548.8,
            "count": 0
           },
           {
            "bin_start": 20210409161548.8,
            "bin_end": 20210409161548.9,
            "count": 0
           },
           {
            "bin_start": 20210409161548.9,
            "bin_end": 20210409161549,
            "count": 0
           },
           {
            "bin_start": 20210409161549,
            "bin_end": 20210409161549.1,
            "count": 5
           },
           {
            "bin_start": 20210409161549.1,
            "bin_end": 20210409161549.2,
            "count": 0
           },
           {
            "bin_start": 20210409161549.2,
            "bin_end": 20210409161549.3,
            "count": 0
           },
           {
            "bin_start": 20210409161549.3,
            "bin_end": 20210409161549.4,
            "count": 0
           },
           {
            "bin_start": 20210409161549.4,
            "bin_end": 20210409161549.5,
            "count": 0
           }
          ]
         }
        },
        {
         "name": "last_scraped",
         "dtype": "object",
         "stats": {
          "unique_count": 3,
          "nan_count": 0,
          "categories": [
           {
            "name": "2021-04-12",
            "count": 2
           },
           {
            "name": "2021-04-11",
            "count": 2
           },
           {
            "name": "2021-04-13",
            "count": 1
           }
          ]
         }
        },
        {
         "name": "name",
         "dtype": "object",
         "stats": {
          "unique_count": 5,
          "nan_count": 0,
          "categories": [
           {
            "name": "Quiet Garden View Room & Super Fast WiFi",
            "count": 1
           },
           {
            "name": "Studio with private bathroom in the centre 1",
            "count": 1
           },
           {
            "name": "3 others",
            "count": 3
           }
          ]
         }
        },
        {
         "name": "description",
         "dtype": "object",
         "stats": {
          "unique_count": 5,
          "nan_count": 0,
          "categories": [
           {
            "name": "Quiet Garden View Room & Super Fast WiFi<br /><br /><b>The space</b><br />I'm renting a bedroom (room overlooking the garden) in my apartment in Amsterdam, <br /><br />The room is located to the east of the city centre in a quiet, typical Amsterdam neighbourhood the \"Indische Buurt\". Amsterdam’s historic centre is less than 15 minutes away by bike or tram.<br /><br /><br />The features of the room are:<br /><br />- Twin beds (80 x 200 cm, down quilts and pillows) <br />- 2 pure cotton towels for each guest <br />- reading lamps<br />- bedside table<br />- wardrobe<br />- table with chairs<br />- tea and coffee making facilities<br />- mini bar<br />- alarm clock<br />- Hi-Fi system with cd player, connection for mp3 player / phone<br />- map of Amsterdam and public transport<br />- Wi-Fi Internet connection <br /><br />Extra services:<br /><br />- Bike rental",
            "count": 1
           },
           {
            "name": "17th century Dutch townhouse in the heart of the city. no public transport needed! Located a stones throw from Rembrandt Square, Dam Square, Leidse Square and Flower Market. Walking distance from Central Station.<br />Comfortable, cosy, lockable studio with comfortable bed and with private bathroom, double glazed windows and night blackout curtains, flat screen TV and mini fridge, Wi-Fi. No bathtub only shower. No kitchen. No curfew. You feel 100% privacy. Maximum for 2 persons!<br /><br /><b>The space</b><br />For those who like all facets of city life. In the streets surrounding the house, there are lots of antique shops, and for those who are into browsing for antiques. The Rijksmuseum is a short walk away. The famous nine-streets with all its little boutique shops, cafes, restaurants and whatnot is also around the corner. The Dam Square, Leidse Square and Rembrandt Squarejust minutes to walk.<br />No Curfew and you feel 100% privacy. <br />Hair dryer, towels and linens are included",
            "count": 1
           },
           {
            "name": "3 others",
            "count": 3
           }
          ]
         }
        },
        {
         "name": "neighborhood_overview",
         "dtype": "object",
         "stats": {
          "unique_count": 4,
          "nan_count": 1,
          "categories": [
           {
            "name": "Indische Buurt (\"Indies Neighborhood\") is a neighbourhood in the eastern portion of the city of Amsterdam, in the Dutch province of Noord-Holland. The name dates from the early 20th century and is derived from the fact that the neighbourhood's streets are named after islands and other geographical concepts in the former Dutch colony of the Dutch East Indies. The first street was named in 1902. In 2003, there were around 23,357 inhabitants. The neighbourhood is bounded on the west by the railroad Amsterdam - Hilversum (with the Muiderpoort Station), on the east side by Flevopark, on the north side by Zeeburgerdijk and on the south side by the Ringvaart Watergraafsmeer. Indische Buurt is the oldest part of the Zeeburg district and is very ethnically diverse, and a high percentage of the population is of immigrant origin (for Zeeburg this is already high at 55%, but higher in the Indische Buurt) and there are an estimated 100 languages spoken.",
            "count": 1
           },
           {
            "name": "3 others",
            "count": 3
           },
           {
            "name": "Missing",
            "count": 1
           }
          ]
         }
        },
        {
         "name": "picture_url",
         "dtype": "object",
         "stats": {
          "unique_count": 5,
          "nan_count": 0,
          "categories": [
           {
            "name": "https://a0.muscache.com/pictures/10272854/8dcca016_original.jpg",
            "count": 1
           },
           {
            "name": "https://a0.muscache.com/pictures/69979628/fd6a3a80_original.jpg",
            "count": 1
           },
           {
            "name": "3 others",
            "count": 3
           }
          ]
         }
        },
        {
         "name": "host_id",
         "dtype": "int64",
         "stats": {
          "unique_count": 5,
          "nan_count": 0,
          "min": "3159",
          "max": "124245",
          "histogram": [
           {
            "bin_start": 3159,
            "bin_end": 15267.6,
            "count": 1
           },
           {
            "bin_start": 15267.6,
            "bin_end": 27376.2,
            "count": 0
           },
           {
            "bin_start": 27376.2,
            "bin_end": 39484.8,
            "count": 0
           },
           {
            "bin_start": 39484.8,
            "bin_end": 51593.4,
            "count": 0
           },
           {
            "bin_start": 51593.4,
            "bin_end": 63702,
            "count": 2
           },
           {
            "bin_start": 63702,
            "bin_end": 75810.6,
            "count": 0
           },
           {
            "bin_start": 75810.6,
            "bin_end": 87919.2,
            "count": 0
           },
           {
            "bin_start": 87919.2,
            "bin_end": 100027.8,
            "count": 1
           },
           {
            "bin_start": 100027.8,
            "bin_end": 112136.40000000001,
            "count": 0
           },
           {
            "bin_start": 112136.40000000001,
            "bin_end": 124245,
            "count": 1
           }
          ]
         }
        },
        {
         "name": "host_url",
         "dtype": "object",
         "stats": {
          "unique_count": 5,
          "nan_count": 0,
          "categories": [
           {
            "name": "https://www.airbnb.com/users/show/3159",
            "count": 1
           },
           {
            "name": "https://www.airbnb.com/users/show/59484",
            "count": 1
           },
           {
            "name": "3 others",
            "count": 3
           }
          ]
         }
        },
        {
         "name": "host_name",
         "dtype": "object",
         "stats": {
          "unique_count": 5,
          "nan_count": 0,
          "categories": [
           {
            "name": "Daniel",
            "count": 1
           },
           {
            "name": "Alexander",
            "count": 1
           },
           {
            "name": "3 others",
            "count": 3
           }
          ]
         }
        },
        {
         "name": "host_since",
         "dtype": "object",
         "stats": {
          "unique_count": 5,
          "nan_count": 0,
          "categories": [
           {
            "name": "2008-09-24",
            "count": 1
           },
           {
            "name": "2009-12-02",
            "count": 1
           },
           {
            "name": "3 others",
            "count": 3
           }
          ]
         }
        },
        {
         "name": "host_location",
         "dtype": "object",
         "stats": {
          "unique_count": 2,
          "nan_count": 0,
          "categories": [
           {
            "name": "Amsterdam, Noord-Holland, The Netherlands",
            "count": 4
           },
           {
            "name": "New York, New York, United States",
            "count": 1
           }
          ]
         }
        },
        {
         "name": "host_about",
         "dtype": "object",
         "stats": {
          "unique_count": 5,
          "nan_count": 0,
          "categories": [
           {
            "name": "Upon arriving in Amsterdam, one can imagine asking oneself: Where is the fun nightlife? What are the local hot spots? \r\n\r\nHow can I experience the real life in this city? I  offer you the opportunity to act, eat and sleep like-a-local!  \r\n\r\nI provide the traveler with the opportunity to connect with the local life in Amsterdam.",
            "count": 1
           },
           {
            "name": "+ (Phone number hidden by Airbnb)",
            "count": 1
           },
           {
            "name": "3 others",
            "count": 3
           }
          ]
         }
        },
        {
         "name": "host_response_time",
         "dtype": "object",
         "stats": {
          "unique_count": 2,
          "nan_count": 3,
          "categories": [
           {
            "name": "within a few hours",
            "count": 1
           },
           {
            "name": "within an hour",
            "count": 1
           },
           {
            "name": "Missing",
            "count": 3
           }
          ]
         }
        },
        {
         "name": "host_response_rate",
         "dtype": "object",
         "stats": {
          "unique_count": 1,
          "nan_count": 3,
          "categories": [
           {
            "name": "100%",
            "count": 2
           },
           {
            "name": "Missing",
            "count": 3
           }
          ]
         }
        },
        {
         "name": "host_acceptance_rate",
         "dtype": "object",
         "stats": {
          "unique_count": 3,
          "nan_count": 2,
          "categories": [
           {
            "name": "0%",
            "count": 1
           },
           {
            "name": "2 others",
            "count": 2
           },
           {
            "name": "Missing",
            "count": 2
           }
          ]
         }
        },
        {
         "name": "host_is_superhost",
         "dtype": "object",
         "stats": {
          "unique_count": 2,
          "nan_count": 0,
          "categories": [
           {
            "name": "t",
            "count": 4
           },
           {
            "name": "f",
            "count": 1
           }
          ]
         }
        },
        {
         "name": "host_thumbnail_url",
         "dtype": "object",
         "stats": {
          "unique_count": 5,
          "nan_count": 0,
          "categories": [
           {
            "name": "https://a0.muscache.com/im/users/3159/profile_pic/1259095323/original.jpg?aki_policy=profile_small",
            "count": 1
           },
           {
            "name": "https://a0.muscache.com/im/pictures/user/65092142-62d7-48a9-9479-ad5a24d99a77.jpg?aki_policy=profile_small",
            "count": 1
           },
           {
            "name": "3 others",
            "count": 3
           }
          ]
         }
        },
        {
         "name": "host_picture_url",
         "dtype": "object",
         "stats": {
          "unique_count": 5,
          "nan_count": 0,
          "categories": [
           {
            "name": "https://a0.muscache.com/im/users/3159/profile_pic/1259095323/original.jpg?aki_policy=profile_x_medium",
            "count": 1
           },
           {
            "name": "https://a0.muscache.com/im/pictures/user/65092142-62d7-48a9-9479-ad5a24d99a77.jpg?aki_policy=profile_x_medium",
            "count": 1
           },
           {
            "name": "3 others",
            "count": 3
           }
          ]
         }
        },
        {
         "name": "host_neighbourhood",
         "dtype": "object",
         "stats": {
          "unique_count": 4,
          "nan_count": 0,
          "categories": [
           {
            "name": "Grachtengordel",
            "count": 2
           },
           {
            "name": "Indische Buurt",
            "count": 1
           },
           {
            "name": "2 others",
            "count": 2
           }
          ]
         }
        },
        {
         "name": "host_listings_count",
         "dtype": "float64",
         "stats": {
          "unique_count": 2,
          "nan_count": 0,
          "min": "1.0",
          "max": "2.0",
          "histogram": [
           {
            "bin_start": 1,
            "bin_end": 1.1,
            "count": 2
           },
           {
            "bin_start": 1.1,
            "bin_end": 1.2,
            "count": 0
           },
           {
            "bin_start": 1.2,
            "bin_end": 1.3,
            "count": 0
           },
           {
            "bin_start": 1.3,
            "bin_end": 1.4,
            "count": 0
           },
           {
            "bin_start": 1.4,
            "bin_end": 1.5,
            "count": 0
           },
           {
            "bin_start": 1.5,
            "bin_end": 1.6,
            "count": 0
           },
           {
            "bin_start": 1.6,
            "bin_end": 1.7000000000000002,
            "count": 0
           },
           {
            "bin_start": 1.7000000000000002,
            "bin_end": 1.8,
            "count": 0
           },
           {
            "bin_start": 1.8,
            "bin_end": 1.9,
            "count": 0
           },
           {
            "bin_start": 1.9,
            "bin_end": 2,
            "count": 3
           }
          ]
         }
        },
        {
         "name": "host_total_listings_count",
         "dtype": "float64",
         "stats": {
          "unique_count": 2,
          "nan_count": 0,
          "min": "1.0",
          "max": "2.0",
          "histogram": [
           {
            "bin_start": 1,
            "bin_end": 1.1,
            "count": 2
           },
           {
            "bin_start": 1.1,
            "bin_end": 1.2,
            "count": 0
           },
           {
            "bin_start": 1.2,
            "bin_end": 1.3,
            "count": 0
           },
           {
            "bin_start": 1.3,
            "bin_end": 1.4,
            "count": 0
           },
           {
            "bin_start": 1.4,
            "bin_end": 1.5,
            "count": 0
           },
           {
            "bin_start": 1.5,
            "bin_end": 1.6,
            "count": 0
           },
           {
            "bin_start": 1.6,
            "bin_end": 1.7000000000000002,
            "count": 0
           },
           {
            "bin_start": 1.7000000000000002,
            "bin_end": 1.8,
            "count": 0
           },
           {
            "bin_start": 1.8,
            "bin_end": 1.9,
            "count": 0
           },
           {
            "bin_start": 1.9,
            "bin_end": 2,
            "count": 3
           }
          ]
         }
        },
        {
         "name": "host_verifications",
         "dtype": "object",
         "stats": {
          "unique_count": 3,
          "nan_count": 0,
          "categories": [
           {
            "name": "['email', 'phone', 'reviews', 'jumio', 'offline_government_id', 'selfie', 'government_id', 'identity_manual']",
            "count": 2
           },
           {
            "name": "['email', 'phone', 'reviews', 'jumio', 'offline_government_id', 'government_id']",
            "count": 2
           },
           {
            "name": "['email', 'phone', 'reviews']",
            "count": 1
           }
          ]
         }
        },
        {
         "name": "host_has_profile_pic",
         "dtype": "object",
         "stats": {
          "unique_count": 1,
          "nan_count": 0,
          "categories": [
           {
            "name": "t",
            "count": 5
           }
          ]
         }
        },
        {
         "name": "host_identity_verified",
         "dtype": "object",
         "stats": {
          "unique_count": 2,
          "nan_count": 0,
          "categories": [
           {
            "name": "t",
            "count": 4
           },
           {
            "name": "f",
            "count": 1
           }
          ]
         }
        },
        {
         "name": "neighbourhood",
         "dtype": "object",
         "stats": {
          "unique_count": 1,
          "nan_count": 1,
          "categories": [
           {
            "name": "Amsterdam, North Holland, Netherlands",
            "count": 4
           },
           {
            "name": "Missing",
            "count": 1
           }
          ]
         }
        },
        {
         "name": "neighbourhood_cleansed",
         "dtype": "object",
         "stats": {
          "unique_count": 3,
          "nan_count": 0,
          "categories": [
           {
            "name": "Centrum-West",
            "count": 3
           },
           {
            "name": "Oostelijk Havengebied - Indische Buurt",
            "count": 1
           },
           {
            "name": "Centrum-Oost",
            "count": 1
           }
          ]
         }
        },
        {
         "name": "neighbourhood_group_cleansed",
         "dtype": "float64",
         "stats": {
          "unique_count": 0,
          "nan_count": 5,
          "min": null,
          "max": null,
          "histogram": [
           {
            "bin_start": 0,
            "bin_end": 0.1,
            "count": 0
           },
           {
            "bin_start": 0.1,
            "bin_end": 0.2,
            "count": 0
           },
           {
            "bin_start": 0.2,
            "bin_end": 0.30000000000000004,
            "count": 0
           },
           {
            "bin_start": 0.30000000000000004,
            "bin_end": 0.4,
            "count": 0
           },
           {
            "bin_start": 0.4,
            "bin_end": 0.5,
            "count": 0
           },
           {
            "bin_start": 0.5,
            "bin_end": 0.6000000000000001,
            "count": 0
           },
           {
            "bin_start": 0.6000000000000001,
            "bin_end": 0.7000000000000001,
            "count": 0
           },
           {
            "bin_start": 0.7000000000000001,
            "bin_end": 0.8,
            "count": 0
           },
           {
            "bin_start": 0.8,
            "bin_end": 0.9,
            "count": 0
           },
           {
            "bin_start": 0.9,
            "bin_end": 1,
            "count": 0
           }
          ]
         }
        },
        {
         "name": "latitude",
         "dtype": "float64",
         "stats": {
          "unique_count": 5,
          "nan_count": 0,
          "min": "52.36407",
          "max": "52.38761",
          "histogram": [
           {
            "bin_start": 52.36407,
            "bin_end": 52.366423999999995,
            "count": 2
           },
           {
            "bin_start": 52.366423999999995,
            "bin_end": 52.368778,
            "count": 1
           },
           {
            "bin_start": 52.368778,
            "bin_end": 52.371132,
            "count": 0
           },
           {
            "bin_start": 52.371132,
            "bin_end": 52.373486,
            "count": 0
           },
           {
            "bin_start": 52.373486,
            "bin_end": 52.37584,
            "count": 1
           },
           {
            "bin_start": 52.37584,
            "bin_end": 52.378194,
            "count": 0
           },
           {
            "bin_start": 52.378194,
            "bin_end": 52.380548000000005,
            "count": 0
           },
           {
            "bin_start": 52.380548000000005,
            "bin_end": 52.382902,
            "count": 0
           },
           {
            "bin_start": 52.382902,
            "bin_end": 52.385256,
            "count": 0
           },
           {
            "bin_start": 52.385256,
            "bin_end": 52.38761,
            "count": 1
           }
          ]
         }
        },
        {
         "name": "longitude",
         "dtype": "float64",
         "stats": {
          "unique_count": 5,
          "nan_count": 0,
          "min": "4.88487",
          "max": "4.94358",
          "histogram": [
           {
            "bin_start": 4.88487,
            "bin_end": 4.890741,
            "count": 1
           },
           {
            "bin_start": 4.890741,
            "bin_end": 4.896612,
            "count": 3
           },
           {
            "bin_start": 4.896612,
            "bin_end": 4.902483,
            "count": 0
           },
           {
            "bin_start": 4.902483,
            "bin_end": 4.908354,
            "count": 0
           },
           {
            "bin_start": 4.908354,
            "bin_end": 4.914225,
            "count": 0
           },
           {
            "bin_start": 4.914225,
            "bin_end": 4.920096,
            "count": 0
           },
           {
            "bin_start": 4.920096,
            "bin_end": 4.925967,
            "count": 0
           },
           {
            "bin_start": 4.925967,
            "bin_end": 4.931838,
            "count": 0
           },
           {
            "bin_start": 4.931838,
            "bin_end": 4.937709,
            "count": 0
           },
           {
            "bin_start": 4.937709,
            "bin_end": 4.94358,
            "count": 1
           }
          ]
         }
        },
        {
         "name": "property_type",
         "dtype": "object",
         "stats": {
          "unique_count": 4,
          "nan_count": 0,
          "categories": [
           {
            "name": "Private room in apartment",
            "count": 2
           },
           {
            "name": "Private room in townhouse",
            "count": 1
           },
           {
            "name": "2 others",
            "count": 2
           }
          ]
         }
        },
        {
         "name": "room_type",
         "dtype": "object",
         "stats": {
          "unique_count": 2,
          "nan_count": 0,
          "categories": [
           {
            "name": "Private room",
            "count": 4
           },
           {
            "name": "Entire home/apt",
            "count": 1
           }
          ]
         }
        },
        {
         "name": "accommodates",
         "dtype": "int64",
         "stats": {
          "unique_count": 2,
          "nan_count": 0,
          "min": "2",
          "max": "3",
          "histogram": [
           {
            "bin_start": 2,
            "bin_end": 2.1,
            "count": 4
           },
           {
            "bin_start": 2.1,
            "bin_end": 2.2,
            "count": 0
           },
           {
            "bin_start": 2.2,
            "bin_end": 2.3,
            "count": 0
           },
           {
            "bin_start": 2.3,
            "bin_end": 2.4,
            "count": 0
           },
           {
            "bin_start": 2.4,
            "bin_end": 2.5,
            "count": 0
           },
           {
            "bin_start": 2.5,
            "bin_end": 2.6,
            "count": 0
           },
           {
            "bin_start": 2.6,
            "bin_end": 2.7,
            "count": 0
           },
           {
            "bin_start": 2.7,
            "bin_end": 2.8,
            "count": 0
           },
           {
            "bin_start": 2.8,
            "bin_end": 2.9,
            "count": 0
           },
           {
            "bin_start": 2.9,
            "bin_end": 3,
            "count": 1
           }
          ]
         }
        },
        {
         "name": "bathrooms",
         "dtype": "float64",
         "stats": {
          "unique_count": 0,
          "nan_count": 5,
          "min": null,
          "max": null,
          "histogram": [
           {
            "bin_start": 0,
            "bin_end": 0.1,
            "count": 0
           },
           {
            "bin_start": 0.1,
            "bin_end": 0.2,
            "count": 0
           },
           {
            "bin_start": 0.2,
            "bin_end": 0.30000000000000004,
            "count": 0
           },
           {
            "bin_start": 0.30000000000000004,
            "bin_end": 0.4,
            "count": 0
           },
           {
            "bin_start": 0.4,
            "bin_end": 0.5,
            "count": 0
           },
           {
            "bin_start": 0.5,
            "bin_end": 0.6000000000000001,
            "count": 0
           },
           {
            "bin_start": 0.6000000000000001,
            "bin_end": 0.7000000000000001,
            "count": 0
           },
           {
            "bin_start": 0.7000000000000001,
            "bin_end": 0.8,
            "count": 0
           },
           {
            "bin_start": 0.8,
            "bin_end": 0.9,
            "count": 0
           },
           {
            "bin_start": 0.9,
            "bin_end": 1,
            "count": 0
           }
          ]
         }
        },
        {
         "name": "bathrooms_text",
         "dtype": "object",
         "stats": {
          "unique_count": 5,
          "nan_count": 0,
          "categories": [
           {
            "name": "1.5 shared baths",
            "count": 1
           },
           {
            "name": "1 private bath",
            "count": 1
           },
           {
            "name": "3 others",
            "count": 3
           }
          ]
         }
        },
        {
         "name": "bedrooms",
         "dtype": "float64",
         "stats": {
          "unique_count": 1,
          "nan_count": 0,
          "min": "1.0",
          "max": "1.0",
          "histogram": [
           {
            "bin_start": 0.5,
            "bin_end": 0.6,
            "count": 0
           },
           {
            "bin_start": 0.6,
            "bin_end": 0.7,
            "count": 0
           },
           {
            "bin_start": 0.7,
            "bin_end": 0.8,
            "count": 0
           },
           {
            "bin_start": 0.8,
            "bin_end": 0.9,
            "count": 0
           },
           {
            "bin_start": 0.9,
            "bin_end": 1,
            "count": 0
           },
           {
            "bin_start": 1,
            "bin_end": 1.1,
            "count": 5
           },
           {
            "bin_start": 1.1,
            "bin_end": 1.2000000000000002,
            "count": 0
           },
           {
            "bin_start": 1.2000000000000002,
            "bin_end": 1.3,
            "count": 0
           },
           {
            "bin_start": 1.3,
            "bin_end": 1.4,
            "count": 0
           },
           {
            "bin_start": 1.4,
            "bin_end": 1.5,
            "count": 0
           }
          ]
         }
        },
        {
         "name": "beds",
         "dtype": "float64",
         "stats": {
          "unique_count": 2,
          "nan_count": 0,
          "min": "1.0",
          "max": "2.0",
          "histogram": [
           {
            "bin_start": 1,
            "bin_end": 1.1,
            "count": 4
           },
           {
            "bin_start": 1.1,
            "bin_end": 1.2,
            "count": 0
           },
           {
            "bin_start": 1.2,
            "bin_end": 1.3,
            "count": 0
           },
           {
            "bin_start": 1.3,
            "bin_end": 1.4,
            "count": 0
           },
           {
            "bin_start": 1.4,
            "bin_end": 1.5,
            "count": 0
           },
           {
            "bin_start": 1.5,
            "bin_end": 1.6,
            "count": 0
           },
           {
            "bin_start": 1.6,
            "bin_end": 1.7000000000000002,
            "count": 0
           },
           {
            "bin_start": 1.7000000000000002,
            "bin_end": 1.8,
            "count": 0
           },
           {
            "bin_start": 1.8,
            "bin_end": 1.9,
            "count": 0
           },
           {
            "bin_start": 1.9,
            "bin_end": 2,
            "count": 1
           }
          ]
         }
        },
        {
         "name": "amenities",
         "dtype": "object",
         "stats": {
          "unique_count": 5,
          "nan_count": 0,
          "categories": [
           {
            "name": "[\"Long term stays allowed\", \"Wifi\", \"Hot water\", \"Private entrance\", \"Coffee maker\", \"Bed linens\", \"Single level home\", \"Dedicated workspace\", \"Hangers\", \"Security cameras on property\", \"First aid kit\", \"Heating\", \"Hair dryer\", \"Backyard\", \"Carbon monoxide alarm\", \"Paid parking off premises\", \"Extra pillows and blankets\", \"Smoke alarm\", \"Shampoo\", \"Lock on bedroom door\", \"Washer\", \"Ethernet connection\", \"Paid parking on premises\", \"Essentials\", \"Host greets you\", \"Iron\", \"Refrigerator\", \"Fire extinguisher\"]",
            "count": 1
           },
           {
            "name": "[\"Essentials\", \"TV\", \"Host greets you\", \"Wifi\", \"Hot water\", \"Heating\", \"Carbon monoxide alarm\", \"Free street parking\", \"Hair dryer\", \"Long term stays allowed\", \"Smoke alarm\", \"Refrigerator\", \"Fire extinguisher\", \"Paid parking off premises\", \"Bed linens\", \"Dedicated workspace\", \"Hangers\"]",
            "count": 1
           },
           {
            "name": "3 others",
            "count": 3
           }
          ]
         }
        },
        {
         "name": "price",
         "dtype": "object",
         "stats": {
          "unique_count": 5,
          "nan_count": 0,
          "categories": [
           {
            "name": "$59.00",
            "count": 1
           },
           {
            "name": "$200.00",
            "count": 1
           },
           {
            "name": "3 others",
            "count": 3
           }
          ]
         }
        },
        {
         "name": "minimum_nights",
         "dtype": "int64",
         "stats": {
          "unique_count": 4,
          "nan_count": 0,
          "min": "1",
          "max": "14",
          "histogram": [
           {
            "bin_start": 1,
            "bin_end": 2.3,
            "count": 3
           },
           {
            "bin_start": 2.3,
            "bin_end": 3.6,
            "count": 1
           },
           {
            "bin_start": 3.6,
            "bin_end": 4.9,
            "count": 0
           },
           {
            "bin_start": 4.9,
            "bin_end": 6.2,
            "count": 0
           },
           {
            "bin_start": 6.2,
            "bin_end": 7.5,
            "count": 0
           },
           {
            "bin_start": 7.5,
            "bin_end": 8.8,
            "count": 0
           },
           {
            "bin_start": 8.8,
            "bin_end": 10.1,
            "count": 0
           },
           {
            "bin_start": 10.1,
            "bin_end": 11.4,
            "count": 0
           },
           {
            "bin_start": 11.4,
            "bin_end": 12.700000000000001,
            "count": 0
           },
           {
            "bin_start": 12.700000000000001,
            "bin_end": 14,
            "count": 1
           }
          ]
         }
        },
        {
         "name": "maximum_nights",
         "dtype": "int64",
         "stats": {
          "unique_count": 5,
          "nan_count": 0,
          "min": "180",
          "max": "1825",
          "histogram": [
           {
            "bin_start": 180,
            "bin_end": 344.5,
            "count": 1
           },
           {
            "bin_start": 344.5,
            "bin_end": 509,
            "count": 1
           },
           {
            "bin_start": 509,
            "bin_end": 673.5,
            "count": 0
           },
           {
            "bin_start": 673.5,
            "bin_end": 838,
            "count": 1
           },
           {
            "bin_start": 838,
            "bin_end": 1002.5,
            "count": 0
           },
           {
            "bin_start": 1002.5,
            "bin_end": 1167,
            "count": 1
           },
           {
            "bin_start": 1167,
            "bin_end": 1331.5,
            "count": 0
           },
           {
            "bin_start": 1331.5,
            "bin_end": 1496,
            "count": 0
           },
           {
            "bin_start": 1496,
            "bin_end": 1660.5,
            "count": 0
           },
           {
            "bin_start": 1660.5,
            "bin_end": 1825,
            "count": 1
           }
          ]
         }
        },
        {
         "name": "minimum_minimum_nights",
         "dtype": "float64",
         "stats": {
          "unique_count": 4,
          "nan_count": 0,
          "min": "1.0",
          "max": "14.0",
          "histogram": [
           {
            "bin_start": 1,
            "bin_end": 2.3,
            "count": 3
           },
           {
            "bin_start": 2.3,
            "bin_end": 3.6,
            "count": 1
           },
           {
            "bin_start": 3.6,
            "bin_end": 4.9,
            "count": 0
           },
           {
            "bin_start": 4.9,
            "bin_end": 6.2,
            "count": 0
           },
           {
            "bin_start": 6.2,
            "bin_end": 7.5,
            "count": 0
           },
           {
            "bin_start": 7.5,
            "bin_end": 8.8,
            "count": 0
           },
           {
            "bin_start": 8.8,
            "bin_end": 10.1,
            "count": 0
           },
           {
            "bin_start": 10.1,
            "bin_end": 11.4,
            "count": 0
           },
           {
            "bin_start": 11.4,
            "bin_end": 12.700000000000001,
            "count": 0
           },
           {
            "bin_start": 12.700000000000001,
            "bin_end": 14,
            "count": 1
           }
          ]
         }
        },
        {
         "name": "maximum_minimum_nights",
         "dtype": "float64",
         "stats": {
          "unique_count": 4,
          "nan_count": 0,
          "min": "2.0",
          "max": "14.0",
          "histogram": [
           {
            "bin_start": 2,
            "bin_end": 3.2,
            "count": 3
           },
           {
            "bin_start": 3.2,
            "bin_end": 4.4,
            "count": 1
           },
           {
            "bin_start": 4.4,
            "bin_end": 5.6,
            "count": 0
           },
           {
            "bin_start": 5.6,
            "bin_end": 6.8,
            "count": 0
           },
           {
            "bin_start": 6.8,
            "bin_end": 8,
            "count": 0
           },
           {
            "bin_start": 8,
            "bin_end": 9.2,
            "count": 0
           },
           {
            "bin_start": 9.2,
            "bin_end": 10.4,
            "count": 0
           },
           {
            "bin_start": 10.4,
            "bin_end": 11.6,
            "count": 0
           },
           {
            "bin_start": 11.6,
            "bin_end": 12.799999999999999,
            "count": 0
           },
           {
            "bin_start": 12.799999999999999,
            "bin_end": 14,
            "count": 1
           }
          ]
         }
        },
        {
         "name": "minimum_maximum_nights",
         "dtype": "float64",
         "stats": {
          "unique_count": 4,
          "nan_count": 0,
          "min": "180.0",
          "max": "1825.0",
          "histogram": [
           {
            "bin_start": 180,
            "bin_end": 344.5,
            "count": 1
           },
           {
            "bin_start": 344.5,
            "bin_end": 509,
            "count": 1
           },
           {
            "bin_start": 509,
            "bin_end": 673.5,
            "count": 0
           },
           {
            "bin_start": 673.5,
            "bin_end": 838,
            "count": 0
           },
           {
            "bin_start": 838,
            "bin_end": 1002.5,
            "count": 0
           },
           {
            "bin_start": 1002.5,
            "bin_end": 1167,
            "count": 2
           },
           {
            "bin_start": 1167,
            "bin_end": 1331.5,
            "count": 0
           },
           {
            "bin_start": 1331.5,
            "bin_end": 1496,
            "count": 0
           },
           {
            "bin_start": 1496,
            "bin_end": 1660.5,
            "count": 0
           },
           {
            "bin_start": 1660.5,
            "bin_end": 1825,
            "count": 1
           }
          ]
         }
        },
        {
         "name": "maximum_maximum_nights",
         "dtype": "float64",
         "stats": {
          "unique_count": 3,
          "nan_count": 0,
          "min": "180.0",
          "max": "1825.0",
          "histogram": [
           {
            "bin_start": 180,
            "bin_end": 344.5,
            "count": 1
           },
           {
            "bin_start": 344.5,
            "bin_end": 509,
            "count": 0
           },
           {
            "bin_start": 509,
            "bin_end": 673.5,
            "count": 0
           },
           {
            "bin_start": 673.5,
            "bin_end": 838,
            "count": 0
           },
           {
            "bin_start": 838,
            "bin_end": 1002.5,
            "count": 0
           },
           {
            "bin_start": 1002.5,
            "bin_end": 1167,
            "count": 3
           },
           {
            "bin_start": 1167,
            "bin_end": 1331.5,
            "count": 0
           },
           {
            "bin_start": 1331.5,
            "bin_end": 1496,
            "count": 0
           },
           {
            "bin_start": 1496,
            "bin_end": 1660.5,
            "count": 0
           },
           {
            "bin_start": 1660.5,
            "bin_end": 1825,
            "count": 1
           }
          ]
         }
        },
        {
         "name": "minimum_nights_avg_ntm",
         "dtype": "float64",
         "stats": {
          "unique_count": 4,
          "nan_count": 0,
          "min": "2.0",
          "max": "14.0",
          "histogram": [
           {
            "bin_start": 2,
            "bin_end": 3.2,
            "count": 3
           },
           {
            "bin_start": 3.2,
            "bin_end": 4.4,
            "count": 1
           },
           {
            "bin_start": 4.4,
            "bin_end": 5.6,
            "count": 0
           },
           {
            "bin_start": 5.6,
            "bin_end": 6.8,
            "count": 0
           },
           {
            "bin_start": 6.8,
            "bin_end": 8,
            "count": 0
           },
           {
            "bin_start": 8,
            "bin_end": 9.2,
            "count": 0
           },
           {
            "bin_start": 9.2,
            "bin_end": 10.4,
            "count": 0
           },
           {
            "bin_start": 10.4,
            "bin_end": 11.6,
            "count": 0
           },
           {
            "bin_start": 11.6,
            "bin_end": 12.799999999999999,
            "count": 0
           },
           {
            "bin_start": 12.799999999999999,
            "bin_end": 14,
            "count": 1
           }
          ]
         }
        },
        {
         "name": "maximum_nights_avg_ntm",
         "dtype": "float64",
         "stats": {
          "unique_count": 4,
          "nan_count": 0,
          "min": "180.0",
          "max": "1825.0",
          "histogram": [
           {
            "bin_start": 180,
            "bin_end": 344.5,
            "count": 1
           },
           {
            "bin_start": 344.5,
            "bin_end": 509,
            "count": 0
           },
           {
            "bin_start": 509,
            "bin_end": 673.5,
            "count": 1
           },
           {
            "bin_start": 673.5,
            "bin_end": 838,
            "count": 0
           },
           {
            "bin_start": 838,
            "bin_end": 1002.5,
            "count": 0
           },
           {
            "bin_start": 1002.5,
            "bin_end": 1167,
            "count": 2
           },
           {
            "bin_start": 1167,
            "bin_end": 1331.5,
            "count": 0
           },
           {
            "bin_start": 1331.5,
            "bin_end": 1496,
            "count": 0
           },
           {
            "bin_start": 1496,
            "bin_end": 1660.5,
            "count": 0
           },
           {
            "bin_start": 1660.5,
            "bin_end": 1825,
            "count": 1
           }
          ]
         }
        },
        {
         "name": "calendar_updated",
         "dtype": "float64",
         "stats": {
          "unique_count": 0,
          "nan_count": 5,
          "min": null,
          "max": null,
          "histogram": [
           {
            "bin_start": 0,
            "bin_end": 0.1,
            "count": 0
           },
           {
            "bin_start": 0.1,
            "bin_end": 0.2,
            "count": 0
           },
           {
            "bin_start": 0.2,
            "bin_end": 0.30000000000000004,
            "count": 0
           },
           {
            "bin_start": 0.30000000000000004,
            "bin_end": 0.4,
            "count": 0
           },
           {
            "bin_start": 0.4,
            "bin_end": 0.5,
            "count": 0
           },
           {
            "bin_start": 0.5,
            "bin_end": 0.6000000000000001,
            "count": 0
           },
           {
            "bin_start": 0.6000000000000001,
            "bin_end": 0.7000000000000001,
            "count": 0
           },
           {
            "bin_start": 0.7000000000000001,
            "bin_end": 0.8,
            "count": 0
           },
           {
            "bin_start": 0.8,
            "bin_end": 0.9,
            "count": 0
           },
           {
            "bin_start": 0.9,
            "bin_end": 1,
            "count": 0
           }
          ]
         }
        },
        {
         "name": "has_availability",
         "dtype": "object",
         "stats": {
          "unique_count": 1,
          "nan_count": 0,
          "categories": [
           {
            "name": "t",
            "count": 5
           }
          ]
         }
        },
        {
         "name": "availability_30",
         "dtype": "int64",
         "stats": {
          "unique_count": 4,
          "nan_count": 0,
          "min": "0",
          "max": "30",
          "histogram": [
           {
            "bin_start": 0,
            "bin_end": 3,
            "count": 2
           },
           {
            "bin_start": 3,
            "bin_end": 6,
            "count": 0
           },
           {
            "bin_start": 6,
            "bin_end": 9,
            "count": 0
           },
           {
            "bin_start": 9,
            "bin_end": 12,
            "count": 0
           },
           {
            "bin_start": 12,
            "bin_end": 15,
            "count": 1
           },
           {
            "bin_start": 15,
            "bin_end": 18,
            "count": 0
           },
           {
            "bin_start": 18,
            "bin_end": 21,
            "count": 0
           },
           {
            "bin_start": 21,
            "bin_end": 24,
            "count": 0
           },
           {
            "bin_start": 24,
            "bin_end": 27,
            "count": 1
           },
           {
            "bin_start": 27,
            "bin_end": 30,
            "count": 1
           }
          ]
         }
        },
        {
         "name": "availability_60",
         "dtype": "int64",
         "stats": {
          "unique_count": 4,
          "nan_count": 0,
          "min": "0",
          "max": "57",
          "histogram": [
           {
            "bin_start": 0,
            "bin_end": 5.7,
            "count": 2
           },
           {
            "bin_start": 5.7,
            "bin_end": 11.4,
            "count": 0
           },
           {
            "bin_start": 11.4,
            "bin_end": 17.1,
            "count": 0
           },
           {
            "bin_start": 17.1,
            "bin_end": 22.8,
            "count": 0
           },
           {
            "bin_start": 22.8,
            "bin_end": 28.5,
            "count": 0
           },
           {
            "bin_start": 28.5,
            "bin_end": 34.2,
            "count": 0
           },
           {
            "bin_start": 34.2,
            "bin_end": 39.9,
            "count": 0
           },
           {
            "bin_start": 39.9,
            "bin_end": 45.6,
            "count": 2
           },
           {
            "bin_start": 45.6,
            "bin_end": 51.300000000000004,
            "count": 0
           },
           {
            "bin_start": 51.300000000000004,
            "bin_end": 57,
            "count": 1
           }
          ]
         }
        },
        {
         "name": "availability_90",
         "dtype": "int64",
         "stats": {
          "unique_count": 4,
          "nan_count": 0,
          "min": "0",
          "max": "84",
          "histogram": [
           {
            "bin_start": 0,
            "bin_end": 8.4,
            "count": 2
           },
           {
            "bin_start": 8.4,
            "bin_end": 16.8,
            "count": 0
           },
           {
            "bin_start": 16.8,
            "bin_end": 25.200000000000003,
            "count": 0
           },
           {
            "bin_start": 25.200000000000003,
            "bin_end": 33.6,
            "count": 0
           },
           {
            "bin_start": 33.6,
            "bin_end": 42,
            "count": 0
           },
           {
            "bin_start": 42,
            "bin_end": 50.400000000000006,
            "count": 1
           },
           {
            "bin_start": 50.400000000000006,
            "bin_end": 58.800000000000004,
            "count": 0
           },
           {
            "bin_start": 58.800000000000004,
            "bin_end": 67.2,
            "count": 1
           },
           {
            "bin_start": 67.2,
            "bin_end": 75.60000000000001,
            "count": 0
           },
           {
            "bin_start": 75.60000000000001,
            "bin_end": 84,
            "count": 1
           }
          ]
         }
        },
        {
         "name": "availability_365",
         "dtype": "int64",
         "stats": {
          "unique_count": 5,
          "nan_count": 0,
          "min": "0",
          "max": "335",
          "histogram": [
           {
            "bin_start": 0,
            "bin_end": 33.5,
            "count": 1
           },
           {
            "bin_start": 33.5,
            "bin_end": 67,
            "count": 1
           },
           {
            "bin_start": 67,
            "bin_end": 100.5,
            "count": 0
           },
           {
            "bin_start": 100.5,
            "bin_end": 134,
            "count": 1
           },
           {
            "bin_start": 134,
            "bin_end": 167.5,
            "count": 1
           },
           {
            "bin_start": 167.5,
            "bin_end": 201,
            "count": 0
           },
           {
            "bin_start": 201,
            "bin_end": 234.5,
            "count": 0
           },
           {
            "bin_start": 234.5,
            "bin_end": 268,
            "count": 0
           },
           {
            "bin_start": 268,
            "bin_end": 301.5,
            "count": 0
           },
           {
            "bin_start": 301.5,
            "bin_end": 335,
            "count": 1
           }
          ]
         }
        },
        {
         "name": "calendar_last_scraped",
         "dtype": "object",
         "stats": {
          "unique_count": 3,
          "nan_count": 0,
          "categories": [
           {
            "name": "2021-04-12",
            "count": 2
           },
           {
            "name": "2021-04-11",
            "count": 2
           },
           {
            "name": "2021-04-13",
            "count": 1
           }
          ]
         }
        },
        {
         "name": "number_of_reviews",
         "dtype": "int64",
         "stats": {
          "unique_count": 5,
          "nan_count": 0,
          "min": "5",
          "max": "339",
          "histogram": [
           {
            "bin_start": 5,
            "bin_end": 38.4,
            "count": 1
           },
           {
            "bin_start": 38.4,
            "bin_end": 71.8,
            "count": 0
           },
           {
            "bin_start": 71.8,
            "bin_end": 105.19999999999999,
            "count": 0
           },
           {
            "bin_start": 105.19999999999999,
            "bin_end": 138.6,
            "count": 0
           },
           {
            "bin_start": 138.6,
            "bin_end": 172,
            "count": 0
           },
           {
            "bin_start": 172,
            "bin_end": 205.39999999999998,
            "count": 0
           },
           {
            "bin_start": 205.39999999999998,
            "bin_end": 238.79999999999998,
            "count": 1
           },
           {
            "bin_start": 238.79999999999998,
            "bin_end": 272.2,
            "count": 0
           },
           {
            "bin_start": 272.2,
            "bin_end": 305.59999999999997,
            "count": 1
           },
           {
            "bin_start": 305.59999999999997,
            "bin_end": 339,
            "count": 2
           }
          ]
         }
        },
        {
         "name": "number_of_reviews_ltm",
         "dtype": "int64",
         "stats": {
          "unique_count": 3,
          "nan_count": 0,
          "min": "0",
          "max": "4",
          "histogram": [
           {
            "bin_start": 0,
            "bin_end": 0.4,
            "count": 3
           },
           {
            "bin_start": 0.4,
            "bin_end": 0.8,
            "count": 0
           },
           {
            "bin_start": 0.8,
            "bin_end": 1.2000000000000002,
            "count": 0
           },
           {
            "bin_start": 1.2000000000000002,
            "bin_end": 1.6,
            "count": 0
           },
           {
            "bin_start": 1.6,
            "bin_end": 2,
            "count": 0
           },
           {
            "bin_start": 2,
            "bin_end": 2.4000000000000004,
            "count": 1
           },
           {
            "bin_start": 2.4000000000000004,
            "bin_end": 2.8000000000000003,
            "count": 0
           },
           {
            "bin_start": 2.8000000000000003,
            "bin_end": 3.2,
            "count": 0
           },
           {
            "bin_start": 3.2,
            "bin_end": 3.6,
            "count": 0
           },
           {
            "bin_start": 3.6,
            "bin_end": 4,
            "count": 1
           }
          ]
         }
        },
        {
         "name": "number_of_reviews_l30d",
         "dtype": "int64",
         "stats": {
          "unique_count": 1,
          "nan_count": 0,
          "min": "0",
          "max": "0",
          "histogram": [
           {
            "bin_start": -0.5,
            "bin_end": -0.4,
            "count": 0
           },
           {
            "bin_start": -0.4,
            "bin_end": -0.3,
            "count": 0
           },
           {
            "bin_start": -0.3,
            "bin_end": -0.19999999999999996,
            "count": 0
           },
           {
            "bin_start": -0.19999999999999996,
            "bin_end": -0.09999999999999998,
            "count": 0
           },
           {
            "bin_start": -0.09999999999999998,
            "bin_end": 0,
            "count": 0
           },
           {
            "bin_start": 0,
            "bin_end": 0.10000000000000009,
            "count": 5
           },
           {
            "bin_start": 0.10000000000000009,
            "bin_end": 0.20000000000000007,
            "count": 0
           },
           {
            "bin_start": 0.20000000000000007,
            "bin_end": 0.30000000000000004,
            "count": 0
           },
           {
            "bin_start": 0.30000000000000004,
            "bin_end": 0.4,
            "count": 0
           },
           {
            "bin_start": 0.4,
            "bin_end": 0.5,
            "count": 0
           }
          ]
         }
        },
        {
         "name": "first_review",
         "dtype": "object",
         "stats": {
          "unique_count": 5,
          "nan_count": 0,
          "categories": [
           {
            "name": "2009-03-30",
            "count": 1
           },
           {
            "name": "2010-03-02",
            "count": 1
           },
           {
            "name": "3 others",
            "count": 3
           }
          ]
         }
        },
        {
         "name": "last_review",
         "dtype": "object",
         "stats": {
          "unique_count": 5,
          "nan_count": 0,
          "categories": [
           {
            "name": "2020-02-14",
            "count": 1
           },
           {
            "name": "2020-04-09",
            "count": 1
           },
           {
            "name": "3 others",
            "count": 3
           }
          ]
         }
        },
        {
         "name": "review_scores_rating",
         "dtype": "float64",
         "stats": {
          "unique_count": 5,
          "nan_count": 0,
          "min": "89.0",
          "max": "100.0",
          "histogram": [
           {
            "bin_start": 89,
            "bin_end": 90.1,
            "count": 1
           },
           {
            "bin_start": 90.1,
            "bin_end": 91.2,
            "count": 0
           },
           {
            "bin_start": 91.2,
            "bin_end": 92.3,
            "count": 0
           },
           {
            "bin_start": 92.3,
            "bin_end": 93.4,
            "count": 0
           },
           {
            "bin_start": 93.4,
            "bin_end": 94.5,
            "count": 0
           },
           {
            "bin_start": 94.5,
            "bin_end": 95.6,
            "count": 0
           },
           {
            "bin_start": 95.6,
            "bin_end": 96.7,
            "count": 0
           },
           {
            "bin_start": 96.7,
            "bin_end": 97.8,
            "count": 1
           },
           {
            "bin_start": 97.8,
            "bin_end": 98.9,
            "count": 1
           },
           {
            "bin_start": 98.9,
            "bin_end": 100,
            "count": 2
           }
          ]
         }
        },
        {
         "name": "review_scores_accuracy",
         "dtype": "float64",
         "stats": {
          "unique_count": 1,
          "nan_count": 0,
          "min": "10.0",
          "max": "10.0",
          "histogram": [
           {
            "bin_start": 9.5,
            "bin_end": 9.6,
            "count": 0
           },
           {
            "bin_start": 9.6,
            "bin_end": 9.7,
            "count": 0
           },
           {
            "bin_start": 9.7,
            "bin_end": 9.8,
            "count": 0
           },
           {
            "bin_start": 9.8,
            "bin_end": 9.9,
            "count": 0
           },
           {
            "bin_start": 9.9,
            "bin_end": 10,
            "count": 0
           },
           {
            "bin_start": 10,
            "bin_end": 10.1,
            "count": 5
           },
           {
            "bin_start": 10.1,
            "bin_end": 10.2,
            "count": 0
           },
           {
            "bin_start": 10.2,
            "bin_end": 10.3,
            "count": 0
           },
           {
            "bin_start": 10.3,
            "bin_end": 10.4,
            "count": 0
           },
           {
            "bin_start": 10.4,
            "bin_end": 10.5,
            "count": 0
           }
          ]
         }
        },
        {
         "name": "review_scores_cleanliness",
         "dtype": "float64",
         "stats": {
          "unique_count": 1,
          "nan_count": 0,
          "min": "10.0",
          "max": "10.0",
          "histogram": [
           {
            "bin_start": 9.5,
            "bin_end": 9.6,
            "count": 0
           },
           {
            "bin_start": 9.6,
            "bin_end": 9.7,
            "count": 0
           },
           {
            "bin_start": 9.7,
            "bin_end": 9.8,
            "count": 0
           },
           {
            "bin_start": 9.8,
            "bin_end": 9.9,
            "count": 0
           },
           {
            "bin_start": 9.9,
            "bin_end": 10,
            "count": 0
           },
           {
            "bin_start": 10,
            "bin_end": 10.1,
            "count": 5
           },
           {
            "bin_start": 10.1,
            "bin_end": 10.2,
            "count": 0
           },
           {
            "bin_start": 10.2,
            "bin_end": 10.3,
            "count": 0
           },
           {
            "bin_start": 10.3,
            "bin_end": 10.4,
            "count": 0
           },
           {
            "bin_start": 10.4,
            "bin_end": 10.5,
            "count": 0
           }
          ]
         }
        },
        {
         "name": "review_scores_checkin",
         "dtype": "float64",
         "stats": {
          "unique_count": 1,
          "nan_count": 0,
          "min": "10.0",
          "max": "10.0",
          "histogram": [
           {
            "bin_start": 9.5,
            "bin_end": 9.6,
            "count": 0
           },
           {
            "bin_start": 9.6,
            "bin_end": 9.7,
            "count": 0
           },
           {
            "bin_start": 9.7,
            "bin_end": 9.8,
            "count": 0
           },
           {
            "bin_start": 9.8,
            "bin_end": 9.9,
            "count": 0
           },
           {
            "bin_start": 9.9,
            "bin_end": 10,
            "count": 0
           },
           {
            "bin_start": 10,
            "bin_end": 10.1,
            "count": 5
           },
           {
            "bin_start": 10.1,
            "bin_end": 10.2,
            "count": 0
           },
           {
            "bin_start": 10.2,
            "bin_end": 10.3,
            "count": 0
           },
           {
            "bin_start": 10.3,
            "bin_end": 10.4,
            "count": 0
           },
           {
            "bin_start": 10.4,
            "bin_end": 10.5,
            "count": 0
           }
          ]
         }
        },
        {
         "name": "review_scores_communication",
         "dtype": "float64",
         "stats": {
          "unique_count": 1,
          "nan_count": 0,
          "min": "10.0",
          "max": "10.0",
          "histogram": [
           {
            "bin_start": 9.5,
            "bin_end": 9.6,
            "count": 0
           },
           {
            "bin_start": 9.6,
            "bin_end": 9.7,
            "count": 0
           },
           {
            "bin_start": 9.7,
            "bin_end": 9.8,
            "count": 0
           },
           {
            "bin_start": 9.8,
            "bin_end": 9.9,
            "count": 0
           },
           {
            "bin_start": 9.9,
            "bin_end": 10,
            "count": 0
           },
           {
            "bin_start": 10,
            "bin_end": 10.1,
            "count": 5
           },
           {
            "bin_start": 10.1,
            "bin_end": 10.2,
            "count": 0
           },
           {
            "bin_start": 10.2,
            "bin_end": 10.3,
            "count": 0
           },
           {
            "bin_start": 10.3,
            "bin_end": 10.4,
            "count": 0
           },
           {
            "bin_start": 10.4,
            "bin_end": 10.5,
            "count": 0
           }
          ]
         }
        },
        {
         "name": "review_scores_location",
         "dtype": "float64",
         "stats": {
          "unique_count": 2,
          "nan_count": 0,
          "min": "9.0",
          "max": "10.0",
          "histogram": [
           {
            "bin_start": 9,
            "bin_end": 9.1,
            "count": 1
           },
           {
            "bin_start": 9.1,
            "bin_end": 9.2,
            "count": 0
           },
           {
            "bin_start": 9.2,
            "bin_end": 9.3,
            "count": 0
           },
           {
            "bin_start": 9.3,
            "bin_end": 9.4,
            "count": 0
           },
           {
            "bin_start": 9.4,
            "bin_end": 9.5,
            "count": 0
           },
           {
            "bin_start": 9.5,
            "bin_end": 9.6,
            "count": 0
           },
           {
            "bin_start": 9.6,
            "bin_end": 9.7,
            "count": 0
           },
           {
            "bin_start": 9.7,
            "bin_end": 9.8,
            "count": 0
           },
           {
            "bin_start": 9.8,
            "bin_end": 9.9,
            "count": 0
           },
           {
            "bin_start": 9.9,
            "bin_end": 10,
            "count": 4
           }
          ]
         }
        },
        {
         "name": "review_scores_value",
         "dtype": "float64",
         "stats": {
          "unique_count": 2,
          "nan_count": 0,
          "min": "9.0",
          "max": "10.0",
          "histogram": [
           {
            "bin_start": 9,
            "bin_end": 9.1,
            "count": 1
           },
           {
            "bin_start": 9.1,
            "bin_end": 9.2,
            "count": 0
           },
           {
            "bin_start": 9.2,
            "bin_end": 9.3,
            "count": 0
           },
           {
            "bin_start": 9.3,
            "bin_end": 9.4,
            "count": 0
           },
           {
            "bin_start": 9.4,
            "bin_end": 9.5,
            "count": 0
           },
           {
            "bin_start": 9.5,
            "bin_end": 9.6,
            "count": 0
           },
           {
            "bin_start": 9.6,
            "bin_end": 9.7,
            "count": 0
           },
           {
            "bin_start": 9.7,
            "bin_end": 9.8,
            "count": 0
           },
           {
            "bin_start": 9.8,
            "bin_end": 9.9,
            "count": 0
           },
           {
            "bin_start": 9.9,
            "bin_end": 10,
            "count": 4
           }
          ]
         }
        },
        {
         "name": "license",
         "dtype": "object",
         "stats": {
          "unique_count": 3,
          "nan_count": 2,
          "categories": [
           {
            "name": "0363 CBB3 2C10 0C2A 1E29",
            "count": 1
           },
           {
            "name": "2 others",
            "count": 2
           },
           {
            "name": "Missing",
            "count": 2
           }
          ]
         }
        },
        {
         "name": "instant_bookable",
         "dtype": "object",
         "stats": {
          "unique_count": 2,
          "nan_count": 0,
          "categories": [
           {
            "name": "t",
            "count": 3
           },
           {
            "name": "f",
            "count": 2
           }
          ]
         }
        },
        {
         "name": "calculated_host_listings_count",
         "dtype": "int64",
         "stats": {
          "unique_count": 2,
          "nan_count": 0,
          "min": "1",
          "max": "2",
          "histogram": [
           {
            "bin_start": 1,
            "bin_end": 1.1,
            "count": 2
           },
           {
            "bin_start": 1.1,
            "bin_end": 1.2,
            "count": 0
           },
           {
            "bin_start": 1.2,
            "bin_end": 1.3,
            "count": 0
           },
           {
            "bin_start": 1.3,
            "bin_end": 1.4,
            "count": 0
           },
           {
            "bin_start": 1.4,
            "bin_end": 1.5,
            "count": 0
           },
           {
            "bin_start": 1.5,
            "bin_end": 1.6,
            "count": 0
           },
           {
            "bin_start": 1.6,
            "bin_end": 1.7000000000000002,
            "count": 0
           },
           {
            "bin_start": 1.7000000000000002,
            "bin_end": 1.8,
            "count": 0
           },
           {
            "bin_start": 1.8,
            "bin_end": 1.9,
            "count": 0
           },
           {
            "bin_start": 1.9,
            "bin_end": 2,
            "count": 3
           }
          ]
         }
        },
        {
         "name": "calculated_host_listings_count_entire_homes",
         "dtype": "int64",
         "stats": {
          "unique_count": 2,
          "nan_count": 0,
          "min": "0",
          "max": "2",
          "histogram": [
           {
            "bin_start": 0,
            "bin_end": 0.2,
            "count": 4
           },
           {
            "bin_start": 0.2,
            "bin_end": 0.4,
            "count": 0
           },
           {
            "bin_start": 0.4,
            "bin_end": 0.6000000000000001,
            "count": 0
           },
           {
            "bin_start": 0.6000000000000001,
            "bin_end": 0.8,
            "count": 0
           },
           {
            "bin_start": 0.8,
            "bin_end": 1,
            "count": 0
           },
           {
            "bin_start": 1,
            "bin_end": 1.2000000000000002,
            "count": 0
           },
           {
            "bin_start": 1.2000000000000002,
            "bin_end": 1.4000000000000001,
            "count": 0
           },
           {
            "bin_start": 1.4000000000000001,
            "bin_end": 1.6,
            "count": 0
           },
           {
            "bin_start": 1.6,
            "bin_end": 1.8,
            "count": 0
           },
           {
            "bin_start": 1.8,
            "bin_end": 2,
            "count": 1
           }
          ]
         }
        },
        {
         "name": "calculated_host_listings_count_private_rooms",
         "dtype": "int64",
         "stats": {
          "unique_count": 3,
          "nan_count": 0,
          "min": "0",
          "max": "2",
          "histogram": [
           {
            "bin_start": 0,
            "bin_end": 0.2,
            "count": 1
           },
           {
            "bin_start": 0.2,
            "bin_end": 0.4,
            "count": 0
           },
           {
            "bin_start": 0.4,
            "bin_end": 0.6000000000000001,
            "count": 0
           },
           {
            "bin_start": 0.6000000000000001,
            "bin_end": 0.8,
            "count": 0
           },
           {
            "bin_start": 0.8,
            "bin_end": 1,
            "count": 0
           },
           {
            "bin_start": 1,
            "bin_end": 1.2000000000000002,
            "count": 2
           },
           {
            "bin_start": 1.2000000000000002,
            "bin_end": 1.4000000000000001,
            "count": 0
           },
           {
            "bin_start": 1.4000000000000001,
            "bin_end": 1.6,
            "count": 0
           },
           {
            "bin_start": 1.6,
            "bin_end": 1.8,
            "count": 0
           },
           {
            "bin_start": 1.8,
            "bin_end": 2,
            "count": 2
           }
          ]
         }
        },
        {
         "name": "calculated_host_listings_count_shared_rooms",
         "dtype": "int64",
         "stats": {
          "unique_count": 1,
          "nan_count": 0,
          "min": "0",
          "max": "0",
          "histogram": [
           {
            "bin_start": -0.5,
            "bin_end": -0.4,
            "count": 0
           },
           {
            "bin_start": -0.4,
            "bin_end": -0.3,
            "count": 0
           },
           {
            "bin_start": -0.3,
            "bin_end": -0.19999999999999996,
            "count": 0
           },
           {
            "bin_start": -0.19999999999999996,
            "bin_end": -0.09999999999999998,
            "count": 0
           },
           {
            "bin_start": -0.09999999999999998,
            "bin_end": 0,
            "count": 0
           },
           {
            "bin_start": 0,
            "bin_end": 0.10000000000000009,
            "count": 5
           },
           {
            "bin_start": 0.10000000000000009,
            "bin_end": 0.20000000000000007,
            "count": 0
           },
           {
            "bin_start": 0.20000000000000007,
            "bin_end": 0.30000000000000004,
            "count": 0
           },
           {
            "bin_start": 0.30000000000000004,
            "bin_end": 0.4,
            "count": 0
           },
           {
            "bin_start": 0.4,
            "bin_end": 0.5,
            "count": 0
           }
          ]
         }
        },
        {
         "name": "reviews_per_month",
         "dtype": "float64",
         "stats": {
          "unique_count": 5,
          "nan_count": 0,
          "min": "0.13",
          "max": "2.59",
          "histogram": [
           {
            "bin_start": 0.13,
            "bin_end": 0.376,
            "count": 1
           },
           {
            "bin_start": 0.376,
            "bin_end": 0.622,
            "count": 0
           },
           {
            "bin_start": 0.622,
            "bin_end": 0.868,
            "count": 0
           },
           {
            "bin_start": 0.868,
            "bin_end": 1.1139999999999999,
            "count": 0
           },
           {
            "bin_start": 1.1139999999999999,
            "bin_end": 1.3599999999999999,
            "count": 0
           },
           {
            "bin_start": 1.3599999999999999,
            "bin_end": 1.6059999999999999,
            "count": 0
           },
           {
            "bin_start": 1.6059999999999999,
            "bin_end": 1.8519999999999999,
            "count": 0
           },
           {
            "bin_start": 1.8519999999999999,
            "bin_end": 2.098,
            "count": 2
           },
           {
            "bin_start": 2.098,
            "bin_end": 2.344,
            "count": 0
           },
           {
            "bin_start": 2.344,
            "bin_end": 2.59,
            "count": 2
           }
          ]
         }
        },
        {
         "name": "_deepnote_index_column",
         "dtype": "int64"
        }
       ],
       "rows_top": [
        {
         "id": 2818,
         "listing_url": "https://www.airbnb.com/rooms/2818",
         "scrape_id": 20210409161549,
         "last_scraped": "2021-04-12",
         "name": "Quiet Garden View Room & Super Fast WiFi",
         "description": "Quiet Garden View Room & Super Fast WiFi<br /><br /><b>The space</b><br />I'm renting a bedroom (room overlooking the garden) in my apartment in Amsterdam, <br /><br />The room is located to the east of the city centre in a quiet, typical Amsterdam neighbourhood the \"Indische Buurt\". Amsterdam’s historic centre is less than 15 minutes away by bike or tram.<br /><br /><br />The features of the room are:<br /><br />- Twin beds (80 x 200 cm, down quilts and pillows) <br />- 2 pure cotton towels for each guest <br />- reading lamps<br />- bedside table<br />- wardrobe<br />- table with chairs<br />- tea and coffee making facilities<br />- mini bar<br />- alarm clock<br />- Hi-Fi system with cd player, connection for mp3 player / phone<br />- map of Amsterdam and public transport<br />- Wi-Fi Internet connection <br /><br />Extra services:<br /><br />- Bike rental",
         "neighborhood_overview": "Indische Buurt (\"Indies Neighborhood\") is a neighbourhood in the eastern portion of the city of Amsterdam, in the Dutch province of Noord-Holland. The name dates from the early 20th century and is derived from the fact that the neighbourhood's streets are named after islands and other geographical concepts in the former Dutch colony of the Dutch East Indies. The first street was named in 1902. In 2003, there were around 23,357 inhabitants. The neighbourhood is bounded on the west by the railroad Amsterdam - Hilversum (with the Muiderpoort Station), on the east side by Flevopark, on the north side by Zeeburgerdijk and on the south side by the Ringvaart Watergraafsmeer. Indische Buurt is the oldest part of the Zeeburg district and is very ethnically diverse, and a high percentage of the population is of immigrant origin (for Zeeburg this is already high at 55%, but higher in the Indische Buurt) and there are an estimated 100 languages spoken.",
         "picture_url": "https://a0.muscache.com/pictures/10272854/8dcca016_original.jpg",
         "host_id": 3159,
         "host_url": "https://www.airbnb.com/users/show/3159",
         "host_name": "Daniel",
         "host_since": "2008-09-24",
         "host_location": "Amsterdam, Noord-Holland, The Netherlands",
         "host_about": "Upon arriving in Amsterdam, one can imagine asking oneself: Where is the fun nightlife? What are the local hot spots? \r\n\r\nHow can I experience the real life in this city? I  offer you the opportunity to act, eat and sleep like-a-local!  \r\n\r\nI provide the traveler with the opportunity to connect with the local life in Amsterdam.",
         "host_response_time": "nan",
         "host_response_rate": "nan",
         "host_acceptance_rate": "nan",
         "host_is_superhost": "t",
         "host_thumbnail_url": "https://a0.muscache.com/im/users/3159/profile_pic/1259095323/original.jpg?aki_policy=profile_small",
         "host_picture_url": "https://a0.muscache.com/im/users/3159/profile_pic/1259095323/original.jpg?aki_policy=profile_x_medium",
         "host_neighbourhood": "Indische Buurt",
         "host_listings_count": 1,
         "host_total_listings_count": 1,
         "host_verifications": "['email', 'phone', 'reviews', 'jumio', 'offline_government_id', 'selfie', 'government_id', 'identity_manual']",
         "host_has_profile_pic": "t",
         "host_identity_verified": "t",
         "neighbourhood": "Amsterdam, North Holland, Netherlands",
         "neighbourhood_cleansed": "Oostelijk Havengebied - Indische Buurt",
         "neighbourhood_group_cleansed": "nan",
         "latitude": 52.36435,
         "longitude": 4.94358,
         "property_type": "Private room in apartment",
         "room_type": "Private room",
         "accommodates": 2,
         "bathrooms": "nan",
         "bathrooms_text": "1.5 shared baths",
         "bedrooms": 1,
         "beds": 2,
         "amenities": "[\"Long term stays allowed\", \"Wifi\", \"Hot water\", \"Private entrance\", \"Coffee maker\", \"Bed linens\", \"Single level home\", \"Dedicated workspace\", \"Hangers\", \"Security cameras on property\", \"First aid kit\", \"Heating\", \"Hair dryer\", \"Backyard\", \"Carbon monoxide alarm\", \"Paid parking off premises\", \"Extra pillows and blankets\", \"Smoke alarm\", \"Shampoo\", \"Lock on bedroom door\", \"Washer\", \"Ethernet connection\", \"Paid parking on premises\", \"Essentials\", \"Host greets you\", \"Iron\", \"Refrigerator\", \"Fire extinguisher\"]",
         "price": "$59.00",
         "minimum_nights": 3,
         "maximum_nights": 1125,
         "minimum_minimum_nights": 3,
         "maximum_minimum_nights": 3,
         "minimum_maximum_nights": 1125,
         "maximum_maximum_nights": 1125,
         "minimum_nights_avg_ntm": 3,
         "maximum_nights_avg_ntm": 1125,
         "calendar_updated": "nan",
         "has_availability": "t",
         "availability_30": 13,
         "availability_60": 43,
         "availability_90": 62,
         "availability_365": 152,
         "calendar_last_scraped": "2021-04-12",
         "number_of_reviews": 278,
         "number_of_reviews_ltm": 0,
         "number_of_reviews_l30d": 0,
         "first_review": "2009-03-30",
         "last_review": "2020-02-14",
         "review_scores_rating": 98,
         "review_scores_accuracy": 10,
         "review_scores_cleanliness": 10,
         "review_scores_checkin": 10,
         "review_scores_communication": 10,
         "review_scores_location": 9,
         "review_scores_value": 10,
         "license": "nan",
         "instant_bookable": "t",
         "calculated_host_listings_count": 1,
         "calculated_host_listings_count_entire_homes": 0,
         "calculated_host_listings_count_private_rooms": 1,
         "calculated_host_listings_count_shared_rooms": 0,
         "reviews_per_month": 1.9,
         "_deepnote_index_column": 0
        },
        {
         "id": 20168,
         "listing_url": "https://www.airbnb.com/rooms/20168",
         "scrape_id": 20210409161549,
         "last_scraped": "2021-04-12",
         "name": "Studio with private bathroom in the centre 1",
         "description": "17th century Dutch townhouse in the heart of the city. no public transport needed! Located a stones throw from Rembrandt Square, Dam Square, Leidse Square and Flower Market. Walking distance from Central Station.<br />Comfortable, cosy, lockable studio with comfortable bed and with private bathroom, double glazed windows and night blackout curtains, flat screen TV and mini fridge, Wi-Fi. No bathtub only shower. No kitchen. No curfew. You feel 100% privacy. Maximum for 2 persons!<br /><br /><b>The space</b><br />For those who like all facets of city life. In the streets surrounding the house, there are lots of antique shops, and for those who are into browsing for antiques. The Rijksmuseum is a short walk away. The famous nine-streets with all its little boutique shops, cafes, restaurants and whatnot is also around the corner. The Dam Square, Leidse Square and Rembrandt Squarejust minutes to walk.<br />No Curfew and you feel 100% privacy. <br />Hair dryer, towels and linens are included",
         "neighborhood_overview": "Located just in between famous central canals. In the streets surrounding the house, there are lots of antique shops, and for those who are into browsing for antiques. The Rijksmuseum is a short walk away. The famous nine-streets with all its little boutique shops, cafes, restaurants and whatnot is also around the corner. The Dam Square, Leidse Square and Rembrandt Squarejust minutes to walk.<br />No Curfew and you feel 100% privacy. <br />Hair dryer, towels and linens are included. No kitchen.<br />Airport pick-up is possible at extra charge (ask for it)",
         "picture_url": "https://a0.muscache.com/pictures/69979628/fd6a3a80_original.jpg",
         "host_id": 59484,
         "host_url": "https://www.airbnb.com/users/show/59484",
         "host_name": "Alexander",
         "host_since": "2009-12-02",
         "host_location": "Amsterdam, Noord-Holland, The Netherlands",
         "host_about": "+ (Phone number hidden by Airbnb)",
         "host_response_time": "nan",
         "host_response_rate": "nan",
         "host_acceptance_rate": "nan",
         "host_is_superhost": "f",
         "host_thumbnail_url": "https://a0.muscache.com/im/pictures/user/65092142-62d7-48a9-9479-ad5a24d99a77.jpg?aki_policy=profile_small",
         "host_picture_url": "https://a0.muscache.com/im/pictures/user/65092142-62d7-48a9-9479-ad5a24d99a77.jpg?aki_policy=profile_x_medium",
         "host_neighbourhood": "Grachtengordel",
         "host_listings_count": 2,
         "host_total_listings_count": 2,
         "host_verifications": "['email', 'phone', 'reviews', 'jumio', 'offline_government_id', 'selfie', 'government_id', 'identity_manual']",
         "host_has_profile_pic": "t",
         "host_identity_verified": "t",
         "neighbourhood": "Amsterdam, North Holland, Netherlands",
         "neighbourhood_cleansed": "Centrum-Oost",
         "neighbourhood_group_cleansed": "nan",
         "latitude": 52.36407,
         "longitude": 4.89393,
         "property_type": "Private room in townhouse",
         "room_type": "Private room",
         "accommodates": 2,
         "bathrooms": "nan",
         "bathrooms_text": "1 private bath",
         "bedrooms": 1,
         "beds": 1,
         "amenities": "[\"Essentials\", \"TV\", \"Host greets you\", \"Wifi\", \"Hot water\", \"Heating\", \"Carbon monoxide alarm\", \"Free street parking\", \"Hair dryer\", \"Long term stays allowed\", \"Smoke alarm\", \"Refrigerator\", \"Fire extinguisher\", \"Paid parking off premises\", \"Bed linens\", \"Dedicated workspace\", \"Hangers\"]",
         "price": "$200.00",
         "minimum_nights": 1,
         "maximum_nights": 365,
         "minimum_minimum_nights": 1,
         "maximum_minimum_nights": 4,
         "minimum_maximum_nights": 365,
         "maximum_maximum_nights": 1125,
         "minimum_nights_avg_ntm": 3.3,
         "maximum_nights_avg_ntm": 554.1,
         "calendar_updated": "nan",
         "has_availability": "t",
         "availability_30": 0,
         "availability_60": 0,
         "availability_90": 0,
         "availability_365": 0,
         "calendar_last_scraped": "2021-04-12",
         "number_of_reviews": 339,
         "number_of_reviews_ltm": 0,
         "number_of_reviews_l30d": 0,
         "first_review": "2010-03-02",
         "last_review": "2020-04-09",
         "review_scores_rating": 89,
         "review_scores_accuracy": 10,
         "review_scores_cleanliness": 10,
         "review_scores_checkin": 10,
         "review_scores_communication": 10,
         "review_scores_location": 10,
         "review_scores_value": 9,
         "license": "0363 CBB3 2C10 0C2A 1E29",
         "instant_bookable": "t",
         "calculated_host_listings_count": 2,
         "calculated_host_listings_count_entire_homes": 0,
         "calculated_host_listings_count_private_rooms": 2,
         "calculated_host_listings_count_shared_rooms": 0,
         "reviews_per_month": 2.5,
         "_deepnote_index_column": 1
        },
        {
         "id": 25428,
         "listing_url": "https://www.airbnb.com/rooms/25428",
         "scrape_id": 20210409161549,
         "last_scraped": "2021-04-11",
         "name": "Lovely, 1 bed apt in Ctr (w.lift) -3/20-6/20(flex)",
         "description": "Lovely apt in Centre ( lift & fireplace) near Jordaan<br /><br /><b>The space</b><br />This nicely furnished, newly renovated apt  is very sunny, and spacious with 8 windows. The appliances are fairly new. There are two flat screen TVs, washing machine, dryer, dishwasher, laptop computer, Wi-fi, and high speed internet as well as a printer. The floors are wood throughout the apt. The large living room and bedroom are separated by a nice corridor.The living room has two sofas, and is very comfortable. Doors in all rooms, and lots of privacy. Lots of books and CDs. There is a bathroom with a tub, and a separate toilet. We have a new wood burning fireplace in the living room.<br /><br />Wonderful views of the Keizersgracht Canal and Wester Church in front, and trees and gardens in back.<br /><br />The apt is in a historic area, as well as a very convenient one. It is two blocks from the Anne Frank House. The neighborhood is filled with cafes, and restaurants, with  the Albery Heijn superm",
         "neighborhood_overview": "nan",
         "picture_url": "https://a0.muscache.com/pictures/138431/7079a93d_original.jpg",
         "host_id": 56142,
         "host_url": "https://www.airbnb.com/users/show/56142",
         "host_name": "Joan",
         "host_since": "2009-11-20",
         "host_location": "New York, New York, United States",
         "host_about": "We are a retired couple who live in NYC, and have an apt in Amsterdam which we love, where we spend a few months each year.\r\n (Phone number hidden by Airbnb)",
         "host_response_time": "within a few hours",
         "host_response_rate": "100%",
         "host_acceptance_rate": "0%",
         "host_is_superhost": "t",
         "host_thumbnail_url": "https://a0.muscache.com/im/users/56142/profile_pic/1367806389/original.jpg?aki_policy=profile_small",
         "host_picture_url": "https://a0.muscache.com/im/users/56142/profile_pic/1367806389/original.jpg?aki_policy=profile_x_medium",
         "host_neighbourhood": "Grachtengordel",
         "host_listings_count": 2,
         "host_total_listings_count": 2,
         "host_verifications": "['email', 'phone', 'reviews']",
         "host_has_profile_pic": "t",
         "host_identity_verified": "f",
         "neighbourhood": "nan",
         "neighbourhood_cleansed": "Centrum-West",
         "neighbourhood_group_cleansed": "nan",
         "latitude": 52.3749,
         "longitude": 4.88487,
         "property_type": "Entire apartment",
         "room_type": "Entire home/apt",
         "accommodates": 3,
         "bathrooms": "nan",
         "bathrooms_text": "1 bath",
         "bedrooms": 1,
         "beds": 1,
         "amenities": "[\"Dishwasher\", \"Long term stays allowed\", \"Microwave\", \"Wifi\", \"Hot water\", \"Coffee maker\", \"Kitchen\", \"Dishes and silverware\", \"Elevator\", \"Bed linens\", \"Dedicated workspace\", \"Hangers\", \"Dryer\", \"Heating\", \"Oven\", \"Hair dryer\", \"Cooking basics\", \"Indoor fireplace\", \"Extra pillows and blankets\", \"Cable TV\", \"Smoke alarm\", \"Shampoo\", \"Washer\", \"Essentials\", \"TV\", \"Host greets you\", \"Stove\", \"Iron\", \"Refrigerator\", \"Fire extinguisher\"]",
         "price": "$125.00",
         "minimum_nights": 14,
         "maximum_nights": 180,
         "minimum_minimum_nights": 14,
         "maximum_minimum_nights": 14,
         "minimum_maximum_nights": 180,
         "maximum_maximum_nights": 180,
         "minimum_nights_avg_ntm": 14,
         "maximum_nights_avg_ntm": 180,
         "calendar_updated": "nan",
         "has_availability": "t",
         "availability_30": 0,
         "availability_60": 0,
         "availability_90": 0,
         "availability_365": 132,
         "calendar_last_scraped": "2021-04-11",
         "number_of_reviews": 5,
         "number_of_reviews_ltm": 0,
         "number_of_reviews_l30d": 0,
         "first_review": "2018-01-21",
         "last_review": "2020-02-09",
         "review_scores_rating": 100,
         "review_scores_accuracy": 10,
         "review_scores_cleanliness": 10,
         "review_scores_checkin": 10,
         "review_scores_communication": 10,
         "review_scores_location": 10,
         "review_scores_value": 10,
         "license": "nan",
         "instant_bookable": "f",
         "calculated_host_listings_count": 2,
         "calculated_host_listings_count_entire_homes": 2,
         "calculated_host_listings_count_private_rooms": 0,
         "calculated_host_listings_count_shared_rooms": 0,
         "reviews_per_month": 0.13,
         "_deepnote_index_column": 2
        },
        {
         "id": 27886,
         "listing_url": "https://www.airbnb.com/rooms/27886",
         "scrape_id": 20210409161549,
         "last_scraped": "2021-04-11",
         "name": "Romantic, stylish B&B houseboat in canal district",
         "description": "Stylish and romantic houseboat on fantastic historic location with breathtaking view.  Wheelhouse, deckhouse and captains room. Central, quiet. Great breakfast, 2 vanMoof design bikes and a Canadian Canoe are included. Just read the reviews on tripadvisor for instance!<br /><br /><b>The space</b><br />For a romantic couple: A beautifully restored traditional dutch barge, M.s. Luctor, with all modern comforts, your own entrance, three rooms,(sleeping room, deckhouse and wheelhouse) with two bikes and a Canadian canoe to explore the city. Have your breakfast weather permitting on the large jetty. (You  might want to give a piece of your fresh fruit to our Greek turtle...) Organic products, a variety of cheese, fresh orange juice and croisants... We are member of green-hotels (ECEAT) and care for the environment. (We just installed solar pannels! A lot of questions can be answered on our own site, there is a button with Frequently Asked Questions.) <br />The location is superb, fantastic ",
         "neighborhood_overview": "Central, quiet, safe, clean and beautiful.",
         "picture_url": "https://a0.muscache.com/pictures/02c2da9d-660e-451d-8a51-2f7a17469df7.jpg",
         "host_id": 97647,
         "host_url": "https://www.airbnb.com/users/show/97647",
         "host_name": "Flip",
         "host_since": "2010-03-23",
         "host_location": "Amsterdam, Noord-Holland, The Netherlands",
         "host_about": "Marjan works in \"eye\" the dutch filmmuseum, and designs costumes for tv, film and theatre. Flip is an actor, mainly on stage, but also for film and tv. So for cultural advise, what to do, you are coming to the right place...\r\n\r\n",
         "host_response_time": "nan",
         "host_response_rate": "nan",
         "host_acceptance_rate": "100%",
         "host_is_superhost": "t",
         "host_thumbnail_url": "https://a0.muscache.com/im/users/97647/profile_pic/1273275077/original.jpg?aki_policy=profile_small",
         "host_picture_url": "https://a0.muscache.com/im/users/97647/profile_pic/1273275077/original.jpg?aki_policy=profile_x_medium",
         "host_neighbourhood": "Westelijke Eilanden",
         "host_listings_count": 1,
         "host_total_listings_count": 1,
         "host_verifications": "['email', 'phone', 'reviews', 'jumio', 'offline_government_id', 'government_id']",
         "host_has_profile_pic": "t",
         "host_identity_verified": "t",
         "neighbourhood": "Amsterdam, North Holland, Netherlands",
         "neighbourhood_cleansed": "Centrum-West",
         "neighbourhood_group_cleansed": "nan",
         "latitude": 52.38761,
         "longitude": 4.89188,
         "property_type": "Private room in houseboat",
         "room_type": "Private room",
         "accommodates": 2,
         "bathrooms": "nan",
         "bathrooms_text": "1.5 baths",
         "bedrooms": 1,
         "beds": 1,
         "amenities": "[\"Long term stays allowed\", \"Wifi\", \"Hot water\", \"Private entrance\", \"Luggage dropoff allowed\", \"Coffee maker\", \"Dishes and silverware\", \"Waterfront\", \"Dedicated workspace\", \"Hangers\", \"Smart lock\", \"Heating\", \"Hair dryer\", \"Lake access\", \"Carbon monoxide alarm\", \"Smoke alarm\", \"Shampoo\", \"Essentials\", \"TV\", \"Breakfast\", \"Refrigerator\", \"Patio or balcony\", \"Fire extinguisher\"]",
         "price": "$141.00",
         "minimum_nights": 2,
         "maximum_nights": 730,
         "minimum_minimum_nights": 2,
         "maximum_minimum_nights": 2,
         "minimum_maximum_nights": 1125,
         "maximum_maximum_nights": 1125,
         "minimum_nights_avg_ntm": 2,
         "maximum_nights_avg_ntm": 1125,
         "calendar_updated": "nan",
         "has_availability": "t",
         "availability_30": 24,
         "availability_60": 45,
         "availability_90": 50,
         "availability_365": 66,
         "calendar_last_scraped": "2021-04-11",
         "number_of_reviews": 219,
         "number_of_reviews_ltm": 2,
         "number_of_reviews_l30d": 0,
         "first_review": "2012-01-09",
         "last_review": "2020-07-25",
         "review_scores_rating": 99,
         "review_scores_accuracy": 10,
         "review_scores_cleanliness": 10,
         "review_scores_checkin": 10,
         "review_scores_communication": 10,
         "review_scores_location": 10,
         "review_scores_value": 10,
         "license": "0363 974D 4986 7411 88D8",
         "instant_bookable": "t",
         "calculated_host_listings_count": 1,
         "calculated_host_listings_count_entire_homes": 0,
         "calculated_host_listings_count_private_rooms": 1,
         "calculated_host_listings_count_shared_rooms": 0,
         "reviews_per_month": 1.94,
         "_deepnote_index_column": 3
        },
        {
         "id": 28871,
         "listing_url": "https://www.airbnb.com/rooms/28871",
         "scrape_id": 20210409161549,
         "last_scraped": "2021-04-13",
         "name": "Comfortable double room",
         "description": "<b>The space</b><br />In a monumental house right in the center of Amsterdam, we offer two rooms (one single room and one double room) to visitors who want to enjoy the comfort of a home-like accommodation, plus being in the middle of the historic city center, close to all important museums, shopping streets, restaurants, bars and clubs. Both rooms share a bathroom,  access to free wifi internet.<br /><br />We are situated in the middle of the most important nightlife area of Amsterdam, which makes it a very vibrant place, but also a noisy place.<br /><br /><b>Other things to note</b><br />Washing and drying are for a flat fee of €10<br /><br /><b>License number</b><br />0363 607B EA74 0BD8 2F6F",
         "neighborhood_overview": "Flower market , Leidseplein , Rembrantsplein",
         "picture_url": "https://a0.muscache.com/pictures/160889/362340f7_original.jpg",
         "host_id": 124245,
         "host_url": "https://www.airbnb.com/users/show/124245",
         "host_name": "Edwin",
         "host_since": "2010-05-13",
         "host_location": "Amsterdam, Noord-Holland, The Netherlands",
         "host_about": "Hi",
         "host_response_time": "within an hour",
         "host_response_rate": "100%",
         "host_acceptance_rate": "79%",
         "host_is_superhost": "t",
         "host_thumbnail_url": "https://a0.muscache.com/im/pictures/user/9986bbdb-632f-42b5-a866-8e3307184977.jpg?aki_policy=profile_small",
         "host_picture_url": "https://a0.muscache.com/im/pictures/user/9986bbdb-632f-42b5-a866-8e3307184977.jpg?aki_policy=profile_x_medium",
         "host_neighbourhood": "Amsterdam Centrum",
         "host_listings_count": 2,
         "host_total_listings_count": 2,
         "host_verifications": "['email', 'phone', 'reviews', 'jumio', 'offline_government_id', 'government_id']",
         "host_has_profile_pic": "t",
         "host_identity_verified": "t",
         "neighbourhood": "Amsterdam, North Holland, Netherlands",
         "neighbourhood_cleansed": "Centrum-West",
         "neighbourhood_group_cleansed": "nan",
         "latitude": 52.36775,
         "longitude": 4.89092,
         "property_type": "Private room in apartment",
         "room_type": "Private room",
         "accommodates": 2,
         "bathrooms": "nan",
         "bathrooms_text": "1 shared bath",
         "bedrooms": 1,
         "beds": 1,
         "amenities": "[\"Heating\", \"Essentials\", \"Hangers\", \"Hair dryer\", \"Refrigerator\", \"Host greets you\", \"Dryer\", \"Smoke alarm\", \"Shampoo\", \"Coffee maker\", \"Carbon monoxide alarm\", \"Hot water\", \"Fire extinguisher\", \"Wifi\", \"Private entrance\", \"Long term stays allowed\", \"Lock on bedroom door\"]",
         "price": "$75.00",
         "minimum_nights": 2,
         "maximum_nights": 1825,
         "minimum_minimum_nights": 2,
         "maximum_minimum_nights": 2,
         "minimum_maximum_nights": 1825,
         "maximum_maximum_nights": 1825,
         "minimum_nights_avg_ntm": 2,
         "maximum_nights_avg_ntm": 1825,
         "calendar_updated": "nan",
         "has_availability": "t",
         "availability_30": 30,
         "availability_60": 57,
         "availability_90": 84,
         "availability_365": 335,
         "calendar_last_scraped": "2021-04-13",
         "number_of_reviews": 336,
         "number_of_reviews_ltm": 4,
         "number_of_reviews_l30d": 0,
         "first_review": "2010-08-22",
         "last_review": "2020-09-20",
         "review_scores_rating": 97,
         "review_scores_accuracy": 10,
         "review_scores_cleanliness": 10,
         "review_scores_checkin": 10,
         "review_scores_communication": 10,
         "review_scores_location": 10,
         "review_scores_value": 10,
         "license": "0363 607B EA74 0BD8 2F6F",
         "instant_bookable": "f",
         "calculated_host_listings_count": 2,
         "calculated_host_listings_count_entire_homes": 0,
         "calculated_host_listings_count_private_rooms": 2,
         "calculated_host_listings_count_shared_rooms": 0,
         "reviews_per_month": 2.59,
         "_deepnote_index_column": 4
        }
       ],
       "rows_bottom": null
      },
      "text/plain": "      id                         listing_url       scrape_id last_scraped  \\\n0   2818   https://www.airbnb.com/rooms/2818  20210409161549   2021-04-12   \n1  20168  https://www.airbnb.com/rooms/20168  20210409161549   2021-04-12   \n2  25428  https://www.airbnb.com/rooms/25428  20210409161549   2021-04-11   \n3  27886  https://www.airbnb.com/rooms/27886  20210409161549   2021-04-11   \n4  28871  https://www.airbnb.com/rooms/28871  20210409161549   2021-04-13   \n\n                                                name  \\\n0           Quiet Garden View Room & Super Fast WiFi   \n1       Studio with private bathroom in the centre 1   \n2  Lovely, 1 bed apt in Ctr (w.lift) -3/20-6/20(f...   \n3  Romantic, stylish B&B houseboat in canal district   \n4                            Comfortable double room   \n\n                                         description  \\\n0  Quiet Garden View Room & Super Fast WiFi<br />...   \n1  17th century Dutch townhouse in the heart of t...   \n2  Lovely apt in Centre ( lift & fireplace) near ...   \n3  Stylish and romantic houseboat on fantastic hi...   \n4  <b>The space</b><br />In a monumental house ri...   \n\n                               neighborhood_overview  \\\n0  Indische Buurt (\"Indies Neighborhood\") is a ne...   \n1  Located just in between famous central canals....   \n2                                                NaN   \n3         Central, quiet, safe, clean and beautiful.   \n4       Flower market , Leidseplein , Rembrantsplein   \n\n                                         picture_url  host_id  \\\n0  https://a0.muscache.com/pictures/10272854/8dcc...     3159   \n1  https://a0.muscache.com/pictures/69979628/fd6a...    59484   \n2  https://a0.muscache.com/pictures/138431/7079a9...    56142   \n3  https://a0.muscache.com/pictures/02c2da9d-660e...    97647   \n4  https://a0.muscache.com/pictures/160889/362340...   124245   \n\n                                   host_url  ... review_scores_communication  \\\n0    https://www.airbnb.com/users/show/3159  ...                        10.0   \n1   https://www.airbnb.com/users/show/59484  ...                        10.0   \n2   https://www.airbnb.com/users/show/56142  ...                        10.0   \n3   https://www.airbnb.com/users/show/97647  ...                        10.0   \n4  https://www.airbnb.com/users/show/124245  ...                        10.0   \n\n  review_scores_location review_scores_value                   license  \\\n0                    9.0                10.0                       NaN   \n1                   10.0                 9.0  0363 CBB3 2C10 0C2A 1E29   \n2                   10.0                10.0                       NaN   \n3                   10.0                10.0  0363 974D 4986 7411 88D8   \n4                   10.0                10.0  0363 607B EA74 0BD8 2F6F   \n\n  instant_bookable calculated_host_listings_count  \\\n0                t                              1   \n1                t                              2   \n2                f                              2   \n3                t                              1   \n4                f                              2   \n\n  calculated_host_listings_count_entire_homes  \\\n0                                           0   \n1                                           0   \n2                                           2   \n3                                           0   \n4                                           0   \n\n  calculated_host_listings_count_private_rooms  \\\n0                                            1   \n1                                            2   \n2                                            0   \n3                                            1   \n4                                            2   \n\n  calculated_host_listings_count_shared_rooms reviews_per_month  \n0                                           0              1.90  \n1                                           0              2.50  \n2                                           0              0.13  \n3                                           0              1.94  \n4                                           0              2.59  \n\n[5 rows x 74 columns]",
      "text/html": "<div>\n<style scoped>\n    .dataframe tbody tr th:only-of-type {\n        vertical-align: middle;\n    }\n\n    .dataframe tbody tr th {\n        vertical-align: top;\n    }\n\n    .dataframe thead th {\n        text-align: right;\n    }\n</style>\n<table border=\"1\" class=\"dataframe\">\n  <thead>\n    <tr style=\"text-align: right;\">\n      <th></th>\n      <th>id</th>\n      <th>listing_url</th>\n      <th>scrape_id</th>\n      <th>last_scraped</th>\n      <th>name</th>\n      <th>description</th>\n      <th>neighborhood_overview</th>\n      <th>picture_url</th>\n      <th>host_id</th>\n      <th>host_url</th>\n      <th>...</th>\n      <th>review_scores_communication</th>\n      <th>review_scores_location</th>\n      <th>review_scores_value</th>\n      <th>license</th>\n      <th>instant_bookable</th>\n      <th>calculated_host_listings_count</th>\n      <th>calculated_host_listings_count_entire_homes</th>\n      <th>calculated_host_listings_count_private_rooms</th>\n      <th>calculated_host_listings_count_shared_rooms</th>\n      <th>reviews_per_month</th>\n    </tr>\n  </thead>\n  <tbody>\n    <tr>\n      <th>0</th>\n      <td>2818</td>\n      <td>https://www.airbnb.com/rooms/2818</td>\n      <td>20210409161549</td>\n      <td>2021-04-12</td>\n      <td>Quiet Garden View Room &amp; Super Fast WiFi</td>\n      <td>Quiet Garden View Room &amp; Super Fast WiFi&lt;br /&gt;...</td>\n      <td>Indische Buurt (\"Indies Neighborhood\") is a ne...</td>\n      <td>https://a0.muscache.com/pictures/10272854/8dcc...</td>\n      <td>3159</td>\n      <td>https://www.airbnb.com/users/show/3159</td>\n      <td>...</td>\n      <td>10.0</td>\n      <td>9.0</td>\n      <td>10.0</td>\n      <td>NaN</td>\n      <td>t</td>\n      <td>1</td>\n      <td>0</td>\n      <td>1</td>\n      <td>0</td>\n      <td>1.90</td>\n    </tr>\n    <tr>\n      <th>1</th>\n      <td>20168</td>\n      <td>https://www.airbnb.com/rooms/20168</td>\n      <td>20210409161549</td>\n      <td>2021-04-12</td>\n      <td>Studio with private bathroom in the centre 1</td>\n      <td>17th century Dutch townhouse in the heart of t...</td>\n      <td>Located just in between famous central canals....</td>\n      <td>https://a0.muscache.com/pictures/69979628/fd6a...</td>\n      <td>59484</td>\n      <td>https://www.airbnb.com/users/show/59484</td>\n      <td>...</td>\n      <td>10.0</td>\n      <td>10.0</td>\n      <td>9.0</td>\n      <td>0363 CBB3 2C10 0C2A 1E29</td>\n      <td>t</td>\n      <td>2</td>\n      <td>0</td>\n      <td>2</td>\n      <td>0</td>\n      <td>2.50</td>\n    </tr>\n    <tr>\n      <th>2</th>\n      <td>25428</td>\n      <td>https://www.airbnb.com/rooms/25428</td>\n      <td>20210409161549</td>\n      <td>2021-04-11</td>\n      <td>Lovely, 1 bed apt in Ctr (w.lift) -3/20-6/20(f...</td>\n      <td>Lovely apt in Centre ( lift &amp; fireplace) near ...</td>\n      <td>NaN</td>\n      <td>https://a0.muscache.com/pictures/138431/7079a9...</td>\n      <td>56142</td>\n      <td>https://www.airbnb.com/users/show/56142</td>\n      <td>...</td>\n      <td>10.0</td>\n      <td>10.0</td>\n      <td>10.0</td>\n      <td>NaN</td>\n      <td>f</td>\n      <td>2</td>\n      <td>2</td>\n      <td>0</td>\n      <td>0</td>\n      <td>0.13</td>\n    </tr>\n    <tr>\n      <th>3</th>\n      <td>27886</td>\n      <td>https://www.airbnb.com/rooms/27886</td>\n      <td>20210409161549</td>\n      <td>2021-04-11</td>\n      <td>Romantic, stylish B&amp;B houseboat in canal district</td>\n      <td>Stylish and romantic houseboat on fantastic hi...</td>\n      <td>Central, quiet, safe, clean and beautiful.</td>\n      <td>https://a0.muscache.com/pictures/02c2da9d-660e...</td>\n      <td>97647</td>\n      <td>https://www.airbnb.com/users/show/97647</td>\n      <td>...</td>\n      <td>10.0</td>\n      <td>10.0</td>\n      <td>10.0</td>\n      <td>0363 974D 4986 7411 88D8</td>\n      <td>t</td>\n      <td>1</td>\n      <td>0</td>\n      <td>1</td>\n      <td>0</td>\n      <td>1.94</td>\n    </tr>\n    <tr>\n      <th>4</th>\n      <td>28871</td>\n      <td>https://www.airbnb.com/rooms/28871</td>\n      <td>20210409161549</td>\n      <td>2021-04-13</td>\n      <td>Comfortable double room</td>\n      <td>&lt;b&gt;The space&lt;/b&gt;&lt;br /&gt;In a monumental house ri...</td>\n      <td>Flower market , Leidseplein , Rembrantsplein</td>\n      <td>https://a0.muscache.com/pictures/160889/362340...</td>\n      <td>124245</td>\n      <td>https://www.airbnb.com/users/show/124245</td>\n      <td>...</td>\n      <td>10.0</td>\n      <td>10.0</td>\n      <td>10.0</td>\n      <td>0363 607B EA74 0BD8 2F6F</td>\n      <td>f</td>\n      <td>2</td>\n      <td>0</td>\n      <td>2</td>\n      <td>0</td>\n      <td>2.59</td>\n    </tr>\n  </tbody>\n</table>\n<p>5 rows × 74 columns</p>\n</div>"
     },
     "metadata": {}
    }
   ]
  },
  {
   "cell_type": "code",
   "metadata": {
    "tags": [],
    "cell_id": "00003-f1482a4f-dc9f-4dc0-830e-8247798748f1",
    "deepnote_to_be_reexecuted": false,
    "source_hash": "5738adf1",
    "execution_start": 1620466380611,
    "execution_millis": 26,
    "deepnote_cell_type": "code"
   },
   "source": "df['price'] = df['price'].str.replace('$', '')\ndf['price'] = df['price'].str.replace(',', '')\ndf['price'] = pd.to_numeric(df['price'])\nprint(df[\"price\"])",
   "execution_count": null,
   "outputs": [
    {
     "name": "stdout",
     "text": "0         59.0\n1        200.0\n2        125.0\n3        141.0\n4         75.0\n         ...  \n17820     47.0\n17821    200.0\n17822    112.0\n17823    107.0\n17824     94.0\nName: price, Length: 17825, dtype: float64\n/shared-libs/python3.7/py-core/lib/python3.7/site-packages/ipykernel_launcher.py:1: FutureWarning: The default value of regex will change from True to False in a future version. In addition, single character regular expressions will*not* be treated as literal strings when regex=True.\n  \"\"\"Entry point for launching an IPython kernel.\n",
     "output_type": "stream"
    }
   ]
  },
  {
   "cell_type": "code",
   "metadata": {
    "tags": [],
    "cell_id": "00003-58b560e9-a366-488f-8004-ebe57af4d5a2",
    "deepnote_to_be_reexecuted": false,
    "source_hash": "7006340c",
    "execution_start": 1620466610196,
    "execution_millis": 1105,
    "deepnote_cell_type": "code"
   },
   "source": "sns.regplot(x=\"review_scores_location\", y=\"price\", data=df)\ndf[[\"review_scores_location\", \"price\"]].corr()\n",
   "execution_count": null,
   "outputs": [
    {
     "output_type": "execute_result",
     "execution_count": 14,
     "data": {
      "application/vnd.deepnote.dataframe.v2+json": {
       "row_count": 2,
       "column_count": 2,
       "columns": [
        {
         "name": "review_scores_location",
         "dtype": "float64",
         "stats": {
          "unique_count": 2,
          "nan_count": 0,
          "min": "0.06340983285974677",
          "max": "1.0",
          "histogram": [
           {
            "bin_start": 0.06340983285974677,
            "bin_end": 0.1570688495737721,
            "count": 1
           },
           {
            "bin_start": 0.1570688495737721,
            "bin_end": 0.2507278662877974,
            "count": 0
           },
           {
            "bin_start": 0.2507278662877974,
            "bin_end": 0.34438688300182274,
            "count": 0
           },
           {
            "bin_start": 0.34438688300182274,
            "bin_end": 0.43804589971584806,
            "count": 0
           },
           {
            "bin_start": 0.43804589971584806,
            "bin_end": 0.5317049164298734,
            "count": 0
           },
           {
            "bin_start": 0.5317049164298734,
            "bin_end": 0.6253639331438987,
            "count": 0
           },
           {
            "bin_start": 0.6253639331438987,
            "bin_end": 0.719022949857924,
            "count": 0
           },
           {
            "bin_start": 0.719022949857924,
            "bin_end": 0.8126819665719494,
            "count": 0
           },
           {
            "bin_start": 0.8126819665719494,
            "bin_end": 0.9063409832859747,
            "count": 0
           },
           {
            "bin_start": 0.9063409832859747,
            "bin_end": 1,
            "count": 1
           }
          ]
         }
        },
        {
         "name": "price",
         "dtype": "float64",
         "stats": {
          "unique_count": 2,
          "nan_count": 0,
          "min": "0.06340983285974677",
          "max": "1.0",
          "histogram": [
           {
            "bin_start": 0.06340983285974677,
            "bin_end": 0.1570688495737721,
            "count": 1
           },
           {
            "bin_start": 0.1570688495737721,
            "bin_end": 0.2507278662877974,
            "count": 0
           },
           {
            "bin_start": 0.2507278662877974,
            "bin_end": 0.34438688300182274,
            "count": 0
           },
           {
            "bin_start": 0.34438688300182274,
            "bin_end": 0.43804589971584806,
            "count": 0
           },
           {
            "bin_start": 0.43804589971584806,
            "bin_end": 0.5317049164298734,
            "count": 0
           },
           {
            "bin_start": 0.5317049164298734,
            "bin_end": 0.6253639331438987,
            "count": 0
           },
           {
            "bin_start": 0.6253639331438987,
            "bin_end": 0.719022949857924,
            "count": 0
           },
           {
            "bin_start": 0.719022949857924,
            "bin_end": 0.8126819665719494,
            "count": 0
           },
           {
            "bin_start": 0.8126819665719494,
            "bin_end": 0.9063409832859747,
            "count": 0
           },
           {
            "bin_start": 0.9063409832859747,
            "bin_end": 1,
            "count": 1
           }
          ]
         }
        },
        {
         "name": "_deepnote_index_column",
         "dtype": "object"
        }
       ],
       "rows_top": [
        {
         "review_scores_location": 1,
         "price": 0.06340983285974677,
         "_deepnote_index_column": "review_scores_location"
        },
        {
         "review_scores_location": 0.06340983285974677,
         "price": 1,
         "_deepnote_index_column": "price"
        }
       ],
       "rows_bottom": null
      },
      "text/plain": "                        review_scores_location    price\nreview_scores_location                 1.00000  0.06341\nprice                                  0.06341  1.00000",
      "text/html": "<div>\n<style scoped>\n    .dataframe tbody tr th:only-of-type {\n        vertical-align: middle;\n    }\n\n    .dataframe tbody tr th {\n        vertical-align: top;\n    }\n\n    .dataframe thead th {\n        text-align: right;\n    }\n</style>\n<table border=\"1\" class=\"dataframe\">\n  <thead>\n    <tr style=\"text-align: right;\">\n      <th></th>\n      <th>review_scores_location</th>\n      <th>price</th>\n    </tr>\n  </thead>\n  <tbody>\n    <tr>\n      <th>review_scores_location</th>\n      <td>1.00000</td>\n      <td>0.06341</td>\n    </tr>\n    <tr>\n      <th>price</th>\n      <td>0.06341</td>\n      <td>1.00000</td>\n    </tr>\n  </tbody>\n</table>\n</div>"
     },
     "metadata": {}
    },
    {
     "data": {
      "text/plain": "<Figure size 432x288 with 1 Axes>",
      "image/png": "[encoded data removed]"
     },
     "metadata": {
      "needs_background": "light",
      "image/png": {
       "width": 401,
       "height": 263
      }
     },
     "output_type": "display_data"
    }
   ]
  },
  {
   "cell_type": "code",
   "metadata": {
    "tags": [],
    "cell_id": "00004-0daee878-b7f3-4e63-a839-858a3669ac49",
    "deepnote_to_be_reexecuted": false,
    "source_hash": "18018520",
    "execution_start": 1620466658642,
    "execution_millis": 1054,
    "deepnote_cell_type": "code"
   },
   "source": "sns.regplot(x=\"beds\", y=\"price\", data=df)\ndf[[\"beds\", \"price\"]].corr()",
   "execution_count": null,
   "outputs": [
    {
     "output_type": "execute_result",
     "execution_count": 16,
     "data": {
      "application/vnd.deepnote.dataframe.v2+json": {
       "row_count": 2,
       "column_count": 2,
       "columns": [
        {
         "name": "beds",
         "dtype": "float64",
         "stats": {
          "unique_count": 2,
          "nan_count": 0,
          "min": "0.25108349682792797",
          "max": "1.0",
          "histogram": [
           {
            "bin_start": 0.25108349682792797,
            "bin_end": 0.3259751471451352,
            "count": 1
           },
           {
            "bin_start": 0.3259751471451352,
            "bin_end": 0.4008667974623424,
            "count": 0
           },
           {
            "bin_start": 0.4008667974623424,
            "bin_end": 0.47575844777954956,
            "count": 0
           },
           {
            "bin_start": 0.47575844777954956,
            "bin_end": 0.5506500980967568,
            "count": 0
           },
           {
            "bin_start": 0.5506500980967568,
            "bin_end": 0.625541748413964,
            "count": 0
           },
           {
            "bin_start": 0.625541748413964,
            "bin_end": 0.7004333987311713,
            "count": 0
           },
           {
            "bin_start": 0.7004333987311713,
            "bin_end": 0.7753250490483784,
            "count": 0
           },
           {
            "bin_start": 0.7753250490483784,
            "bin_end": 0.8502166993655856,
            "count": 0
           },
           {
            "bin_start": 0.8502166993655856,
            "bin_end": 0.9251083496827929,
            "count": 0
           },
           {
            "bin_start": 0.9251083496827929,
            "bin_end": 1,
            "count": 1
           }
          ]
         }
        },
        {
         "name": "price",
         "dtype": "float64",
         "stats": {
          "unique_count": 2,
          "nan_count": 0,
          "min": "0.25108349682792797",
          "max": "1.0",
          "histogram": [
           {
            "bin_start": 0.25108349682792797,
            "bin_end": 0.3259751471451352,
            "count": 1
           },
           {
            "bin_start": 0.3259751471451352,
            "bin_end": 0.4008667974623424,
            "count": 0
           },
           {
            "bin_start": 0.4008667974623424,
            "bin_end": 0.47575844777954956,
            "count": 0
           },
           {
            "bin_start": 0.47575844777954956,
            "bin_end": 0.5506500980967568,
            "count": 0
           },
           {
            "bin_start": 0.5506500980967568,
            "bin_end": 0.625541748413964,
            "count": 0
           },
           {
            "bin_start": 0.625541748413964,
            "bin_end": 0.7004333987311713,
            "count": 0
           },
           {
            "bin_start": 0.7004333987311713,
            "bin_end": 0.7753250490483784,
            "count": 0
           },
           {
            "bin_start": 0.7753250490483784,
            "bin_end": 0.8502166993655856,
            "count": 0
           },
           {
            "bin_start": 0.8502166993655856,
            "bin_end": 0.9251083496827929,
            "count": 0
           },
           {
            "bin_start": 0.9251083496827929,
            "bin_end": 1,
            "count": 1
           }
          ]
         }
        },
        {
         "name": "_deepnote_index_column",
         "dtype": "object"
        }
       ],
       "rows_top": [
        {
         "beds": 1,
         "price": 0.25108349682792797,
         "_deepnote_index_column": "beds"
        },
        {
         "beds": 0.25108349682792797,
         "price": 1,
         "_deepnote_index_column": "price"
        }
       ],
       "rows_bottom": null
      },
      "text/plain": "           beds     price\nbeds   1.000000  0.251083\nprice  0.251083  1.000000",
      "text/html": "<div>\n<style scoped>\n    .dataframe tbody tr th:only-of-type {\n        vertical-align: middle;\n    }\n\n    .dataframe tbody tr th {\n        vertical-align: top;\n    }\n\n    .dataframe thead th {\n        text-align: right;\n    }\n</style>\n<table border=\"1\" class=\"dataframe\">\n  <thead>\n    <tr style=\"text-align: right;\">\n      <th></th>\n      <th>beds</th>\n      <th>price</th>\n    </tr>\n  </thead>\n  <tbody>\n    <tr>\n      <th>beds</th>\n      <td>1.000000</td>\n      <td>0.251083</td>\n    </tr>\n    <tr>\n      <th>price</th>\n      <td>0.251083</td>\n      <td>1.000000</td>\n    </tr>\n  </tbody>\n</table>\n</div>"
     },
     "metadata": {}
    },
    {
     "data": {
      "text/plain": "<Figure size 432x288 with 1 Axes>",
      "image/png": "[encoded data removed]"
     },
     "metadata": {
      "needs_background": "light",
      "image/png": {
       "width": 401,
       "height": 262
      }
     },
     "output_type": "display_data"
    }
   ]
  },
  {
   "cell_type": "code",
   "metadata": {
    "tags": [],
    "cell_id": "00005-b189b8c5-4e9d-4d47-bc08-897429f2a580",
    "deepnote_to_be_reexecuted": false,
    "source_hash": "b223cf64",
    "execution_start": 1620466943157,
    "execution_millis": 116,
    "deepnote_cell_type": "code"
   },
   "source": "large_price=df[df.price > 3000]\nlarge_price\n",
   "execution_count": null,
   "outputs": [
    {
     "output_type": "execute_result",
     "execution_count": 20,
     "data": {
      "application/vnd.deepnote.dataframe.v2+json": {
       "row_count": 4,
       "column_count": 74,
       "columns": [
        {
         "name": "id",
         "dtype": "int64",
         "stats": {
          "unique_count": 4,
          "nan_count": 0,
          "min": "258273",
          "max": "21946106",
          "histogram": [
           {
            "bin_start": 258273,
            "bin_end": 2427056.3,
            "count": 1
           },
           {
            "bin_start": 2427056.3,
            "bin_end": 4595839.6,
            "count": 0
           },
           {
            "bin_start": 4595839.6,
            "bin_end": 6764622.899999999,
            "count": 0
           },
           {
            "bin_start": 6764622.899999999,
            "bin_end": 8933406.2,
            "count": 0
           },
           {
            "bin_start": 8933406.2,
            "bin_end": 11102189.5,
            "count": 1
           },
           {
            "bin_start": 11102189.5,
            "bin_end": 13270972.799999999,
            "count": 0
           },
           {
            "bin_start": 13270972.799999999,
            "bin_end": 15439756.099999998,
            "count": 0
           },
           {
            "bin_start": 15439756.099999998,
            "bin_end": 17608539.4,
            "count": 0
           },
           {
            "bin_start": 17608539.4,
            "bin_end": 19777322.7,
            "count": 1
           },
           {
            "bin_start": 19777322.7,
            "bin_end": 21946106,
            "count": 1
           }
          ]
         }
        },
        {
         "name": "listing_url",
         "dtype": "object",
         "stats": {
          "unique_count": 4,
          "nan_count": 0,
          "categories": [
           {
            "name": "https://www.airbnb.com/rooms/258273",
            "count": 1
           },
           {
            "name": "https://www.airbnb.com/rooms/9818537",
            "count": 1
           },
           {
            "name": "2 others",
            "count": 2
           }
          ]
         }
        },
        {
         "name": "scrape_id",
         "dtype": "int64",
         "stats": {
          "unique_count": 1,
          "nan_count": 0,
          "min": "20210409161549",
          "max": "20210409161549",
          "histogram": [
           {
            "bin_start": 20210409161548.5,
            "bin_end": 20210409161548.6,
            "count": 0
           },
           {
            "bin_start": 20210409161548.6,
            "bin_end": 20210409161548.7,
            "count": 0
           },
           {
            "bin_start": 20210409161548.7,
            "bin_end": 20210409161548.8,
            "count": 0
           },
           {
            "bin_start": 20210409161548.8,
            "bin_end": 20210409161548.9,
            "count": 0
           },
           {
            "bin_start": 20210409161548.9,
            "bin_end": 20210409161549,
            "count": 0
           },
           {
            "bin_start": 20210409161549,
            "bin_end": 20210409161549.1,
            "count": 4
           },
           {
            "bin_start": 20210409161549.1,
            "bin_end": 20210409161549.2,
            "count": 0
           },
           {
            "bin_start": 20210409161549.2,
            "bin_end": 20210409161549.3,
            "count": 0
           },
           {
            "bin_start": 20210409161549.3,
            "bin_end": 20210409161549.4,
            "count": 0
           },
           {
            "bin_start": 20210409161549.4,
            "bin_end": 20210409161549.5,
            "count": 0
           }
          ]
         }
        },
        {
         "name": "last_scraped",
         "dtype": "object",
         "stats": {
          "unique_count": 2,
          "nan_count": 0,
          "categories": [
           {
            "name": "2021-04-10",
            "count": 3
           },
           {
            "name": "2021-04-11",
            "count": 1
           }
          ]
         }
        },
        {
         "name": "name",
         "dtype": "object",
         "stats": {
          "unique_count": 4,
          "nan_count": 0,
          "categories": [
           {
            "name": "Great CENTRAL apartment De Pijp",
            "count": 1
           },
           {
            "name": "Nice&Lovely Apartment in Amsterdam",
            "count": 1
           },
           {
            "name": "2 others",
            "count": 2
           }
          ]
         }
        },
        {
         "name": "description",
         "dtype": "object",
         "stats": {
          "unique_count": 4,
          "nan_count": 0,
          "categories": [
           {
            "name": "<b>The space</b><br />This is a lovely comfortable three room first floor light filled apartment with everything you need, perfect for a couple or two friends. Two extra people could also sleep on the fold out sofa bed.  It has facilities such as wireless internet, TV, an equipped kitchen, a dining table for four people. Everything else is right around the corner as the apartment is located in the heart of “De Pijp”, one of the coziest and funkiest neighborhoods of Amsterdam.  <br /> <br />De Pijp is well known for its lively streets, small shops, intimate restaurants, cozy cafes, many terraces and authentic Amsterdam charm. It is the place that Amsterdamer’s love to go out and catch a drink or just grab a bite to eat. This apartment is ideally located just around the corner from bars and restaurants.  <br /> <br />The apartment is located in walking distance of the popular attractions; Rijks Museum, Van Gogh Museum, Vondel Park, Sarphati park, Leidse Square (bar/café/club scene) and t",
            "count": 1
           },
           {
            "name": "<b>The space</b><br />This apartment of 60m² has been completely refurbished a few years ago. Inside it is very modern, but on the outside it still resembles the old style houses that Amsterdam is known for.<br />The apartment is located in a quiet and safe area.<br /> In this area you will also find by walking distance several trendy bars.<br /><br /><b>Guest access</b><br />You have access to the whole apartment including the two balconies (except a  small study which is locked and we normally use as storage).<br /><br />The kitchen is fully equipped<br /><br />Free WiFi<br /><br />Towels & fresh bed linens are provided<br /><br /><b>Other things to note</b><br />http://inamsterdamoost.metmik.nl/nieuws<br /><br />take a  look to this link for events of this area of Amsterdam",
            "count": 1
           },
           {
            "name": "2 others",
            "count": 2
           }
          ]
         }
        },
        {
         "name": "neighborhood_overview",
         "dtype": "object",
         "stats": {
          "unique_count": 3,
          "nan_count": 1,
          "categories": [
           {
            "name": "Our apartment is located in Amsterdam Oost, one of the city's most evolving neighborhoods. Every few weeks a new restaurant, bar, shop or club is opening. The closest supermarket is 3 min walking. The closest organic supermarket is just a bit further away (5 min walking). Close by there is a number of bars, restaurants, shops and a coffee shop. There are two beautiful parks close by (1-5 min walking). As soon as it is warm enough people will spend their free time outside relaxing in the sun. But the parks also offer the perfect opportunity to go for a run or walk for who doesn't want to miss his exercise during the holidays.",
            "count": 1
           },
           {
            "name": "2 others",
            "count": 2
           },
           {
            "name": "Missing",
            "count": 1
           }
          ]
         }
        },
        {
         "name": "picture_url",
         "dtype": "object",
         "stats": {
          "unique_count": 4,
          "nan_count": 0,
          "categories": [
           {
            "name": "https://a0.muscache.com/pictures/9895329/f0f226e3_original.jpg",
            "count": 1
           },
           {
            "name": "https://a0.muscache.com/pictures/2002c2cd-9c3c-4f8e-a18c-422f73f0c4b5.jpg",
            "count": 1
           },
           {
            "name": "2 others",
            "count": 2
           }
          ]
         }
        },
        {
         "name": "host_id",
         "dtype": "int64",
         "stats": {
          "unique_count": 4,
          "nan_count": 0,
          "min": "1358307",
          "max": "138283471",
          "histogram": [
           {
            "bin_start": 1358307,
            "bin_end": 15050823.4,
            "count": 2
           },
           {
            "bin_start": 15050823.4,
            "bin_end": 28743339.8,
            "count": 0
           },
           {
            "bin_start": 28743339.8,
            "bin_end": 42435856.2,
            "count": 1
           },
           {
            "bin_start": 42435856.2,
            "bin_end": 56128372.6,
            "count": 0
           },
           {
            "bin_start": 56128372.6,
            "bin_end": 69820889,
            "count": 0
           },
           {
            "bin_start": 69820889,
            "bin_end": 83513405.4,
            "count": 0
           },
           {
            "bin_start": 83513405.4,
            "bin_end": 97205921.8,
            "count": 0
           },
           {
            "bin_start": 97205921.8,
            "bin_end": 110898438.2,
            "count": 0
           },
           {
            "bin_start": 110898438.2,
            "bin_end": 124590954.60000001,
            "count": 0
           },
           {
            "bin_start": 124590954.60000001,
            "bin_end": 138283471,
            "count": 1
           }
          ]
         }
        },
        {
         "name": "host_url",
         "dtype": "object",
         "stats": {
          "unique_count": 4,
          "nan_count": 0,
          "categories": [
           {
            "name": "https://www.airbnb.com/users/show/1358307",
            "count": 1
           },
           {
            "name": "https://www.airbnb.com/users/show/40135760",
            "count": 1
           },
           {
            "name": "2 others",
            "count": 2
           }
          ]
         }
        },
        {
         "name": "host_name",
         "dtype": "object",
         "stats": {
          "unique_count": 4,
          "nan_count": 0,
          "categories": [
           {
            "name": "Peter",
            "count": 1
           },
           {
            "name": "Paolo",
            "count": 1
           },
           {
            "name": "2 others",
            "count": 2
           }
          ]
         }
        },
        {
         "name": "host_since",
         "dtype": "object",
         "stats": {
          "unique_count": 4,
          "nan_count": 0,
          "categories": [
           {
            "name": "2011-11-01",
            "count": 1
           },
           {
            "name": "2015-07-31",
            "count": 1
           },
           {
            "name": "2 others",
            "count": 2
           }
          ]
         }
        },
        {
         "name": "host_location",
         "dtype": "object",
         "stats": {
          "unique_count": 4,
          "nan_count": 0,
          "categories": [
           {
            "name": "Amsterdam, Noord-Holland, The Netherlands",
            "count": 1
           },
           {
            "name": "Amsterdam, North Holland, Netherlands",
            "count": 1
           },
           {
            "name": "2 others",
            "count": 2
           }
          ]
         }
        },
        {
         "name": "host_about",
         "dtype": "object",
         "stats": {
          "unique_count": 2,
          "nan_count": 2,
          "categories": [
           {
            "name": "Hello I'm Peter, I look forward to hearing from you if you'd like to stay in the heart of “De Pijp”, one of the coziest and funkiest neighborhoods of Amsterdam.",
            "count": 1
           },
           {
            "name": "I love to travel and get to know  new people and new cultures. Sometimes I also  like to discover new places by myself and  I don't mind to get lost , especially in some beautiful locations. I couldn'' t live without music,beaches,sun,love,friends.\r\n\r\n",
            "count": 1
           },
           {
            "name": "Missing",
            "count": 2
           }
          ]
         }
        },
        {
         "name": "host_response_time",
         "dtype": "object",
         "stats": {
          "unique_count": 0,
          "nan_count": 4,
          "categories": [
           {
            "name": "Missing",
            "count": 4
           }
          ]
         }
        },
        {
         "name": "host_response_rate",
         "dtype": "object",
         "stats": {
          "unique_count": 0,
          "nan_count": 4,
          "categories": [
           {
            "name": "Missing",
            "count": 4
           }
          ]
         }
        },
        {
         "name": "host_acceptance_rate",
         "dtype": "object",
         "stats": {
          "unique_count": 0,
          "nan_count": 4,
          "categories": [
           {
            "name": "Missing",
            "count": 4
           }
          ]
         }
        },
        {
         "name": "host_is_superhost",
         "dtype": "object",
         "stats": {
          "unique_count": 1,
          "nan_count": 0,
          "categories": [
           {
            "name": "f",
            "count": 4
           }
          ]
         }
        },
        {
         "name": "host_thumbnail_url",
         "dtype": "object",
         "stats": {
          "unique_count": 4,
          "nan_count": 0,
          "categories": [
           {
            "name": "https://a0.muscache.com/im/users/1358307/profile_pic/1330950710/original.jpg?aki_policy=profile_small",
            "count": 1
           },
           {
            "name": "https://a0.muscache.com/im/pictures/user/51c20870-0ad7-4393-8cd2-ebfd4bf9c614.jpg?aki_policy=profile_small",
            "count": 1
           },
           {
            "name": "2 others",
            "count": 2
           }
          ]
         }
        },
        {
         "name": "host_picture_url",
         "dtype": "object",
         "stats": {
          "unique_count": 4,
          "nan_count": 0,
          "categories": [
           {
            "name": "https://a0.muscache.com/im/users/1358307/profile_pic/1330950710/original.jpg?aki_policy=profile_x_medium",
            "count": 1
           },
           {
            "name": "https://a0.muscache.com/im/pictures/user/51c20870-0ad7-4393-8cd2-ebfd4bf9c614.jpg?aki_policy=profile_x_medium",
            "count": 1
           },
           {
            "name": "2 others",
            "count": 2
           }
          ]
         }
        },
        {
         "name": "host_neighbourhood",
         "dtype": "object",
         "stats": {
          "unique_count": 3,
          "nan_count": 1,
          "categories": [
           {
            "name": "De Pijp",
            "count": 1
           },
           {
            "name": "2 others",
            "count": 2
           },
           {
            "name": "Missing",
            "count": 1
           }
          ]
         }
        },
        {
         "name": "host_listings_count",
         "dtype": "float64",
         "stats": {
          "unique_count": 2,
          "nan_count": 0,
          "min": "1.0",
          "max": "2.0",
          "histogram": [
           {
            "bin_start": 1,
            "bin_end": 1.1,
            "count": 3
           },
           {
            "bin_start": 1.1,
            "bin_end": 1.2,
            "count": 0
           },
           {
            "bin_start": 1.2,
            "bin_end": 1.3,
            "count": 0
           },
           {
            "bin_start": 1.3,
            "bin_end": 1.4,
            "count": 0
           },
           {
            "bin_start": 1.4,
            "bin_end": 1.5,
            "count": 0
           },
           {
            "bin_start": 1.5,
            "bin_end": 1.6,
            "count": 0
           },
           {
            "bin_start": 1.6,
            "bin_end": 1.7000000000000002,
            "count": 0
           },
           {
            "bin_start": 1.7000000000000002,
            "bin_end": 1.8,
            "count": 0
           },
           {
            "bin_start": 1.8,
            "bin_end": 1.9,
            "count": 0
           },
           {
            "bin_start": 1.9,
            "bin_end": 2,
            "count": 1
           }
          ]
         }
        },
        {
         "name": "host_total_listings_count",
         "dtype": "float64",
         "stats": {
          "unique_count": 2,
          "nan_count": 0,
          "min": "1.0",
          "max": "2.0",
          "histogram": [
           {
            "bin_start": 1,
            "bin_end": 1.1,
            "count": 3
           },
           {
            "bin_start": 1.1,
            "bin_end": 1.2,
            "count": 0
           },
           {
            "bin_start": 1.2,
            "bin_end": 1.3,
            "count": 0
           },
           {
            "bin_start": 1.3,
            "bin_end": 1.4,
            "count": 0
           },
           {
            "bin_start": 1.4,
            "bin_end": 1.5,
            "count": 0
           },
           {
            "bin_start": 1.5,
            "bin_end": 1.6,
            "count": 0
           },
           {
            "bin_start": 1.6,
            "bin_end": 1.7000000000000002,
            "count": 0
           },
           {
            "bin_start": 1.7000000000000002,
            "bin_end": 1.8,
            "count": 0
           },
           {
            "bin_start": 1.8,
            "bin_end": 1.9,
            "count": 0
           },
           {
            "bin_start": 1.9,
            "bin_end": 2,
            "count": 1
           }
          ]
         }
        },
        {
         "name": "host_verifications",
         "dtype": "object",
         "stats": {
          "unique_count": 4,
          "nan_count": 0,
          "categories": [
           {
            "name": "['email', 'phone', 'reviews', 'jumio']",
            "count": 1
           },
           {
            "name": "['email', 'phone', 'reviews', 'jumio', 'government_id']",
            "count": 1
           },
           {
            "name": "2 others",
            "count": 2
           }
          ]
         }
        },
        {
         "name": "host_has_profile_pic",
         "dtype": "object",
         "stats": {
          "unique_count": 1,
          "nan_count": 0,
          "categories": [
           {
            "name": "t",
            "count": 4
           }
          ]
         }
        },
        {
         "name": "host_identity_verified",
         "dtype": "object",
         "stats": {
          "unique_count": 2,
          "nan_count": 0,
          "categories": [
           {
            "name": "f",
            "count": 3
           },
           {
            "name": "t",
            "count": 1
           }
          ]
         }
        },
        {
         "name": "neighbourhood",
         "dtype": "object",
         "stats": {
          "unique_count": 1,
          "nan_count": 1,
          "categories": [
           {
            "name": "Amsterdam, Noord-Holland, Netherlands",
            "count": 3
           },
           {
            "name": "Missing",
            "count": 1
           }
          ]
         }
        },
        {
         "name": "neighbourhood_cleansed",
         "dtype": "object",
         "stats": {
          "unique_count": 4,
          "nan_count": 0,
          "categories": [
           {
            "name": "De Pijp - Rivierenbuurt",
            "count": 1
           },
           {
            "name": "Oud-Oost",
            "count": 1
           },
           {
            "name": "2 others",
            "count": 2
           }
          ]
         }
        },
        {
         "name": "neighbourhood_group_cleansed",
         "dtype": "float64",
         "stats": {
          "unique_count": 0,
          "nan_count": 4,
          "min": null,
          "max": null,
          "histogram": [
           {
            "bin_start": 0,
            "bin_end": 0.1,
            "count": 0
           },
           {
            "bin_start": 0.1,
            "bin_end": 0.2,
            "count": 0
           },
           {
            "bin_start": 0.2,
            "bin_end": 0.30000000000000004,
            "count": 0
           },
           {
            "bin_start": 0.30000000000000004,
            "bin_end": 0.4,
            "count": 0
           },
           {
            "bin_start": 0.4,
            "bin_end": 0.5,
            "count": 0
           },
           {
            "bin_start": 0.5,
            "bin_end": 0.6000000000000001,
            "count": 0
           },
           {
            "bin_start": 0.6000000000000001,
            "bin_end": 0.7000000000000001,
            "count": 0
           },
           {
            "bin_start": 0.7000000000000001,
            "bin_end": 0.8,
            "count": 0
           },
           {
            "bin_start": 0.8,
            "bin_end": 0.9,
            "count": 0
           },
           {
            "bin_start": 0.9,
            "bin_end": 1,
            "count": 0
           }
          ]
         }
        },
        {
         "name": "latitude",
         "dtype": "float64",
         "stats": {
          "unique_count": 4,
          "nan_count": 0,
          "min": "52.35202",
          "max": "52.3702",
          "histogram": [
           {
            "bin_start": 52.35202,
            "bin_end": 52.353838,
            "count": 1
           },
           {
            "bin_start": 52.353838,
            "bin_end": 52.355656,
            "count": 1
           },
           {
            "bin_start": 52.355656,
            "bin_end": 52.357474,
            "count": 0
           },
           {
            "bin_start": 52.357474,
            "bin_end": 52.359292,
            "count": 1
           },
           {
            "bin_start": 52.359292,
            "bin_end": 52.36111,
            "count": 0
           },
           {
            "bin_start": 52.36111,
            "bin_end": 52.362928,
            "count": 0
           },
           {
            "bin_start": 52.362928,
            "bin_end": 52.364746,
            "count": 0
           },
           {
            "bin_start": 52.364746,
            "bin_end": 52.366564,
            "count": 0
           },
           {
            "bin_start": 52.366564,
            "bin_end": 52.368382,
            "count": 0
           },
           {
            "bin_start": 52.368382,
            "bin_end": 52.3702,
            "count": 1
           }
          ]
         }
        },
        {
         "name": "longitude",
         "dtype": "float64",
         "stats": {
          "unique_count": 4,
          "nan_count": 0,
          "min": "4.87759",
          "max": "5.00454",
          "histogram": [
           {
            "bin_start": 4.87759,
            "bin_end": 4.8902849999999995,
            "count": 1
           },
           {
            "bin_start": 4.8902849999999995,
            "bin_end": 4.9029799999999994,
            "count": 1
           },
           {
            "bin_start": 4.9029799999999994,
            "bin_end": 4.915675,
            "count": 0
           },
           {
            "bin_start": 4.915675,
            "bin_end": 4.92837,
            "count": 1
           },
           {
            "bin_start": 4.92837,
            "bin_end": 4.941065,
            "count": 0
           },
           {
            "bin_start": 4.941065,
            "bin_end": 4.95376,
            "count": 0
           },
           {
            "bin_start": 4.95376,
            "bin_end": 4.966455,
            "count": 0
           },
           {
            "bin_start": 4.966455,
            "bin_end": 4.979150000000001,
            "count": 0
           },
           {
            "bin_start": 4.979150000000001,
            "bin_end": 4.9918450000000005,
            "count": 0
           },
           {
            "bin_start": 4.9918450000000005,
            "bin_end": 5.00454,
            "count": 1
           }
          ]
         }
        },
        {
         "name": "property_type",
         "dtype": "object",
         "stats": {
          "unique_count": 2,
          "nan_count": 0,
          "categories": [
           {
            "name": "Entire apartment",
            "count": 3
           },
           {
            "name": "Private room in apartment",
            "count": 1
           }
          ]
         }
        },
        {
         "name": "room_type",
         "dtype": "object",
         "stats": {
          "unique_count": 2,
          "nan_count": 0,
          "categories": [
           {
            "name": "Entire home/apt",
            "count": 3
           },
           {
            "name": "Private room",
            "count": 1
           }
          ]
         }
        },
        {
         "name": "accommodates",
         "dtype": "int64",
         "stats": {
          "unique_count": 3,
          "nan_count": 0,
          "min": "2",
          "max": "4",
          "histogram": [
           {
            "bin_start": 2,
            "bin_end": 2.2,
            "count": 2
           },
           {
            "bin_start": 2.2,
            "bin_end": 2.4,
            "count": 0
           },
           {
            "bin_start": 2.4,
            "bin_end": 2.6,
            "count": 0
           },
           {
            "bin_start": 2.6,
            "bin_end": 2.8,
            "count": 0
           },
           {
            "bin_start": 2.8,
            "bin_end": 3,
            "count": 0
           },
           {
            "bin_start": 3,
            "bin_end": 3.2,
            "count": 1
           },
           {
            "bin_start": 3.2,
            "bin_end": 3.4000000000000004,
            "count": 0
           },
           {
            "bin_start": 3.4000000000000004,
            "bin_end": 3.6,
            "count": 0
           },
           {
            "bin_start": 3.6,
            "bin_end": 3.8,
            "count": 0
           },
           {
            "bin_start": 3.8,
            "bin_end": 4,
            "count": 1
           }
          ]
         }
        },
        {
         "name": "bathrooms",
         "dtype": "float64",
         "stats": {
          "unique_count": 0,
          "nan_count": 4,
          "min": null,
          "max": null,
          "histogram": [
           {
            "bin_start": 0,
            "bin_end": 0.1,
            "count": 0
           },
           {
            "bin_start": 0.1,
            "bin_end": 0.2,
            "count": 0
           },
           {
            "bin_start": 0.2,
            "bin_end": 0.30000000000000004,
            "count": 0
           },
           {
            "bin_start": 0.30000000000000004,
            "bin_end": 0.4,
            "count": 0
           },
           {
            "bin_start": 0.4,
            "bin_end": 0.5,
            "count": 0
           },
           {
            "bin_start": 0.5,
            "bin_end": 0.6000000000000001,
            "count": 0
           },
           {
            "bin_start": 0.6000000000000001,
            "bin_end": 0.7000000000000001,
            "count": 0
           },
           {
            "bin_start": 0.7000000000000001,
            "bin_end": 0.8,
            "count": 0
           },
           {
            "bin_start": 0.8,
            "bin_end": 0.9,
            "count": 0
           },
           {
            "bin_start": 0.9,
            "bin_end": 1,
            "count": 0
           }
          ]
         }
        },
        {
         "name": "bathrooms_text",
         "dtype": "object",
         "stats": {
          "unique_count": 3,
          "nan_count": 0,
          "categories": [
           {
            "name": "1 bath",
            "count": 2
           },
           {
            "name": "1.5 baths",
            "count": 1
           },
           {
            "name": "1 shared bath",
            "count": 1
           }
          ]
         }
        },
        {
         "name": "bedrooms",
         "dtype": "float64",
         "stats": {
          "unique_count": 2,
          "nan_count": 0,
          "min": "1.0",
          "max": "2.0",
          "histogram": [
           {
            "bin_start": 1,
            "bin_end": 1.1,
            "count": 3
           },
           {
            "bin_start": 1.1,
            "bin_end": 1.2,
            "count": 0
           },
           {
            "bin_start": 1.2,
            "bin_end": 1.3,
            "count": 0
           },
           {
            "bin_start": 1.3,
            "bin_end": 1.4,
            "count": 0
           },
           {
            "bin_start": 1.4,
            "bin_end": 1.5,
            "count": 0
           },
           {
            "bin_start": 1.5,
            "bin_end": 1.6,
            "count": 0
           },
           {
            "bin_start": 1.6,
            "bin_end": 1.7000000000000002,
            "count": 0
           },
           {
            "bin_start": 1.7000000000000002,
            "bin_end": 1.8,
            "count": 0
           },
           {
            "bin_start": 1.8,
            "bin_end": 1.9,
            "count": 0
           },
           {
            "bin_start": 1.9,
            "bin_end": 2,
            "count": 1
           }
          ]
         }
        },
        {
         "name": "beds",
         "dtype": "float64",
         "stats": {
          "unique_count": 2,
          "nan_count": 0,
          "min": "1.0",
          "max": "2.0",
          "histogram": [
           {
            "bin_start": 1,
            "bin_end": 1.1,
            "count": 3
           },
           {
            "bin_start": 1.1,
            "bin_end": 1.2,
            "count": 0
           },
           {
            "bin_start": 1.2,
            "bin_end": 1.3,
            "count": 0
           },
           {
            "bin_start": 1.3,
            "bin_end": 1.4,
            "count": 0
           },
           {
            "bin_start": 1.4,
            "bin_end": 1.5,
            "count": 0
           },
           {
            "bin_start": 1.5,
            "bin_end": 1.6,
            "count": 0
           },
           {
            "bin_start": 1.6,
            "bin_end": 1.7000000000000002,
            "count": 0
           },
           {
            "bin_start": 1.7000000000000002,
            "bin_end": 1.8,
            "count": 0
           },
           {
            "bin_start": 1.8,
            "bin_end": 1.9,
            "count": 0
           },
           {
            "bin_start": 1.9,
            "bin_end": 2,
            "count": 1
           }
          ]
         }
        },
        {
         "name": "amenities",
         "dtype": "object",
         "stats": {
          "unique_count": 4,
          "nan_count": 0,
          "categories": [
           {
            "name": "[\"TV\", \"Long term stays allowed\", \"Wifi\", \"Heating\", \"Cable TV\", \"Dryer\", \"Kitchen\", \"Washer\"]",
            "count": 1
           },
           {
            "name": "[\"Essentials\", \"Long term stays allowed\", \"Wifi\", \"Heating\", \"Hot tub\", \"Smoke alarm\", \"Kitchen\", \"Washer\"]",
            "count": 1
           },
           {
            "name": "2 others",
            "count": 2
           }
          ]
         }
        },
        {
         "name": "price",
         "dtype": "float64",
         "stats": {
          "unique_count": 3,
          "nan_count": 0,
          "min": "5000.0",
          "max": "8000.0",
          "histogram": [
           {
            "bin_start": 5000,
            "bin_end": 5300,
            "count": 1
           },
           {
            "bin_start": 5300,
            "bin_end": 5600,
            "count": 0
           },
           {
            "bin_start": 5600,
            "bin_end": 5900,
            "count": 0
           },
           {
            "bin_start": 5900,
            "bin_end": 6200,
            "count": 0
           },
           {
            "bin_start": 6200,
            "bin_end": 6500,
            "count": 0
           },
           {
            "bin_start": 6500,
            "bin_end": 6800,
            "count": 0
           },
           {
            "bin_start": 6800,
            "bin_end": 7100,
            "count": 0
           },
           {
            "bin_start": 7100,
            "bin_end": 7400,
            "count": 0
           },
           {
            "bin_start": 7400,
            "bin_end": 7700,
            "count": 0
           },
           {
            "bin_start": 7700,
            "bin_end": 8000,
            "count": 3
           }
          ]
         }
        },
        {
         "name": "minimum_nights",
         "dtype": "int64",
         "stats": {
          "unique_count": 3,
          "nan_count": 0,
          "min": "2",
          "max": "30",
          "histogram": [
           {
            "bin_start": 2,
            "bin_end": 4.8,
            "count": 3
           },
           {
            "bin_start": 4.8,
            "bin_end": 7.6,
            "count": 0
           },
           {
            "bin_start": 7.6,
            "bin_end": 10.399999999999999,
            "count": 0
           },
           {
            "bin_start": 10.399999999999999,
            "bin_end": 13.2,
            "count": 0
           },
           {
            "bin_start": 13.2,
            "bin_end": 16,
            "count": 0
           },
           {
            "bin_start": 16,
            "bin_end": 18.799999999999997,
            "count": 0
           },
           {
            "bin_start": 18.799999999999997,
            "bin_end": 21.599999999999998,
            "count": 0
           },
           {
            "bin_start": 21.599999999999998,
            "bin_end": 24.4,
            "count": 0
           },
           {
            "bin_start": 24.4,
            "bin_end": 27.2,
            "count": 0
           },
           {
            "bin_start": 27.2,
            "bin_end": 30,
            "count": 1
           }
          ]
         }
        },
        {
         "name": "maximum_nights",
         "dtype": "int64",
         "stats": {
          "unique_count": 4,
          "nan_count": 0,
          "min": "4",
          "max": "1125",
          "histogram": [
           {
            "bin_start": 4,
            "bin_end": 116.1,
            "count": 2
           },
           {
            "bin_start": 116.1,
            "bin_end": 228.2,
            "count": 0
           },
           {
            "bin_start": 228.2,
            "bin_end": 340.29999999999995,
            "count": 0
           },
           {
            "bin_start": 340.29999999999995,
            "bin_end": 452.4,
            "count": 0
           },
           {
            "bin_start": 452.4,
            "bin_end": 564.5,
            "count": 0
           },
           {
            "bin_start": 564.5,
            "bin_end": 676.5999999999999,
            "count": 0
           },
           {
            "bin_start": 676.5999999999999,
            "bin_end": 788.6999999999999,
            "count": 0
           },
           {
            "bin_start": 788.6999999999999,
            "bin_end": 900.8,
            "count": 0
           },
           {
            "bin_start": 900.8,
            "bin_end": 1012.9,
            "count": 0
           },
           {
            "bin_start": 1012.9,
            "bin_end": 1125,
            "count": 2
           }
          ]
         }
        },
        {
         "name": "minimum_minimum_nights",
         "dtype": "float64",
         "stats": {
          "unique_count": 3,
          "nan_count": 0,
          "min": "2.0",
          "max": "30.0",
          "histogram": [
           {
            "bin_start": 2,
            "bin_end": 4.8,
            "count": 3
           },
           {
            "bin_start": 4.8,
            "bin_end": 7.6,
            "count": 0
           },
           {
            "bin_start": 7.6,
            "bin_end": 10.399999999999999,
            "count": 0
           },
           {
            "bin_start": 10.399999999999999,
            "bin_end": 13.2,
            "count": 0
           },
           {
            "bin_start": 13.2,
            "bin_end": 16,
            "count": 0
           },
           {
            "bin_start": 16,
            "bin_end": 18.799999999999997,
            "count": 0
           },
           {
            "bin_start": 18.799999999999997,
            "bin_end": 21.599999999999998,
            "count": 0
           },
           {
            "bin_start": 21.599999999999998,
            "bin_end": 24.4,
            "count": 0
           },
           {
            "bin_start": 24.4,
            "bin_end": 27.2,
            "count": 0
           },
           {
            "bin_start": 27.2,
            "bin_end": 30,
            "count": 1
           }
          ]
         }
        },
        {
         "name": "maximum_minimum_nights",
         "dtype": "float64",
         "stats": {
          "unique_count": 3,
          "nan_count": 0,
          "min": "2.0",
          "max": "30.0",
          "histogram": [
           {
            "bin_start": 2,
            "bin_end": 4.8,
            "count": 3
           },
           {
            "bin_start": 4.8,
            "bin_end": 7.6,
            "count": 0
           },
           {
            "bin_start": 7.6,
            "bin_end": 10.399999999999999,
            "count": 0
           },
           {
            "bin_start": 10.399999999999999,
            "bin_end": 13.2,
            "count": 0
           },
           {
            "bin_start": 13.2,
            "bin_end": 16,
            "count": 0
           },
           {
            "bin_start": 16,
            "bin_end": 18.799999999999997,
            "count": 0
           },
           {
            "bin_start": 18.799999999999997,
            "bin_end": 21.599999999999998,
            "count": 0
           },
           {
            "bin_start": 21.599999999999998,
            "bin_end": 24.4,
            "count": 0
           },
           {
            "bin_start": 24.4,
            "bin_end": 27.2,
            "count": 0
           },
           {
            "bin_start": 27.2,
            "bin_end": 30,
            "count": 1
           }
          ]
         }
        },
        {
         "name": "minimum_maximum_nights",
         "dtype": "float64",
         "stats": {
          "unique_count": 4,
          "nan_count": 0,
          "min": "4.0",
          "max": "1125.0",
          "histogram": [
           {
            "bin_start": 4,
            "bin_end": 116.1,
            "count": 2
           },
           {
            "bin_start": 116.1,
            "bin_end": 228.2,
            "count": 0
           },
           {
            "bin_start": 228.2,
            "bin_end": 340.29999999999995,
            "count": 0
           },
           {
            "bin_start": 340.29999999999995,
            "bin_end": 452.4,
            "count": 0
           },
           {
            "bin_start": 452.4,
            "bin_end": 564.5,
            "count": 0
           },
           {
            "bin_start": 564.5,
            "bin_end": 676.5999999999999,
            "count": 0
           },
           {
            "bin_start": 676.5999999999999,
            "bin_end": 788.6999999999999,
            "count": 0
           },
           {
            "bin_start": 788.6999999999999,
            "bin_end": 900.8,
            "count": 0
           },
           {
            "bin_start": 900.8,
            "bin_end": 1012.9,
            "count": 0
           },
           {
            "bin_start": 1012.9,
            "bin_end": 1125,
            "count": 2
           }
          ]
         }
        },
        {
         "name": "maximum_maximum_nights",
         "dtype": "float64",
         "stats": {
          "unique_count": 4,
          "nan_count": 0,
          "min": "4.0",
          "max": "1125.0",
          "histogram": [
           {
            "bin_start": 4,
            "bin_end": 116.1,
            "count": 2
           },
           {
            "bin_start": 116.1,
            "bin_end": 228.2,
            "count": 0
           },
           {
            "bin_start": 228.2,
            "bin_end": 340.29999999999995,
            "count": 0
           },
           {
            "bin_start": 340.29999999999995,
            "bin_end": 452.4,
            "count": 0
           },
           {
            "bin_start": 452.4,
            "bin_end": 564.5,
            "count": 0
           },
           {
            "bin_start": 564.5,
            "bin_end": 676.5999999999999,
            "count": 0
           },
           {
            "bin_start": 676.5999999999999,
            "bin_end": 788.6999999999999,
            "count": 0
           },
           {
            "bin_start": 788.6999999999999,
            "bin_end": 900.8,
            "count": 0
           },
           {
            "bin_start": 900.8,
            "bin_end": 1012.9,
            "count": 0
           },
           {
            "bin_start": 1012.9,
            "bin_end": 1125,
            "count": 2
           }
          ]
         }
        },
        {
         "name": "minimum_nights_avg_ntm",
         "dtype": "float64",
         "stats": {
          "unique_count": 3,
          "nan_count": 0,
          "min": "2.0",
          "max": "30.0",
          "histogram": [
           {
            "bin_start": 2,
            "bin_end": 4.8,
            "count": 3
           },
           {
            "bin_start": 4.8,
            "bin_end": 7.6,
            "count": 0
           },
           {
            "bin_start": 7.6,
            "bin_end": 10.399999999999999,
            "count": 0
           },
           {
            "bin_start": 10.399999999999999,
            "bin_end": 13.2,
            "count": 0
           },
           {
            "bin_start": 13.2,
            "bin_end": 16,
            "count": 0
           },
           {
            "bin_start": 16,
            "bin_end": 18.799999999999997,
            "count": 0
           },
           {
            "bin_start": 18.799999999999997,
            "bin_end": 21.599999999999998,
            "count": 0
           },
           {
            "bin_start": 21.599999999999998,
            "bin_end": 24.4,
            "count": 0
           },
           {
            "bin_start": 24.4,
            "bin_end": 27.2,
            "count": 0
           },
           {
            "bin_start": 27.2,
            "bin_end": 30,
            "count": 1
           }
          ]
         }
        },
        {
         "name": "maximum_nights_avg_ntm",
         "dtype": "float64",
         "stats": {
          "unique_count": 4,
          "nan_count": 0,
          "min": "4.0",
          "max": "1125.0",
          "histogram": [
           {
            "bin_start": 4,
            "bin_end": 116.1,
            "count": 2
           },
           {
            "bin_start": 116.1,
            "bin_end": 228.2,
            "count": 0
           },
           {
            "bin_start": 228.2,
            "bin_end": 340.29999999999995,
            "count": 0
           },
           {
            "bin_start": 340.29999999999995,
            "bin_end": 452.4,
            "count": 0
           },
           {
            "bin_start": 452.4,
            "bin_end": 564.5,
            "count": 0
           },
           {
            "bin_start": 564.5,
            "bin_end": 676.5999999999999,
            "count": 0
           },
           {
            "bin_start": 676.5999999999999,
            "bin_end": 788.6999999999999,
            "count": 0
           },
           {
            "bin_start": 788.6999999999999,
            "bin_end": 900.8,
            "count": 0
           },
           {
            "bin_start": 900.8,
            "bin_end": 1012.9,
            "count": 0
           },
           {
            "bin_start": 1012.9,
            "bin_end": 1125,
            "count": 2
           }
          ]
         }
        },
        {
         "name": "calendar_updated",
         "dtype": "float64",
         "stats": {
          "unique_count": 0,
          "nan_count": 4,
          "min": null,
          "max": null,
          "histogram": [
           {
            "bin_start": 0,
            "bin_end": 0.1,
            "count": 0
           },
           {
            "bin_start": 0.1,
            "bin_end": 0.2,
            "count": 0
           },
           {
            "bin_start": 0.2,
            "bin_end": 0.30000000000000004,
            "count": 0
           },
           {
            "bin_start": 0.30000000000000004,
            "bin_end": 0.4,
            "count": 0
           },
           {
            "bin_start": 0.4,
            "bin_end": 0.5,
            "count": 0
           },
           {
            "bin_start": 0.5,
            "bin_end": 0.6000000000000001,
            "count": 0
           },
           {
            "bin_start": 0.6000000000000001,
            "bin_end": 0.7000000000000001,
            "count": 0
           },
           {
            "bin_start": 0.7000000000000001,
            "bin_end": 0.8,
            "count": 0
           },
           {
            "bin_start": 0.8,
            "bin_end": 0.9,
            "count": 0
           },
           {
            "bin_start": 0.9,
            "bin_end": 1,
            "count": 0
           }
          ]
         }
        },
        {
         "name": "has_availability",
         "dtype": "object",
         "stats": {
          "unique_count": 2,
          "nan_count": 0,
          "categories": [
           {
            "name": "t",
            "count": 2
           },
           {
            "name": "f",
            "count": 2
           }
          ]
         }
        },
        {
         "name": "availability_30",
         "dtype": "int64",
         "stats": {
          "unique_count": 2,
          "nan_count": 0,
          "min": "0",
          "max": "30",
          "histogram": [
           {
            "bin_start": 0,
            "bin_end": 3,
            "count": 3
           },
           {
            "bin_start": 3,
            "bin_end": 6,
            "count": 0
           },
           {
            "bin_start": 6,
            "bin_end": 9,
            "count": 0
           },
           {
            "bin_start": 9,
            "bin_end": 12,
            "count": 0
           },
           {
            "bin_start": 12,
            "bin_end": 15,
            "count": 0
           },
           {
            "bin_start": 15,
            "bin_end": 18,
            "count": 0
           },
           {
            "bin_start": 18,
            "bin_end": 21,
            "count": 0
           },
           {
            "bin_start": 21,
            "bin_end": 24,
            "count": 0
           },
           {
            "bin_start": 24,
            "bin_end": 27,
            "count": 0
           },
           {
            "bin_start": 27,
            "bin_end": 30,
            "count": 1
           }
          ]
         }
        },
        {
         "name": "availability_60",
         "dtype": "int64",
         "stats": {
          "unique_count": 2,
          "nan_count": 0,
          "min": "0",
          "max": "60",
          "histogram": [
           {
            "bin_start": 0,
            "bin_end": 6,
            "count": 3
           },
           {
            "bin_start": 6,
            "bin_end": 12,
            "count": 0
           },
           {
            "bin_start": 12,
            "bin_end": 18,
            "count": 0
           },
           {
            "bin_start": 18,
            "bin_end": 24,
            "count": 0
           },
           {
            "bin_start": 24,
            "bin_end": 30,
            "count": 0
           },
           {
            "bin_start": 30,
            "bin_end": 36,
            "count": 0
           },
           {
            "bin_start": 36,
            "bin_end": 42,
            "count": 0
           },
           {
            "bin_start": 42,
            "bin_end": 48,
            "count": 0
           },
           {
            "bin_start": 48,
            "bin_end": 54,
            "count": 0
           },
           {
            "bin_start": 54,
            "bin_end": 60,
            "count": 1
           }
          ]
         }
        },
        {
         "name": "availability_90",
         "dtype": "int64",
         "stats": {
          "unique_count": 2,
          "nan_count": 0,
          "min": "0",
          "max": "90",
          "histogram": [
           {
            "bin_start": 0,
            "bin_end": 9,
            "count": 3
           },
           {
            "bin_start": 9,
            "bin_end": 18,
            "count": 0
           },
           {
            "bin_start": 18,
            "bin_end": 27,
            "count": 0
           },
           {
            "bin_start": 27,
            "bin_end": 36,
            "count": 0
           },
           {
            "bin_start": 36,
            "bin_end": 45,
            "count": 0
           },
           {
            "bin_start": 45,
            "bin_end": 54,
            "count": 0
           },
           {
            "bin_start": 54,
            "bin_end": 63,
            "count": 0
           },
           {
            "bin_start": 63,
            "bin_end": 72,
            "count": 0
           },
           {
            "bin_start": 72,
            "bin_end": 81,
            "count": 0
           },
           {
            "bin_start": 81,
            "bin_end": 90,
            "count": 1
           }
          ]
         }
        },
        {
         "name": "availability_365",
         "dtype": "int64",
         "stats": {
          "unique_count": 2,
          "nan_count": 0,
          "min": "0",
          "max": "365",
          "histogram": [
           {
            "bin_start": 0,
            "bin_end": 36.5,
            "count": 3
           },
           {
            "bin_start": 36.5,
            "bin_end": 73,
            "count": 0
           },
           {
            "bin_start": 73,
            "bin_end": 109.5,
            "count": 0
           },
           {
            "bin_start": 109.5,
            "bin_end": 146,
            "count": 0
           },
           {
            "bin_start": 146,
            "bin_end": 182.5,
            "count": 0
           },
           {
            "bin_start": 182.5,
            "bin_end": 219,
            "count": 0
           },
           {
            "bin_start": 219,
            "bin_end": 255.5,
            "count": 0
           },
           {
            "bin_start": 255.5,
            "bin_end": 292,
            "count": 0
           },
           {
            "bin_start": 292,
            "bin_end": 328.5,
            "count": 0
           },
           {
            "bin_start": 328.5,
            "bin_end": 365,
            "count": 1
           }
          ]
         }
        },
        {
         "name": "calendar_last_scraped",
         "dtype": "object",
         "stats": {
          "unique_count": 2,
          "nan_count": 0,
          "categories": [
           {
            "name": "2021-04-10",
            "count": 3
           },
           {
            "name": "2021-04-11",
            "count": 1
           }
          ]
         }
        },
        {
         "name": "number_of_reviews",
         "dtype": "int64",
         "stats": {
          "unique_count": 4,
          "nan_count": 0,
          "min": "0",
          "max": "23",
          "histogram": [
           {
            "bin_start": 0,
            "bin_end": 2.3,
            "count": 2
           },
           {
            "bin_start": 2.3,
            "bin_end": 4.6,
            "count": 0
           },
           {
            "bin_start": 4.6,
            "bin_end": 6.8999999999999995,
            "count": 0
           },
           {
            "bin_start": 6.8999999999999995,
            "bin_end": 9.2,
            "count": 1
           },
           {
            "bin_start": 9.2,
            "bin_end": 11.5,
            "count": 0
           },
           {
            "bin_start": 11.5,
            "bin_end": 13.799999999999999,
            "count": 0
           },
           {
            "bin_start": 13.799999999999999,
            "bin_end": 16.099999999999998,
            "count": 0
           },
           {
            "bin_start": 16.099999999999998,
            "bin_end": 18.4,
            "count": 0
           },
           {
            "bin_start": 18.4,
            "bin_end": 20.7,
            "count": 0
           },
           {
            "bin_start": 20.7,
            "bin_end": 23,
            "count": 1
           }
          ]
         }
        },
        {
         "name": "number_of_reviews_ltm",
         "dtype": "int64",
         "stats": {
          "unique_count": 1,
          "nan_count": 0,
          "min": "0",
          "max": "0",
          "histogram": [
           {
            "bin_start": -0.5,
            "bin_end": -0.4,
            "count": 0
           },
           {
            "bin_start": -0.4,
            "bin_end": -0.3,
            "count": 0
           },
           {
            "bin_start": -0.3,
            "bin_end": -0.19999999999999996,
            "count": 0
           },
           {
            "bin_start": -0.19999999999999996,
            "bin_end": -0.09999999999999998,
            "count": 0
           },
           {
            "bin_start": -0.09999999999999998,
            "bin_end": 0,
            "count": 0
           },
           {
            "bin_start": 0,
            "bin_end": 0.10000000000000009,
            "count": 4
           },
           {
            "bin_start": 0.10000000000000009,
            "bin_end": 0.20000000000000007,
            "count": 0
           },
           {
            "bin_start": 0.20000000000000007,
            "bin_end": 0.30000000000000004,
            "count": 0
           },
           {
            "bin_start": 0.30000000000000004,
            "bin_end": 0.4,
            "count": 0
           },
           {
            "bin_start": 0.4,
            "bin_end": 0.5,
            "count": 0
           }
          ]
         }
        },
        {
         "name": "number_of_reviews_l30d",
         "dtype": "int64",
         "stats": {
          "unique_count": 1,
          "nan_count": 0,
          "min": "0",
          "max": "0",
          "histogram": [
           {
            "bin_start": -0.5,
            "bin_end": -0.4,
            "count": 0
           },
           {
            "bin_start": -0.4,
            "bin_end": -0.3,
            "count": 0
           },
           {
            "bin_start": -0.3,
            "bin_end": -0.19999999999999996,
            "count": 0
           },
           {
            "bin_start": -0.19999999999999996,
            "bin_end": -0.09999999999999998,
            "count": 0
           },
           {
            "bin_start": -0.09999999999999998,
            "bin_end": 0,
            "count": 0
           },
           {
            "bin_start": 0,
            "bin_end": 0.10000000000000009,
            "count": 4
           },
           {
            "bin_start": 0.10000000000000009,
            "bin_end": 0.20000000000000007,
            "count": 0
           },
           {
            "bin_start": 0.20000000000000007,
            "bin_end": 0.30000000000000004,
            "count": 0
           },
           {
            "bin_start": 0.30000000000000004,
            "bin_end": 0.4,
            "count": 0
           },
           {
            "bin_start": 0.4,
            "bin_end": 0.5,
            "count": 0
           }
          ]
         }
        },
        {
         "name": "first_review",
         "dtype": "object",
         "stats": {
          "unique_count": 3,
          "nan_count": 1,
          "categories": [
           {
            "name": "2012-05-21",
            "count": 1
           },
           {
            "name": "2 others",
            "count": 2
           },
           {
            "name": "Missing",
            "count": 1
           }
          ]
         }
        },
        {
         "name": "last_review",
         "dtype": "object",
         "stats": {
          "unique_count": 3,
          "nan_count": 1,
          "categories": [
           {
            "name": "2013-10-22",
            "count": 1
           },
           {
            "name": "2 others",
            "count": 2
           },
           {
            "name": "Missing",
            "count": 1
           }
          ]
         }
        },
        {
         "name": "review_scores_rating",
         "dtype": "float64",
         "stats": {
          "unique_count": 2,
          "nan_count": 2,
          "min": "72.0",
          "max": "88.0",
          "histogram": [
           {
            "bin_start": 72,
            "bin_end": 73.6,
            "count": 1
           },
           {
            "bin_start": 73.6,
            "bin_end": 75.2,
            "count": 0
           },
           {
            "bin_start": 75.2,
            "bin_end": 76.8,
            "count": 0
           },
           {
            "bin_start": 76.8,
            "bin_end": 78.4,
            "count": 0
           },
           {
            "bin_start": 78.4,
            "bin_end": 80,
            "count": 0
           },
           {
            "bin_start": 80,
            "bin_end": 81.6,
            "count": 0
           },
           {
            "bin_start": 81.6,
            "bin_end": 83.2,
            "count": 0
           },
           {
            "bin_start": 83.2,
            "bin_end": 84.8,
            "count": 0
           },
           {
            "bin_start": 84.8,
            "bin_end": 86.4,
            "count": 0
           },
           {
            "bin_start": 86.4,
            "bin_end": 88,
            "count": 1
           }
          ]
         }
        },
        {
         "name": "review_scores_accuracy",
         "dtype": "float64",
         "stats": {
          "unique_count": 2,
          "nan_count": 2,
          "min": "8.0",
          "max": "9.0",
          "histogram": [
           {
            "bin_start": 8,
            "bin_end": 8.1,
            "count": 1
           },
           {
            "bin_start": 8.1,
            "bin_end": 8.2,
            "count": 0
           },
           {
            "bin_start": 8.2,
            "bin_end": 8.3,
            "count": 0
           },
           {
            "bin_start": 8.3,
            "bin_end": 8.4,
            "count": 0
           },
           {
            "bin_start": 8.4,
            "bin_end": 8.5,
            "count": 0
           },
           {
            "bin_start": 8.5,
            "bin_end": 8.6,
            "count": 0
           },
           {
            "bin_start": 8.6,
            "bin_end": 8.7,
            "count": 0
           },
           {
            "bin_start": 8.7,
            "bin_end": 8.8,
            "count": 0
           },
           {
            "bin_start": 8.8,
            "bin_end": 8.9,
            "count": 0
           },
           {
            "bin_start": 8.9,
            "bin_end": 9,
            "count": 1
           }
          ]
         }
        },
        {
         "name": "review_scores_cleanliness",
         "dtype": "float64",
         "stats": {
          "unique_count": 2,
          "nan_count": 2,
          "min": "6.0",
          "max": "9.0",
          "histogram": [
           {
            "bin_start": 6,
            "bin_end": 6.3,
            "count": 1
           },
           {
            "bin_start": 6.3,
            "bin_end": 6.6,
            "count": 0
           },
           {
            "bin_start": 6.6,
            "bin_end": 6.9,
            "count": 0
           },
           {
            "bin_start": 6.9,
            "bin_end": 7.2,
            "count": 0
           },
           {
            "bin_start": 7.2,
            "bin_end": 7.5,
            "count": 0
           },
           {
            "bin_start": 7.5,
            "bin_end": 7.8,
            "count": 0
           },
           {
            "bin_start": 7.8,
            "bin_end": 8.1,
            "count": 0
           },
           {
            "bin_start": 8.1,
            "bin_end": 8.4,
            "count": 0
           },
           {
            "bin_start": 8.4,
            "bin_end": 8.7,
            "count": 0
           },
           {
            "bin_start": 8.7,
            "bin_end": 9,
            "count": 1
           }
          ]
         }
        },
        {
         "name": "review_scores_checkin",
         "dtype": "float64",
         "stats": {
          "unique_count": 1,
          "nan_count": 2,
          "min": "9.0",
          "max": "9.0",
          "histogram": [
           {
            "bin_start": 8.5,
            "bin_end": 8.6,
            "count": 0
           },
           {
            "bin_start": 8.6,
            "bin_end": 8.7,
            "count": 0
           },
           {
            "bin_start": 8.7,
            "bin_end": 8.8,
            "count": 0
           },
           {
            "bin_start": 8.8,
            "bin_end": 8.9,
            "count": 0
           },
           {
            "bin_start": 8.9,
            "bin_end": 9,
            "count": 0
           },
           {
            "bin_start": 9,
            "bin_end": 9.1,
            "count": 2
           },
           {
            "bin_start": 9.1,
            "bin_end": 9.2,
            "count": 0
           },
           {
            "bin_start": 9.2,
            "bin_end": 9.3,
            "count": 0
           },
           {
            "bin_start": 9.3,
            "bin_end": 9.4,
            "count": 0
           },
           {
            "bin_start": 9.4,
            "bin_end": 9.5,
            "count": 0
           }
          ]
         }
        },
        {
         "name": "review_scores_communication",
         "dtype": "float64",
         "stats": {
          "unique_count": 2,
          "nan_count": 2,
          "min": "9.0",
          "max": "10.0",
          "histogram": [
           {
            "bin_start": 9,
            "bin_end": 9.1,
            "count": 1
           },
           {
            "bin_start": 9.1,
            "bin_end": 9.2,
            "count": 0
           },
           {
            "bin_start": 9.2,
            "bin_end": 9.3,
            "count": 0
           },
           {
            "bin_start": 9.3,
            "bin_end": 9.4,
            "count": 0
           },
           {
            "bin_start": 9.4,
            "bin_end": 9.5,
            "count": 0
           },
           {
            "bin_start": 9.5,
            "bin_end": 9.6,
            "count": 0
           },
           {
            "bin_start": 9.6,
            "bin_end": 9.7,
            "count": 0
           },
           {
            "bin_start": 9.7,
            "bin_end": 9.8,
            "count": 0
           },
           {
            "bin_start": 9.8,
            "bin_end": 9.9,
            "count": 0
           },
           {
            "bin_start": 9.9,
            "bin_end": 10,
            "count": 1
           }
          ]
         }
        },
        {
         "name": "review_scores_location",
         "dtype": "float64",
         "stats": {
          "unique_count": 1,
          "nan_count": 2,
          "min": "9.0",
          "max": "9.0",
          "histogram": [
           {
            "bin_start": 8.5,
            "bin_end": 8.6,
            "count": 0
           },
           {
            "bin_start": 8.6,
            "bin_end": 8.7,
            "count": 0
           },
           {
            "bin_start": 8.7,
            "bin_end": 8.8,
            "count": 0
           },
           {
            "bin_start": 8.8,
            "bin_end": 8.9,
            "count": 0
           },
           {
            "bin_start": 8.9,
            "bin_end": 9,
            "count": 0
           },
           {
            "bin_start": 9,
            "bin_end": 9.1,
            "count": 2
           },
           {
            "bin_start": 9.1,
            "bin_end": 9.2,
            "count": 0
           },
           {
            "bin_start": 9.2,
            "bin_end": 9.3,
            "count": 0
           },
           {
            "bin_start": 9.3,
            "bin_end": 9.4,
            "count": 0
           },
           {
            "bin_start": 9.4,
            "bin_end": 9.5,
            "count": 0
           }
          ]
         }
        },
        {
         "name": "review_scores_value",
         "dtype": "float64",
         "stats": {
          "unique_count": 2,
          "nan_count": 2,
          "min": "8.0",
          "max": "9.0",
          "histogram": [
           {
            "bin_start": 8,
            "bin_end": 8.1,
            "count": 1
           },
           {
            "bin_start": 8.1,
            "bin_end": 8.2,
            "count": 0
           },
           {
            "bin_start": 8.2,
            "bin_end": 8.3,
            "count": 0
           },
           {
            "bin_start": 8.3,
            "bin_end": 8.4,
            "count": 0
           },
           {
            "bin_start": 8.4,
            "bin_end": 8.5,
            "count": 0
           },
           {
            "bin_start": 8.5,
            "bin_end": 8.6,
            "count": 0
           },
           {
            "bin_start": 8.6,
            "bin_end": 8.7,
            "count": 0
           },
           {
            "bin_start": 8.7,
            "bin_end": 8.8,
            "count": 0
           },
           {
            "bin_start": 8.8,
            "bin_end": 8.9,
            "count": 0
           },
           {
            "bin_start": 8.9,
            "bin_end": 9,
            "count": 1
           }
          ]
         }
        },
        {
         "name": "license",
         "dtype": "object",
         "stats": {
          "unique_count": 0,
          "nan_count": 4,
          "categories": [
           {
            "name": "Missing",
            "count": 4
           }
          ]
         }
        },
        {
         "name": "instant_bookable",
         "dtype": "object",
         "stats": {
          "unique_count": 2,
          "nan_count": 0,
          "categories": [
           {
            "name": "f",
            "count": 3
           },
           {
            "name": "t",
            "count": 1
           }
          ]
         }
        },
        {
         "name": "calculated_host_listings_count",
         "dtype": "int64",
         "stats": {
          "unique_count": 1,
          "nan_count": 0,
          "min": "1",
          "max": "1",
          "histogram": [
           {
            "bin_start": 0.5,
            "bin_end": 0.6,
            "count": 0
           },
           {
            "bin_start": 0.6,
            "bin_end": 0.7,
            "count": 0
           },
           {
            "bin_start": 0.7,
            "bin_end": 0.8,
            "count": 0
           },
           {
            "bin_start": 0.8,
            "bin_end": 0.9,
            "count": 0
           },
           {
            "bin_start": 0.9,
            "bin_end": 1,
            "count": 0
           },
           {
            "bin_start": 1,
            "bin_end": 1.1,
            "count": 4
           },
           {
            "bin_start": 1.1,
            "bin_end": 1.2000000000000002,
            "count": 0
           },
           {
            "bin_start": 1.2000000000000002,
            "bin_end": 1.3,
            "count": 0
           },
           {
            "bin_start": 1.3,
            "bin_end": 1.4,
            "count": 0
           },
           {
            "bin_start": 1.4,
            "bin_end": 1.5,
            "count": 0
           }
          ]
         }
        },
        {
         "name": "calculated_host_listings_count_entire_homes",
         "dtype": "int64",
         "stats": {
          "unique_count": 2,
          "nan_count": 0,
          "min": "0",
          "max": "1",
          "histogram": [
           {
            "bin_start": 0,
            "bin_end": 0.1,
            "count": 1
           },
           {
            "bin_start": 0.1,
            "bin_end": 0.2,
            "count": 0
           },
           {
            "bin_start": 0.2,
            "bin_end": 0.30000000000000004,
            "count": 0
           },
           {
            "bin_start": 0.30000000000000004,
            "bin_end": 0.4,
            "count": 0
           },
           {
            "bin_start": 0.4,
            "bin_end": 0.5,
            "count": 0
           },
           {
            "bin_start": 0.5,
            "bin_end": 0.6000000000000001,
            "count": 0
           },
           {
            "bin_start": 0.6000000000000001,
            "bin_end": 0.7000000000000001,
            "count": 0
           },
           {
            "bin_start": 0.7000000000000001,
            "bin_end": 0.8,
            "count": 0
           },
           {
            "bin_start": 0.8,
            "bin_end": 0.9,
            "count": 0
           },
           {
            "bin_start": 0.9,
            "bin_end": 1,
            "count": 3
           }
          ]
         }
        },
        {
         "name": "calculated_host_listings_count_private_rooms",
         "dtype": "int64",
         "stats": {
          "unique_count": 2,
          "nan_count": 0,
          "min": "0",
          "max": "1",
          "histogram": [
           {
            "bin_start": 0,
            "bin_end": 0.1,
            "count": 3
           },
           {
            "bin_start": 0.1,
            "bin_end": 0.2,
            "count": 0
           },
           {
            "bin_start": 0.2,
            "bin_end": 0.30000000000000004,
            "count": 0
           },
           {
            "bin_start": 0.30000000000000004,
            "bin_end": 0.4,
            "count": 0
           },
           {
            "bin_start": 0.4,
            "bin_end": 0.5,
            "count": 0
           },
           {
            "bin_start": 0.5,
            "bin_end": 0.6000000000000001,
            "count": 0
           },
           {
            "bin_start": 0.6000000000000001,
            "bin_end": 0.7000000000000001,
            "count": 0
           },
           {
            "bin_start": 0.7000000000000001,
            "bin_end": 0.8,
            "count": 0
           },
           {
            "bin_start": 0.8,
            "bin_end": 0.9,
            "count": 0
           },
           {
            "bin_start": 0.9,
            "bin_end": 1,
            "count": 1
           }
          ]
         }
        },
        {
         "name": "calculated_host_listings_count_shared_rooms",
         "dtype": "int64",
         "stats": {
          "unique_count": 1,
          "nan_count": 0,
          "min": "0",
          "max": "0",
          "histogram": [
           {
            "bin_start": -0.5,
            "bin_end": -0.4,
            "count": 0
           },
           {
            "bin_start": -0.4,
            "bin_end": -0.3,
            "count": 0
           },
           {
            "bin_start": -0.3,
            "bin_end": -0.19999999999999996,
            "count": 0
           },
           {
            "bin_start": -0.19999999999999996,
            "bin_end": -0.09999999999999998,
            "count": 0
           },
           {
            "bin_start": -0.09999999999999998,
            "bin_end": 0,
            "count": 0
           },
           {
            "bin_start": 0,
            "bin_end": 0.10000000000000009,
            "count": 4
           },
           {
            "bin_start": 0.10000000000000009,
            "bin_end": 0.20000000000000007,
            "count": 0
           },
           {
            "bin_start": 0.20000000000000007,
            "bin_end": 0.30000000000000004,
            "count": 0
           },
           {
            "bin_start": 0.30000000000000004,
            "bin_end": 0.4,
            "count": 0
           },
           {
            "bin_start": 0.4,
            "bin_end": 0.5,
            "count": 0
           }
          ]
         }
        },
        {
         "name": "reviews_per_month",
         "dtype": "float64",
         "stats": {
          "unique_count": 3,
          "nan_count": 1,
          "min": "0.02",
          "max": "0.36",
          "histogram": [
           {
            "bin_start": 0.02,
            "bin_end": 0.05399999999999999,
            "count": 1
           },
           {
            "bin_start": 0.05399999999999999,
            "bin_end": 0.088,
            "count": 1
           },
           {
            "bin_start": 0.088,
            "bin_end": 0.12199999999999998,
            "count": 0
           },
           {
            "bin_start": 0.12199999999999998,
            "bin_end": 0.15599999999999997,
            "count": 0
           },
           {
            "bin_start": 0.15599999999999997,
            "bin_end": 0.18999999999999997,
            "count": 0
           },
           {
            "bin_start": 0.18999999999999997,
            "bin_end": 0.22399999999999995,
            "count": 0
           },
           {
            "bin_start": 0.22399999999999995,
            "bin_end": 0.25799999999999995,
            "count": 0
           },
           {
            "bin_start": 0.25799999999999995,
            "bin_end": 0.292,
            "count": 0
           },
           {
            "bin_start": 0.292,
            "bin_end": 0.32599999999999996,
            "count": 0
           },
           {
            "bin_start": 0.32599999999999996,
            "bin_end": 0.36,
            "count": 1
           }
          ]
         }
        },
        {
         "name": "_deepnote_index_column",
         "dtype": "int64"
        }
       ],
       "rows_top": [
        {
         "id": 258273,
         "listing_url": "https://www.airbnb.com/rooms/258273",
         "scrape_id": 20210409161549,
         "last_scraped": "2021-04-11",
         "name": "Great CENTRAL apartment De Pijp",
         "description": "<b>The space</b><br />This is a lovely comfortable three room first floor light filled apartment with everything you need, perfect for a couple or two friends. Two extra people could also sleep on the fold out sofa bed.  It has facilities such as wireless internet, TV, an equipped kitchen, a dining table for four people. Everything else is right around the corner as the apartment is located in the heart of “De Pijp”, one of the coziest and funkiest neighborhoods of Amsterdam.  <br /> <br />De Pijp is well known for its lively streets, small shops, intimate restaurants, cozy cafes, many terraces and authentic Amsterdam charm. It is the place that Amsterdamer’s love to go out and catch a drink or just grab a bite to eat. This apartment is ideally located just around the corner from bars and restaurants.  <br /> <br />The apartment is located in walking distance of the popular attractions; Rijks Museum, Van Gogh Museum, Vondel Park, Sarphati park, Leidse Square (bar/café/club scene) and t",
         "neighborhood_overview": "nan",
         "picture_url": "https://a0.muscache.com/pictures/9895329/f0f226e3_original.jpg",
         "host_id": 1358307,
         "host_url": "https://www.airbnb.com/users/show/1358307",
         "host_name": "Peter",
         "host_since": "2011-11-01",
         "host_location": "Amsterdam, Noord-Holland, The Netherlands",
         "host_about": "Hello I'm Peter, I look forward to hearing from you if you'd like to stay in the heart of “De Pijp”, one of the coziest and funkiest neighborhoods of Amsterdam.",
         "host_response_time": "nan",
         "host_response_rate": "nan",
         "host_acceptance_rate": "nan",
         "host_is_superhost": "f",
         "host_thumbnail_url": "https://a0.muscache.com/im/users/1358307/profile_pic/1330950710/original.jpg?aki_policy=profile_small",
         "host_picture_url": "https://a0.muscache.com/im/users/1358307/profile_pic/1330950710/original.jpg?aki_policy=profile_x_medium",
         "host_neighbourhood": "De Pijp",
         "host_listings_count": 1,
         "host_total_listings_count": 1,
         "host_verifications": "['email', 'phone', 'reviews', 'jumio']",
         "host_has_profile_pic": "t",
         "host_identity_verified": "f",
         "neighbourhood": "nan",
         "neighbourhood_cleansed": "De Pijp - Rivierenbuurt",
         "neighbourhood_group_cleansed": "nan",
         "latitude": 52.35401,
         "longitude": 4.8918,
         "property_type": "Entire apartment",
         "room_type": "Entire home/apt",
         "accommodates": 4,
         "bathrooms": "nan",
         "bathrooms_text": "1 bath",
         "bedrooms": 1,
         "beds": 1,
         "amenities": "[\"TV\", \"Long term stays allowed\", \"Wifi\", \"Heating\", \"Cable TV\", \"Dryer\", \"Kitchen\", \"Washer\"]",
         "price": 8000,
         "minimum_nights": 30,
         "maximum_nights": 30,
         "minimum_minimum_nights": 30,
         "maximum_minimum_nights": 30,
         "minimum_maximum_nights": 30,
         "maximum_maximum_nights": 30,
         "minimum_nights_avg_ntm": 30,
         "maximum_nights_avg_ntm": 30,
         "calendar_updated": "nan",
         "has_availability": "t",
         "availability_30": 30,
         "availability_60": 60,
         "availability_90": 90,
         "availability_365": 365,
         "calendar_last_scraped": "2021-04-11",
         "number_of_reviews": 8,
         "number_of_reviews_ltm": 0,
         "number_of_reviews_l30d": 0,
         "first_review": "2012-05-21",
         "last_review": "2013-10-22",
         "review_scores_rating": "72.0",
         "review_scores_accuracy": "8.0",
         "review_scores_cleanliness": "6.0",
         "review_scores_checkin": "9.0",
         "review_scores_communication": "9.0",
         "review_scores_location": "9.0",
         "review_scores_value": "8.0",
         "license": "nan",
         "instant_bookable": "f",
         "calculated_host_listings_count": 1,
         "calculated_host_listings_count_entire_homes": 1,
         "calculated_host_listings_count_private_rooms": 0,
         "calculated_host_listings_count_shared_rooms": 0,
         "reviews_per_month": "0.07",
         "_deepnote_index_column": 83
        },
        {
         "id": 9818537,
         "listing_url": "https://www.airbnb.com/rooms/9818537",
         "scrape_id": 20210409161549,
         "last_scraped": "2021-04-10",
         "name": "Nice&Lovely Apartment in Amsterdam",
         "description": "<b>The space</b><br />This apartment of 60m² has been completely refurbished a few years ago. Inside it is very modern, but on the outside it still resembles the old style houses that Amsterdam is known for.<br />The apartment is located in a quiet and safe area.<br /> In this area you will also find by walking distance several trendy bars.<br /><br /><b>Guest access</b><br />You have access to the whole apartment including the two balconies (except a  small study which is locked and we normally use as storage).<br /><br />The kitchen is fully equipped<br /><br />Free WiFi<br /><br />Towels & fresh bed linens are provided<br /><br /><b>Other things to note</b><br />http://inamsterdamoost.metmik.nl/nieuws<br /><br />take a  look to this link for events of this area of Amsterdam",
         "neighborhood_overview": "Our apartment is located in Amsterdam Oost, one of the city's most evolving neighborhoods. Every few weeks a new restaurant, bar, shop or club is opening. The closest supermarket is 3 min walking. The closest organic supermarket is just a bit further away (5 min walking). Close by there is a number of bars, restaurants, shops and a coffee shop. There are two beautiful parks close by (1-5 min walking). As soon as it is warm enough people will spend their free time outside relaxing in the sun. But the parks also offer the perfect opportunity to go for a run or walk for who doesn't want to miss his exercise during the holidays.",
         "picture_url": "https://a0.muscache.com/pictures/2002c2cd-9c3c-4f8e-a18c-422f73f0c4b5.jpg",
         "host_id": 40135760,
         "host_url": "https://www.airbnb.com/users/show/40135760",
         "host_name": "Paolo",
         "host_since": "2015-07-31",
         "host_location": "Amsterdam, North Holland, Netherlands",
         "host_about": "I love to travel and get to know  new people and new cultures. Sometimes I also  like to discover new places by myself and  I don't mind to get lost , especially in some beautiful locations. I couldn'' t live without music,beaches,sun,love,friends.\r\n\r\n",
         "host_response_time": "nan",
         "host_response_rate": "nan",
         "host_acceptance_rate": "nan",
         "host_is_superhost": "f",
         "host_thumbnail_url": "https://a0.muscache.com/im/pictures/user/51c20870-0ad7-4393-8cd2-ebfd4bf9c614.jpg?aki_policy=profile_small",
         "host_picture_url": "https://a0.muscache.com/im/pictures/user/51c20870-0ad7-4393-8cd2-ebfd4bf9c614.jpg?aki_policy=profile_x_medium",
         "host_neighbourhood": "Oosterparkbuurt",
         "host_listings_count": 1,
         "host_total_listings_count": 1,
         "host_verifications": "['email', 'phone', 'reviews', 'jumio', 'government_id']",
         "host_has_profile_pic": "t",
         "host_identity_verified": "t",
         "neighbourhood": "Amsterdam, Noord-Holland, Netherlands",
         "neighbourhood_cleansed": "Oud-Oost",
         "neighbourhood_group_cleansed": "nan",
         "latitude": 52.35752,
         "longitude": 4.92268,
         "property_type": "Entire apartment",
         "room_type": "Entire home/apt",
         "accommodates": 3,
         "bathrooms": "nan",
         "bathrooms_text": "1.5 baths",
         "bedrooms": 1,
         "beds": 2,
         "amenities": "[\"Essentials\", \"Long term stays allowed\", \"Wifi\", \"Heating\", \"Hot tub\", \"Smoke alarm\", \"Kitchen\", \"Washer\"]",
         "price": 7999,
         "minimum_nights": 3,
         "maximum_nights": 1124,
         "minimum_minimum_nights": 3,
         "maximum_minimum_nights": 3,
         "minimum_maximum_nights": 1124,
         "maximum_maximum_nights": 1124,
         "minimum_nights_avg_ntm": 3,
         "maximum_nights_avg_ntm": 1124,
         "calendar_updated": "nan",
         "has_availability": "t",
         "availability_30": 0,
         "availability_60": 0,
         "availability_90": 0,
         "availability_365": 0,
         "calendar_last_scraped": "2021-04-10",
         "number_of_reviews": 23,
         "number_of_reviews_ltm": 0,
         "number_of_reviews_l30d": 0,
         "first_review": "2015-12-31",
         "last_review": "2018-11-04",
         "review_scores_rating": "88.0",
         "review_scores_accuracy": "9.0",
         "review_scores_cleanliness": "9.0",
         "review_scores_checkin": "9.0",
         "review_scores_communication": "10.0",
         "review_scores_location": "9.0",
         "review_scores_value": "9.0",
         "license": "nan",
         "instant_bookable": "t",
         "calculated_host_listings_count": 1,
         "calculated_host_listings_count_entire_homes": 1,
         "calculated_host_listings_count_private_rooms": 0,
         "calculated_host_listings_count_shared_rooms": 0,
         "reviews_per_month": "0.36",
         "_deepnote_index_column": 4271
        },
        {
         "id": 19686192,
         "listing_url": "https://www.airbnb.com/rooms/19686192",
         "scrape_id": 20210409161549,
         "last_scraped": "2021-04-10",
         "name": "diervriendelijk appartementje aan rand Amsterdam",
         "description": "maisonette op 3e woonlaag<br />woonkamer incl  kitchenette  28 m2<br />ruim balkon, 1,5 x5 op het zuiden vanuit woonkamer <br />slaapkamer met 2 persoonsbed 15 m2 <br />Ruime douche met toilet<br />2 e toilet op woonverdieping<br /><br /><b>The space</b><br />Strand IJburg 50 meter. <br />Om de hoek van  de haven met talloze restaurantjes en terrassen.<br />Tegenover de boot naar Muiden en Pampus.<br />Tram 26 rijdt elke 56 minuten en brengt je in 20 minuten naar het centrum.<br />er is een lift maar boven moet je wel nog een meter of 50 open tot het appartement<br /><br /><b>Guest access</b><br />slaapkamer, woonkamer, douche, toilet",
         "neighborhood_overview": "Ijburg is een  nieuwe wijk gebouwd in/op het water van het vroegere ijsselmeer, het si een stedelijke omgeving met volop buitenrecreatiemogelijkheden",
         "picture_url": "https://a0.muscache.com/pictures/7bceb44a-b464-4583-b055-84eaa21c46ab.jpg",
         "host_id": 138283471,
         "host_url": "https://www.airbnb.com/users/show/138283471",
         "host_name": "Marianne",
         "host_since": "2017-07-03",
         "host_location": "NL",
         "host_about": "nan",
         "host_response_time": "nan",
         "host_response_rate": "nan",
         "host_acceptance_rate": "nan",
         "host_is_superhost": "f",
         "host_thumbnail_url": "https://a0.muscache.com/im/pictures/user/6a1da4d6-7fd8-4c84-a4ee-5af089ce8e06.jpg?aki_policy=profile_small",
         "host_picture_url": "https://a0.muscache.com/im/pictures/user/6a1da4d6-7fd8-4c84-a4ee-5af089ce8e06.jpg?aki_policy=profile_x_medium",
         "host_neighbourhood": "Oost",
         "host_listings_count": 1,
         "host_total_listings_count": 1,
         "host_verifications": "['email', 'phone']",
         "host_has_profile_pic": "t",
         "host_identity_verified": "f",
         "neighbourhood": "Amsterdam, Noord-Holland, Netherlands",
         "neighbourhood_cleansed": "IJburg - Zeeburgereiland",
         "neighbourhood_group_cleansed": "nan",
         "latitude": 52.35202,
         "longitude": 5.00454,
         "property_type": "Private room in apartment",
         "room_type": "Private room",
         "accommodates": 2,
         "bathrooms": "nan",
         "bathrooms_text": "1 shared bath",
         "bedrooms": 1,
         "beds": 1,
         "amenities": "[\"First aid kit\", \"Smoke alarm\", \"Lock on bedroom door\", \"Kitchen\", \"Elevator\"]",
         "price": 5000,
         "minimum_nights": 3,
         "maximum_nights": 4,
         "minimum_minimum_nights": 3,
         "maximum_minimum_nights": 3,
         "minimum_maximum_nights": 4,
         "maximum_maximum_nights": 4,
         "minimum_nights_avg_ntm": 3,
         "maximum_nights_avg_ntm": 4,
         "calendar_updated": "nan",
         "has_availability": "f",
         "availability_30": 0,
         "availability_60": 0,
         "availability_90": 0,
         "availability_365": 0,
         "calendar_last_scraped": "2021-04-10",
         "number_of_reviews": 0,
         "number_of_reviews_ltm": 0,
         "number_of_reviews_l30d": 0,
         "first_review": "nan",
         "last_review": "nan",
         "review_scores_rating": "nan",
         "review_scores_accuracy": "nan",
         "review_scores_cleanliness": "nan",
         "review_scores_checkin": "nan",
         "review_scores_communication": "nan",
         "review_scores_location": "nan",
         "review_scores_value": "nan",
         "license": "nan",
         "instant_bookable": "f",
         "calculated_host_listings_count": 1,
         "calculated_host_listings_count_entire_homes": 0,
         "calculated_host_listings_count_private_rooms": 1,
         "calculated_host_listings_count_shared_rooms": 0,
         "reviews_per_month": "nan",
         "_deepnote_index_column": 9206
        },
        {
         "id": 21946106,
         "listing_url": "https://www.airbnb.com/rooms/21946106",
         "scrape_id": 20210409161549,
         "last_scraped": "2021-04-10",
         "name": "Modern appartment with canal view in city center",
         "description": "Our monumental apartment is located at the rim of the very popular “Jordaan” area. Walking along the canals you can still taste the atmosphere of the -Apple market- which was situated at this place until the beginning of the 20th century. <br /><br />The apartment is beautifully presented with lots of light and airy spaces. French doors give access to the balcony which gives a great view overlooking the canals. Eye catchers inside this apartment are the art of Marc LaGrange.",
         "neighborhood_overview": "Right in the middle of the lively city centre<br />At a stone’s throw away you will find the renowned “Negen Straatjes” (9-streets), the heart of the Jordaan- area and the Leidseplein (square), gathering the lively good life of Amsterdam, literally within the reach of your hands. This place offers the perfect balance of excitement and tranquility because of its proximity to theatres, cinemas, numerous of restaurants or to saunter along local high quality shops or boutiques. In terms of transportation (public transport or bicycle) this apartment is very conveniently located to get to all other parts of the city (approx. 5 minutes cycling distance to -Central train Station-). For this typical Amsterdam efficient way of transport a communal bicycle storage facility is available below this apartment. You will find public transport at 50 meters distance from your doorstep (approx. 20 minutes to get to -Schiphol Airport- by bus).",
         "picture_url": "https://a0.muscache.com/pictures/c5b5456e-9e2d-4d1b-98fb-b806ac723522.jpg",
         "host_id": 12583042,
         "host_url": "https://www.airbnb.com/users/show/12583042",
         "host_name": "Jacqueline",
         "host_since": "2014-02-25",
         "host_location": "Amsterdam, North Holland, The Netherlands",
         "host_about": "nan",
         "host_response_time": "nan",
         "host_response_rate": "nan",
         "host_acceptance_rate": "nan",
         "host_is_superhost": "f",
         "host_thumbnail_url": "https://a0.muscache.com/im/users/12583042/profile_pic/1393369730/original.jpg?aki_policy=profile_small",
         "host_picture_url": "https://a0.muscache.com/im/users/12583042/profile_pic/1393369730/original.jpg?aki_policy=profile_x_medium",
         "host_neighbourhood": "nan",
         "host_listings_count": 2,
         "host_total_listings_count": 2,
         "host_verifications": "['email', 'phone', 'facebook', 'reviews']",
         "host_has_profile_pic": "t",
         "host_identity_verified": "f",
         "neighbourhood": "Amsterdam, Noord-Holland, Netherlands",
         "neighbourhood_cleansed": "Centrum-West",
         "neighbourhood_group_cleansed": "nan",
         "latitude": 52.3702,
         "longitude": 4.87759,
         "property_type": "Entire apartment",
         "room_type": "Entire home/apt",
         "accommodates": 2,
         "bathrooms": "nan",
         "bathrooms_text": "1 bath",
         "bedrooms": 2,
         "beds": 1,
         "amenities": "[\"Essentials\", \"TV\", \"Long term stays allowed\", \"Wifi\", \"Cable TV\", \"Dryer\", \"Heating\", \"Smoke alarm\", \"Kitchen\", \"Washer\", \"Carbon monoxide alarm\", \"Hangers\"]",
         "price": 8000,
         "minimum_nights": 2,
         "maximum_nights": 1125,
         "minimum_minimum_nights": 2,
         "maximum_minimum_nights": 2,
         "minimum_maximum_nights": 1125,
         "maximum_maximum_nights": 1125,
         "minimum_nights_avg_ntm": 2,
         "maximum_nights_avg_ntm": 1125,
         "calendar_updated": "nan",
         "has_availability": "f",
         "availability_30": 0,
         "availability_60": 0,
         "availability_90": 0,
         "availability_365": 0,
         "calendar_last_scraped": "2021-04-10",
         "number_of_reviews": 1,
         "number_of_reviews_ltm": 0,
         "number_of_reviews_l30d": 0,
         "first_review": "2017-11-28",
         "last_review": "2017-11-28",
         "review_scores_rating": "nan",
         "review_scores_accuracy": "nan",
         "review_scores_cleanliness": "nan",
         "review_scores_checkin": "nan",
         "review_scores_communication": "nan",
         "review_scores_location": "nan",
         "review_scores_value": "nan",
         "license": "nan",
         "instant_bookable": "f",
         "calculated_host_listings_count": 1,
         "calculated_host_listings_count_entire_homes": 1,
         "calculated_host_listings_count_private_rooms": 0,
         "calculated_host_listings_count_shared_rooms": 0,
         "reviews_per_month": "0.02",
         "_deepnote_index_column": 10459
        }
       ],
       "rows_bottom": null
      },
      "text/plain": "             id                            listing_url       scrape_id  \\\n83       258273    https://www.airbnb.com/rooms/258273  20210409161549   \n4271    9818537   https://www.airbnb.com/rooms/9818537  20210409161549   \n9206   19686192  https://www.airbnb.com/rooms/19686192  20210409161549   \n10459  21946106  https://www.airbnb.com/rooms/21946106  20210409161549   \n\n      last_scraped                                              name  \\\n83      2021-04-11                   Great CENTRAL apartment De Pijp   \n4271    2021-04-10                Nice&Lovely Apartment in Amsterdam   \n9206    2021-04-10  diervriendelijk appartementje aan rand Amsterdam   \n10459   2021-04-10  Modern appartment with canal view in city center   \n\n                                             description  \\\n83     <b>The space</b><br />This is a lovely comfort...   \n4271   <b>The space</b><br />This apartment of 60m² h...   \n9206   maisonette op 3e woonlaag<br />woonkamer incl ...   \n10459  Our monumental apartment is located at the rim...   \n\n                                   neighborhood_overview  \\\n83                                                   NaN   \n4271   Our apartment is located in Amsterdam Oost, on...   \n9206   Ijburg is een  nieuwe wijk gebouwd in/op het w...   \n10459  Right in the middle of the lively city centre<...   \n\n                                             picture_url    host_id  \\\n83     https://a0.muscache.com/pictures/9895329/f0f22...    1358307   \n4271   https://a0.muscache.com/pictures/2002c2cd-9c3c...   40135760   \n9206   https://a0.muscache.com/pictures/7bceb44a-b464...  138283471   \n10459  https://a0.muscache.com/pictures/c5b5456e-9e2d...   12583042   \n\n                                          host_url  ...  \\\n83       https://www.airbnb.com/users/show/1358307  ...   \n4271    https://www.airbnb.com/users/show/40135760  ...   \n9206   https://www.airbnb.com/users/show/138283471  ...   \n10459   https://www.airbnb.com/users/show/12583042  ...   \n\n      review_scores_communication review_scores_location review_scores_value  \\\n83                            9.0                    9.0                 8.0   \n4271                         10.0                    9.0                 9.0   \n9206                          NaN                    NaN                 NaN   \n10459                         NaN                    NaN                 NaN   \n\n      license instant_bookable calculated_host_listings_count  \\\n83        NaN                f                              1   \n4271      NaN                t                              1   \n9206      NaN                f                              1   \n10459     NaN                f                              1   \n\n      calculated_host_listings_count_entire_homes  \\\n83                                              1   \n4271                                            1   \n9206                                            0   \n10459                                           1   \n\n      calculated_host_listings_count_private_rooms  \\\n83                                               0   \n4271                                             0   \n9206                                             1   \n10459                                            0   \n\n      calculated_host_listings_count_shared_rooms reviews_per_month  \n83                                              0              0.07  \n4271                                            0              0.36  \n9206                                            0               NaN  \n10459                                           0              0.02  \n\n[4 rows x 74 columns]",
      "text/html": "<div>\n<style scoped>\n    .dataframe tbody tr th:only-of-type {\n        vertical-align: middle;\n    }\n\n    .dataframe tbody tr th {\n        vertical-align: top;\n    }\n\n    .dataframe thead th {\n        text-align: right;\n    }\n</style>\n<table border=\"1\" class=\"dataframe\">\n  <thead>\n    <tr style=\"text-align: right;\">\n      <th></th>\n      <th>id</th>\n      <th>listing_url</th>\n      <th>scrape_id</th>\n      <th>last_scraped</th>\n      <th>name</th>\n      <th>description</th>\n      <th>neighborhood_overview</th>\n      <th>picture_url</th>\n      <th>host_id</th>\n      <th>host_url</th>\n      <th>...</th>\n      <th>review_scores_communication</th>\n      <th>review_scores_location</th>\n      <th>review_scores_value</th>\n      <th>license</th>\n      <th>instant_bookable</th>\n      <th>calculated_host_listings_count</th>\n      <th>calculated_host_listings_count_entire_homes</th>\n      <th>calculated_host_listings_count_private_rooms</th>\n      <th>calculated_host_listings_count_shared_rooms</th>\n      <th>reviews_per_month</th>\n    </tr>\n  </thead>\n  <tbody>\n    <tr>\n      <th>83</th>\n      <td>258273</td>\n      <td>https://www.airbnb.com/rooms/258273</td>\n      <td>20210409161549</td>\n      <td>2021-04-11</td>\n      <td>Great CENTRAL apartment De Pijp</td>\n      <td>&lt;b&gt;The space&lt;/b&gt;&lt;br /&gt;This is a lovely comfort...</td>\n      <td>NaN</td>\n      <td>https://a0.muscache.com/pictures/9895329/f0f22...</td>\n      <td>1358307</td>\n      <td>https://www.airbnb.com/users/show/1358307</td>\n      <td>...</td>\n      <td>9.0</td>\n      <td>9.0</td>\n      <td>8.0</td>\n      <td>NaN</td>\n      <td>f</td>\n      <td>1</td>\n      <td>1</td>\n      <td>0</td>\n      <td>0</td>\n      <td>0.07</td>\n    </tr>\n    <tr>\n      <th>4271</th>\n      <td>9818537</td>\n      <td>https://www.airbnb.com/rooms/9818537</td>\n      <td>20210409161549</td>\n      <td>2021-04-10</td>\n      <td>Nice&amp;Lovely Apartment in Amsterdam</td>\n      <td>&lt;b&gt;The space&lt;/b&gt;&lt;br /&gt;This apartment of 60m² h...</td>\n      <td>Our apartment is located in Amsterdam Oost, on...</td>\n      <td>https://a0.muscache.com/pictures/2002c2cd-9c3c...</td>\n      <td>40135760</td>\n      <td>https://www.airbnb.com/users/show/40135760</td>\n      <td>...</td>\n      <td>10.0</td>\n      <td>9.0</td>\n      <td>9.0</td>\n      <td>NaN</td>\n      <td>t</td>\n      <td>1</td>\n      <td>1</td>\n      <td>0</td>\n      <td>0</td>\n      <td>0.36</td>\n    </tr>\n    <tr>\n      <th>9206</th>\n      <td>19686192</td>\n      <td>https://www.airbnb.com/rooms/19686192</td>\n      <td>20210409161549</td>\n      <td>2021-04-10</td>\n      <td>diervriendelijk appartementje aan rand Amsterdam</td>\n      <td>maisonette op 3e woonlaag&lt;br /&gt;woonkamer incl ...</td>\n      <td>Ijburg is een  nieuwe wijk gebouwd in/op het w...</td>\n      <td>https://a0.muscache.com/pictures/7bceb44a-b464...</td>\n      <td>138283471</td>\n      <td>https://www.airbnb.com/users/show/138283471</td>\n      <td>...</td>\n      <td>NaN</td>\n      <td>NaN</td>\n      <td>NaN</td>\n      <td>NaN</td>\n      <td>f</td>\n      <td>1</td>\n      <td>0</td>\n      <td>1</td>\n      <td>0</td>\n      <td>NaN</td>\n    </tr>\n    <tr>\n      <th>10459</th>\n      <td>21946106</td>\n      <td>https://www.airbnb.com/rooms/21946106</td>\n      <td>20210409161549</td>\n      <td>2021-04-10</td>\n      <td>Modern appartment with canal view in city center</td>\n      <td>Our monumental apartment is located at the rim...</td>\n      <td>Right in the middle of the lively city centre&lt;...</td>\n      <td>https://a0.muscache.com/pictures/c5b5456e-9e2d...</td>\n      <td>12583042</td>\n      <td>https://www.airbnb.com/users/show/12583042</td>\n      <td>...</td>\n      <td>NaN</td>\n      <td>NaN</td>\n      <td>NaN</td>\n      <td>NaN</td>\n      <td>f</td>\n      <td>1</td>\n      <td>1</td>\n      <td>0</td>\n      <td>0</td>\n      <td>0.02</td>\n    </tr>\n  </tbody>\n</table>\n<p>4 rows × 74 columns</p>\n</div>"
     },
     "metadata": {}
    }
   ]
  },
  {
   "cell_type": "code",
   "metadata": {
    "tags": [],
    "cell_id": "00006-d1d66e01-3a99-4a61-840d-325d95b495ff",
    "deepnote_to_be_reexecuted": false,
    "source_hash": "2f79cafb",
    "execution_start": 1620467097499,
    "execution_millis": 200,
    "deepnote_cell_type": "code"
   },
   "source": "lower_prices=df[df.price < 2000]\nlower_prices",
   "execution_count": null,
   "outputs": [
    {
     "output_type": "execute_result",
     "execution_count": 23,
     "data": {
      "application/vnd.deepnote.dataframe.v2+json": {
       "row_count": 17816,
       "column_count": 74,
       "columns": [
        {
         "name": "id",
         "dtype": "int64",
         "stats": {
          "unique_count": 17816,
          "nan_count": 0,
          "min": "2818",
          "max": "49119460",
          "histogram": [
           {
            "bin_start": 2818,
            "bin_end": 4914482.2,
            "count": 2101
           },
           {
            "bin_start": 4914482.2,
            "bin_end": 9826146.4,
            "count": 2170
           },
           {
            "bin_start": 9826146.4,
            "bin_end": 14737810.600000001,
            "count": 2501
           },
           {
            "bin_start": 14737810.600000001,
            "bin_end": 19649474.8,
            "count": 2408
           },
           {
            "bin_start": 19649474.8,
            "bin_end": 24561139,
            "count": 2297
           },
           {
            "bin_start": 24561139,
            "bin_end": 29472803.200000003,
            "count": 1557
           },
           {
            "bin_start": 29472803.200000003,
            "bin_end": 34384467.4,
            "count": 1263
           },
           {
            "bin_start": 34384467.4,
            "bin_end": 39296131.6,
            "count": 1345
           },
           {
            "bin_start": 39296131.6,
            "bin_end": 44207795.800000004,
            "count": 1435
           },
           {
            "bin_start": 44207795.800000004,
            "bin_end": 49119460,
            "count": 739
           }
          ]
         }
        },
        {
         "name": "listing_url",
         "dtype": "object",
         "stats": {
          "unique_count": 17816,
          "nan_count": 0,
          "categories": [
           {
            "name": "https://www.airbnb.com/rooms/2818",
            "count": 1
           },
           {
            "name": "https://www.airbnb.com/rooms/20168",
            "count": 1
           },
           {
            "name": "17814 others",
            "count": 17814
           }
          ]
         }
        },
        {
         "name": "scrape_id",
         "dtype": "int64",
         "stats": {
          "unique_count": 1,
          "nan_count": 0,
          "min": "20210409161549",
          "max": "20210409161549",
          "histogram": [
           {
            "bin_start": 20210409161548.5,
            "bin_end": 20210409161548.6,
            "count": 0
           },
           {
            "bin_start": 20210409161548.6,
            "bin_end": 20210409161548.7,
            "count": 0
           },
           {
            "bin_start": 20210409161548.7,
            "bin_end": 20210409161548.8,
            "count": 0
           },
           {
            "bin_start": 20210409161548.8,
            "bin_end": 20210409161548.9,
            "count": 0
           },
           {
            "bin_start": 20210409161548.9,
            "bin_end": 20210409161549,
            "count": 0
           },
           {
            "bin_start": 20210409161549,
            "bin_end": 20210409161549.1,
            "count": 17816
           },
           {
            "bin_start": 20210409161549.1,
            "bin_end": 20210409161549.2,
            "count": 0
           },
           {
            "bin_start": 20210409161549.2,
            "bin_end": 20210409161549.3,
            "count": 0
           },
           {
            "bin_start": 20210409161549.3,
            "bin_end": 20210409161549.4,
            "count": 0
           },
           {
            "bin_start": 20210409161549.4,
            "bin_end": 20210409161549.5,
            "count": 0
           }
          ]
         }
        },
        {
         "name": "last_scraped",
         "dtype": "object",
         "stats": {
          "unique_count": 6,
          "nan_count": 0,
          "categories": [
           {
            "name": "2021-04-10",
            "count": 6514
           },
           {
            "name": "2021-04-11",
            "count": 6043
           },
           {
            "name": "4 others",
            "count": 5259
           }
          ]
         }
        },
        {
         "name": "name",
         "dtype": "object",
         "stats": {
          "unique_count": 17409,
          "nan_count": 32,
          "categories": [
           {
            "name": "Amsterdam",
            "count": 30
           },
           {
            "name": "17408 others",
            "count": 17754
           },
           {
            "name": "Missing",
            "count": 32
           }
          ]
         }
        },
        {
         "name": "description",
         "dtype": "object"
        },
        {
         "name": "neighborhood_overview",
         "dtype": "object"
        },
        {
         "name": "picture_url",
         "dtype": "object"
        },
        {
         "name": "host_id",
         "dtype": "int64"
        },
        {
         "name": "host_url",
         "dtype": "object"
        },
        {
         "name": "host_name",
         "dtype": "object"
        },
        {
         "name": "host_since",
         "dtype": "object"
        },
        {
         "name": "host_location",
         "dtype": "object"
        },
        {
         "name": "host_about",
         "dtype": "object"
        },
        {
         "name": "host_response_time",
         "dtype": "object"
        },
        {
         "name": "host_response_rate",
         "dtype": "object"
        },
        {
         "name": "host_acceptance_rate",
         "dtype": "object"
        },
        {
         "name": "host_is_superhost",
         "dtype": "object"
        },
        {
         "name": "host_thumbnail_url",
         "dtype": "object"
        },
        {
         "name": "host_picture_url",
         "dtype": "object"
        },
        {
         "name": "host_neighbourhood",
         "dtype": "object"
        },
        {
         "name": "host_listings_count",
         "dtype": "float64"
        },
        {
         "name": "host_total_listings_count",
         "dtype": "float64"
        },
        {
         "name": "host_verifications",
         "dtype": "object"
        },
        {
         "name": "host_has_profile_pic",
         "dtype": "object"
        },
        {
         "name": "host_identity_verified",
         "dtype": "object"
        },
        {
         "name": "neighbourhood",
         "dtype": "object"
        },
        {
         "name": "neighbourhood_cleansed",
         "dtype": "object"
        },
        {
         "name": "neighbourhood_group_cleansed",
         "dtype": "float64"
        },
        {
         "name": "latitude",
         "dtype": "float64"
        },
        {
         "name": "longitude",
         "dtype": "float64"
        },
        {
         "name": "property_type",
         "dtype": "object"
        },
        {
         "name": "room_type",
         "dtype": "object"
        },
        {
         "name": "accommodates",
         "dtype": "int64"
        },
        {
         "name": "bathrooms",
         "dtype": "float64"
        },
        {
         "name": "bathrooms_text",
         "dtype": "object"
        },
        {
         "name": "bedrooms",
         "dtype": "float64"
        },
        {
         "name": "beds",
         "dtype": "float64"
        },
        {
         "name": "amenities",
         "dtype": "object"
        },
        {
         "name": "price",
         "dtype": "float64"
        },
        {
         "name": "minimum_nights",
         "dtype": "int64"
        },
        {
         "name": "maximum_nights",
         "dtype": "int64"
        },
        {
         "name": "minimum_minimum_nights",
         "dtype": "float64"
        },
        {
         "name": "maximum_minimum_nights",
         "dtype": "float64"
        },
        {
         "name": "minimum_maximum_nights",
         "dtype": "float64"
        },
        {
         "name": "maximum_maximum_nights",
         "dtype": "float64"
        },
        {
         "name": "minimum_nights_avg_ntm",
         "dtype": "float64"
        },
        {
         "name": "maximum_nights_avg_ntm",
         "dtype": "float64"
        },
        {
         "name": "calendar_updated",
         "dtype": "float64"
        },
        {
         "name": "has_availability",
         "dtype": "object"
        },
        {
         "name": "availability_30",
         "dtype": "int64"
        },
        {
         "name": "availability_60",
         "dtype": "int64"
        },
        {
         "name": "availability_90",
         "dtype": "int64"
        },
        {
         "name": "availability_365",
         "dtype": "int64"
        },
        {
         "name": "calendar_last_scraped",
         "dtype": "object"
        },
        {
         "name": "number_of_reviews",
         "dtype": "int64"
        },
        {
         "name": "number_of_reviews_ltm",
         "dtype": "int64"
        },
        {
         "name": "number_of_reviews_l30d",
         "dtype": "int64"
        },
        {
         "name": "first_review",
         "dtype": "object"
        },
        {
         "name": "last_review",
         "dtype": "object"
        },
        {
         "name": "review_scores_rating",
         "dtype": "float64"
        },
        {
         "name": "review_scores_accuracy",
         "dtype": "float64"
        },
        {
         "name": "review_scores_cleanliness",
         "dtype": "float64"
        },
        {
         "name": "review_scores_checkin",
         "dtype": "float64"
        },
        {
         "name": "review_scores_communication",
         "dtype": "float64"
        },
        {
         "name": "review_scores_location",
         "dtype": "float64"
        },
        {
         "name": "review_scores_value",
         "dtype": "float64"
        },
        {
         "name": "license",
         "dtype": "object"
        },
        {
         "name": "instant_bookable",
         "dtype": "object"
        },
        {
         "name": "calculated_host_listings_count",
         "dtype": "int64"
        },
        {
         "name": "calculated_host_listings_count_entire_homes",
         "dtype": "int64"
        },
        {
         "name": "calculated_host_listings_count_private_rooms",
         "dtype": "int64"
        },
        {
         "name": "calculated_host_listings_count_shared_rooms",
         "dtype": "int64"
        },
        {
         "name": "reviews_per_month",
         "dtype": "float64"
        },
        {
         "name": "_deepnote_index_column",
         "dtype": "int64"
        }
       ],
       "rows_top": [
        {
         "id": 2818,
         "listing_url": "https://www.airbnb.com/rooms/2818",
         "scrape_id": 20210409161549,
         "last_scraped": "2021-04-12",
         "name": "Quiet Garden View Room & Super Fast WiFi",
         "description": "Quiet Garden View Room & Super Fast WiFi<br /><br /><b>The space</b><br />I'm renting a bedroom (room overlooking the garden) in my apartment in Amsterdam, <br /><br />The room is located to the east of the city centre in a quiet, typical Amsterdam neighbourhood the \"Indische Buurt\". Amsterdam’s historic centre is less than 15 minutes away by bike or tram.<br /><br /><br />The features of the room are:<br /><br />- Twin beds (80 x 200 cm, down quilts and pillows) <br />- 2 pure cotton towels for each guest <br />- reading lamps<br />- bedside table<br />- wardrobe<br />- table with chairs<br />- tea and coffee making facilities<br />- mini bar<br />- alarm clock<br />- Hi-Fi system with cd player, connection for mp3 player / phone<br />- map of Amsterdam and public transport<br />- Wi-Fi Internet connection <br /><br />Extra services:<br /><br />- Bike rental",
         "neighborhood_overview": "Indische Buurt (\"Indies Neighborhood\") is a neighbourhood in the eastern portion of the city of Amsterdam, in the Dutch province of Noord-Holland. The name dates from the early 20th century and is derived from the fact that the neighbourhood's streets are named after islands and other geographical concepts in the former Dutch colony of the Dutch East Indies. The first street was named in 1902. In 2003, there were around 23,357 inhabitants. The neighbourhood is bounded on the west by the railroad Amsterdam - Hilversum (with the Muiderpoort Station), on the east side by Flevopark, on the north side by Zeeburgerdijk and on the south side by the Ringvaart Watergraafsmeer. Indische Buurt is the oldest part of the Zeeburg district and is very ethnically diverse, and a high percentage of the population is of immigrant origin (for Zeeburg this is already high at 55%, but higher in the Indische Buurt) and there are an estimated 100 languages spoken.",
         "picture_url": "https://a0.muscache.com/pictures/10272854/8dcca016_original.jpg",
         "host_id": 3159,
         "host_url": "https://www.airbnb.com/users/show/3159",
         "host_name": "Daniel",
         "host_since": "2008-09-24",
         "host_location": "Amsterdam, Noord-Holland, The Netherlands",
         "host_about": "Upon arriving in Amsterdam, one can imagine asking oneself: Where is the fun nightlife? What are the local hot spots? \r\n\r\nHow can I experience the real life in this city? I  offer you the opportunity to act, eat and sleep like-a-local!  \r\n\r\nI provide the traveler with the opportunity to connect with the local life in Amsterdam.",
         "host_response_time": "nan",
         "host_response_rate": "nan",
         "host_acceptance_rate": "nan",
         "host_is_superhost": "t",
         "host_thumbnail_url": "https://a0.muscache.com/im/users/3159/profile_pic/1259095323/original.jpg?aki_policy=profile_small",
         "host_picture_url": "https://a0.muscache.com/im/users/3159/profile_pic/1259095323/original.jpg?aki_policy=profile_x_medium",
         "host_neighbourhood": "Indische Buurt",
         "host_listings_count": 1,
         "host_total_listings_count": 1,
         "host_verifications": "['email', 'phone', 'reviews', 'jumio', 'offline_government_id', 'selfie', 'government_id', 'identity_manual']",
         "host_has_profile_pic": "t",
         "host_identity_verified": "t",
         "neighbourhood": "Amsterdam, North Holland, Netherlands",
         "neighbourhood_cleansed": "Oostelijk Havengebied - Indische Buurt",
         "neighbourhood_group_cleansed": "nan",
         "latitude": 52.36435,
         "longitude": 4.94358,
         "property_type": "Private room in apartment",
         "room_type": "Private room",
         "accommodates": 2,
         "bathrooms": "nan",
         "bathrooms_text": "1.5 shared baths",
         "bedrooms": 1,
         "beds": 2,
         "amenities": "[\"Long term stays allowed\", \"Wifi\", \"Hot water\", \"Private entrance\", \"Coffee maker\", \"Bed linens\", \"Single level home\", \"Dedicated workspace\", \"Hangers\", \"Security cameras on property\", \"First aid kit\", \"Heating\", \"Hair dryer\", \"Backyard\", \"Carbon monoxide alarm\", \"Paid parking off premises\", \"Extra pillows and blankets\", \"Smoke alarm\", \"Shampoo\", \"Lock on bedroom door\", \"Washer\", \"Ethernet connection\", \"Paid parking on premises\", \"Essentials\", \"Host greets you\", \"Iron\", \"Refrigerator\", \"Fire extinguisher\"]",
         "price": 59,
         "minimum_nights": 3,
         "maximum_nights": 1125,
         "minimum_minimum_nights": 3,
         "maximum_minimum_nights": 3,
         "minimum_maximum_nights": 1125,
         "maximum_maximum_nights": 1125,
         "minimum_nights_avg_ntm": 3,
         "maximum_nights_avg_ntm": 1125,
         "calendar_updated": "nan",
         "has_availability": "t",
         "availability_30": 13,
         "availability_60": 43,
         "availability_90": 62,
         "availability_365": 152,
         "calendar_last_scraped": "2021-04-12",
         "number_of_reviews": 278,
         "number_of_reviews_ltm": 0,
         "number_of_reviews_l30d": 0,
         "first_review": "2009-03-30",
         "last_review": "2020-02-14",
         "review_scores_rating": 98,
         "review_scores_accuracy": 10,
         "review_scores_cleanliness": 10,
         "review_scores_checkin": 10,
         "review_scores_communication": 10,
         "review_scores_location": 9,
         "review_scores_value": 10,
         "license": "nan",
         "instant_bookable": "t",
         "calculated_host_listings_count": 1,
         "calculated_host_listings_count_entire_homes": 0,
         "calculated_host_listings_count_private_rooms": 1,
         "calculated_host_listings_count_shared_rooms": 0,
         "reviews_per_month": 1.9,
         "_deepnote_index_column": 0
        },
        {
         "id": 20168,
         "listing_url": "https://www.airbnb.com/rooms/20168",
         "scrape_id": 20210409161549,
         "last_scraped": "2021-04-12",
         "name": "Studio with private bathroom in the centre 1",
         "description": "17th century Dutch townhouse in the heart of the city. no public transport needed! Located a stones throw from Rembrandt Square, Dam Square, Leidse Square and Flower Market. Walking distance from Central Station.<br />Comfortable, cosy, lockable studio with comfortable bed and with private bathroom, double glazed windows and night blackout curtains, flat screen TV and mini fridge, Wi-Fi. No bathtub only shower. No kitchen. No curfew. You feel 100% privacy. Maximum for 2 persons!<br /><br /><b>The space</b><br />For those who like all facets of city life. In the streets surrounding the house, there are lots of antique shops, and for those who are into browsing for antiques. The Rijksmuseum is a short walk away. The famous nine-streets with all its little boutique shops, cafes, restaurants and whatnot is also around the corner. The Dam Square, Leidse Square and Rembrandt Squarejust minutes to walk.<br />No Curfew and you feel 100% privacy. <br />Hair dryer, towels and linens are included",
         "neighborhood_overview": "Located just in between famous central canals. In the streets surrounding the house, there are lots of antique shops, and for those who are into browsing for antiques. The Rijksmuseum is a short walk away. The famous nine-streets with all its little boutique shops, cafes, restaurants and whatnot is also around the corner. The Dam Square, Leidse Square and Rembrandt Squarejust minutes to walk.<br />No Curfew and you feel 100% privacy. <br />Hair dryer, towels and linens are included. No kitchen.<br />Airport pick-up is possible at extra charge (ask for it)",
         "picture_url": "https://a0.muscache.com/pictures/69979628/fd6a3a80_original.jpg",
         "host_id": 59484,
         "host_url": "https://www.airbnb.com/users/show/59484",
         "host_name": "Alexander",
         "host_since": "2009-12-02",
         "host_location": "Amsterdam, Noord-Holland, The Netherlands",
         "host_about": "+ (Phone number hidden by Airbnb)",
         "host_response_time": "nan",
         "host_response_rate": "nan",
         "host_acceptance_rate": "nan",
         "host_is_superhost": "f",
         "host_thumbnail_url": "https://a0.muscache.com/im/pictures/user/65092142-62d7-48a9-9479-ad5a24d99a77.jpg?aki_policy=profile_small",
         "host_picture_url": "https://a0.muscache.com/im/pictures/user/65092142-62d7-48a9-9479-ad5a24d99a77.jpg?aki_policy=profile_x_medium",
         "host_neighbourhood": "Grachtengordel",
         "host_listings_count": 2,
         "host_total_listings_count": 2,
         "host_verifications": "['email', 'phone', 'reviews', 'jumio', 'offline_government_id', 'selfie', 'government_id', 'identity_manual']",
         "host_has_profile_pic": "t",
         "host_identity_verified": "t",
         "neighbourhood": "Amsterdam, North Holland, Netherlands",
         "neighbourhood_cleansed": "Centrum-Oost",
         "neighbourhood_group_cleansed": "nan",
         "latitude": 52.36407,
         "longitude": 4.89393,
         "property_type": "Private room in townhouse",
         "room_type": "Private room",
         "accommodates": 2,
         "bathrooms": "nan",
         "bathrooms_text": "1 private bath",
         "bedrooms": 1,
         "beds": 1,
         "amenities": "[\"Essentials\", \"TV\", \"Host greets you\", \"Wifi\", \"Hot water\", \"Heating\", \"Carbon monoxide alarm\", \"Free street parking\", \"Hair dryer\", \"Long term stays allowed\", \"Smoke alarm\", \"Refrigerator\", \"Fire extinguisher\", \"Paid parking off premises\", \"Bed linens\", \"Dedicated workspace\", \"Hangers\"]",
         "price": 200,
         "minimum_nights": 1,
         "maximum_nights": 365,
         "minimum_minimum_nights": 1,
         "maximum_minimum_nights": 4,
         "minimum_maximum_nights": 365,
         "maximum_maximum_nights": 1125,
         "minimum_nights_avg_ntm": 3.3,
         "maximum_nights_avg_ntm": 554.1,
         "calendar_updated": "nan",
         "has_availability": "t",
         "availability_30": 0,
         "availability_60": 0,
         "availability_90": 0,
         "availability_365": 0,
         "calendar_last_scraped": "2021-04-12",
         "number_of_reviews": 339,
         "number_of_reviews_ltm": 0,
         "number_of_reviews_l30d": 0,
         "first_review": "2010-03-02",
         "last_review": "2020-04-09",
         "review_scores_rating": 89,
         "review_scores_accuracy": 10,
         "review_scores_cleanliness": 10,
         "review_scores_checkin": 10,
         "review_scores_communication": 10,
         "review_scores_location": 10,
         "review_scores_value": 9,
         "license": "0363 CBB3 2C10 0C2A 1E29",
         "instant_bookable": "t",
         "calculated_host_listings_count": 2,
         "calculated_host_listings_count_entire_homes": 0,
         "calculated_host_listings_count_private_rooms": 2,
         "calculated_host_listings_count_shared_rooms": 0,
         "reviews_per_month": 2.5,
         "_deepnote_index_column": 1
        },
        {
         "id": 25428,
         "listing_url": "https://www.airbnb.com/rooms/25428",
         "scrape_id": 20210409161549,
         "last_scraped": "2021-04-11",
         "name": "Lovely, 1 bed apt in Ctr (w.lift) -3/20-6/20(flex)",
         "description": "Lovely apt in Centre ( lift & fireplace) near Jordaan<br /><br /><b>The space</b><br />This nicely furnished, newly renovated apt  is very sunny, and spacious with 8 windows. The appliances are fairly new. There are two flat screen TVs, washing machine, dryer, dishwasher, laptop computer, Wi-fi, and high speed internet as well as a printer. The floors are wood throughout the apt. The large living room and bedroom are separated by a nice corridor.The living room has two sofas, and is very comfortable. Doors in all rooms, and lots of privacy. Lots of books and CDs. There is a bathroom with a tub, and a separate toilet. We have a new wood burning fireplace in the living room.<br /><br />Wonderful views of the Keizersgracht Canal and Wester Church in front, and trees and gardens in back.<br /><br />The apt is in a historic area, as well as a very convenient one. It is two blocks from the Anne Frank House. The neighborhood is filled with cafes, and restaurants, with  the Albery Heijn superm",
         "neighborhood_overview": "nan",
         "picture_url": "https://a0.muscache.com/pictures/138431/7079a93d_original.jpg",
         "host_id": 56142,
         "host_url": "https://www.airbnb.com/users/show/56142",
         "host_name": "Joan",
         "host_since": "2009-11-20",
         "host_location": "New York, New York, United States",
         "host_about": "We are a retired couple who live in NYC, and have an apt in Amsterdam which we love, where we spend a few months each year.\r\n (Phone number hidden by Airbnb)",
         "host_response_time": "within a few hours",
         "host_response_rate": "100%",
         "host_acceptance_rate": "0%",
         "host_is_superhost": "t",
         "host_thumbnail_url": "https://a0.muscache.com/im/users/56142/profile_pic/1367806389/original.jpg?aki_policy=profile_small",
         "host_picture_url": "https://a0.muscache.com/im/users/56142/profile_pic/1367806389/original.jpg?aki_policy=profile_x_medium",
         "host_neighbourhood": "Grachtengordel",
         "host_listings_count": 2,
         "host_total_listings_count": 2,
         "host_verifications": "['email', 'phone', 'reviews']",
         "host_has_profile_pic": "t",
         "host_identity_verified": "f",
         "neighbourhood": "nan",
         "neighbourhood_cleansed": "Centrum-West",
         "neighbourhood_group_cleansed": "nan",
         "latitude": 52.3749,
         "longitude": 4.88487,
         "property_type": "Entire apartment",
         "room_type": "Entire home/apt",
         "accommodates": 3,
         "bathrooms": "nan",
         "bathrooms_text": "1 bath",
         "bedrooms": 1,
         "beds": 1,
         "amenities": "[\"Dishwasher\", \"Long term stays allowed\", \"Microwave\", \"Wifi\", \"Hot water\", \"Coffee maker\", \"Kitchen\", \"Dishes and silverware\", \"Elevator\", \"Bed linens\", \"Dedicated workspace\", \"Hangers\", \"Dryer\", \"Heating\", \"Oven\", \"Hair dryer\", \"Cooking basics\", \"Indoor fireplace\", \"Extra pillows and blankets\", \"Cable TV\", \"Smoke alarm\", \"Shampoo\", \"Washer\", \"Essentials\", \"TV\", \"Host greets you\", \"Stove\", \"Iron\", \"Refrigerator\", \"Fire extinguisher\"]",
         "price": 125,
         "minimum_nights": 14,
         "maximum_nights": 180,
         "minimum_minimum_nights": 14,
         "maximum_minimum_nights": 14,
         "minimum_maximum_nights": 180,
         "maximum_maximum_nights": 180,
         "minimum_nights_avg_ntm": 14,
         "maximum_nights_avg_ntm": 180,
         "calendar_updated": "nan",
         "has_availability": "t",
         "availability_30": 0,
         "availability_60": 0,
         "availability_90": 0,
         "availability_365": 132,
         "calendar_last_scraped": "2021-04-11",
         "number_of_reviews": 5,
         "number_of_reviews_ltm": 0,
         "number_of_reviews_l30d": 0,
         "first_review": "2018-01-21",
         "last_review": "2020-02-09",
         "review_scores_rating": 100,
         "review_scores_accuracy": 10,
         "review_scores_cleanliness": 10,
         "review_scores_checkin": 10,
         "review_scores_communication": 10,
         "review_scores_location": 10,
         "review_scores_value": 10,
         "license": "nan",
         "instant_bookable": "f",
         "calculated_host_listings_count": 2,
         "calculated_host_listings_count_entire_homes": 2,
         "calculated_host_listings_count_private_rooms": 0,
         "calculated_host_listings_count_shared_rooms": 0,
         "reviews_per_month": 0.13,
         "_deepnote_index_column": 2
        },
        {
         "id": 27886,
         "listing_url": "https://www.airbnb.com/rooms/27886",
         "scrape_id": 20210409161549,
         "last_scraped": "2021-04-11",
         "name": "Romantic, stylish B&B houseboat in canal district",
         "description": "Stylish and romantic houseboat on fantastic historic location with breathtaking view.  Wheelhouse, deckhouse and captains room. Central, quiet. Great breakfast, 2 vanMoof design bikes and a Canadian Canoe are included. Just read the reviews on tripadvisor for instance!<br /><br /><b>The space</b><br />For a romantic couple: A beautifully restored traditional dutch barge, M.s. Luctor, with all modern comforts, your own entrance, three rooms,(sleeping room, deckhouse and wheelhouse) with two bikes and a Canadian canoe to explore the city. Have your breakfast weather permitting on the large jetty. (You  might want to give a piece of your fresh fruit to our Greek turtle...) Organic products, a variety of cheese, fresh orange juice and croisants... We are member of green-hotels (ECEAT) and care for the environment. (We just installed solar pannels! A lot of questions can be answered on our own site, there is a button with Frequently Asked Questions.) <br />The location is superb, fantastic ",
         "neighborhood_overview": "Central, quiet, safe, clean and beautiful.",
         "picture_url": "https://a0.muscache.com/pictures/02c2da9d-660e-451d-8a51-2f7a17469df7.jpg",
         "host_id": 97647,
         "host_url": "https://www.airbnb.com/users/show/97647",
         "host_name": "Flip",
         "host_since": "2010-03-23",
         "host_location": "Amsterdam, Noord-Holland, The Netherlands",
         "host_about": "Marjan works in \"eye\" the dutch filmmuseum, and designs costumes for tv, film and theatre. Flip is an actor, mainly on stage, but also for film and tv. So for cultural advise, what to do, you are coming to the right place...\r\n\r\n",
         "host_response_time": "nan",
         "host_response_rate": "nan",
         "host_acceptance_rate": "100%",
         "host_is_superhost": "t",
         "host_thumbnail_url": "https://a0.muscache.com/im/users/97647/profile_pic/1273275077/original.jpg?aki_policy=profile_small",
         "host_picture_url": "https://a0.muscache.com/im/users/97647/profile_pic/1273275077/original.jpg?aki_policy=profile_x_medium",
         "host_neighbourhood": "Westelijke Eilanden",
         "host_listings_count": 1,
         "host_total_listings_count": 1,
         "host_verifications": "['email', 'phone', 'reviews', 'jumio', 'offline_government_id', 'government_id']",
         "host_has_profile_pic": "t",
         "host_identity_verified": "t",
         "neighbourhood": "Amsterdam, North Holland, Netherlands",
         "neighbourhood_cleansed": "Centrum-West",
         "neighbourhood_group_cleansed": "nan",
         "latitude": 52.38761,
         "longitude": 4.89188,
         "property_type": "Private room in houseboat",
         "room_type": "Private room",
         "accommodates": 2,
         "bathrooms": "nan",
         "bathrooms_text": "1.5 baths",
         "bedrooms": 1,
         "beds": 1,
         "amenities": "[\"Long term stays allowed\", \"Wifi\", \"Hot water\", \"Private entrance\", \"Luggage dropoff allowed\", \"Coffee maker\", \"Dishes and silverware\", \"Waterfront\", \"Dedicated workspace\", \"Hangers\", \"Smart lock\", \"Heating\", \"Hair dryer\", \"Lake access\", \"Carbon monoxide alarm\", \"Smoke alarm\", \"Shampoo\", \"Essentials\", \"TV\", \"Breakfast\", \"Refrigerator\", \"Patio or balcony\", \"Fire extinguisher\"]",
         "price": 141,
         "minimum_nights": 2,
         "maximum_nights": 730,
         "minimum_minimum_nights": 2,
         "maximum_minimum_nights": 2,
         "minimum_maximum_nights": 1125,
         "maximum_maximum_nights": 1125,
         "minimum_nights_avg_ntm": 2,
         "maximum_nights_avg_ntm": 1125,
         "calendar_updated": "nan",
         "has_availability": "t",
         "availability_30": 24,
         "availability_60": 45,
         "availability_90": 50,
         "availability_365": 66,
         "calendar_last_scraped": "2021-04-11",
         "number_of_reviews": 219,
         "number_of_reviews_ltm": 2,
         "number_of_reviews_l30d": 0,
         "first_review": "2012-01-09",
         "last_review": "2020-07-25",
         "review_scores_rating": 99,
         "review_scores_accuracy": 10,
         "review_scores_cleanliness": 10,
         "review_scores_checkin": 10,
         "review_scores_communication": 10,
         "review_scores_location": 10,
         "review_scores_value": 10,
         "license": "0363 974D 4986 7411 88D8",
         "instant_bookable": "t",
         "calculated_host_listings_count": 1,
         "calculated_host_listings_count_entire_homes": 0,
         "calculated_host_listings_count_private_rooms": 1,
         "calculated_host_listings_count_shared_rooms": 0,
         "reviews_per_month": 1.94,
         "_deepnote_index_column": 3
        },
        {
         "id": 28871,
         "listing_url": "https://www.airbnb.com/rooms/28871",
         "scrape_id": 20210409161549,
         "last_scraped": "2021-04-13",
         "name": "Comfortable double room",
         "description": "<b>The space</b><br />In a monumental house right in the center of Amsterdam, we offer two rooms (one single room and one double room) to visitors who want to enjoy the comfort of a home-like accommodation, plus being in the middle of the historic city center, close to all important museums, shopping streets, restaurants, bars and clubs. Both rooms share a bathroom,  access to free wifi internet.<br /><br />We are situated in the middle of the most important nightlife area of Amsterdam, which makes it a very vibrant place, but also a noisy place.<br /><br /><b>Other things to note</b><br />Washing and drying are for a flat fee of €10<br /><br /><b>License number</b><br />0363 607B EA74 0BD8 2F6F",
         "neighborhood_overview": "Flower market , Leidseplein , Rembrantsplein",
         "picture_url": "https://a0.muscache.com/pictures/160889/362340f7_original.jpg",
         "host_id": 124245,
         "host_url": "https://www.airbnb.com/users/show/124245",
         "host_name": "Edwin",
         "host_since": "2010-05-13",
         "host_location": "Amsterdam, Noord-Holland, The Netherlands",
         "host_about": "Hi",
         "host_response_time": "within an hour",
         "host_response_rate": "100%",
         "host_acceptance_rate": "79%",
         "host_is_superhost": "t",
         "host_thumbnail_url": "https://a0.muscache.com/im/pictures/user/9986bbdb-632f-42b5-a866-8e3307184977.jpg?aki_policy=profile_small",
         "host_picture_url": "https://a0.muscache.com/im/pictures/user/9986bbdb-632f-42b5-a866-8e3307184977.jpg?aki_policy=profile_x_medium",
         "host_neighbourhood": "Amsterdam Centrum",
         "host_listings_count": 2,
         "host_total_listings_count": 2,
         "host_verifications": "['email', 'phone', 'reviews', 'jumio', 'offline_government_id', 'government_id']",
         "host_has_profile_pic": "t",
         "host_identity_verified": "t",
         "neighbourhood": "Amsterdam, North Holland, Netherlands",
         "neighbourhood_cleansed": "Centrum-West",
         "neighbourhood_group_cleansed": "nan",
         "latitude": 52.36775,
         "longitude": 4.89092,
         "property_type": "Private room in apartment",
         "room_type": "Private room",
         "accommodates": 2,
         "bathrooms": "nan",
         "bathrooms_text": "1 shared bath",
         "bedrooms": 1,
         "beds": 1,
         "amenities": "[\"Heating\", \"Essentials\", \"Hangers\", \"Hair dryer\", \"Refrigerator\", \"Host greets you\", \"Dryer\", \"Smoke alarm\", \"Shampoo\", \"Coffee maker\", \"Carbon monoxide alarm\", \"Hot water\", \"Fire extinguisher\", \"Wifi\", \"Private entrance\", \"Long term stays allowed\", \"Lock on bedroom door\"]",
         "price": 75,
         "minimum_nights": 2,
         "maximum_nights": 1825,
         "minimum_minimum_nights": 2,
         "maximum_minimum_nights": 2,
         "minimum_maximum_nights": 1825,
         "maximum_maximum_nights": 1825,
         "minimum_nights_avg_ntm": 2,
         "maximum_nights_avg_ntm": 1825,
         "calendar_updated": "nan",
         "has_availability": "t",
         "availability_30": 30,
         "availability_60": 57,
         "availability_90": 84,
         "availability_365": 335,
         "calendar_last_scraped": "2021-04-13",
         "number_of_reviews": 336,
         "number_of_reviews_ltm": 4,
         "number_of_reviews_l30d": 0,
         "first_review": "2010-08-22",
         "last_review": "2020-09-20",
         "review_scores_rating": 97,
         "review_scores_accuracy": 10,
         "review_scores_cleanliness": 10,
         "review_scores_checkin": 10,
         "review_scores_communication": 10,
         "review_scores_location": 10,
         "review_scores_value": 10,
         "license": "0363 607B EA74 0BD8 2F6F",
         "instant_bookable": "f",
         "calculated_host_listings_count": 2,
         "calculated_host_listings_count_entire_homes": 0,
         "calculated_host_listings_count_private_rooms": 2,
         "calculated_host_listings_count_shared_rooms": 0,
         "reviews_per_month": 2.59,
         "_deepnote_index_column": 4
        },
        {
         "id": 29051,
         "listing_url": "https://www.airbnb.com/rooms/29051",
         "scrape_id": 20210409161549,
         "last_scraped": "2021-04-12",
         "name": "Comfortable single room",
         "description": "This room can also accomodate 2 people.  For an extra of €15<br /><br /><b>The space</b><br />In a monumental house right in the center of Amsterdam, we offer two rooms (one single room and one double room) to visitors who want to enjoy the comfort of a home-like accommodation, plus being in the middle of the historic city center, close to all important museums, shopping streets, restaurants, bars and clubs. Both rooms share a bathroom, and access to free wifi internet. <br /> <br />We are situated in the middle of the most important nightlife area of Amsterdam, which makes it a very vibrant place, but also a noisy place.  <br /> <br />We accept all major credit cards.<br /><br /><b>Other things to note</b><br />No smoking and no sleepovers pls<br /><br />Washing and drying is for a flat fee of €10<br /><br /><b>License number</b><br />0363 607B EA74 0BD8 2F6F",
         "neighborhood_overview": "the street is quite lively especially on weekends when the weather is good",
         "picture_url": "https://a0.muscache.com/pictures/162009/bd6be2f8_original.jpg",
         "host_id": 124245,
         "host_url": "https://www.airbnb.com/users/show/124245",
         "host_name": "Edwin",
         "host_since": "2010-05-13",
         "host_location": "Amsterdam, Noord-Holland, The Netherlands",
         "host_about": "Hi",
         "host_response_time": "within an hour",
         "host_response_rate": "100%",
         "host_acceptance_rate": "79%",
         "host_is_superhost": "t",
         "host_thumbnail_url": "https://a0.muscache.com/im/pictures/user/9986bbdb-632f-42b5-a866-8e3307184977.jpg?aki_policy=profile_small",
         "host_picture_url": "https://a0.muscache.com/im/pictures/user/9986bbdb-632f-42b5-a866-8e3307184977.jpg?aki_policy=profile_x_medium",
         "host_neighbourhood": "Amsterdam Centrum",
         "host_listings_count": 2,
         "host_total_listings_count": 2,
         "host_verifications": "['email', 'phone', 'reviews', 'jumio', 'offline_government_id', 'government_id']",
         "host_has_profile_pic": "t",
         "host_identity_verified": "t",
         "neighbourhood": "Amsterdam, North Holland, Netherlands",
         "neighbourhood_cleansed": "Centrum-Oost",
         "neighbourhood_group_cleansed": "nan",
         "latitude": 52.36584,
         "longitude": 4.89111,
         "property_type": "Private room in apartment",
         "room_type": "Private room",
         "accommodates": 1,
         "bathrooms": "nan",
         "bathrooms_text": "1 shared bath",
         "bedrooms": 1,
         "beds": 1,
         "amenities": "[\"Essentials\", \"Host greets you\", \"Long term stays allowed\", \"Wifi\", \"Hot water\", \"Heating\", \"Private entrance\", \"Hair dryer\", \"Coffee maker\", \"Smoke alarm\", \"Iron\", \"Shampoo\", \"Lock on bedroom door\", \"Refrigerator\", \"Fire extinguisher\", \"Bed linens\", \"Shower gel\", \"Hangers\"]",
         "price": 55,
         "minimum_nights": 2,
         "maximum_nights": 730,
         "minimum_minimum_nights": 2,
         "maximum_minimum_nights": 2,
         "minimum_maximum_nights": 730,
         "maximum_maximum_nights": 730,
         "minimum_nights_avg_ntm": 2,
         "maximum_nights_avg_ntm": 730,
         "calendar_updated": "nan",
         "has_availability": "t",
         "availability_30": 30,
         "availability_60": 56,
         "availability_90": 83,
         "availability_365": 351,
         "calendar_last_scraped": "2021-04-12",
         "number_of_reviews": 480,
         "number_of_reviews_ltm": 2,
         "number_of_reviews_l30d": 0,
         "first_review": "2011-03-16",
         "last_review": "2020-08-28",
         "review_scores_rating": 95,
         "review_scores_accuracy": 10,
         "review_scores_cleanliness": 10,
         "review_scores_checkin": 10,
         "review_scores_communication": 10,
         "review_scores_location": 10,
         "review_scores_value": 9,
         "license": "0363 607B EA74 0BD8 2F6F",
         "instant_bookable": "f",
         "calculated_host_listings_count": 2,
         "calculated_host_listings_count_entire_homes": 0,
         "calculated_host_listings_count_private_rooms": 2,
         "calculated_host_listings_count_shared_rooms": 0,
         "reviews_per_month": 3.91,
         "_deepnote_index_column": 5
        }
       ],
       "rows_bottom": [
        {
         "id": 49071379,
         "listing_url": "https://www.airbnb.com/rooms/49071379",
         "scrape_id": 20210409161549,
         "last_scraped": "2021-04-11",
         "name": "\"Spacious Modern Home (2-4p), Free parking\"",
         "description": "Comfortable and spacious  3floor apartment located just outside of the city next to a big natural location of Amsterdam (Gaasperplass).<br /><br />Only 8km away from the Amsterdam Center, Metro station and local markets are in 7-9 min walking distance (Holdendrecht).<br /><br />It has a lot of light during the the day and it is very quiet in the night.<br /><br />Available only for monthly stay<br /><br /><b>The space</b><br />All the furniture in this house are handmade by me.<br /><br /><b>Guest access</b><br />Laundry room, kitchen, living room bathrooms, bedroom 1, bedroom 2 and storage<br /><br /><b>Other things to note</b><br />Do not leave the house with the dryer on (common sense)<br />Avoid liquids on the wooden floor<br /><br /><b>License number</b><br />0363 F075 9CC5 27F3 61CC",
         "neighborhood_overview": "Quite and natural<br />Neighbors are nice people",
         "picture_url": "https://a0.muscache.com/pictures/46c9243a-f429-4cf0-a364-0f7be6745081.jpg",
         "host_id": 27947934,
         "host_url": "https://www.airbnb.com/users/show/27947934",
         "host_name": "George",
         "host_since": "2015-02-18",
         "host_location": "Amsterdam, North Holland, Netherlands",
         "host_about": "Music producer \nFood traveler\n",
         "host_response_time": "within a day",
         "host_response_rate": "100%",
         "host_acceptance_rate": "nan",
         "host_is_superhost": "f",
         "host_thumbnail_url": "https://a0.muscache.com/im/users/27947934/profile_pic/1424275603/original.jpg?aki_policy=profile_small",
         "host_picture_url": "https://a0.muscache.com/im/users/27947934/profile_pic/1424275603/original.jpg?aki_policy=profile_x_medium",
         "host_neighbourhood": "nan",
         "host_listings_count": 0,
         "host_total_listings_count": 0,
         "host_verifications": "['email', 'phone']",
         "host_has_profile_pic": "t",
         "host_identity_verified": "f",
         "neighbourhood": "Amsterdam, Noord-Holland, Netherlands",
         "neighbourhood_cleansed": "Gaasperdam - Driemond",
         "neighbourhood_group_cleansed": "nan",
         "latitude": 52.30355,
         "longitude": 4.96831,
         "property_type": "Entire apartment",
         "room_type": "Entire home/apt",
         "accommodates": 4,
         "bathrooms": "nan",
         "bathrooms_text": "1.5 baths",
         "bedrooms": 2,
         "beds": "3.0",
         "amenities": "[\"Dishwasher\", \"Long term stays allowed\", \"Sound system\", \"Wifi\", \"Hot water\", \"Microwave\", \"Freezer\", \"Luggage dropoff allowed\", \"Coffee maker\", \"Drying rack for clothing\", \"Kitchen\", \"Bed linens\", \"Free parking on premises\", \"Hangers\", \"Dedicated workspace\", \"Wine glasses\", \"Mosquito net\", \"First aid kit\", \"Dryer\", \"Heating\", \"Oven\", \"Hair dryer\", \"Room-darkening shades\", \"Cooking basics\", \"Carbon monoxide alarm\", \"Extra pillows and blankets\", \"Cable TV\", \"Body soap\", \"Smoke alarm\", \"Shampoo\", \"Washer\", \"Ethernet connection\", \"Bathtub\", \"Shower gel\", \"Essentials\", \"TV\", \"Cleaning products\", \"Iron\", \"Refrigerator\", \"Patio or balcony\", \"Fire extinguisher\", \"Hot water kettle\"]",
         "price": 52,
         "minimum_nights": 31,
         "maximum_nights": 61,
         "minimum_minimum_nights": 31,
         "maximum_minimum_nights": 31,
         "minimum_maximum_nights": 1125,
         "maximum_maximum_nights": 1125,
         "minimum_nights_avg_ntm": 31,
         "maximum_nights_avg_ntm": 1125,
         "calendar_updated": "nan",
         "has_availability": "t",
         "availability_30": 10,
         "availability_60": 40,
         "availability_90": 70,
         "availability_365": 345,
         "calendar_last_scraped": "2021-04-11",
         "number_of_reviews": 0,
         "number_of_reviews_ltm": 0,
         "number_of_reviews_l30d": 0,
         "first_review": "nan",
         "last_review": "nan",
         "review_scores_rating": "nan",
         "review_scores_accuracy": "nan",
         "review_scores_cleanliness": "nan",
         "review_scores_checkin": "nan",
         "review_scores_communication": "nan",
         "review_scores_location": "nan",
         "review_scores_value": "nan",
         "license": "0363 F075 9CC5 27F3 61CC",
         "instant_bookable": "f",
         "calculated_host_listings_count": 1,
         "calculated_host_listings_count_entire_homes": 1,
         "calculated_host_listings_count_private_rooms": 0,
         "calculated_host_listings_count_shared_rooms": 0,
         "reviews_per_month": "nan",
         "_deepnote_index_column": 17818
        },
        {
         "id": 49078967,
         "listing_url": "https://www.airbnb.com/rooms/49078967",
         "scrape_id": 20210409161549,
         "last_scraped": "2021-04-11",
         "name": "Cozy apartment next to center amsterdam",
         "description": "<b>License number</b><br />Exempt",
         "neighborhood_overview": "nan",
         "picture_url": "https://a0.muscache.com/pictures/181dcd37-6272-4595-a61f-da8e16b5c901.jpg",
         "host_id": 389785696,
         "host_url": "https://www.airbnb.com/users/show/389785696",
         "host_name": "Danila",
         "host_since": "2021-02-23",
         "host_location": "BR",
         "host_about": "nan",
         "host_response_time": "within a day",
         "host_response_rate": "60%",
         "host_acceptance_rate": "100%",
         "host_is_superhost": "f",
         "host_thumbnail_url": "https://a0.muscache.com/im/pictures/user/ecb8061e-4917-458f-956f-dee15fbd818f.jpg?aki_policy=profile_small",
         "host_picture_url": "https://a0.muscache.com/im/pictures/user/ecb8061e-4917-458f-956f-dee15fbd818f.jpg?aki_policy=profile_x_medium",
         "host_neighbourhood": "nan",
         "host_listings_count": 3,
         "host_total_listings_count": 3,
         "host_verifications": "['email', 'phone', 'identity_manual']",
         "host_has_profile_pic": "t",
         "host_identity_verified": "t",
         "neighbourhood": "nan",
         "neighbourhood_cleansed": "De Pijp - Rivierenbuurt",
         "neighbourhood_group_cleansed": "nan",
         "latitude": 52.34147,
         "longitude": 4.90729,
         "property_type": "Entire apartment",
         "room_type": "Entire home/apt",
         "accommodates": 4,
         "bathrooms": "nan",
         "bathrooms_text": "1 bath",
         "bedrooms": 2,
         "beds": "2.0",
         "amenities": "[\"Dishwasher\", \"Long term stays allowed\", \"Clothing storage\", \"Wifi\", \"Hot water\", \"Microwave\", \"Coffee maker\", \"Nespresso machine\", \"Kitchen\", \"Portable fans\", \"Pocket wifi\", \"Bed linens\", \"Dedicated workspace\", \"Wine glasses\", \"Dryer\", \"Heating\", \"Toaster\", \"Paid parking off premises\", \"Washer\", \"TV\", \"Pour-over coffee\"]",
         "price": 100,
         "minimum_nights": 15,
         "maximum_nights": 1125,
         "minimum_minimum_nights": 15,
         "maximum_minimum_nights": 15,
         "minimum_maximum_nights": 1125,
         "maximum_maximum_nights": 1125,
         "minimum_nights_avg_ntm": 15,
         "maximum_nights_avg_ntm": 1125,
         "calendar_updated": "nan",
         "has_availability": "t",
         "availability_30": 24,
         "availability_60": 54,
         "availability_90": 84,
         "availability_365": 174,
         "calendar_last_scraped": "2021-04-11",
         "number_of_reviews": 0,
         "number_of_reviews_ltm": 0,
         "number_of_reviews_l30d": 0,
         "first_review": "nan",
         "last_review": "nan",
         "review_scores_rating": "nan",
         "review_scores_accuracy": "nan",
         "review_scores_cleanliness": "nan",
         "review_scores_checkin": "nan",
         "review_scores_communication": "nan",
         "review_scores_location": "nan",
         "review_scores_value": "nan",
         "license": "Exempt",
         "instant_bookable": "t",
         "calculated_host_listings_count": 2,
         "calculated_host_listings_count_entire_homes": 2,
         "calculated_host_listings_count_private_rooms": 0,
         "calculated_host_listings_count_shared_rooms": 0,
         "reviews_per_month": "nan",
         "_deepnote_index_column": 17819
        },
        {
         "id": 49085366,
         "listing_url": "https://www.airbnb.com/rooms/49085366",
         "scrape_id": 20210409161549,
         "last_scraped": "2021-04-11",
         "name": "Kloveniers Studio",
         "description": "Great studio to enjoy a couple of days in Amsterdam.<br />Very quiet spot in the middle of the center with everything you will need. A private bedroom with a big two person bed and living area to relaxt from the walks in the city. Also a private bathroom is for your use.<br /><br /><b>License number</b><br />0363 B62C 0694 FC6B 277F",
         "neighborhood_overview": "An oasis of calm in the middle of the city of Amsterdam. This unique spot makes it great to visit Amsterdam and to enjoy your days away from home. You can choose to relaxt quietly in the studio or to go and experience the center Amsterdam with Dam Square, Nieuwmarkt and the Red Light District around the corner. Also the big shopping streets are in walking distance.",
         "picture_url": "https://a0.muscache.com/pictures/f306ad6d-aa82-4ea2-94cf-4db3c0c06622.jpg",
         "host_id": 395882585,
         "host_url": "https://www.airbnb.com/users/show/395882585",
         "host_name": "Lucas",
         "host_since": "2021-04-07",
         "host_location": "NL",
         "host_about": "nan",
         "host_response_time": "nan",
         "host_response_rate": "nan",
         "host_acceptance_rate": "nan",
         "host_is_superhost": "f",
         "host_thumbnail_url": "https://a0.muscache.com/im/pictures/user/a1ee8be6-7bad-42ed-8acd-bc985a1faf4d.jpg?aki_policy=profile_small",
         "host_picture_url": "https://a0.muscache.com/im/pictures/user/a1ee8be6-7bad-42ed-8acd-bc985a1faf4d.jpg?aki_policy=profile_x_medium",
         "host_neighbourhood": "nan",
         "host_listings_count": 0,
         "host_total_listings_count": 0,
         "host_verifications": "['email', 'phone']",
         "host_has_profile_pic": "t",
         "host_identity_verified": "f",
         "neighbourhood": "Amsterdam, Noord-Holland, Netherlands",
         "neighbourhood_cleansed": "Centrum-West",
         "neighbourhood_group_cleansed": "nan",
         "latitude": 52.3722,
         "longitude": 4.89926,
         "property_type": "Private room in apartment",
         "room_type": "Private room",
         "accommodates": 2,
         "bathrooms": "nan",
         "bathrooms_text": "1 private bath",
         "bedrooms": 1,
         "beds": "nan",
         "amenities": "[\"TV\", \"Long term stays allowed\", \"Wifi\", \"Hot water\", \"Hair dryer\", \"Lock on bedroom door\", \"Bed linens\"]",
         "price": 47,
         "minimum_nights": 2,
         "maximum_nights": 1125,
         "minimum_minimum_nights": 2,
         "maximum_minimum_nights": 4,
         "minimum_maximum_nights": 1125,
         "maximum_maximum_nights": 1125,
         "minimum_nights_avg_ntm": 3.8,
         "maximum_nights_avg_ntm": 1125,
         "calendar_updated": "nan",
         "has_availability": "t",
         "availability_30": 0,
         "availability_60": 0,
         "availability_90": 9,
         "availability_365": 284,
         "calendar_last_scraped": "2021-04-11",
         "number_of_reviews": 0,
         "number_of_reviews_ltm": 0,
         "number_of_reviews_l30d": 0,
         "first_review": "nan",
         "last_review": "nan",
         "review_scores_rating": "nan",
         "review_scores_accuracy": "nan",
         "review_scores_cleanliness": "nan",
         "review_scores_checkin": "nan",
         "review_scores_communication": "nan",
         "review_scores_location": "nan",
         "review_scores_value": "nan",
         "license": "0363 B62C 0694 FC6B 277F",
         "instant_bookable": "t",
         "calculated_host_listings_count": 1,
         "calculated_host_listings_count_entire_homes": 0,
         "calculated_host_listings_count_private_rooms": 1,
         "calculated_host_listings_count_shared_rooms": 0,
         "reviews_per_month": "nan",
         "_deepnote_index_column": 17820
        },
        {
         "id": 49089176,
         "listing_url": "https://www.airbnb.com/rooms/49089176",
         "scrape_id": 20210409161549,
         "last_scraped": "2021-04-11",
         "name": "Prachtig, gerenoveerd appartement in de Pijp!",
         "description": "Dit volledig gerenoveerde appartement is geschikt voor stellen/gezinnen. Het heeft een grote woonkamer met open keuken, een grote hoekbank en een mooi balkon op het zuiden (de hele dag zon!). Het appartement is gelegen in de Pijp, een gezellige en bruisende buurt in Amsterdam. Op 5 minuten loopafstand bevinden zich o.a. de Albert Cuyp markt, de Noord-Zuidlijn (metro), waarmee je binnen 5 minuten op Amsterdam Centraal of Amsterdam Zuid bent en verschillende supermarkten. Kortom: the place to be.<br /><br /><b>License number</b><br />0363 A169 C048 6ED8 1C00",
         "neighborhood_overview": "nan",
         "picture_url": "https://a0.muscache.com/pictures/0692f782-b1b3-4807-93b4-952f0def5f7f.jpg",
         "host_id": 68481315,
         "host_url": "https://www.airbnb.com/users/show/68481315",
         "host_name": "Julia",
         "host_since": "2016-04-23",
         "host_location": "Schalkhaar, Overijssel, Netherlands",
         "host_about": "nan",
         "host_response_time": "nan",
         "host_response_rate": "nan",
         "host_acceptance_rate": "nan",
         "host_is_superhost": "f",
         "host_thumbnail_url": "https://a0.muscache.com/im/pictures/user/34df0d4e-ea41-4fd1-88fd-0917af62ec6b.jpg?aki_policy=profile_small",
         "host_picture_url": "https://a0.muscache.com/im/pictures/user/34df0d4e-ea41-4fd1-88fd-0917af62ec6b.jpg?aki_policy=profile_x_medium",
         "host_neighbourhood": "nan",
         "host_listings_count": 0,
         "host_total_listings_count": 0,
         "host_verifications": "['email', 'phone', 'facebook']",
         "host_has_profile_pic": "t",
         "host_identity_verified": "f",
         "neighbourhood": "nan",
         "neighbourhood_cleansed": "De Pijp - Rivierenbuurt",
         "neighbourhood_group_cleansed": "nan",
         "latitude": 52.35416,
         "longitude": 4.887,
         "property_type": "Entire apartment",
         "room_type": "Entire home/apt",
         "accommodates": 4,
         "bathrooms": "nan",
         "bathrooms_text": "1.5 baths",
         "bedrooms": 1,
         "beds": "1.0",
         "amenities": "[\"Dishwasher\", \"Long term stays allowed\", \"Wifi\", \"Hot water\", \"Conditioner\", \"Freezer\", \"Coffee maker\", \"Nespresso machine\", \"Drying rack for clothing\", \"Kitchen\", \"Dishes and silverware\", \"Bed linens\", \"Hangers\", \"Wine glasses\", \"Baking sheet\", \"Oven\", \"Gas stove\", \"Hair dryer\", \"Room-darkening shades\", \"Toaster\", \"Cooking basics\", \"Safe\", \"Carbon monoxide alarm\", \"Paid parking off premises\", \"Extra pillows and blankets\", \"Central heating\", \"Cable TV\", \"Body soap\", \"Smoke alarm\", \"Shampoo\", \"Washer\", \"Ethernet connection\", \"Clothing storage: wardrobe and closet\", \"Shower gel\", \"Free dryer\\u2013In unit\", \"Essentials\", \"TV\", \"Host greets you\", \"Dining table\", \"Cleaning products\", \"Refrigerator\", \"Patio or balcony\", \"Cleaning before checkout\", \"Hot water kettle\"]",
         "price": 200,
         "minimum_nights": 7,
         "maximum_nights": 1125,
         "minimum_minimum_nights": 7,
         "maximum_minimum_nights": 7,
         "minimum_maximum_nights": 1125,
         "maximum_maximum_nights": 1125,
         "minimum_nights_avg_ntm": 7,
         "maximum_nights_avg_ntm": 1125,
         "calendar_updated": "nan",
         "has_availability": "t",
         "availability_30": 0,
         "availability_60": 0,
         "availability_90": 0,
         "availability_365": 207,
         "calendar_last_scraped": "2021-04-11",
         "number_of_reviews": 0,
         "number_of_reviews_ltm": 0,
         "number_of_reviews_l30d": 0,
         "first_review": "nan",
         "last_review": "nan",
         "review_scores_rating": "nan",
         "review_scores_accuracy": "nan",
         "review_scores_cleanliness": "nan",
         "review_scores_checkin": "nan",
         "review_scores_communication": "nan",
         "review_scores_location": "nan",
         "review_scores_value": "nan",
         "license": "0363 A169 C048 6ED8 1C00",
         "instant_bookable": "t",
         "calculated_host_listings_count": 1,
         "calculated_host_listings_count_entire_homes": 1,
         "calculated_host_listings_count_private_rooms": 0,
         "calculated_host_listings_count_shared_rooms": 0,
         "reviews_per_month": "nan",
         "_deepnote_index_column": 17821
        },
        {
         "id": 49101225,
         "listing_url": "https://www.airbnb.com/rooms/49101225",
         "scrape_id": 20210409161549,
         "last_scraped": "2021-04-12",
         "name": "Beautiful luxury loft close to city centre",
         "description": "THIS APARTMENT IS IN TRANSVAALBUURT: \"HAPPY NEIGHBOUR\"! SITUATED AT THE HEART OF POPULAR OOSTERPARK QUARTER, A FABULOUSLY BRIGHT, RECENTLY RENOVATED AND SPACIOUS APARTMENT SPANNING WITH A SOUTH-FACING BALCONY.<br /><br /><b>The space</b><br />Layout: <br />- Spacious living room. The sunny balcony at the rear connects to the living room.  Large doors and windows allow for an abundance of natural light. <br />- At the back of the apartment is a bedroom. <br />- The modern and spacious bathroom, fitted with a shower, sink and toilet, is situated between the bedroom and the living room<br /><br /><b>License number</b><br />03631DCF0C172B758647",
         "neighborhood_overview": "The apartment is in Transvaalbuurt, a characteristic, tranquil neighbourhood nearby all amenities; from Dappermarkt to Oosterpark and OLVG hospital to a wide range of restaurants and cafes including Loetje and Bar Bukowski. Unwind and have a barbecue in Oosterpark, explore popular Dapper market or enjoy a cocktail on the rooftop of Volkshotel. There are plenty of grocery shops, boutiques and supermarkets to choose from on Linnaeusstraat, Oosterparkstraat and Oostpoort shopping center.",
         "picture_url": "https://a0.muscache.com/pictures/195f53ba-8e82-4d69-bce6-5b69ee56d3bc.jpg",
         "host_id": 23204045,
         "host_url": "https://www.airbnb.com/users/show/23204045",
         "host_name": "Wes",
         "host_since": "2014-11-01",
         "host_location": "Amsterdam, North Holland, The Netherlands",
         "host_about": "nan",
         "host_response_time": "within an hour",
         "host_response_rate": "100%",
         "host_acceptance_rate": "nan",
         "host_is_superhost": "f",
         "host_thumbnail_url": "https://a0.muscache.com/im/pictures/user/8bc81aa1-5826-4a88-8cf0-458e029305a6.jpg?aki_policy=profile_small",
         "host_picture_url": "https://a0.muscache.com/im/pictures/user/8bc81aa1-5826-4a88-8cf0-458e029305a6.jpg?aki_policy=profile_x_medium",
         "host_neighbourhood": "nan",
         "host_listings_count": 1,
         "host_total_listings_count": 1,
         "host_verifications": "['email', 'phone', 'facebook', 'reviews', 'jumio']",
         "host_has_profile_pic": "t",
         "host_identity_verified": "t",
         "neighbourhood": "Amsterdam, Noord-Holland, Netherlands",
         "neighbourhood_cleansed": "Oud-Oost",
         "neighbourhood_group_cleansed": "nan",
         "latitude": 52.35572,
         "longitude": 4.9244,
         "property_type": "Entire loft",
         "room_type": "Entire home/apt",
         "accommodates": 2,
         "bathrooms": "nan",
         "bathrooms_text": "1.5 baths",
         "bedrooms": 1,
         "beds": "1.0",
         "amenities": "[\"Dishwasher\", \"Long term stays allowed\", \"Clothing storage\", \"Sound system\", \"Conditioner\", \"Hot water\", \"Wifi\", \"Freezer\", \"Coffee maker\", \"Nespresso machine\", \"Drying rack for clothing\", \"Private entrance\", \"Luggage dropoff allowed\", \"Kitchen\", \"Dishes and silverware\", \"Bed linens\", \"Hangers\", \"Wine glasses\", \"Baking sheet\", \"Dryer\", \"Heating\", \"Oven\", \"Hair dryer\", \"Cooking basics\", \"Body soap\", \"Smoke alarm\", \"Shampoo\", \"Washer\", \"Essentials\", \"TV\", \"Game console\", \"Dining table\", \"Cleaning products\", \"Stove\", \"Iron\", \"Refrigerator\", \"Patio or balcony\"]",
         "price": 112,
         "minimum_nights": 1,
         "maximum_nights": 365,
         "minimum_minimum_nights": 1,
         "maximum_minimum_nights": 1,
         "minimum_maximum_nights": 365,
         "maximum_maximum_nights": 365,
         "minimum_nights_avg_ntm": 1,
         "maximum_nights_avg_ntm": 365,
         "calendar_updated": "nan",
         "has_availability": "t",
         "availability_30": 26,
         "availability_60": 56,
         "availability_90": 86,
         "availability_365": 86,
         "calendar_last_scraped": "2021-04-12",
         "number_of_reviews": 0,
         "number_of_reviews_ltm": 0,
         "number_of_reviews_l30d": 0,
         "first_review": "nan",
         "last_review": "nan",
         "review_scores_rating": "nan",
         "review_scores_accuracy": "nan",
         "review_scores_cleanliness": "nan",
         "review_scores_checkin": "nan",
         "review_scores_communication": "nan",
         "review_scores_location": "nan",
         "review_scores_value": "nan",
         "license": "03631DCF0C172B758647",
         "instant_bookable": "f",
         "calculated_host_listings_count": 1,
         "calculated_host_listings_count_entire_homes": 1,
         "calculated_host_listings_count_private_rooms": 0,
         "calculated_host_listings_count_shared_rooms": 0,
         "reviews_per_month": "nan",
         "_deepnote_index_column": 17822
        },
        {
         "id": 49102514,
         "listing_url": "https://www.airbnb.com/rooms/49102514",
         "scrape_id": 20210409161549,
         "last_scraped": "2021-04-11",
         "name": "Cedo Nulli Dutch Holiday Boats",
         "description": "Brand new holiday boats with free parking located in the best of two worlds. Staying in nature on the edge of the bustling city centre.<br /><br /><b>The space</b><br />This lovely brand new renovated  holiday boat in marina \"Het Bosch\" on the Nieuwe Meer near Amsterdam, with parking space in front.<br />The perfect base for your relaxing time on the water. <br />Cedo Nulli is cosy and comfortable. It features a kitchen, living/dining area that can became the second double bed when it's time to sleep. Separate bed room, a shower and toilet. The living/dining  area has windows facing the water, which make it light. <br /><br />The terrace in top is your perfect place for a coffee in the sunny morning or a for a wine in the evening.<br /><br /><b>Guest access</b><br />★ Free Parking <br />★ Privacy and space<br />★ Equipped kitchen<br />★ Wifi and television<br />★ Linen and towels are provided<br /><br /><b>License number</b><br />Exempt",
         "neighborhood_overview": "Marina het Bosch is ideally located in Amsterdam Zuid.<br />You can find the marina on the Jollenpad in Amsterdam, along the A10. Because of its perfect location you will find yourself directly on the Nieuwe Meer and the canals of Amsterdam are within easy reach.<br /><br />The restaurant \"Het Bosch Waterfront Kitchen\" and Dolphin Wellness (Yoga) are located at the marina.  The supermarket, other stores and Het Amsterdamse Bos to have a great walk are within walking distance. The city center of Amsterdam is 20 minutes drive by car.",
         "picture_url": "https://a0.muscache.com/pictures/prohost-api/Hosting-49102514/original/ee437512-5604-4714-9383-4004c72bb4b6.jpeg",
         "host_id": 26206455,
         "host_url": "https://www.airbnb.com/users/show/26206455",
         "host_name": "Dionne",
         "host_since": "2015-01-16",
         "host_location": "Zandvoort, Noord-Holland, Netherlands",
         "host_about": "Hi, we are Smiling Host, we enjoy giving other people a pleasant time. That's the reason we start the business Smiling host. Let us know what you want to explore and we help you to fill your holiday!  ",
         "host_response_time": "within an hour",
         "host_response_rate": "92%",
         "host_acceptance_rate": "98%",
         "host_is_superhost": "f",
         "host_thumbnail_url": "https://a0.muscache.com/im/pictures/user/933a0579-c9d7-43e4-9cb5-d57b38d9466f.jpg?aki_policy=profile_small",
         "host_picture_url": "https://a0.muscache.com/im/pictures/user/933a0579-c9d7-43e4-9cb5-d57b38d9466f.jpg?aki_policy=profile_x_medium",
         "host_neighbourhood": "nan",
         "host_listings_count": 71,
         "host_total_listings_count": 71,
         "host_verifications": "['email', 'phone', 'reviews', 'manual_offline', 'jumio', 'offline_government_id', 'selfie', 'government_id', 'identity_manual']",
         "host_has_profile_pic": "t",
         "host_identity_verified": "t",
         "neighbourhood": "Amsterdam, Noord-Holland, Netherlands",
         "neighbourhood_cleansed": "Buitenveldert - Zuidas",
         "neighbourhood_group_cleansed": "nan",
         "latitude": 52.33656,
         "longitude": 4.84835,
         "property_type": "Boat",
         "room_type": "Entire home/apt",
         "accommodates": 4,
         "bathrooms": "nan",
         "bathrooms_text": "1 bath",
         "bedrooms": 2,
         "beds": "3.0",
         "amenities": "[\"TV\", \"Essentials\", \"First aid kit\", \"Wifi\", \"Carbon monoxide alarm\", \"Heating\", \"Free street parking\", \"Long term stays allowed\", \"Hair dryer\", \"Coffee maker\", \"Smoke alarm\", \"Shampoo\", \"Cooking basics\", \"Kitchen\", \"Dishes and silverware\", \"Refrigerator\", \"Fire extinguisher\", \"Bed linens\", \"Free parking on premises\", \"Single level home\"]",
         "price": 107,
         "minimum_nights": 1,
         "maximum_nights": 365,
         "minimum_minimum_nights": 1,
         "maximum_minimum_nights": 3,
         "minimum_maximum_nights": 2,
         "maximum_maximum_nights": 365,
         "minimum_nights_avg_ntm": 2.1,
         "maximum_nights_avg_ntm": 39.4,
         "calendar_updated": "nan",
         "has_availability": "t",
         "availability_30": 10,
         "availability_60": 40,
         "availability_90": 70,
         "availability_365": 335,
         "calendar_last_scraped": "2021-04-11",
         "number_of_reviews": 0,
         "number_of_reviews_ltm": 0,
         "number_of_reviews_l30d": 0,
         "first_review": "nan",
         "last_review": "nan",
         "review_scores_rating": "nan",
         "review_scores_accuracy": "nan",
         "review_scores_cleanliness": "nan",
         "review_scores_checkin": "nan",
         "review_scores_communication": "nan",
         "review_scores_location": "nan",
         "review_scores_value": "nan",
         "license": "Exempt",
         "instant_bookable": "t",
         "calculated_host_listings_count": 1,
         "calculated_host_listings_count_entire_homes": 1,
         "calculated_host_listings_count_private_rooms": 0,
         "calculated_host_listings_count_shared_rooms": 0,
         "reviews_per_month": "nan",
         "_deepnote_index_column": 17823
        },
        {
         "id": 49119460,
         "listing_url": "https://www.airbnb.com/rooms/49119460",
         "scrape_id": 20210409161549,
         "last_scraped": "2021-04-11",
         "name": "New amazing 4 person Jordaan Apartment",
         "description": "Very luxurious and spacious apartment in the best area of Amsterdam.The Jordaan area9 straatjes area.<br /><br />Perfect for 4 people who want to enjoy their vacation to the max! The city centre of Amsterdam offers plenty of stuff to do and places to see. Anne Frank House, Vondelpark, Foam Photography Museum, Rijksmuseum, Leideseplein- one of the city’s most popular nightlife areas, home to famous music venues, fun dance clubs, relaxed bars and more and many more to see!<br /><br /><b>License number</b><br />Exempt",
         "neighborhood_overview": "nan",
         "picture_url": "https://a0.muscache.com/pictures/4f5ef2a4-655a-4296-9e66-57602759e95d.jpg",
         "host_id": 37752619,
         "host_url": "https://www.airbnb.com/users/show/37752619",
         "host_name": "Joost",
         "host_since": "2015-07-07",
         "host_location": "Amsterdam, North Holland, Netherlands",
         "host_about": "nan",
         "host_response_time": "within an hour",
         "host_response_rate": "90%",
         "host_acceptance_rate": "99%",
         "host_is_superhost": "f",
         "host_thumbnail_url": "https://a0.muscache.com/im/pictures/user/9b9cfaf4-f824-4d88-95ba-adfa199c2b9f.jpg?aki_policy=profile_small",
         "host_picture_url": "https://a0.muscache.com/im/pictures/user/9b9cfaf4-f824-4d88-95ba-adfa199c2b9f.jpg?aki_policy=profile_x_medium",
         "host_neighbourhood": "Museumkwartier",
         "host_listings_count": 5,
         "host_total_listings_count": 5,
         "host_verifications": "['email', 'phone', 'reviews', 'jumio', 'offline_government_id', 'selfie', 'government_id', 'identity_manual']",
         "host_has_profile_pic": "t",
         "host_identity_verified": "t",
         "neighbourhood": "nan",
         "neighbourhood_cleansed": "Centrum-West",
         "neighbourhood_group_cleansed": "nan",
         "latitude": 52.37466,
         "longitude": 4.88055,
         "property_type": "Entire apartment",
         "room_type": "Entire home/apt",
         "accommodates": 4,
         "bathrooms": "nan",
         "bathrooms_text": "2 baths",
         "bedrooms": 2,
         "beds": "2.0",
         "amenities": "[\"Essentials\", \"TV\", \"Long term stays allowed\", \"Wifi\", \"Dryer\", \"Heating\", \"Pack \\u2019n Play/travel crib\", \"Private entrance\", \"Smoke alarm\", \"Shampoo\", \"Kitchen\", \"Cooking basics\", \"Washer\", \"Carbon monoxide alarm\", \"Dedicated workspace\", \"Hangers\"]",
         "price": 94,
         "minimum_nights": 4,
         "maximum_nights": 180,
         "minimum_minimum_nights": 4,
         "maximum_minimum_nights": 4,
         "minimum_maximum_nights": 1125,
         "maximum_maximum_nights": 1125,
         "minimum_nights_avg_ntm": 4,
         "maximum_nights_avg_ntm": 1125,
         "calendar_updated": "nan",
         "has_availability": "t",
         "availability_30": 12,
         "availability_60": 42,
         "availability_90": 72,
         "availability_365": 343,
         "calendar_last_scraped": "2021-04-11",
         "number_of_reviews": 0,
         "number_of_reviews_ltm": 0,
         "number_of_reviews_l30d": 0,
         "first_review": "nan",
         "last_review": "nan",
         "review_scores_rating": "nan",
         "review_scores_accuracy": "nan",
         "review_scores_cleanliness": "nan",
         "review_scores_checkin": "nan",
         "review_scores_communication": "nan",
         "review_scores_location": "nan",
         "review_scores_value": "nan",
         "license": "Exempt",
         "instant_bookable": "t",
         "calculated_host_listings_count": 6,
         "calculated_host_listings_count_entire_homes": 6,
         "calculated_host_listings_count_private_rooms": 0,
         "calculated_host_listings_count_shared_rooms": 0,
         "reviews_per_month": "nan",
         "_deepnote_index_column": 17824
        }
       ]
      },
      "text/plain": "             id                            listing_url       scrape_id  \\\n0          2818      https://www.airbnb.com/rooms/2818  20210409161549   \n1         20168     https://www.airbnb.com/rooms/20168  20210409161549   \n2         25428     https://www.airbnb.com/rooms/25428  20210409161549   \n3         27886     https://www.airbnb.com/rooms/27886  20210409161549   \n4         28871     https://www.airbnb.com/rooms/28871  20210409161549   \n...         ...                                    ...             ...   \n17820  49085366  https://www.airbnb.com/rooms/49085366  20210409161549   \n17821  49089176  https://www.airbnb.com/rooms/49089176  20210409161549   \n17822  49101225  https://www.airbnb.com/rooms/49101225  20210409161549   \n17823  49102514  https://www.airbnb.com/rooms/49102514  20210409161549   \n17824  49119460  https://www.airbnb.com/rooms/49119460  20210409161549   \n\n      last_scraped                                               name  \\\n0       2021-04-12           Quiet Garden View Room & Super Fast WiFi   \n1       2021-04-12       Studio with private bathroom in the centre 1   \n2       2021-04-11  Lovely, 1 bed apt in Ctr (w.lift) -3/20-6/20(f...   \n3       2021-04-11  Romantic, stylish B&B houseboat in canal district   \n4       2021-04-13                            Comfortable double room   \n...            ...                                                ...   \n17820   2021-04-11                                  Kloveniers Studio   \n17821   2021-04-11      Prachtig, gerenoveerd appartement in de Pijp!   \n17822   2021-04-12         Beautiful luxury loft close to city centre   \n17823   2021-04-11                     Cedo Nulli Dutch Holiday Boats   \n17824   2021-04-11             New amazing 4 person Jordaan Apartment   \n\n                                             description  \\\n0      Quiet Garden View Room & Super Fast WiFi<br />...   \n1      17th century Dutch townhouse in the heart of t...   \n2      Lovely apt in Centre ( lift & fireplace) near ...   \n3      Stylish and romantic houseboat on fantastic hi...   \n4      <b>The space</b><br />In a monumental house ri...   \n...                                                  ...   \n17820  Great studio to enjoy a couple of days in Amst...   \n17821  Dit volledig gerenoveerde appartement is gesch...   \n17822  THIS APARTMENT IS IN TRANSVAALBUURT: \"HAPPY NE...   \n17823  Brand new holiday boats with free parking loca...   \n17824  Very luxurious and spacious apartment in the b...   \n\n                                   neighborhood_overview  \\\n0      Indische Buurt (\"Indies Neighborhood\") is a ne...   \n1      Located just in between famous central canals....   \n2                                                    NaN   \n3             Central, quiet, safe, clean and beautiful.   \n4           Flower market , Leidseplein , Rembrantsplein   \n...                                                  ...   \n17820  An oasis of calm in the middle of the city of ...   \n17821                                                NaN   \n17822  The apartment is in Transvaalbuurt, a characte...   \n17823  Marina het Bosch is ideally located in Amsterd...   \n17824                                                NaN   \n\n                                             picture_url    host_id  \\\n0      https://a0.muscache.com/pictures/10272854/8dcc...       3159   \n1      https://a0.muscache.com/pictures/69979628/fd6a...      59484   \n2      https://a0.muscache.com/pictures/138431/7079a9...      56142   \n3      https://a0.muscache.com/pictures/02c2da9d-660e...      97647   \n4      https://a0.muscache.com/pictures/160889/362340...     124245   \n...                                                  ...        ...   \n17820  https://a0.muscache.com/pictures/f306ad6d-aa82...  395882585   \n17821  https://a0.muscache.com/pictures/0692f782-b1b3...   68481315   \n17822  https://a0.muscache.com/pictures/195f53ba-8e82...   23204045   \n17823  https://a0.muscache.com/pictures/prohost-api/H...   26206455   \n17824  https://a0.muscache.com/pictures/4f5ef2a4-655a...   37752619   \n\n                                          host_url  ...  \\\n0           https://www.airbnb.com/users/show/3159  ...   \n1          https://www.airbnb.com/users/show/59484  ...   \n2          https://www.airbnb.com/users/show/56142  ...   \n3          https://www.airbnb.com/users/show/97647  ...   \n4         https://www.airbnb.com/users/show/124245  ...   \n...                                            ...  ...   \n17820  https://www.airbnb.com/users/show/395882585  ...   \n17821   https://www.airbnb.com/users/show/68481315  ...   \n17822   https://www.airbnb.com/users/show/23204045  ...   \n17823   https://www.airbnb.com/users/show/26206455  ...   \n17824   https://www.airbnb.com/users/show/37752619  ...   \n\n      review_scores_communication review_scores_location review_scores_value  \\\n0                            10.0                    9.0                10.0   \n1                            10.0                   10.0                 9.0   \n2                            10.0                   10.0                10.0   \n3                            10.0                   10.0                10.0   \n4                            10.0                   10.0                10.0   \n...                           ...                    ...                 ...   \n17820                         NaN                    NaN                 NaN   \n17821                         NaN                    NaN                 NaN   \n17822                         NaN                    NaN                 NaN   \n17823                         NaN                    NaN                 NaN   \n17824                         NaN                    NaN                 NaN   \n\n                        license instant_bookable  \\\n0                           NaN                t   \n1      0363 CBB3 2C10 0C2A 1E29                t   \n2                           NaN                f   \n3      0363 974D 4986 7411 88D8                t   \n4      0363 607B EA74 0BD8 2F6F                f   \n...                         ...              ...   \n17820  0363 B62C 0694 FC6B 277F                t   \n17821  0363 A169 C048 6ED8 1C00                t   \n17822      03631DCF0C172B758647                f   \n17823                    Exempt                t   \n17824                    Exempt                t   \n\n      calculated_host_listings_count  \\\n0                                  1   \n1                                  2   \n2                                  2   \n3                                  1   \n4                                  2   \n...                              ...   \n17820                              1   \n17821                              1   \n17822                              1   \n17823                              1   \n17824                              6   \n\n      calculated_host_listings_count_entire_homes  \\\n0                                               0   \n1                                               0   \n2                                               2   \n3                                               0   \n4                                               0   \n...                                           ...   \n17820                                           0   \n17821                                           1   \n17822                                           1   \n17823                                           1   \n17824                                           6   \n\n      calculated_host_listings_count_private_rooms  \\\n0                                                1   \n1                                                2   \n2                                                0   \n3                                                1   \n4                                                2   \n...                                            ...   \n17820                                            1   \n17821                                            0   \n17822                                            0   \n17823                                            0   \n17824                                            0   \n\n      calculated_host_listings_count_shared_rooms reviews_per_month  \n0                                               0              1.90  \n1                                               0              2.50  \n2                                               0              0.13  \n3                                               0              1.94  \n4                                               0              2.59  \n...                                           ...               ...  \n17820                                           0               NaN  \n17821                                           0               NaN  \n17822                                           0               NaN  \n17823                                           0               NaN  \n17824                                           0               NaN  \n\n[17816 rows x 74 columns]",
      "text/html": "<div>\n<style scoped>\n    .dataframe tbody tr th:only-of-type {\n        vertical-align: middle;\n    }\n\n    .dataframe tbody tr th {\n        vertical-align: top;\n    }\n\n    .dataframe thead th {\n        text-align: right;\n    }\n</style>\n<table border=\"1\" class=\"dataframe\">\n  <thead>\n    <tr style=\"text-align: right;\">\n      <th></th>\n      <th>id</th>\n      <th>listing_url</th>\n      <th>scrape_id</th>\n      <th>last_scraped</th>\n      <th>name</th>\n      <th>description</th>\n      <th>neighborhood_overview</th>\n      <th>picture_url</th>\n      <th>host_id</th>\n      <th>host_url</th>\n      <th>...</th>\n      <th>review_scores_communication</th>\n      <th>review_scores_location</th>\n      <th>review_scores_value</th>\n      <th>license</th>\n      <th>instant_bookable</th>\n      <th>calculated_host_listings_count</th>\n      <th>calculated_host_listings_count_entire_homes</th>\n      <th>calculated_host_listings_count_private_rooms</th>\n      <th>calculated_host_listings_count_shared_rooms</th>\n      <th>reviews_per_month</th>\n    </tr>\n  </thead>\n  <tbody>\n    <tr>\n      <th>0</th>\n      <td>2818</td>\n      <td>https://www.airbnb.com/rooms/2818</td>\n      <td>20210409161549</td>\n      <td>2021-04-12</td>\n      <td>Quiet Garden View Room &amp; Super Fast WiFi</td>\n      <td>Quiet Garden View Room &amp; Super Fast WiFi&lt;br /&gt;...</td>\n      <td>Indische Buurt (\"Indies Neighborhood\") is a ne...</td>\n      <td>https://a0.muscache.com/pictures/10272854/8dcc...</td>\n      <td>3159</td>\n      <td>https://www.airbnb.com/users/show/3159</td>\n      <td>...</td>\n      <td>10.0</td>\n      <td>9.0</td>\n      <td>10.0</td>\n      <td>NaN</td>\n      <td>t</td>\n      <td>1</td>\n      <td>0</td>\n      <td>1</td>\n      <td>0</td>\n      <td>1.90</td>\n    </tr>\n    <tr>\n      <th>1</th>\n      <td>20168</td>\n      <td>https://www.airbnb.com/rooms/20168</td>\n      <td>20210409161549</td>\n      <td>2021-04-12</td>\n      <td>Studio with private bathroom in the centre 1</td>\n      <td>17th century Dutch townhouse in the heart of t...</td>\n      <td>Located just in between famous central canals....</td>\n      <td>https://a0.muscache.com/pictures/69979628/fd6a...</td>\n      <td>59484</td>\n      <td>https://www.airbnb.com/users/show/59484</td>\n      <td>...</td>\n      <td>10.0</td>\n      <td>10.0</td>\n      <td>9.0</td>\n      <td>0363 CBB3 2C10 0C2A 1E29</td>\n      <td>t</td>\n      <td>2</td>\n      <td>0</td>\n      <td>2</td>\n      <td>0</td>\n      <td>2.50</td>\n    </tr>\n    <tr>\n      <th>2</th>\n      <td>25428</td>\n      <td>https://www.airbnb.com/rooms/25428</td>\n      <td>20210409161549</td>\n      <td>2021-04-11</td>\n      <td>Lovely, 1 bed apt in Ctr (w.lift) -3/20-6/20(f...</td>\n      <td>Lovely apt in Centre ( lift &amp; fireplace) near ...</td>\n      <td>NaN</td>\n      <td>https://a0.muscache.com/pictures/138431/7079a9...</td>\n      <td>56142</td>\n      <td>https://www.airbnb.com/users/show/56142</td>\n      <td>...</td>\n      <td>10.0</td>\n      <td>10.0</td>\n      <td>10.0</td>\n      <td>NaN</td>\n      <td>f</td>\n      <td>2</td>\n      <td>2</td>\n      <td>0</td>\n      <td>0</td>\n      <td>0.13</td>\n    </tr>\n    <tr>\n      <th>3</th>\n      <td>27886</td>\n      <td>https://www.airbnb.com/rooms/27886</td>\n      <td>20210409161549</td>\n      <td>2021-04-11</td>\n      <td>Romantic, stylish B&amp;B houseboat in canal district</td>\n      <td>Stylish and romantic houseboat on fantastic hi...</td>\n      <td>Central, quiet, safe, clean and beautiful.</td>\n      <td>https://a0.muscache.com/pictures/02c2da9d-660e...</td>\n      <td>97647</td>\n      <td>https://www.airbnb.com/users/show/97647</td>\n      <td>...</td>\n      <td>10.0</td>\n      <td>10.0</td>\n      <td>10.0</td>\n      <td>0363 974D 4986 7411 88D8</td>\n      <td>t</td>\n      <td>1</td>\n      <td>0</td>\n      <td>1</td>\n      <td>0</td>\n      <td>1.94</td>\n    </tr>\n    <tr>\n      <th>4</th>\n      <td>28871</td>\n      <td>https://www.airbnb.com/rooms/28871</td>\n      <td>20210409161549</td>\n      <td>2021-04-13</td>\n      <td>Comfortable double room</td>\n      <td>&lt;b&gt;The space&lt;/b&gt;&lt;br /&gt;In a monumental house ri...</td>\n      <td>Flower market , Leidseplein , Rembrantsplein</td>\n      <td>https://a0.muscache.com/pictures/160889/362340...</td>\n      <td>124245</td>\n      <td>https://www.airbnb.com/users/show/124245</td>\n      <td>...</td>\n      <td>10.0</td>\n      <td>10.0</td>\n      <td>10.0</td>\n      <td>0363 607B EA74 0BD8 2F6F</td>\n      <td>f</td>\n      <td>2</td>\n      <td>0</td>\n      <td>2</td>\n      <td>0</td>\n      <td>2.59</td>\n    </tr>\n    <tr>\n      <th>...</th>\n      <td>...</td>\n      <td>...</td>\n      <td>...</td>\n      <td>...</td>\n      <td>...</td>\n      <td>...</td>\n      <td>...</td>\n      <td>...</td>\n      <td>...</td>\n      <td>...</td>\n      <td>...</td>\n      <td>...</td>\n      <td>...</td>\n      <td>...</td>\n      <td>...</td>\n      <td>...</td>\n      <td>...</td>\n      <td>...</td>\n      <td>...</td>\n      <td>...</td>\n      <td>...</td>\n    </tr>\n    <tr>\n      <th>17820</th>\n      <td>49085366</td>\n      <td>https://www.airbnb.com/rooms/49085366</td>\n      <td>20210409161549</td>\n      <td>2021-04-11</td>\n      <td>Kloveniers Studio</td>\n      <td>Great studio to enjoy a couple of days in Amst...</td>\n      <td>An oasis of calm in the middle of the city of ...</td>\n      <td>https://a0.muscache.com/pictures/f306ad6d-aa82...</td>\n      <td>395882585</td>\n      <td>https://www.airbnb.com/users/show/395882585</td>\n      <td>...</td>\n      <td>NaN</td>\n      <td>NaN</td>\n      <td>NaN</td>\n      <td>0363 B62C 0694 FC6B 277F</td>\n      <td>t</td>\n      <td>1</td>\n      <td>0</td>\n      <td>1</td>\n      <td>0</td>\n      <td>NaN</td>\n    </tr>\n    <tr>\n      <th>17821</th>\n      <td>49089176</td>\n      <td>https://www.airbnb.com/rooms/49089176</td>\n      <td>20210409161549</td>\n      <td>2021-04-11</td>\n      <td>Prachtig, gerenoveerd appartement in de Pijp!</td>\n      <td>Dit volledig gerenoveerde appartement is gesch...</td>\n      <td>NaN</td>\n      <td>https://a0.muscache.com/pictures/0692f782-b1b3...</td>\n      <td>68481315</td>\n      <td>https://www.airbnb.com/users/show/68481315</td>\n      <td>...</td>\n      <td>NaN</td>\n      <td>NaN</td>\n      <td>NaN</td>\n      <td>0363 A169 C048 6ED8 1C00</td>\n      <td>t</td>\n      <td>1</td>\n      <td>1</td>\n      <td>0</td>\n      <td>0</td>\n      <td>NaN</td>\n    </tr>\n    <tr>\n      <th>17822</th>\n      <td>49101225</td>\n      <td>https://www.airbnb.com/rooms/49101225</td>\n      <td>20210409161549</td>\n      <td>2021-04-12</td>\n      <td>Beautiful luxury loft close to city centre</td>\n      <td>THIS APARTMENT IS IN TRANSVAALBUURT: \"HAPPY NE...</td>\n      <td>The apartment is in Transvaalbuurt, a characte...</td>\n      <td>https://a0.muscache.com/pictures/195f53ba-8e82...</td>\n      <td>23204045</td>\n      <td>https://www.airbnb.com/users/show/23204045</td>\n      <td>...</td>\n      <td>NaN</td>\n      <td>NaN</td>\n      <td>NaN</td>\n      <td>03631DCF0C172B758647</td>\n      <td>f</td>\n      <td>1</td>\n      <td>1</td>\n      <td>0</td>\n      <td>0</td>\n      <td>NaN</td>\n    </tr>\n    <tr>\n      <th>17823</th>\n      <td>49102514</td>\n      <td>https://www.airbnb.com/rooms/49102514</td>\n      <td>20210409161549</td>\n      <td>2021-04-11</td>\n      <td>Cedo Nulli Dutch Holiday Boats</td>\n      <td>Brand new holiday boats with free parking loca...</td>\n      <td>Marina het Bosch is ideally located in Amsterd...</td>\n      <td>https://a0.muscache.com/pictures/prohost-api/H...</td>\n      <td>26206455</td>\n      <td>https://www.airbnb.com/users/show/26206455</td>\n      <td>...</td>\n      <td>NaN</td>\n      <td>NaN</td>\n      <td>NaN</td>\n      <td>Exempt</td>\n      <td>t</td>\n      <td>1</td>\n      <td>1</td>\n      <td>0</td>\n      <td>0</td>\n      <td>NaN</td>\n    </tr>\n    <tr>\n      <th>17824</th>\n      <td>49119460</td>\n      <td>https://www.airbnb.com/rooms/49119460</td>\n      <td>20210409161549</td>\n      <td>2021-04-11</td>\n      <td>New amazing 4 person Jordaan Apartment</td>\n      <td>Very luxurious and spacious apartment in the b...</td>\n      <td>NaN</td>\n      <td>https://a0.muscache.com/pictures/4f5ef2a4-655a...</td>\n      <td>37752619</td>\n      <td>https://www.airbnb.com/users/show/37752619</td>\n      <td>...</td>\n      <td>NaN</td>\n      <td>NaN</td>\n      <td>NaN</td>\n      <td>Exempt</td>\n      <td>t</td>\n      <td>6</td>\n      <td>6</td>\n      <td>0</td>\n      <td>0</td>\n      <td>NaN</td>\n    </tr>\n  </tbody>\n</table>\n<p>17816 rows × 74 columns</p>\n</div>"
     },
     "metadata": {}
    }
   ]
  },
  {
   "cell_type": "code",
   "metadata": {
    "tags": [],
    "cell_id": "00007-41a27eb3-6626-4b02-97f1-cc4188ecbb8b",
    "deepnote_to_be_reexecuted": false,
    "source_hash": "d0ad8e93",
    "execution_start": 1620467324610,
    "execution_millis": 923,
    "deepnote_cell_type": "code"
   },
   "source": "sns.regplot(x=\"review_scores_location\", y=\"price\", data=lower_prices)\nlower_prices[[\"review_scores_location\", \"price\"]].corr()",
   "execution_count": null,
   "outputs": [
    {
     "output_type": "execute_result",
     "execution_count": 29,
     "data": {
      "application/vnd.deepnote.dataframe.v2+json": {
       "row_count": 2,
       "column_count": 2,
       "columns": [
        {
         "name": "review_scores_location",
         "dtype": "float64",
         "stats": {
          "unique_count": 2,
          "nan_count": 0,
          "min": "0.10012977961690687",
          "max": "1.0",
          "histogram": [
           {
            "bin_start": 0.10012977961690687,
            "bin_end": 0.1901168016552162,
            "count": 1
           },
           {
            "bin_start": 0.1901168016552162,
            "bin_end": 0.2801038236935255,
            "count": 0
           },
           {
            "bin_start": 0.2801038236935255,
            "bin_end": 0.3700908457318348,
            "count": 0
           },
           {
            "bin_start": 0.3700908457318348,
            "bin_end": 0.46007786777014414,
            "count": 0
           },
           {
            "bin_start": 0.46007786777014414,
            "bin_end": 0.5500648898084535,
            "count": 0
           },
           {
            "bin_start": 0.5500648898084535,
            "bin_end": 0.6400519118467627,
            "count": 0
           },
           {
            "bin_start": 0.6400519118467627,
            "bin_end": 0.730038933885072,
            "count": 0
           },
           {
            "bin_start": 0.730038933885072,
            "bin_end": 0.8200259559233813,
            "count": 0
           },
           {
            "bin_start": 0.8200259559233813,
            "bin_end": 0.9100129779616907,
            "count": 0
           },
           {
            "bin_start": 0.9100129779616907,
            "bin_end": 1,
            "count": 1
           }
          ]
         }
        },
        {
         "name": "price",
         "dtype": "float64",
         "stats": {
          "unique_count": 2,
          "nan_count": 0,
          "min": "0.10012977961690687",
          "max": "1.0",
          "histogram": [
           {
            "bin_start": 0.10012977961690687,
            "bin_end": 0.1901168016552162,
            "count": 1
           },
           {
            "bin_start": 0.1901168016552162,
            "bin_end": 0.2801038236935255,
            "count": 0
           },
           {
            "bin_start": 0.2801038236935255,
            "bin_end": 0.3700908457318348,
            "count": 0
           },
           {
            "bin_start": 0.3700908457318348,
            "bin_end": 0.46007786777014414,
            "count": 0
           },
           {
            "bin_start": 0.46007786777014414,
            "bin_end": 0.5500648898084535,
            "count": 0
           },
           {
            "bin_start": 0.5500648898084535,
            "bin_end": 0.6400519118467627,
            "count": 0
           },
           {
            "bin_start": 0.6400519118467627,
            "bin_end": 0.730038933885072,
            "count": 0
           },
           {
            "bin_start": 0.730038933885072,
            "bin_end": 0.8200259559233813,
            "count": 0
           },
           {
            "bin_start": 0.8200259559233813,
            "bin_end": 0.9100129779616907,
            "count": 0
           },
           {
            "bin_start": 0.9100129779616907,
            "bin_end": 1,
            "count": 1
           }
          ]
         }
        },
        {
         "name": "_deepnote_index_column",
         "dtype": "object"
        }
       ],
       "rows_top": [
        {
         "review_scores_location": 1,
         "price": 0.10012977961690687,
         "_deepnote_index_column": "review_scores_location"
        },
        {
         "review_scores_location": 0.10012977961690687,
         "price": 1,
         "_deepnote_index_column": "price"
        }
       ],
       "rows_bottom": null
      },
      "text/plain": "                        review_scores_location    price\nreview_scores_location                 1.00000  0.10013\nprice                                  0.10013  1.00000",
      "text/html": "<div>\n<style scoped>\n    .dataframe tbody tr th:only-of-type {\n        vertical-align: middle;\n    }\n\n    .dataframe tbody tr th {\n        vertical-align: top;\n    }\n\n    .dataframe thead th {\n        text-align: right;\n    }\n</style>\n<table border=\"1\" class=\"dataframe\">\n  <thead>\n    <tr style=\"text-align: right;\">\n      <th></th>\n      <th>review_scores_location</th>\n      <th>price</th>\n    </tr>\n  </thead>\n  <tbody>\n    <tr>\n      <th>review_scores_location</th>\n      <td>1.00000</td>\n      <td>0.10013</td>\n    </tr>\n    <tr>\n      <th>price</th>\n      <td>0.10013</td>\n      <td>1.00000</td>\n    </tr>\n  </tbody>\n</table>\n</div>"
     },
     "metadata": {}
    },
    {
     "data": {
      "text/plain": "<Figure size 432x288 with 1 Axes>",
      "image/png": "[encoded data removed]"
     },
     "metadata": {
      "needs_background": "light",
      "image/png": {
       "width": 401,
       "height": 265
      }
     },
     "output_type": "display_data"
    }
   ]
  },
  {
   "cell_type": "code",
   "metadata": {
    "tags": [],
    "cell_id": "00008-d6ea78ab-a4f8-4d92-9b32-51c26b4033fe",
    "deepnote_to_be_reexecuted": false,
    "source_hash": "4346e604",
    "execution_start": 1620467699465,
    "execution_millis": 3893,
    "deepnote_cell_type": "code"
   },
   "source": "sns.boxplot(x=\"neighbourhood_cleansed\", y=\"price\", data=lower_prices, hue=\"review_scores_location\")",
   "execution_count": null,
   "outputs": [
    {
     "output_type": "execute_result",
     "execution_count": 38,
     "data": {
      "text/plain": "<AxesSubplot:xlabel='neighbourhood_cleansed', ylabel='price'>"
     },
     "metadata": {}
    },
    {
     "data": {
      "text/plain": "<Figure size 432x288 with 1 Axes>",
      "image/png": "[encoded data removed]"
     },
     "metadata": {
      "needs_background": "light",
      "image/png": {
       "width": 477,
       "height": 265
      }
     },
     "output_type": "display_data"
    }
   ]
  },
  {
   "cell_type": "markdown",
   "source": "<a style='text-decoration:none;line-height:16px;display:flex;color:#5B5B62;padding:10px;justify-content:end;' href='https://deepnote.com?utm_source=created-in-deepnote-cell&projectId=12efa9a5-d3d7-432c-bbd5-938ba450dd47' target=\"_blank\">\n<img alt='Created in deepnote.com' style='display:inline;max-height:16px;margin:0px;margin-right:7.5px;' src='data:image/svg+xml;base64,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' > </img>\nCreated in <span style='font-weight:600;margin-left:4px;'>Deepnote</span></a>",
   "metadata": {
    "tags": [],
    "created_in_deepnote_cell": true,
    "deepnote_cell_type": "markdown"
   }
  }
 ],
 "nbformat": 4,
 "nbformat_minor": 2,
 "metadata": {
  "orig_nbformat": 2,
  "deepnote": {
   "is_reactive": false
  },
  "deepnote_notebook_id": "54c0876d-4740-4efb-ba60-ef551f36eabc",
  "deepnote_execution_queue": []
 }
}