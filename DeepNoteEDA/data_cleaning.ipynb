{
 "cells": [
  {
   "cell_type": "code",
   "metadata": {
    "tags": [],
    "cell_id": "00000-4167b70f-006f-4a08-ba3a-0e52f05bd302",
    "deepnote_to_be_reexecuted": false,
    "source_hash": "8b0e2dce",
    "execution_start": 1621854348432,
    "execution_millis": 4909,
    "deepnote_cell_type": "code"
   },
   "source": "import pandas as pd\nimport numpy as np\nimport matplotlib.pyplot as plt\nimport seaborn as sns\n%matplotlib inline\ndataframe=pd.read_csv(\"/work/Colaboratory-Notes/DeepNoteEDA/listings.csv.gz\")\ndf=dataframe",
   "execution_count": 1,
   "outputs": []
  },
  {
   "cell_type": "code",
   "metadata": {
    "tags": [],
    "cell_id": "00001-20e9ffef-41f0-4e61-a606-91fc9dfd9bd0",
    "deepnote_to_be_reexecuted": false,
    "source_hash": "838c0c28",
    "execution_start": 1621854353362,
    "execution_millis": 546,
    "deepnote_cell_type": "code"
   },
   "source": "df.tail()",
   "execution_count": 2,
   "outputs": [
    {
     "output_type": "execute_result",
     "execution_count": 2,
     "data": {
      "application/vnd.deepnote.dataframe.v2+json": {
       "row_count": 5,
       "column_count": 74,
       "columns": [
        {
         "name": "id",
         "dtype": "int64",
         "stats": {
          "unique_count": 5,
          "nan_count": 0,
          "min": "49085366",
          "max": "49119460",
          "histogram": [
           {
            "bin_start": 49085366,
            "bin_end": 49088775.4,
            "count": 1
           },
           {
            "bin_start": 49088775.4,
            "bin_end": 49092184.8,
            "count": 1
           },
           {
            "bin_start": 49092184.8,
            "bin_end": 49095594.2,
            "count": 0
           },
           {
            "bin_start": 49095594.2,
            "bin_end": 49099003.6,
            "count": 0
           },
           {
            "bin_start": 49099003.6,
            "bin_end": 49102413,
            "count": 1
           },
           {
            "bin_start": 49102413,
            "bin_end": 49105822.4,
            "count": 1
           },
           {
            "bin_start": 49105822.4,
            "bin_end": 49109231.8,
            "count": 0
           },
           {
            "bin_start": 49109231.8,
            "bin_end": 49112641.2,
            "count": 0
           },
           {
            "bin_start": 49112641.2,
            "bin_end": 49116050.6,
            "count": 0
           },
           {
            "bin_start": 49116050.6,
            "bin_end": 49119460,
            "count": 1
           }
          ]
         }
        },
        {
         "name": "listing_url",
         "dtype": "object",
         "stats": {
          "unique_count": 5,
          "nan_count": 0,
          "categories": [
           {
            "name": "https://www.airbnb.com/rooms/49085366",
            "count": 1
           },
           {
            "name": "https://www.airbnb.com/rooms/49089176",
            "count": 1
           },
           {
            "name": "3 others",
            "count": 3
           }
          ]
         }
        },
        {
         "name": "scrape_id",
         "dtype": "int64",
         "stats": {
          "unique_count": 1,
          "nan_count": 0,
          "min": "20210409161549",
          "max": "20210409161549",
          "histogram": [
           {
            "bin_start": 20210409161548.5,
            "bin_end": 20210409161548.6,
            "count": 0
           },
           {
            "bin_start": 20210409161548.6,
            "bin_end": 20210409161548.7,
            "count": 0
           },
           {
            "bin_start": 20210409161548.7,
            "bin_end": 20210409161548.8,
            "count": 0
           },
           {
            "bin_start": 20210409161548.8,
            "bin_end": 20210409161548.9,
            "count": 0
           },
           {
            "bin_start": 20210409161548.9,
            "bin_end": 20210409161549,
            "count": 0
           },
           {
            "bin_start": 20210409161549,
            "bin_end": 20210409161549.1,
            "count": 5
           },
           {
            "bin_start": 20210409161549.1,
            "bin_end": 20210409161549.2,
            "count": 0
           },
           {
            "bin_start": 20210409161549.2,
            "bin_end": 20210409161549.3,
            "count": 0
           },
           {
            "bin_start": 20210409161549.3,
            "bin_end": 20210409161549.4,
            "count": 0
           },
           {
            "bin_start": 20210409161549.4,
            "bin_end": 20210409161549.5,
            "count": 0
           }
          ]
         }
        },
        {
         "name": "last_scraped",
         "dtype": "object",
         "stats": {
          "unique_count": 2,
          "nan_count": 0,
          "categories": [
           {
            "name": "2021-04-11",
            "count": 4
           },
           {
            "name": "2021-04-12",
            "count": 1
           }
          ]
         }
        },
        {
         "name": "name",
         "dtype": "object",
         "stats": {
          "unique_count": 5,
          "nan_count": 0,
          "categories": [
           {
            "name": "Kloveniers Studio",
            "count": 1
           },
           {
            "name": "Prachtig, gerenoveerd appartement in de Pijp!",
            "count": 1
           },
           {
            "name": "3 others",
            "count": 3
           }
          ]
         }
        },
        {
         "name": "description",
         "dtype": "object",
         "stats": {
          "unique_count": 5,
          "nan_count": 0,
          "categories": [
           {
            "name": "Great studio to enjoy a couple of days in Amsterdam.<br />Very quiet spot in the middle of the center with everything you will need. A private bedroom with a big two person bed and living area to relaxt from the walks in the city. Also a private bathroom is for your use.<br /><br /><b>License number</b><br />0363 B62C 0694 FC6B 277F",
            "count": 1
           },
           {
            "name": "Dit volledig gerenoveerde appartement is geschikt voor stellen/gezinnen. Het heeft een grote woonkamer met open keuken, een grote hoekbank en een mooi balkon op het zuiden (de hele dag zon!). Het appartement is gelegen in de Pijp, een gezellige en bruisende buurt in Amsterdam. Op 5 minuten loopafstand bevinden zich o.a. de Albert Cuyp markt, de Noord-Zuidlijn (metro), waarmee je binnen 5 minuten op Amsterdam Centraal of Amsterdam Zuid bent en verschillende supermarkten. Kortom: the place to be.<br /><br /><b>License number</b><br />0363 A169 C048 6ED8 1C00",
            "count": 1
           },
           {
            "name": "3 others",
            "count": 3
           }
          ]
         }
        },
        {
         "name": "neighborhood_overview",
         "dtype": "object",
         "stats": {
          "unique_count": 3,
          "nan_count": 2,
          "categories": [
           {
            "name": "An oasis of calm in the middle of the city of Amsterdam. This unique spot makes it great to visit Amsterdam and to enjoy your days away from home. You can choose to relaxt quietly in the studio or to go and experience the center Amsterdam with Dam Square, Nieuwmarkt and the Red Light District around the corner. Also the big shopping streets are in walking distance.",
            "count": 1
           },
           {
            "name": "2 others",
            "count": 2
           },
           {
            "name": "Missing",
            "count": 2
           }
          ]
         }
        },
        {
         "name": "picture_url",
         "dtype": "object",
         "stats": {
          "unique_count": 5,
          "nan_count": 0,
          "categories": [
           {
            "name": "https://a0.muscache.com/pictures/f306ad6d-aa82-4ea2-94cf-4db3c0c06622.jpg",
            "count": 1
           },
           {
            "name": "https://a0.muscache.com/pictures/0692f782-b1b3-4807-93b4-952f0def5f7f.jpg",
            "count": 1
           },
           {
            "name": "3 others",
            "count": 3
           }
          ]
         }
        },
        {
         "name": "host_id",
         "dtype": "int64",
         "stats": {
          "unique_count": 5,
          "nan_count": 0,
          "min": "23204045",
          "max": "395882585",
          "histogram": [
           {
            "bin_start": 23204045,
            "bin_end": 60471899,
            "count": 3
           },
           {
            "bin_start": 60471899,
            "bin_end": 97739753,
            "count": 1
           },
           {
            "bin_start": 97739753,
            "bin_end": 135007607,
            "count": 0
           },
           {
            "bin_start": 135007607,
            "bin_end": 172275461,
            "count": 0
           },
           {
            "bin_start": 172275461,
            "bin_end": 209543315,
            "count": 0
           },
           {
            "bin_start": 209543315,
            "bin_end": 246811169,
            "count": 0
           },
           {
            "bin_start": 246811169,
            "bin_end": 284079023,
            "count": 0
           },
           {
            "bin_start": 284079023,
            "bin_end": 321346877,
            "count": 0
           },
           {
            "bin_start": 321346877,
            "bin_end": 358614731,
            "count": 0
           },
           {
            "bin_start": 358614731,
            "bin_end": 395882585,
            "count": 1
           }
          ]
         }
        },
        {
         "name": "host_url",
         "dtype": "object",
         "stats": {
          "unique_count": 5,
          "nan_count": 0,
          "categories": [
           {
            "name": "https://www.airbnb.com/users/show/395882585",
            "count": 1
           },
           {
            "name": "https://www.airbnb.com/users/show/68481315",
            "count": 1
           },
           {
            "name": "3 others",
            "count": 3
           }
          ]
         }
        },
        {
         "name": "host_name",
         "dtype": "object",
         "stats": {
          "unique_count": 5,
          "nan_count": 0,
          "categories": [
           {
            "name": "Lucas",
            "count": 1
           },
           {
            "name": "Julia",
            "count": 1
           },
           {
            "name": "3 others",
            "count": 3
           }
          ]
         }
        },
        {
         "name": "host_since",
         "dtype": "object",
         "stats": {
          "unique_count": 5,
          "nan_count": 0,
          "categories": [
           {
            "name": "2021-04-07",
            "count": 1
           },
           {
            "name": "2016-04-23",
            "count": 1
           },
           {
            "name": "3 others",
            "count": 3
           }
          ]
         }
        },
        {
         "name": "host_location",
         "dtype": "object",
         "stats": {
          "unique_count": 5,
          "nan_count": 0,
          "categories": [
           {
            "name": "NL",
            "count": 1
           },
           {
            "name": "Schalkhaar, Overijssel, Netherlands",
            "count": 1
           },
           {
            "name": "3 others",
            "count": 3
           }
          ]
         }
        },
        {
         "name": "host_about",
         "dtype": "object",
         "stats": {
          "unique_count": 1,
          "nan_count": 4,
          "categories": [
           {
            "name": "Hi, we are Smiling Host, we enjoy giving other people a pleasant time. That's the reason we start the business Smiling host. Let us know what you want to explore and we help you to fill your holiday!  ",
            "count": 1
           },
           {
            "name": "Missing",
            "count": 4
           }
          ]
         }
        },
        {
         "name": "host_response_time",
         "dtype": "object",
         "stats": {
          "unique_count": 1,
          "nan_count": 2,
          "categories": [
           {
            "name": "within an hour",
            "count": 3
           },
           {
            "name": "Missing",
            "count": 2
           }
          ]
         }
        },
        {
         "name": "host_response_rate",
         "dtype": "object",
         "stats": {
          "unique_count": 3,
          "nan_count": 2,
          "categories": [
           {
            "name": "100%",
            "count": 1
           },
           {
            "name": "2 others",
            "count": 2
           },
           {
            "name": "Missing",
            "count": 2
           }
          ]
         }
        },
        {
         "name": "host_acceptance_rate",
         "dtype": "object",
         "stats": {
          "unique_count": 2,
          "nan_count": 3,
          "categories": [
           {
            "name": "98%",
            "count": 1
           },
           {
            "name": "99%",
            "count": 1
           },
           {
            "name": "Missing",
            "count": 3
           }
          ]
         }
        },
        {
         "name": "host_is_superhost",
         "dtype": "object",
         "stats": {
          "unique_count": 1,
          "nan_count": 0,
          "categories": [
           {
            "name": "f",
            "count": 5
           }
          ]
         }
        },
        {
         "name": "host_thumbnail_url",
         "dtype": "object",
         "stats": {
          "unique_count": 5,
          "nan_count": 0,
          "categories": [
           {
            "name": "https://a0.muscache.com/im/pictures/user/a1ee8be6-7bad-42ed-8acd-bc985a1faf4d.jpg?aki_policy=profile_small",
            "count": 1
           },
           {
            "name": "https://a0.muscache.com/im/pictures/user/34df0d4e-ea41-4fd1-88fd-0917af62ec6b.jpg?aki_policy=profile_small",
            "count": 1
           },
           {
            "name": "3 others",
            "count": 3
           }
          ]
         }
        },
        {
         "name": "host_picture_url",
         "dtype": "object",
         "stats": {
          "unique_count": 5,
          "nan_count": 0,
          "categories": [
           {
            "name": "https://a0.muscache.com/im/pictures/user/a1ee8be6-7bad-42ed-8acd-bc985a1faf4d.jpg?aki_policy=profile_x_medium",
            "count": 1
           },
           {
            "name": "https://a0.muscache.com/im/pictures/user/34df0d4e-ea41-4fd1-88fd-0917af62ec6b.jpg?aki_policy=profile_x_medium",
            "count": 1
           },
           {
            "name": "3 others",
            "count": 3
           }
          ]
         }
        },
        {
         "name": "host_neighbourhood",
         "dtype": "object",
         "stats": {
          "unique_count": 1,
          "nan_count": 4,
          "categories": [
           {
            "name": "Museumkwartier",
            "count": 1
           },
           {
            "name": "Missing",
            "count": 4
           }
          ]
         }
        },
        {
         "name": "host_listings_count",
         "dtype": "float64",
         "stats": {
          "unique_count": 4,
          "nan_count": 0,
          "min": "0.0",
          "max": "71.0",
          "histogram": [
           {
            "bin_start": 0,
            "bin_end": 7.1,
            "count": 4
           },
           {
            "bin_start": 7.1,
            "bin_end": 14.2,
            "count": 0
           },
           {
            "bin_start": 14.2,
            "bin_end": 21.299999999999997,
            "count": 0
           },
           {
            "bin_start": 21.299999999999997,
            "bin_end": 28.4,
            "count": 0
           },
           {
            "bin_start": 28.4,
            "bin_end": 35.5,
            "count": 0
           },
           {
            "bin_start": 35.5,
            "bin_end": 42.599999999999994,
            "count": 0
           },
           {
            "bin_start": 42.599999999999994,
            "bin_end": 49.699999999999996,
            "count": 0
           },
           {
            "bin_start": 49.699999999999996,
            "bin_end": 56.8,
            "count": 0
           },
           {
            "bin_start": 56.8,
            "bin_end": 63.9,
            "count": 0
           },
           {
            "bin_start": 63.9,
            "bin_end": 71,
            "count": 1
           }
          ]
         }
        },
        {
         "name": "host_total_listings_count",
         "dtype": "float64",
         "stats": {
          "unique_count": 4,
          "nan_count": 0,
          "min": "0.0",
          "max": "71.0",
          "histogram": [
           {
            "bin_start": 0,
            "bin_end": 7.1,
            "count": 4
           },
           {
            "bin_start": 7.1,
            "bin_end": 14.2,
            "count": 0
           },
           {
            "bin_start": 14.2,
            "bin_end": 21.299999999999997,
            "count": 0
           },
           {
            "bin_start": 21.299999999999997,
            "bin_end": 28.4,
            "count": 0
           },
           {
            "bin_start": 28.4,
            "bin_end": 35.5,
            "count": 0
           },
           {
            "bin_start": 35.5,
            "bin_end": 42.599999999999994,
            "count": 0
           },
           {
            "bin_start": 42.599999999999994,
            "bin_end": 49.699999999999996,
            "count": 0
           },
           {
            "bin_start": 49.699999999999996,
            "bin_end": 56.8,
            "count": 0
           },
           {
            "bin_start": 56.8,
            "bin_end": 63.9,
            "count": 0
           },
           {
            "bin_start": 63.9,
            "bin_end": 71,
            "count": 1
           }
          ]
         }
        },
        {
         "name": "host_verifications",
         "dtype": "object",
         "stats": {
          "unique_count": 5,
          "nan_count": 0,
          "categories": [
           {
            "name": "['email', 'phone']",
            "count": 1
           },
           {
            "name": "['email', 'phone', 'facebook']",
            "count": 1
           },
           {
            "name": "3 others",
            "count": 3
           }
          ]
         }
        },
        {
         "name": "host_has_profile_pic",
         "dtype": "object",
         "stats": {
          "unique_count": 1,
          "nan_count": 0,
          "categories": [
           {
            "name": "t",
            "count": 5
           }
          ]
         }
        },
        {
         "name": "host_identity_verified",
         "dtype": "object",
         "stats": {
          "unique_count": 2,
          "nan_count": 0,
          "categories": [
           {
            "name": "t",
            "count": 3
           },
           {
            "name": "f",
            "count": 2
           }
          ]
         }
        },
        {
         "name": "neighbourhood",
         "dtype": "object",
         "stats": {
          "unique_count": 1,
          "nan_count": 2,
          "categories": [
           {
            "name": "Amsterdam, Noord-Holland, Netherlands",
            "count": 3
           },
           {
            "name": "Missing",
            "count": 2
           }
          ]
         }
        },
        {
         "name": "neighbourhood_cleansed",
         "dtype": "object",
         "stats": {
          "unique_count": 4,
          "nan_count": 0,
          "categories": [
           {
            "name": "Centrum-West",
            "count": 2
           },
           {
            "name": "De Pijp - Rivierenbuurt",
            "count": 1
           },
           {
            "name": "2 others",
            "count": 2
           }
          ]
         }
        },
        {
         "name": "neighbourhood_group_cleansed",
         "dtype": "float64",
         "stats": {
          "unique_count": 0,
          "nan_count": 5,
          "min": null,
          "max": null,
          "histogram": [
           {
            "bin_start": 0,
            "bin_end": 0.1,
            "count": 0
           },
           {
            "bin_start": 0.1,
            "bin_end": 0.2,
            "count": 0
           },
           {
            "bin_start": 0.2,
            "bin_end": 0.30000000000000004,
            "count": 0
           },
           {
            "bin_start": 0.30000000000000004,
            "bin_end": 0.4,
            "count": 0
           },
           {
            "bin_start": 0.4,
            "bin_end": 0.5,
            "count": 0
           },
           {
            "bin_start": 0.5,
            "bin_end": 0.6000000000000001,
            "count": 0
           },
           {
            "bin_start": 0.6000000000000001,
            "bin_end": 0.7000000000000001,
            "count": 0
           },
           {
            "bin_start": 0.7000000000000001,
            "bin_end": 0.8,
            "count": 0
           },
           {
            "bin_start": 0.8,
            "bin_end": 0.9,
            "count": 0
           },
           {
            "bin_start": 0.9,
            "bin_end": 1,
            "count": 0
           }
          ]
         }
        },
        {
         "name": "latitude",
         "dtype": "float64",
         "stats": {
          "unique_count": 5,
          "nan_count": 0,
          "min": "52.33656",
          "max": "52.37466",
          "histogram": [
           {
            "bin_start": 52.33656,
            "bin_end": 52.34037,
            "count": 1
           },
           {
            "bin_start": 52.34037,
            "bin_end": 52.34418,
            "count": 0
           },
           {
            "bin_start": 52.34418,
            "bin_end": 52.347989999999996,
            "count": 0
           },
           {
            "bin_start": 52.347989999999996,
            "bin_end": 52.3518,
            "count": 0
           },
           {
            "bin_start": 52.3518,
            "bin_end": 52.35561,
            "count": 1
           },
           {
            "bin_start": 52.35561,
            "bin_end": 52.35942,
            "count": 1
           },
           {
            "bin_start": 52.35942,
            "bin_end": 52.36323,
            "count": 0
           },
           {
            "bin_start": 52.36323,
            "bin_end": 52.367039999999996,
            "count": 0
           },
           {
            "bin_start": 52.367039999999996,
            "bin_end": 52.37085,
            "count": 0
           },
           {
            "bin_start": 52.37085,
            "bin_end": 52.37466,
            "count": 2
           }
          ]
         }
        },
        {
         "name": "longitude",
         "dtype": "float64",
         "stats": {
          "unique_count": 5,
          "nan_count": 0,
          "min": "4.84835",
          "max": "4.9244",
          "histogram": [
           {
            "bin_start": 4.84835,
            "bin_end": 4.855955,
            "count": 1
           },
           {
            "bin_start": 4.855955,
            "bin_end": 4.86356,
            "count": 0
           },
           {
            "bin_start": 4.86356,
            "bin_end": 4.871165,
            "count": 0
           },
           {
            "bin_start": 4.871165,
            "bin_end": 4.87877,
            "count": 0
           },
           {
            "bin_start": 4.87877,
            "bin_end": 4.886375,
            "count": 1
           },
           {
            "bin_start": 4.886375,
            "bin_end": 4.89398,
            "count": 1
           },
           {
            "bin_start": 4.89398,
            "bin_end": 4.901585,
            "count": 1
           },
           {
            "bin_start": 4.901585,
            "bin_end": 4.909190000000001,
            "count": 0
           },
           {
            "bin_start": 4.909190000000001,
            "bin_end": 4.9167950000000005,
            "count": 0
           },
           {
            "bin_start": 4.9167950000000005,
            "bin_end": 4.9244,
            "count": 1
           }
          ]
         }
        },
        {
         "name": "property_type",
         "dtype": "object",
         "stats": {
          "unique_count": 4,
          "nan_count": 0,
          "categories": [
           {
            "name": "Entire apartment",
            "count": 2
           },
           {
            "name": "Private room in apartment",
            "count": 1
           },
           {
            "name": "2 others",
            "count": 2
           }
          ]
         }
        },
        {
         "name": "room_type",
         "dtype": "object",
         "stats": {
          "unique_count": 2,
          "nan_count": 0,
          "categories": [
           {
            "name": "Entire home/apt",
            "count": 4
           },
           {
            "name": "Private room",
            "count": 1
           }
          ]
         }
        },
        {
         "name": "accommodates",
         "dtype": "int64",
         "stats": {
          "unique_count": 2,
          "nan_count": 0,
          "min": "2",
          "max": "4",
          "histogram": [
           {
            "bin_start": 2,
            "bin_end": 2.2,
            "count": 2
           },
           {
            "bin_start": 2.2,
            "bin_end": 2.4,
            "count": 0
           },
           {
            "bin_start": 2.4,
            "bin_end": 2.6,
            "count": 0
           },
           {
            "bin_start": 2.6,
            "bin_end": 2.8,
            "count": 0
           },
           {
            "bin_start": 2.8,
            "bin_end": 3,
            "count": 0
           },
           {
            "bin_start": 3,
            "bin_end": 3.2,
            "count": 0
           },
           {
            "bin_start": 3.2,
            "bin_end": 3.4000000000000004,
            "count": 0
           },
           {
            "bin_start": 3.4000000000000004,
            "bin_end": 3.6,
            "count": 0
           },
           {
            "bin_start": 3.6,
            "bin_end": 3.8,
            "count": 0
           },
           {
            "bin_start": 3.8,
            "bin_end": 4,
            "count": 3
           }
          ]
         }
        },
        {
         "name": "bathrooms",
         "dtype": "float64",
         "stats": {
          "unique_count": 0,
          "nan_count": 5,
          "min": null,
          "max": null,
          "histogram": [
           {
            "bin_start": 0,
            "bin_end": 0.1,
            "count": 0
           },
           {
            "bin_start": 0.1,
            "bin_end": 0.2,
            "count": 0
           },
           {
            "bin_start": 0.2,
            "bin_end": 0.30000000000000004,
            "count": 0
           },
           {
            "bin_start": 0.30000000000000004,
            "bin_end": 0.4,
            "count": 0
           },
           {
            "bin_start": 0.4,
            "bin_end": 0.5,
            "count": 0
           },
           {
            "bin_start": 0.5,
            "bin_end": 0.6000000000000001,
            "count": 0
           },
           {
            "bin_start": 0.6000000000000001,
            "bin_end": 0.7000000000000001,
            "count": 0
           },
           {
            "bin_start": 0.7000000000000001,
            "bin_end": 0.8,
            "count": 0
           },
           {
            "bin_start": 0.8,
            "bin_end": 0.9,
            "count": 0
           },
           {
            "bin_start": 0.9,
            "bin_end": 1,
            "count": 0
           }
          ]
         }
        },
        {
         "name": "bathrooms_text",
         "dtype": "object",
         "stats": {
          "unique_count": 4,
          "nan_count": 0,
          "categories": [
           {
            "name": "1.5 baths",
            "count": 2
           },
           {
            "name": "1 private bath",
            "count": 1
           },
           {
            "name": "2 others",
            "count": 2
           }
          ]
         }
        },
        {
         "name": "bedrooms",
         "dtype": "float64",
         "stats": {
          "unique_count": 2,
          "nan_count": 0,
          "min": "1.0",
          "max": "2.0",
          "histogram": [
           {
            "bin_start": 1,
            "bin_end": 1.1,
            "count": 3
           },
           {
            "bin_start": 1.1,
            "bin_end": 1.2,
            "count": 0
           },
           {
            "bin_start": 1.2,
            "bin_end": 1.3,
            "count": 0
           },
           {
            "bin_start": 1.3,
            "bin_end": 1.4,
            "count": 0
           },
           {
            "bin_start": 1.4,
            "bin_end": 1.5,
            "count": 0
           },
           {
            "bin_start": 1.5,
            "bin_end": 1.6,
            "count": 0
           },
           {
            "bin_start": 1.6,
            "bin_end": 1.7000000000000002,
            "count": 0
           },
           {
            "bin_start": 1.7000000000000002,
            "bin_end": 1.8,
            "count": 0
           },
           {
            "bin_start": 1.8,
            "bin_end": 1.9,
            "count": 0
           },
           {
            "bin_start": 1.9,
            "bin_end": 2,
            "count": 2
           }
          ]
         }
        },
        {
         "name": "beds",
         "dtype": "float64",
         "stats": {
          "unique_count": 3,
          "nan_count": 1,
          "min": "1.0",
          "max": "3.0",
          "histogram": [
           {
            "bin_start": 1,
            "bin_end": 1.2,
            "count": 2
           },
           {
            "bin_start": 1.2,
            "bin_end": 1.4,
            "count": 0
           },
           {
            "bin_start": 1.4,
            "bin_end": 1.6,
            "count": 0
           },
           {
            "bin_start": 1.6,
            "bin_end": 1.8,
            "count": 0
           },
           {
            "bin_start": 1.8,
            "bin_end": 2,
            "count": 0
           },
           {
            "bin_start": 2,
            "bin_end": 2.2,
            "count": 1
           },
           {
            "bin_start": 2.2,
            "bin_end": 2.4000000000000004,
            "count": 0
           },
           {
            "bin_start": 2.4000000000000004,
            "bin_end": 2.6,
            "count": 0
           },
           {
            "bin_start": 2.6,
            "bin_end": 2.8,
            "count": 0
           },
           {
            "bin_start": 2.8,
            "bin_end": 3,
            "count": 1
           }
          ]
         }
        },
        {
         "name": "amenities",
         "dtype": "object",
         "stats": {
          "unique_count": 5,
          "nan_count": 0,
          "categories": [
           {
            "name": "[\"TV\", \"Long term stays allowed\", \"Wifi\", \"Hot water\", \"Hair dryer\", \"Lock on bedroom door\", \"Bed linens\"]",
            "count": 1
           },
           {
            "name": "[\"Dishwasher\", \"Long term stays allowed\", \"Wifi\", \"Hot water\", \"Conditioner\", \"Freezer\", \"Coffee maker\", \"Nespresso machine\", \"Drying rack for clothing\", \"Kitchen\", \"Dishes and silverware\", \"Bed linens\", \"Hangers\", \"Wine glasses\", \"Baking sheet\", \"Oven\", \"Gas stove\", \"Hair dryer\", \"Room-darkening shades\", \"Toaster\", \"Cooking basics\", \"Safe\", \"Carbon monoxide alarm\", \"Paid parking off premises\", \"Extra pillows and blankets\", \"Central heating\", \"Cable TV\", \"Body soap\", \"Smoke alarm\", \"Shampoo\", \"Washer\", \"Ethernet connection\", \"Clothing storage: wardrobe and closet\", \"Shower gel\", \"Free dryer\\u2013In unit\", \"Essentials\", \"TV\", \"Host greets you\", \"Dining table\", \"Cleaning products\", \"Refrigerator\", \"Patio or balcony\", \"Cleaning before checkout\", \"Hot water kettle\"]",
            "count": 1
           },
           {
            "name": "3 others",
            "count": 3
           }
          ]
         }
        },
        {
         "name": "price",
         "dtype": "object",
         "stats": {
          "unique_count": 5,
          "nan_count": 0,
          "categories": [
           {
            "name": "$47.00",
            "count": 1
           },
           {
            "name": "$200.00",
            "count": 1
           },
           {
            "name": "3 others",
            "count": 3
           }
          ]
         }
        },
        {
         "name": "minimum_nights",
         "dtype": "int64",
         "stats": {
          "unique_count": 4,
          "nan_count": 0,
          "min": "1",
          "max": "7",
          "histogram": [
           {
            "bin_start": 1,
            "bin_end": 1.6,
            "count": 2
           },
           {
            "bin_start": 1.6,
            "bin_end": 2.2,
            "count": 1
           },
           {
            "bin_start": 2.2,
            "bin_end": 2.8,
            "count": 0
           },
           {
            "bin_start": 2.8,
            "bin_end": 3.4,
            "count": 0
           },
           {
            "bin_start": 3.4,
            "bin_end": 4,
            "count": 0
           },
           {
            "bin_start": 4,
            "bin_end": 4.6,
            "count": 1
           },
           {
            "bin_start": 4.6,
            "bin_end": 5.2,
            "count": 0
           },
           {
            "bin_start": 5.2,
            "bin_end": 5.8,
            "count": 0
           },
           {
            "bin_start": 5.8,
            "bin_end": 6.3999999999999995,
            "count": 0
           },
           {
            "bin_start": 6.3999999999999995,
            "bin_end": 7,
            "count": 1
           }
          ]
         }
        },
        {
         "name": "maximum_nights",
         "dtype": "int64",
         "stats": {
          "unique_count": 3,
          "nan_count": 0,
          "min": "180",
          "max": "1125",
          "histogram": [
           {
            "bin_start": 180,
            "bin_end": 274.5,
            "count": 1
           },
           {
            "bin_start": 274.5,
            "bin_end": 369,
            "count": 2
           },
           {
            "bin_start": 369,
            "bin_end": 463.5,
            "count": 0
           },
           {
            "bin_start": 463.5,
            "bin_end": 558,
            "count": 0
           },
           {
            "bin_start": 558,
            "bin_end": 652.5,
            "count": 0
           },
           {
            "bin_start": 652.5,
            "bin_end": 747,
            "count": 0
           },
           {
            "bin_start": 747,
            "bin_end": 841.5,
            "count": 0
           },
           {
            "bin_start": 841.5,
            "bin_end": 936,
            "count": 0
           },
           {
            "bin_start": 936,
            "bin_end": 1030.5,
            "count": 0
           },
           {
            "bin_start": 1030.5,
            "bin_end": 1125,
            "count": 2
           }
          ]
         }
        },
        {
         "name": "minimum_minimum_nights",
         "dtype": "float64",
         "stats": {
          "unique_count": 4,
          "nan_count": 0,
          "min": "1.0",
          "max": "7.0",
          "histogram": [
           {
            "bin_start": 1,
            "bin_end": 1.6,
            "count": 2
           },
           {
            "bin_start": 1.6,
            "bin_end": 2.2,
            "count": 1
           },
           {
            "bin_start": 2.2,
            "bin_end": 2.8,
            "count": 0
           },
           {
            "bin_start": 2.8,
            "bin_end": 3.4,
            "count": 0
           },
           {
            "bin_start": 3.4,
            "bin_end": 4,
            "count": 0
           },
           {
            "bin_start": 4,
            "bin_end": 4.6,
            "count": 1
           },
           {
            "bin_start": 4.6,
            "bin_end": 5.2,
            "count": 0
           },
           {
            "bin_start": 5.2,
            "bin_end": 5.8,
            "count": 0
           },
           {
            "bin_start": 5.8,
            "bin_end": 6.3999999999999995,
            "count": 0
           },
           {
            "bin_start": 6.3999999999999995,
            "bin_end": 7,
            "count": 1
           }
          ]
         }
        },
        {
         "name": "maximum_minimum_nights",
         "dtype": "float64",
         "stats": {
          "unique_count": 4,
          "nan_count": 0,
          "min": "1.0",
          "max": "7.0",
          "histogram": [
           {
            "bin_start": 1,
            "bin_end": 1.6,
            "count": 1
           },
           {
            "bin_start": 1.6,
            "bin_end": 2.2,
            "count": 0
           },
           {
            "bin_start": 2.2,
            "bin_end": 2.8,
            "count": 0
           },
           {
            "bin_start": 2.8,
            "bin_end": 3.4,
            "count": 1
           },
           {
            "bin_start": 3.4,
            "bin_end": 4,
            "count": 0
           },
           {
            "bin_start": 4,
            "bin_end": 4.6,
            "count": 2
           },
           {
            "bin_start": 4.6,
            "bin_end": 5.2,
            "count": 0
           },
           {
            "bin_start": 5.2,
            "bin_end": 5.8,
            "count": 0
           },
           {
            "bin_start": 5.8,
            "bin_end": 6.3999999999999995,
            "count": 0
           },
           {
            "bin_start": 6.3999999999999995,
            "bin_end": 7,
            "count": 1
           }
          ]
         }
        },
        {
         "name": "minimum_maximum_nights",
         "dtype": "float64",
         "stats": {
          "unique_count": 3,
          "nan_count": 0,
          "min": "2.0",
          "max": "1125.0",
          "histogram": [
           {
            "bin_start": 2,
            "bin_end": 114.3,
            "count": 1
           },
           {
            "bin_start": 114.3,
            "bin_end": 226.6,
            "count": 0
           },
           {
            "bin_start": 226.6,
            "bin_end": 338.9,
            "count": 0
           },
           {
            "bin_start": 338.9,
            "bin_end": 451.2,
            "count": 1
           },
           {
            "bin_start": 451.2,
            "bin_end": 563.5,
            "count": 0
           },
           {
            "bin_start": 563.5,
            "bin_end": 675.8,
            "count": 0
           },
           {
            "bin_start": 675.8,
            "bin_end": 788.1,
            "count": 0
           },
           {
            "bin_start": 788.1,
            "bin_end": 900.4,
            "count": 0
           },
           {
            "bin_start": 900.4,
            "bin_end": 1012.6999999999999,
            "count": 0
           },
           {
            "bin_start": 1012.6999999999999,
            "bin_end": 1125,
            "count": 3
           }
          ]
         }
        },
        {
         "name": "maximum_maximum_nights",
         "dtype": "float64",
         "stats": {
          "unique_count": 2,
          "nan_count": 0,
          "min": "365.0",
          "max": "1125.0",
          "histogram": [
           {
            "bin_start": 365,
            "bin_end": 441,
            "count": 2
           },
           {
            "bin_start": 441,
            "bin_end": 517,
            "count": 0
           },
           {
            "bin_start": 517,
            "bin_end": 593,
            "count": 0
           },
           {
            "bin_start": 593,
            "bin_end": 669,
            "count": 0
           },
           {
            "bin_start": 669,
            "bin_end": 745,
            "count": 0
           },
           {
            "bin_start": 745,
            "bin_end": 821,
            "count": 0
           },
           {
            "bin_start": 821,
            "bin_end": 897,
            "count": 0
           },
           {
            "bin_start": 897,
            "bin_end": 973,
            "count": 0
           },
           {
            "bin_start": 973,
            "bin_end": 1049,
            "count": 0
           },
           {
            "bin_start": 1049,
            "bin_end": 1125,
            "count": 3
           }
          ]
         }
        },
        {
         "name": "minimum_nights_avg_ntm",
         "dtype": "float64",
         "stats": {
          "unique_count": 5,
          "nan_count": 0,
          "min": "1.0",
          "max": "7.0",
          "histogram": [
           {
            "bin_start": 1,
            "bin_end": 1.6,
            "count": 1
           },
           {
            "bin_start": 1.6,
            "bin_end": 2.2,
            "count": 1
           },
           {
            "bin_start": 2.2,
            "bin_end": 2.8,
            "count": 0
           },
           {
            "bin_start": 2.8,
            "bin_end": 3.4,
            "count": 0
           },
           {
            "bin_start": 3.4,
            "bin_end": 4,
            "count": 1
           },
           {
            "bin_start": 4,
            "bin_end": 4.6,
            "count": 1
           },
           {
            "bin_start": 4.6,
            "bin_end": 5.2,
            "count": 0
           },
           {
            "bin_start": 5.2,
            "bin_end": 5.8,
            "count": 0
           },
           {
            "bin_start": 5.8,
            "bin_end": 6.3999999999999995,
            "count": 0
           },
           {
            "bin_start": 6.3999999999999995,
            "bin_end": 7,
            "count": 1
           }
          ]
         }
        },
        {
         "name": "maximum_nights_avg_ntm",
         "dtype": "float64",
         "stats": {
          "unique_count": 3,
          "nan_count": 0,
          "min": "39.4",
          "max": "1125.0",
          "histogram": [
           {
            "bin_start": 39.4,
            "bin_end": 147.95999999999998,
            "count": 1
           },
           {
            "bin_start": 147.95999999999998,
            "bin_end": 256.52,
            "count": 0
           },
           {
            "bin_start": 256.52,
            "bin_end": 365.0799999999999,
            "count": 1
           },
           {
            "bin_start": 365.0799999999999,
            "bin_end": 473.63999999999993,
            "count": 0
           },
           {
            "bin_start": 473.63999999999993,
            "bin_end": 582.1999999999999,
            "count": 0
           },
           {
            "bin_start": 582.1999999999999,
            "bin_end": 690.7599999999999,
            "count": 0
           },
           {
            "bin_start": 690.7599999999999,
            "bin_end": 799.3199999999999,
            "count": 0
           },
           {
            "bin_start": 799.3199999999999,
            "bin_end": 907.8799999999999,
            "count": 0
           },
           {
            "bin_start": 907.8799999999999,
            "bin_end": 1016.4399999999998,
            "count": 0
           },
           {
            "bin_start": 1016.4399999999998,
            "bin_end": 1125,
            "count": 3
           }
          ]
         }
        },
        {
         "name": "calendar_updated",
         "dtype": "float64",
         "stats": {
          "unique_count": 0,
          "nan_count": 5,
          "min": null,
          "max": null,
          "histogram": [
           {
            "bin_start": 0,
            "bin_end": 0.1,
            "count": 0
           },
           {
            "bin_start": 0.1,
            "bin_end": 0.2,
            "count": 0
           },
           {
            "bin_start": 0.2,
            "bin_end": 0.30000000000000004,
            "count": 0
           },
           {
            "bin_start": 0.30000000000000004,
            "bin_end": 0.4,
            "count": 0
           },
           {
            "bin_start": 0.4,
            "bin_end": 0.5,
            "count": 0
           },
           {
            "bin_start": 0.5,
            "bin_end": 0.6000000000000001,
            "count": 0
           },
           {
            "bin_start": 0.6000000000000001,
            "bin_end": 0.7000000000000001,
            "count": 0
           },
           {
            "bin_start": 0.7000000000000001,
            "bin_end": 0.8,
            "count": 0
           },
           {
            "bin_start": 0.8,
            "bin_end": 0.9,
            "count": 0
           },
           {
            "bin_start": 0.9,
            "bin_end": 1,
            "count": 0
           }
          ]
         }
        },
        {
         "name": "has_availability",
         "dtype": "object",
         "stats": {
          "unique_count": 1,
          "nan_count": 0,
          "categories": [
           {
            "name": "t",
            "count": 5
           }
          ]
         }
        },
        {
         "name": "availability_30",
         "dtype": "int64",
         "stats": {
          "unique_count": 4,
          "nan_count": 0,
          "min": "0",
          "max": "26",
          "histogram": [
           {
            "bin_start": 0,
            "bin_end": 2.6,
            "count": 2
           },
           {
            "bin_start": 2.6,
            "bin_end": 5.2,
            "count": 0
           },
           {
            "bin_start": 5.2,
            "bin_end": 7.800000000000001,
            "count": 0
           },
           {
            "bin_start": 7.800000000000001,
            "bin_end": 10.4,
            "count": 1
           },
           {
            "bin_start": 10.4,
            "bin_end": 13,
            "count": 1
           },
           {
            "bin_start": 13,
            "bin_end": 15.600000000000001,
            "count": 0
           },
           {
            "bin_start": 15.600000000000001,
            "bin_end": 18.2,
            "count": 0
           },
           {
            "bin_start": 18.2,
            "bin_end": 20.8,
            "count": 0
           },
           {
            "bin_start": 20.8,
            "bin_end": 23.400000000000002,
            "count": 0
           },
           {
            "bin_start": 23.400000000000002,
            "bin_end": 26,
            "count": 1
           }
          ]
         }
        },
        {
         "name": "availability_60",
         "dtype": "int64",
         "stats": {
          "unique_count": 4,
          "nan_count": 0,
          "min": "0",
          "max": "56",
          "histogram": [
           {
            "bin_start": 0,
            "bin_end": 5.6,
            "count": 2
           },
           {
            "bin_start": 5.6,
            "bin_end": 11.2,
            "count": 0
           },
           {
            "bin_start": 11.2,
            "bin_end": 16.799999999999997,
            "count": 0
           },
           {
            "bin_start": 16.799999999999997,
            "bin_end": 22.4,
            "count": 0
           },
           {
            "bin_start": 22.4,
            "bin_end": 28,
            "count": 0
           },
           {
            "bin_start": 28,
            "bin_end": 33.599999999999994,
            "count": 0
           },
           {
            "bin_start": 33.599999999999994,
            "bin_end": 39.199999999999996,
            "count": 0
           },
           {
            "bin_start": 39.199999999999996,
            "bin_end": 44.8,
            "count": 2
           },
           {
            "bin_start": 44.8,
            "bin_end": 50.4,
            "count": 0
           },
           {
            "bin_start": 50.4,
            "bin_end": 56,
            "count": 1
           }
          ]
         }
        },
        {
         "name": "availability_90",
         "dtype": "int64",
         "stats": {
          "unique_count": 5,
          "nan_count": 0,
          "min": "0",
          "max": "86",
          "histogram": [
           {
            "bin_start": 0,
            "bin_end": 8.6,
            "count": 1
           },
           {
            "bin_start": 8.6,
            "bin_end": 17.2,
            "count": 1
           },
           {
            "bin_start": 17.2,
            "bin_end": 25.799999999999997,
            "count": 0
           },
           {
            "bin_start": 25.799999999999997,
            "bin_end": 34.4,
            "count": 0
           },
           {
            "bin_start": 34.4,
            "bin_end": 43,
            "count": 0
           },
           {
            "bin_start": 43,
            "bin_end": 51.599999999999994,
            "count": 0
           },
           {
            "bin_start": 51.599999999999994,
            "bin_end": 60.199999999999996,
            "count": 0
           },
           {
            "bin_start": 60.199999999999996,
            "bin_end": 68.8,
            "count": 0
           },
           {
            "bin_start": 68.8,
            "bin_end": 77.39999999999999,
            "count": 2
           },
           {
            "bin_start": 77.39999999999999,
            "bin_end": 86,
            "count": 1
           }
          ]
         }
        },
        {
         "name": "availability_365",
         "dtype": "int64",
         "stats": {
          "unique_count": 5,
          "nan_count": 0,
          "min": "86",
          "max": "343",
          "histogram": [
           {
            "bin_start": 86,
            "bin_end": 111.7,
            "count": 1
           },
           {
            "bin_start": 111.7,
            "bin_end": 137.4,
            "count": 0
           },
           {
            "bin_start": 137.4,
            "bin_end": 163.1,
            "count": 0
           },
           {
            "bin_start": 163.1,
            "bin_end": 188.8,
            "count": 0
           },
           {
            "bin_start": 188.8,
            "bin_end": 214.5,
            "count": 1
           },
           {
            "bin_start": 214.5,
            "bin_end": 240.2,
            "count": 0
           },
           {
            "bin_start": 240.2,
            "bin_end": 265.9,
            "count": 0
           },
           {
            "bin_start": 265.9,
            "bin_end": 291.6,
            "count": 1
           },
           {
            "bin_start": 291.6,
            "bin_end": 317.29999999999995,
            "count": 0
           },
           {
            "bin_start": 317.29999999999995,
            "bin_end": 343,
            "count": 2
           }
          ]
         }
        },
        {
         "name": "calendar_last_scraped",
         "dtype": "object",
         "stats": {
          "unique_count": 2,
          "nan_count": 0,
          "categories": [
           {
            "name": "2021-04-11",
            "count": 4
           },
           {
            "name": "2021-04-12",
            "count": 1
           }
          ]
         }
        },
        {
         "name": "number_of_reviews",
         "dtype": "int64",
         "stats": {
          "unique_count": 1,
          "nan_count": 0,
          "min": "0",
          "max": "0",
          "histogram": [
           {
            "bin_start": -0.5,
            "bin_end": -0.4,
            "count": 0
           },
           {
            "bin_start": -0.4,
            "bin_end": -0.3,
            "count": 0
           },
           {
            "bin_start": -0.3,
            "bin_end": -0.19999999999999996,
            "count": 0
           },
           {
            "bin_start": -0.19999999999999996,
            "bin_end": -0.09999999999999998,
            "count": 0
           },
           {
            "bin_start": -0.09999999999999998,
            "bin_end": 0,
            "count": 0
           },
           {
            "bin_start": 0,
            "bin_end": 0.10000000000000009,
            "count": 5
           },
           {
            "bin_start": 0.10000000000000009,
            "bin_end": 0.20000000000000007,
            "count": 0
           },
           {
            "bin_start": 0.20000000000000007,
            "bin_end": 0.30000000000000004,
            "count": 0
           },
           {
            "bin_start": 0.30000000000000004,
            "bin_end": 0.4,
            "count": 0
           },
           {
            "bin_start": 0.4,
            "bin_end": 0.5,
            "count": 0
           }
          ]
         }
        },
        {
         "name": "number_of_reviews_ltm",
         "dtype": "int64",
         "stats": {
          "unique_count": 1,
          "nan_count": 0,
          "min": "0",
          "max": "0",
          "histogram": [
           {
            "bin_start": -0.5,
            "bin_end": -0.4,
            "count": 0
           },
           {
            "bin_start": -0.4,
            "bin_end": -0.3,
            "count": 0
           },
           {
            "bin_start": -0.3,
            "bin_end": -0.19999999999999996,
            "count": 0
           },
           {
            "bin_start": -0.19999999999999996,
            "bin_end": -0.09999999999999998,
            "count": 0
           },
           {
            "bin_start": -0.09999999999999998,
            "bin_end": 0,
            "count": 0
           },
           {
            "bin_start": 0,
            "bin_end": 0.10000000000000009,
            "count": 5
           },
           {
            "bin_start": 0.10000000000000009,
            "bin_end": 0.20000000000000007,
            "count": 0
           },
           {
            "bin_start": 0.20000000000000007,
            "bin_end": 0.30000000000000004,
            "count": 0
           },
           {
            "bin_start": 0.30000000000000004,
            "bin_end": 0.4,
            "count": 0
           },
           {
            "bin_start": 0.4,
            "bin_end": 0.5,
            "count": 0
           }
          ]
         }
        },
        {
         "name": "number_of_reviews_l30d",
         "dtype": "int64",
         "stats": {
          "unique_count": 1,
          "nan_count": 0,
          "min": "0",
          "max": "0",
          "histogram": [
           {
            "bin_start": -0.5,
            "bin_end": -0.4,
            "count": 0
           },
           {
            "bin_start": -0.4,
            "bin_end": -0.3,
            "count": 0
           },
           {
            "bin_start": -0.3,
            "bin_end": -0.19999999999999996,
            "count": 0
           },
           {
            "bin_start": -0.19999999999999996,
            "bin_end": -0.09999999999999998,
            "count": 0
           },
           {
            "bin_start": -0.09999999999999998,
            "bin_end": 0,
            "count": 0
           },
           {
            "bin_start": 0,
            "bin_end": 0.10000000000000009,
            "count": 5
           },
           {
            "bin_start": 0.10000000000000009,
            "bin_end": 0.20000000000000007,
            "count": 0
           },
           {
            "bin_start": 0.20000000000000007,
            "bin_end": 0.30000000000000004,
            "count": 0
           },
           {
            "bin_start": 0.30000000000000004,
            "bin_end": 0.4,
            "count": 0
           },
           {
            "bin_start": 0.4,
            "bin_end": 0.5,
            "count": 0
           }
          ]
         }
        },
        {
         "name": "first_review",
         "dtype": "object",
         "stats": {
          "unique_count": 0,
          "nan_count": 5,
          "categories": [
           {
            "name": "Missing",
            "count": 5
           }
          ]
         }
        },
        {
         "name": "last_review",
         "dtype": "object",
         "stats": {
          "unique_count": 0,
          "nan_count": 5,
          "categories": [
           {
            "name": "Missing",
            "count": 5
           }
          ]
         }
        },
        {
         "name": "review_scores_rating",
         "dtype": "float64",
         "stats": {
          "unique_count": 0,
          "nan_count": 5,
          "min": null,
          "max": null,
          "histogram": [
           {
            "bin_start": 0,
            "bin_end": 0.1,
            "count": 0
           },
           {
            "bin_start": 0.1,
            "bin_end": 0.2,
            "count": 0
           },
           {
            "bin_start": 0.2,
            "bin_end": 0.30000000000000004,
            "count": 0
           },
           {
            "bin_start": 0.30000000000000004,
            "bin_end": 0.4,
            "count": 0
           },
           {
            "bin_start": 0.4,
            "bin_end": 0.5,
            "count": 0
           },
           {
            "bin_start": 0.5,
            "bin_end": 0.6000000000000001,
            "count": 0
           },
           {
            "bin_start": 0.6000000000000001,
            "bin_end": 0.7000000000000001,
            "count": 0
           },
           {
            "bin_start": 0.7000000000000001,
            "bin_end": 0.8,
            "count": 0
           },
           {
            "bin_start": 0.8,
            "bin_end": 0.9,
            "count": 0
           },
           {
            "bin_start": 0.9,
            "bin_end": 1,
            "count": 0
           }
          ]
         }
        },
        {
         "name": "review_scores_accuracy",
         "dtype": "float64",
         "stats": {
          "unique_count": 0,
          "nan_count": 5,
          "min": null,
          "max": null,
          "histogram": [
           {
            "bin_start": 0,
            "bin_end": 0.1,
            "count": 0
           },
           {
            "bin_start": 0.1,
            "bin_end": 0.2,
            "count": 0
           },
           {
            "bin_start": 0.2,
            "bin_end": 0.30000000000000004,
            "count": 0
           },
           {
            "bin_start": 0.30000000000000004,
            "bin_end": 0.4,
            "count": 0
           },
           {
            "bin_start": 0.4,
            "bin_end": 0.5,
            "count": 0
           },
           {
            "bin_start": 0.5,
            "bin_end": 0.6000000000000001,
            "count": 0
           },
           {
            "bin_start": 0.6000000000000001,
            "bin_end": 0.7000000000000001,
            "count": 0
           },
           {
            "bin_start": 0.7000000000000001,
            "bin_end": 0.8,
            "count": 0
           },
           {
            "bin_start": 0.8,
            "bin_end": 0.9,
            "count": 0
           },
           {
            "bin_start": 0.9,
            "bin_end": 1,
            "count": 0
           }
          ]
         }
        },
        {
         "name": "review_scores_cleanliness",
         "dtype": "float64",
         "stats": {
          "unique_count": 0,
          "nan_count": 5,
          "min": null,
          "max": null,
          "histogram": [
           {
            "bin_start": 0,
            "bin_end": 0.1,
            "count": 0
           },
           {
            "bin_start": 0.1,
            "bin_end": 0.2,
            "count": 0
           },
           {
            "bin_start": 0.2,
            "bin_end": 0.30000000000000004,
            "count": 0
           },
           {
            "bin_start": 0.30000000000000004,
            "bin_end": 0.4,
            "count": 0
           },
           {
            "bin_start": 0.4,
            "bin_end": 0.5,
            "count": 0
           },
           {
            "bin_start": 0.5,
            "bin_end": 0.6000000000000001,
            "count": 0
           },
           {
            "bin_start": 0.6000000000000001,
            "bin_end": 0.7000000000000001,
            "count": 0
           },
           {
            "bin_start": 0.7000000000000001,
            "bin_end": 0.8,
            "count": 0
           },
           {
            "bin_start": 0.8,
            "bin_end": 0.9,
            "count": 0
           },
           {
            "bin_start": 0.9,
            "bin_end": 1,
            "count": 0
           }
          ]
         }
        },
        {
         "name": "review_scores_checkin",
         "dtype": "float64",
         "stats": {
          "unique_count": 0,
          "nan_count": 5,
          "min": null,
          "max": null,
          "histogram": [
           {
            "bin_start": 0,
            "bin_end": 0.1,
            "count": 0
           },
           {
            "bin_start": 0.1,
            "bin_end": 0.2,
            "count": 0
           },
           {
            "bin_start": 0.2,
            "bin_end": 0.30000000000000004,
            "count": 0
           },
           {
            "bin_start": 0.30000000000000004,
            "bin_end": 0.4,
            "count": 0
           },
           {
            "bin_start": 0.4,
            "bin_end": 0.5,
            "count": 0
           },
           {
            "bin_start": 0.5,
            "bin_end": 0.6000000000000001,
            "count": 0
           },
           {
            "bin_start": 0.6000000000000001,
            "bin_end": 0.7000000000000001,
            "count": 0
           },
           {
            "bin_start": 0.7000000000000001,
            "bin_end": 0.8,
            "count": 0
           },
           {
            "bin_start": 0.8,
            "bin_end": 0.9,
            "count": 0
           },
           {
            "bin_start": 0.9,
            "bin_end": 1,
            "count": 0
           }
          ]
         }
        },
        {
         "name": "review_scores_communication",
         "dtype": "float64",
         "stats": {
          "unique_count": 0,
          "nan_count": 5,
          "min": null,
          "max": null,
          "histogram": [
           {
            "bin_start": 0,
            "bin_end": 0.1,
            "count": 0
           },
           {
            "bin_start": 0.1,
            "bin_end": 0.2,
            "count": 0
           },
           {
            "bin_start": 0.2,
            "bin_end": 0.30000000000000004,
            "count": 0
           },
           {
            "bin_start": 0.30000000000000004,
            "bin_end": 0.4,
            "count": 0
           },
           {
            "bin_start": 0.4,
            "bin_end": 0.5,
            "count": 0
           },
           {
            "bin_start": 0.5,
            "bin_end": 0.6000000000000001,
            "count": 0
           },
           {
            "bin_start": 0.6000000000000001,
            "bin_end": 0.7000000000000001,
            "count": 0
           },
           {
            "bin_start": 0.7000000000000001,
            "bin_end": 0.8,
            "count": 0
           },
           {
            "bin_start": 0.8,
            "bin_end": 0.9,
            "count": 0
           },
           {
            "bin_start": 0.9,
            "bin_end": 1,
            "count": 0
           }
          ]
         }
        },
        {
         "name": "review_scores_location",
         "dtype": "float64",
         "stats": {
          "unique_count": 0,
          "nan_count": 5,
          "min": null,
          "max": null,
          "histogram": [
           {
            "bin_start": 0,
            "bin_end": 0.1,
            "count": 0
           },
           {
            "bin_start": 0.1,
            "bin_end": 0.2,
            "count": 0
           },
           {
            "bin_start": 0.2,
            "bin_end": 0.30000000000000004,
            "count": 0
           },
           {
            "bin_start": 0.30000000000000004,
            "bin_end": 0.4,
            "count": 0
           },
           {
            "bin_start": 0.4,
            "bin_end": 0.5,
            "count": 0
           },
           {
            "bin_start": 0.5,
            "bin_end": 0.6000000000000001,
            "count": 0
           },
           {
            "bin_start": 0.6000000000000001,
            "bin_end": 0.7000000000000001,
            "count": 0
           },
           {
            "bin_start": 0.7000000000000001,
            "bin_end": 0.8,
            "count": 0
           },
           {
            "bin_start": 0.8,
            "bin_end": 0.9,
            "count": 0
           },
           {
            "bin_start": 0.9,
            "bin_end": 1,
            "count": 0
           }
          ]
         }
        },
        {
         "name": "review_scores_value",
         "dtype": "float64",
         "stats": {
          "unique_count": 0,
          "nan_count": 5,
          "min": null,
          "max": null,
          "histogram": [
           {
            "bin_start": 0,
            "bin_end": 0.1,
            "count": 0
           },
           {
            "bin_start": 0.1,
            "bin_end": 0.2,
            "count": 0
           },
           {
            "bin_start": 0.2,
            "bin_end": 0.30000000000000004,
            "count": 0
           },
           {
            "bin_start": 0.30000000000000004,
            "bin_end": 0.4,
            "count": 0
           },
           {
            "bin_start": 0.4,
            "bin_end": 0.5,
            "count": 0
           },
           {
            "bin_start": 0.5,
            "bin_end": 0.6000000000000001,
            "count": 0
           },
           {
            "bin_start": 0.6000000000000001,
            "bin_end": 0.7000000000000001,
            "count": 0
           },
           {
            "bin_start": 0.7000000000000001,
            "bin_end": 0.8,
            "count": 0
           },
           {
            "bin_start": 0.8,
            "bin_end": 0.9,
            "count": 0
           },
           {
            "bin_start": 0.9,
            "bin_end": 1,
            "count": 0
           }
          ]
         }
        },
        {
         "name": "license",
         "dtype": "object",
         "stats": {
          "unique_count": 4,
          "nan_count": 0,
          "categories": [
           {
            "name": "Exempt",
            "count": 2
           },
           {
            "name": "0363 B62C 0694 FC6B 277F",
            "count": 1
           },
           {
            "name": "2 others",
            "count": 2
           }
          ]
         }
        },
        {
         "name": "instant_bookable",
         "dtype": "object",
         "stats": {
          "unique_count": 2,
          "nan_count": 0,
          "categories": [
           {
            "name": "t",
            "count": 4
           },
           {
            "name": "f",
            "count": 1
           }
          ]
         }
        },
        {
         "name": "calculated_host_listings_count",
         "dtype": "int64",
         "stats": {
          "unique_count": 2,
          "nan_count": 0,
          "min": "1",
          "max": "6",
          "histogram": [
           {
            "bin_start": 1,
            "bin_end": 1.5,
            "count": 4
           },
           {
            "bin_start": 1.5,
            "bin_end": 2,
            "count": 0
           },
           {
            "bin_start": 2,
            "bin_end": 2.5,
            "count": 0
           },
           {
            "bin_start": 2.5,
            "bin_end": 3,
            "count": 0
           },
           {
            "bin_start": 3,
            "bin_end": 3.5,
            "count": 0
           },
           {
            "bin_start": 3.5,
            "bin_end": 4,
            "count": 0
           },
           {
            "bin_start": 4,
            "bin_end": 4.5,
            "count": 0
           },
           {
            "bin_start": 4.5,
            "bin_end": 5,
            "count": 0
           },
           {
            "bin_start": 5,
            "bin_end": 5.5,
            "count": 0
           },
           {
            "bin_start": 5.5,
            "bin_end": 6,
            "count": 1
           }
          ]
         }
        },
        {
         "name": "calculated_host_listings_count_entire_homes",
         "dtype": "int64",
         "stats": {
          "unique_count": 3,
          "nan_count": 0,
          "min": "0",
          "max": "6",
          "histogram": [
           {
            "bin_start": 0,
            "bin_end": 0.6,
            "count": 1
           },
           {
            "bin_start": 0.6,
            "bin_end": 1.2,
            "count": 3
           },
           {
            "bin_start": 1.2,
            "bin_end": 1.7999999999999998,
            "count": 0
           },
           {
            "bin_start": 1.7999999999999998,
            "bin_end": 2.4,
            "count": 0
           },
           {
            "bin_start": 2.4,
            "bin_end": 3,
            "count": 0
           },
           {
            "bin_start": 3,
            "bin_end": 3.5999999999999996,
            "count": 0
           },
           {
            "bin_start": 3.5999999999999996,
            "bin_end": 4.2,
            "count": 0
           },
           {
            "bin_start": 4.2,
            "bin_end": 4.8,
            "count": 0
           },
           {
            "bin_start": 4.8,
            "bin_end": 5.3999999999999995,
            "count": 0
           },
           {
            "bin_start": 5.3999999999999995,
            "bin_end": 6,
            "count": 1
           }
          ]
         }
        },
        {
         "name": "calculated_host_listings_count_private_rooms",
         "dtype": "int64",
         "stats": {
          "unique_count": 2,
          "nan_count": 0,
          "min": "0",
          "max": "1",
          "histogram": [
           {
            "bin_start": 0,
            "bin_end": 0.1,
            "count": 4
           },
           {
            "bin_start": 0.1,
            "bin_end": 0.2,
            "count": 0
           },
           {
            "bin_start": 0.2,
            "bin_end": 0.30000000000000004,
            "count": 0
           },
           {
            "bin_start": 0.30000000000000004,
            "bin_end": 0.4,
            "count": 0
           },
           {
            "bin_start": 0.4,
            "bin_end": 0.5,
            "count": 0
           },
           {
            "bin_start": 0.5,
            "bin_end": 0.6000000000000001,
            "count": 0
           },
           {
            "bin_start": 0.6000000000000001,
            "bin_end": 0.7000000000000001,
            "count": 0
           },
           {
            "bin_start": 0.7000000000000001,
            "bin_end": 0.8,
            "count": 0
           },
           {
            "bin_start": 0.8,
            "bin_end": 0.9,
            "count": 0
           },
           {
            "bin_start": 0.9,
            "bin_end": 1,
            "count": 1
           }
          ]
         }
        },
        {
         "name": "calculated_host_listings_count_shared_rooms",
         "dtype": "int64",
         "stats": {
          "unique_count": 1,
          "nan_count": 0,
          "min": "0",
          "max": "0",
          "histogram": [
           {
            "bin_start": -0.5,
            "bin_end": -0.4,
            "count": 0
           },
           {
            "bin_start": -0.4,
            "bin_end": -0.3,
            "count": 0
           },
           {
            "bin_start": -0.3,
            "bin_end": -0.19999999999999996,
            "count": 0
           },
           {
            "bin_start": -0.19999999999999996,
            "bin_end": -0.09999999999999998,
            "count": 0
           },
           {
            "bin_start": -0.09999999999999998,
            "bin_end": 0,
            "count": 0
           },
           {
            "bin_start": 0,
            "bin_end": 0.10000000000000009,
            "count": 5
           },
           {
            "bin_start": 0.10000000000000009,
            "bin_end": 0.20000000000000007,
            "count": 0
           },
           {
            "bin_start": 0.20000000000000007,
            "bin_end": 0.30000000000000004,
            "count": 0
           },
           {
            "bin_start": 0.30000000000000004,
            "bin_end": 0.4,
            "count": 0
           },
           {
            "bin_start": 0.4,
            "bin_end": 0.5,
            "count": 0
           }
          ]
         }
        },
        {
         "name": "reviews_per_month",
         "dtype": "float64",
         "stats": {
          "unique_count": 0,
          "nan_count": 5,
          "min": null,
          "max": null,
          "histogram": [
           {
            "bin_start": 0,
            "bin_end": 0.1,
            "count": 0
           },
           {
            "bin_start": 0.1,
            "bin_end": 0.2,
            "count": 0
           },
           {
            "bin_start": 0.2,
            "bin_end": 0.30000000000000004,
            "count": 0
           },
           {
            "bin_start": 0.30000000000000004,
            "bin_end": 0.4,
            "count": 0
           },
           {
            "bin_start": 0.4,
            "bin_end": 0.5,
            "count": 0
           },
           {
            "bin_start": 0.5,
            "bin_end": 0.6000000000000001,
            "count": 0
           },
           {
            "bin_start": 0.6000000000000001,
            "bin_end": 0.7000000000000001,
            "count": 0
           },
           {
            "bin_start": 0.7000000000000001,
            "bin_end": 0.8,
            "count": 0
           },
           {
            "bin_start": 0.8,
            "bin_end": 0.9,
            "count": 0
           },
           {
            "bin_start": 0.9,
            "bin_end": 1,
            "count": 0
           }
          ]
         }
        },
        {
         "name": "_deepnote_index_column",
         "dtype": "int64"
        }
       ],
       "rows_top": [
        {
         "id": 49085366,
         "listing_url": "https://www.airbnb.com/rooms/49085366",
         "scrape_id": 20210409161549,
         "last_scraped": "2021-04-11",
         "name": "Kloveniers Studio",
         "description": "Great studio to enjoy a couple of days in Amsterdam.<br />Very quiet spot in the middle of the center with everything you will need. A private bedroom with a big two person bed and living area to relaxt from the walks in the city. Also a private bathroom is for your use.<br /><br /><b>License number</b><br />0363 B62C 0694 FC6B 277F",
         "neighborhood_overview": "An oasis of calm in the middle of the city of Amsterdam. This unique spot makes it great to visit Amsterdam and to enjoy your days away from home. You can choose to relaxt quietly in the studio or to go and experience the center Amsterdam with Dam Square, Nieuwmarkt and the Red Light District around the corner. Also the big shopping streets are in walking distance.",
         "picture_url": "https://a0.muscache.com/pictures/f306ad6d-aa82-4ea2-94cf-4db3c0c06622.jpg",
         "host_id": 395882585,
         "host_url": "https://www.airbnb.com/users/show/395882585",
         "host_name": "Lucas",
         "host_since": "2021-04-07",
         "host_location": "NL",
         "host_about": "nan",
         "host_response_time": "nan",
         "host_response_rate": "nan",
         "host_acceptance_rate": "nan",
         "host_is_superhost": "f",
         "host_thumbnail_url": "https://a0.muscache.com/im/pictures/user/a1ee8be6-7bad-42ed-8acd-bc985a1faf4d.jpg?aki_policy=profile_small",
         "host_picture_url": "https://a0.muscache.com/im/pictures/user/a1ee8be6-7bad-42ed-8acd-bc985a1faf4d.jpg?aki_policy=profile_x_medium",
         "host_neighbourhood": "nan",
         "host_listings_count": 0,
         "host_total_listings_count": 0,
         "host_verifications": "['email', 'phone']",
         "host_has_profile_pic": "t",
         "host_identity_verified": "f",
         "neighbourhood": "Amsterdam, Noord-Holland, Netherlands",
         "neighbourhood_cleansed": "Centrum-West",
         "neighbourhood_group_cleansed": "nan",
         "latitude": 52.3722,
         "longitude": 4.89926,
         "property_type": "Private room in apartment",
         "room_type": "Private room",
         "accommodates": 2,
         "bathrooms": "nan",
         "bathrooms_text": "1 private bath",
         "bedrooms": 1,
         "beds": "nan",
         "amenities": "[\"TV\", \"Long term stays allowed\", \"Wifi\", \"Hot water\", \"Hair dryer\", \"Lock on bedroom door\", \"Bed linens\"]",
         "price": "$47.00",
         "minimum_nights": 2,
         "maximum_nights": 1125,
         "minimum_minimum_nights": 2,
         "maximum_minimum_nights": 4,
         "minimum_maximum_nights": 1125,
         "maximum_maximum_nights": 1125,
         "minimum_nights_avg_ntm": 3.8,
         "maximum_nights_avg_ntm": 1125,
         "calendar_updated": "nan",
         "has_availability": "t",
         "availability_30": 0,
         "availability_60": 0,
         "availability_90": 9,
         "availability_365": 284,
         "calendar_last_scraped": "2021-04-11",
         "number_of_reviews": 0,
         "number_of_reviews_ltm": 0,
         "number_of_reviews_l30d": 0,
         "first_review": "nan",
         "last_review": "nan",
         "review_scores_rating": "nan",
         "review_scores_accuracy": "nan",
         "review_scores_cleanliness": "nan",
         "review_scores_checkin": "nan",
         "review_scores_communication": "nan",
         "review_scores_location": "nan",
         "review_scores_value": "nan",
         "license": "0363 B62C 0694 FC6B 277F",
         "instant_bookable": "t",
         "calculated_host_listings_count": 1,
         "calculated_host_listings_count_entire_homes": 0,
         "calculated_host_listings_count_private_rooms": 1,
         "calculated_host_listings_count_shared_rooms": 0,
         "reviews_per_month": "nan",
         "_deepnote_index_column": 17820
        },
        {
         "id": 49089176,
         "listing_url": "https://www.airbnb.com/rooms/49089176",
         "scrape_id": 20210409161549,
         "last_scraped": "2021-04-11",
         "name": "Prachtig, gerenoveerd appartement in de Pijp!",
         "description": "Dit volledig gerenoveerde appartement is geschikt voor stellen/gezinnen. Het heeft een grote woonkamer met open keuken, een grote hoekbank en een mooi balkon op het zuiden (de hele dag zon!). Het appartement is gelegen in de Pijp, een gezellige en bruisende buurt in Amsterdam. Op 5 minuten loopafstand bevinden zich o.a. de Albert Cuyp markt, de Noord-Zuidlijn (metro), waarmee je binnen 5 minuten op Amsterdam Centraal of Amsterdam Zuid bent en verschillende supermarkten. Kortom: the place to be.<br /><br /><b>License number</b><br />0363 A169 C048 6ED8 1C00",
         "neighborhood_overview": "nan",
         "picture_url": "https://a0.muscache.com/pictures/0692f782-b1b3-4807-93b4-952f0def5f7f.jpg",
         "host_id": 68481315,
         "host_url": "https://www.airbnb.com/users/show/68481315",
         "host_name": "Julia",
         "host_since": "2016-04-23",
         "host_location": "Schalkhaar, Overijssel, Netherlands",
         "host_about": "nan",
         "host_response_time": "nan",
         "host_response_rate": "nan",
         "host_acceptance_rate": "nan",
         "host_is_superhost": "f",
         "host_thumbnail_url": "https://a0.muscache.com/im/pictures/user/34df0d4e-ea41-4fd1-88fd-0917af62ec6b.jpg?aki_policy=profile_small",
         "host_picture_url": "https://a0.muscache.com/im/pictures/user/34df0d4e-ea41-4fd1-88fd-0917af62ec6b.jpg?aki_policy=profile_x_medium",
         "host_neighbourhood": "nan",
         "host_listings_count": 0,
         "host_total_listings_count": 0,
         "host_verifications": "['email', 'phone', 'facebook']",
         "host_has_profile_pic": "t",
         "host_identity_verified": "f",
         "neighbourhood": "nan",
         "neighbourhood_cleansed": "De Pijp - Rivierenbuurt",
         "neighbourhood_group_cleansed": "nan",
         "latitude": 52.35416,
         "longitude": 4.887,
         "property_type": "Entire apartment",
         "room_type": "Entire home/apt",
         "accommodates": 4,
         "bathrooms": "nan",
         "bathrooms_text": "1.5 baths",
         "bedrooms": 1,
         "beds": "1.0",
         "amenities": "[\"Dishwasher\", \"Long term stays allowed\", \"Wifi\", \"Hot water\", \"Conditioner\", \"Freezer\", \"Coffee maker\", \"Nespresso machine\", \"Drying rack for clothing\", \"Kitchen\", \"Dishes and silverware\", \"Bed linens\", \"Hangers\", \"Wine glasses\", \"Baking sheet\", \"Oven\", \"Gas stove\", \"Hair dryer\", \"Room-darkening shades\", \"Toaster\", \"Cooking basics\", \"Safe\", \"Carbon monoxide alarm\", \"Paid parking off premises\", \"Extra pillows and blankets\", \"Central heating\", \"Cable TV\", \"Body soap\", \"Smoke alarm\", \"Shampoo\", \"Washer\", \"Ethernet connection\", \"Clothing storage: wardrobe and closet\", \"Shower gel\", \"Free dryer\\u2013In unit\", \"Essentials\", \"TV\", \"Host greets you\", \"Dining table\", \"Cleaning products\", \"Refrigerator\", \"Patio or balcony\", \"Cleaning before checkout\", \"Hot water kettle\"]",
         "price": "$200.00",
         "minimum_nights": 7,
         "maximum_nights": 1125,
         "minimum_minimum_nights": 7,
         "maximum_minimum_nights": 7,
         "minimum_maximum_nights": 1125,
         "maximum_maximum_nights": 1125,
         "minimum_nights_avg_ntm": 7,
         "maximum_nights_avg_ntm": 1125,
         "calendar_updated": "nan",
         "has_availability": "t",
         "availability_30": 0,
         "availability_60": 0,
         "availability_90": 0,
         "availability_365": 207,
         "calendar_last_scraped": "2021-04-11",
         "number_of_reviews": 0,
         "number_of_reviews_ltm": 0,
         "number_of_reviews_l30d": 0,
         "first_review": "nan",
         "last_review": "nan",
         "review_scores_rating": "nan",
         "review_scores_accuracy": "nan",
         "review_scores_cleanliness": "nan",
         "review_scores_checkin": "nan",
         "review_scores_communication": "nan",
         "review_scores_location": "nan",
         "review_scores_value": "nan",
         "license": "0363 A169 C048 6ED8 1C00",
         "instant_bookable": "t",
         "calculated_host_listings_count": 1,
         "calculated_host_listings_count_entire_homes": 1,
         "calculated_host_listings_count_private_rooms": 0,
         "calculated_host_listings_count_shared_rooms": 0,
         "reviews_per_month": "nan",
         "_deepnote_index_column": 17821
        },
        {
         "id": 49101225,
         "listing_url": "https://www.airbnb.com/rooms/49101225",
         "scrape_id": 20210409161549,
         "last_scraped": "2021-04-12",
         "name": "Beautiful luxury loft close to city centre",
         "description": "THIS APARTMENT IS IN TRANSVAALBUURT: \"HAPPY NEIGHBOUR\"! SITUATED AT THE HEART OF POPULAR OOSTERPARK QUARTER, A FABULOUSLY BRIGHT, RECENTLY RENOVATED AND SPACIOUS APARTMENT SPANNING WITH A SOUTH-FACING BALCONY.<br /><br /><b>The space</b><br />Layout: <br />- Spacious living room. The sunny balcony at the rear connects to the living room.  Large doors and windows allow for an abundance of natural light. <br />- At the back of the apartment is a bedroom. <br />- The modern and spacious bathroom, fitted with a shower, sink and toilet, is situated between the bedroom and the living room<br /><br /><b>License number</b><br />03631DCF0C172B758647",
         "neighborhood_overview": "The apartment is in Transvaalbuurt, a characteristic, tranquil neighbourhood nearby all amenities; from Dappermarkt to Oosterpark and OLVG hospital to a wide range of restaurants and cafes including Loetje and Bar Bukowski. Unwind and have a barbecue in Oosterpark, explore popular Dapper market or enjoy a cocktail on the rooftop of Volkshotel. There are plenty of grocery shops, boutiques and supermarkets to choose from on Linnaeusstraat, Oosterparkstraat and Oostpoort shopping center.",
         "picture_url": "https://a0.muscache.com/pictures/195f53ba-8e82-4d69-bce6-5b69ee56d3bc.jpg",
         "host_id": 23204045,
         "host_url": "https://www.airbnb.com/users/show/23204045",
         "host_name": "Wes",
         "host_since": "2014-11-01",
         "host_location": "Amsterdam, North Holland, The Netherlands",
         "host_about": "nan",
         "host_response_time": "within an hour",
         "host_response_rate": "100%",
         "host_acceptance_rate": "nan",
         "host_is_superhost": "f",
         "host_thumbnail_url": "https://a0.muscache.com/im/pictures/user/8bc81aa1-5826-4a88-8cf0-458e029305a6.jpg?aki_policy=profile_small",
         "host_picture_url": "https://a0.muscache.com/im/pictures/user/8bc81aa1-5826-4a88-8cf0-458e029305a6.jpg?aki_policy=profile_x_medium",
         "host_neighbourhood": "nan",
         "host_listings_count": 1,
         "host_total_listings_count": 1,
         "host_verifications": "['email', 'phone', 'facebook', 'reviews', 'jumio']",
         "host_has_profile_pic": "t",
         "host_identity_verified": "t",
         "neighbourhood": "Amsterdam, Noord-Holland, Netherlands",
         "neighbourhood_cleansed": "Oud-Oost",
         "neighbourhood_group_cleansed": "nan",
         "latitude": 52.35572,
         "longitude": 4.9244,
         "property_type": "Entire loft",
         "room_type": "Entire home/apt",
         "accommodates": 2,
         "bathrooms": "nan",
         "bathrooms_text": "1.5 baths",
         "bedrooms": 1,
         "beds": "1.0",
         "amenities": "[\"Dishwasher\", \"Long term stays allowed\", \"Clothing storage\", \"Sound system\", \"Conditioner\", \"Hot water\", \"Wifi\", \"Freezer\", \"Coffee maker\", \"Nespresso machine\", \"Drying rack for clothing\", \"Private entrance\", \"Luggage dropoff allowed\", \"Kitchen\", \"Dishes and silverware\", \"Bed linens\", \"Hangers\", \"Wine glasses\", \"Baking sheet\", \"Dryer\", \"Heating\", \"Oven\", \"Hair dryer\", \"Cooking basics\", \"Body soap\", \"Smoke alarm\", \"Shampoo\", \"Washer\", \"Essentials\", \"TV\", \"Game console\", \"Dining table\", \"Cleaning products\", \"Stove\", \"Iron\", \"Refrigerator\", \"Patio or balcony\"]",
         "price": "$112.00",
         "minimum_nights": 1,
         "maximum_nights": 365,
         "minimum_minimum_nights": 1,
         "maximum_minimum_nights": 1,
         "minimum_maximum_nights": 365,
         "maximum_maximum_nights": 365,
         "minimum_nights_avg_ntm": 1,
         "maximum_nights_avg_ntm": 365,
         "calendar_updated": "nan",
         "has_availability": "t",
         "availability_30": 26,
         "availability_60": 56,
         "availability_90": 86,
         "availability_365": 86,
         "calendar_last_scraped": "2021-04-12",
         "number_of_reviews": 0,
         "number_of_reviews_ltm": 0,
         "number_of_reviews_l30d": 0,
         "first_review": "nan",
         "last_review": "nan",
         "review_scores_rating": "nan",
         "review_scores_accuracy": "nan",
         "review_scores_cleanliness": "nan",
         "review_scores_checkin": "nan",
         "review_scores_communication": "nan",
         "review_scores_location": "nan",
         "review_scores_value": "nan",
         "license": "03631DCF0C172B758647",
         "instant_bookable": "f",
         "calculated_host_listings_count": 1,
         "calculated_host_listings_count_entire_homes": 1,
         "calculated_host_listings_count_private_rooms": 0,
         "calculated_host_listings_count_shared_rooms": 0,
         "reviews_per_month": "nan",
         "_deepnote_index_column": 17822
        },
        {
         "id": 49102514,
         "listing_url": "https://www.airbnb.com/rooms/49102514",
         "scrape_id": 20210409161549,
         "last_scraped": "2021-04-11",
         "name": "Cedo Nulli Dutch Holiday Boats",
         "description": "Brand new holiday boats with free parking located in the best of two worlds. Staying in nature on the edge of the bustling city centre.<br /><br /><b>The space</b><br />This lovely brand new renovated  holiday boat in marina \"Het Bosch\" on the Nieuwe Meer near Amsterdam, with parking space in front.<br />The perfect base for your relaxing time on the water. <br />Cedo Nulli is cosy and comfortable. It features a kitchen, living/dining area that can became the second double bed when it's time to sleep. Separate bed room, a shower and toilet. The living/dining  area has windows facing the water, which make it light. <br /><br />The terrace in top is your perfect place for a coffee in the sunny morning or a for a wine in the evening.<br /><br /><b>Guest access</b><br />★ Free Parking <br />★ Privacy and space<br />★ Equipped kitchen<br />★ Wifi and television<br />★ Linen and towels are provided<br /><br /><b>License number</b><br />Exempt",
         "neighborhood_overview": "Marina het Bosch is ideally located in Amsterdam Zuid.<br />You can find the marina on the Jollenpad in Amsterdam, along the A10. Because of its perfect location you will find yourself directly on the Nieuwe Meer and the canals of Amsterdam are within easy reach.<br /><br />The restaurant \"Het Bosch Waterfront Kitchen\" and Dolphin Wellness (Yoga) are located at the marina.  The supermarket, other stores and Het Amsterdamse Bos to have a great walk are within walking distance. The city center of Amsterdam is 20 minutes drive by car.",
         "picture_url": "https://a0.muscache.com/pictures/prohost-api/Hosting-49102514/original/ee437512-5604-4714-9383-4004c72bb4b6.jpeg",
         "host_id": 26206455,
         "host_url": "https://www.airbnb.com/users/show/26206455",
         "host_name": "Dionne",
         "host_since": "2015-01-16",
         "host_location": "Zandvoort, Noord-Holland, Netherlands",
         "host_about": "Hi, we are Smiling Host, we enjoy giving other people a pleasant time. That's the reason we start the business Smiling host. Let us know what you want to explore and we help you to fill your holiday!  ",
         "host_response_time": "within an hour",
         "host_response_rate": "92%",
         "host_acceptance_rate": "98%",
         "host_is_superhost": "f",
         "host_thumbnail_url": "https://a0.muscache.com/im/pictures/user/933a0579-c9d7-43e4-9cb5-d57b38d9466f.jpg?aki_policy=profile_small",
         "host_picture_url": "https://a0.muscache.com/im/pictures/user/933a0579-c9d7-43e4-9cb5-d57b38d9466f.jpg?aki_policy=profile_x_medium",
         "host_neighbourhood": "nan",
         "host_listings_count": 71,
         "host_total_listings_count": 71,
         "host_verifications": "['email', 'phone', 'reviews', 'manual_offline', 'jumio', 'offline_government_id', 'selfie', 'government_id', 'identity_manual']",
         "host_has_profile_pic": "t",
         "host_identity_verified": "t",
         "neighbourhood": "Amsterdam, Noord-Holland, Netherlands",
         "neighbourhood_cleansed": "Buitenveldert - Zuidas",
         "neighbourhood_group_cleansed": "nan",
         "latitude": 52.33656,
         "longitude": 4.84835,
         "property_type": "Boat",
         "room_type": "Entire home/apt",
         "accommodates": 4,
         "bathrooms": "nan",
         "bathrooms_text": "1 bath",
         "bedrooms": 2,
         "beds": "3.0",
         "amenities": "[\"TV\", \"Essentials\", \"First aid kit\", \"Wifi\", \"Carbon monoxide alarm\", \"Heating\", \"Free street parking\", \"Long term stays allowed\", \"Hair dryer\", \"Coffee maker\", \"Smoke alarm\", \"Shampoo\", \"Cooking basics\", \"Kitchen\", \"Dishes and silverware\", \"Refrigerator\", \"Fire extinguisher\", \"Bed linens\", \"Free parking on premises\", \"Single level home\"]",
         "price": "$107.00",
         "minimum_nights": 1,
         "maximum_nights": 365,
         "minimum_minimum_nights": 1,
         "maximum_minimum_nights": 3,
         "minimum_maximum_nights": 2,
         "maximum_maximum_nights": 365,
         "minimum_nights_avg_ntm": 2.1,
         "maximum_nights_avg_ntm": 39.4,
         "calendar_updated": "nan",
         "has_availability": "t",
         "availability_30": 10,
         "availability_60": 40,
         "availability_90": 70,
         "availability_365": 335,
         "calendar_last_scraped": "2021-04-11",
         "number_of_reviews": 0,
         "number_of_reviews_ltm": 0,
         "number_of_reviews_l30d": 0,
         "first_review": "nan",
         "last_review": "nan",
         "review_scores_rating": "nan",
         "review_scores_accuracy": "nan",
         "review_scores_cleanliness": "nan",
         "review_scores_checkin": "nan",
         "review_scores_communication": "nan",
         "review_scores_location": "nan",
         "review_scores_value": "nan",
         "license": "Exempt",
         "instant_bookable": "t",
         "calculated_host_listings_count": 1,
         "calculated_host_listings_count_entire_homes": 1,
         "calculated_host_listings_count_private_rooms": 0,
         "calculated_host_listings_count_shared_rooms": 0,
         "reviews_per_month": "nan",
         "_deepnote_index_column": 17823
        },
        {
         "id": 49119460,
         "listing_url": "https://www.airbnb.com/rooms/49119460",
         "scrape_id": 20210409161549,
         "last_scraped": "2021-04-11",
         "name": "New amazing 4 person Jordaan Apartment",
         "description": "Very luxurious and spacious apartment in the best area of Amsterdam.The Jordaan area9 straatjes area.<br /><br />Perfect for 4 people who want to enjoy their vacation to the max! The city centre of Amsterdam offers plenty of stuff to do and places to see. Anne Frank House, Vondelpark, Foam Photography Museum, Rijksmuseum, Leideseplein- one of the city’s most popular nightlife areas, home to famous music venues, fun dance clubs, relaxed bars and more and many more to see!<br /><br /><b>License number</b><br />Exempt",
         "neighborhood_overview": "nan",
         "picture_url": "https://a0.muscache.com/pictures/4f5ef2a4-655a-4296-9e66-57602759e95d.jpg",
         "host_id": 37752619,
         "host_url": "https://www.airbnb.com/users/show/37752619",
         "host_name": "Joost",
         "host_since": "2015-07-07",
         "host_location": "Amsterdam, North Holland, Netherlands",
         "host_about": "nan",
         "host_response_time": "within an hour",
         "host_response_rate": "90%",
         "host_acceptance_rate": "99%",
         "host_is_superhost": "f",
         "host_thumbnail_url": "https://a0.muscache.com/im/pictures/user/9b9cfaf4-f824-4d88-95ba-adfa199c2b9f.jpg?aki_policy=profile_small",
         "host_picture_url": "https://a0.muscache.com/im/pictures/user/9b9cfaf4-f824-4d88-95ba-adfa199c2b9f.jpg?aki_policy=profile_x_medium",
         "host_neighbourhood": "Museumkwartier",
         "host_listings_count": 5,
         "host_total_listings_count": 5,
         "host_verifications": "['email', 'phone', 'reviews', 'jumio', 'offline_government_id', 'selfie', 'government_id', 'identity_manual']",
         "host_has_profile_pic": "t",
         "host_identity_verified": "t",
         "neighbourhood": "nan",
         "neighbourhood_cleansed": "Centrum-West",
         "neighbourhood_group_cleansed": "nan",
         "latitude": 52.37466,
         "longitude": 4.88055,
         "property_type": "Entire apartment",
         "room_type": "Entire home/apt",
         "accommodates": 4,
         "bathrooms": "nan",
         "bathrooms_text": "2 baths",
         "bedrooms": 2,
         "beds": "2.0",
         "amenities": "[\"Essentials\", \"TV\", \"Long term stays allowed\", \"Wifi\", \"Dryer\", \"Heating\", \"Pack \\u2019n Play/travel crib\", \"Private entrance\", \"Smoke alarm\", \"Shampoo\", \"Kitchen\", \"Cooking basics\", \"Washer\", \"Carbon monoxide alarm\", \"Dedicated workspace\", \"Hangers\"]",
         "price": "$94.00",
         "minimum_nights": 4,
         "maximum_nights": 180,
         "minimum_minimum_nights": 4,
         "maximum_minimum_nights": 4,
         "minimum_maximum_nights": 1125,
         "maximum_maximum_nights": 1125,
         "minimum_nights_avg_ntm": 4,
         "maximum_nights_avg_ntm": 1125,
         "calendar_updated": "nan",
         "has_availability": "t",
         "availability_30": 12,
         "availability_60": 42,
         "availability_90": 72,
         "availability_365": 343,
         "calendar_last_scraped": "2021-04-11",
         "number_of_reviews": 0,
         "number_of_reviews_ltm": 0,
         "number_of_reviews_l30d": 0,
         "first_review": "nan",
         "last_review": "nan",
         "review_scores_rating": "nan",
         "review_scores_accuracy": "nan",
         "review_scores_cleanliness": "nan",
         "review_scores_checkin": "nan",
         "review_scores_communication": "nan",
         "review_scores_location": "nan",
         "review_scores_value": "nan",
         "license": "Exempt",
         "instant_bookable": "t",
         "calculated_host_listings_count": 6,
         "calculated_host_listings_count_entire_homes": 6,
         "calculated_host_listings_count_private_rooms": 0,
         "calculated_host_listings_count_shared_rooms": 0,
         "reviews_per_month": "nan",
         "_deepnote_index_column": 17824
        }
       ],
       "rows_bottom": null
      },
      "text/plain": "             id                            listing_url       scrape_id  \\\n17820  49085366  https://www.airbnb.com/rooms/49085366  20210409161549   \n17821  49089176  https://www.airbnb.com/rooms/49089176  20210409161549   \n17822  49101225  https://www.airbnb.com/rooms/49101225  20210409161549   \n17823  49102514  https://www.airbnb.com/rooms/49102514  20210409161549   \n17824  49119460  https://www.airbnb.com/rooms/49119460  20210409161549   \n\n      last_scraped                                           name  \\\n17820   2021-04-11                              Kloveniers Studio   \n17821   2021-04-11  Prachtig, gerenoveerd appartement in de Pijp!   \n17822   2021-04-12     Beautiful luxury loft close to city centre   \n17823   2021-04-11                 Cedo Nulli Dutch Holiday Boats   \n17824   2021-04-11         New amazing 4 person Jordaan Apartment   \n\n                                             description  \\\n17820  Great studio to enjoy a couple of days in Amst...   \n17821  Dit volledig gerenoveerde appartement is gesch...   \n17822  THIS APARTMENT IS IN TRANSVAALBUURT: \"HAPPY NE...   \n17823  Brand new holiday boats with free parking loca...   \n17824  Very luxurious and spacious apartment in the b...   \n\n                                   neighborhood_overview  \\\n17820  An oasis of calm in the middle of the city of ...   \n17821                                                NaN   \n17822  The apartment is in Transvaalbuurt, a characte...   \n17823  Marina het Bosch is ideally located in Amsterd...   \n17824                                                NaN   \n\n                                             picture_url    host_id  \\\n17820  https://a0.muscache.com/pictures/f306ad6d-aa82...  395882585   \n17821  https://a0.muscache.com/pictures/0692f782-b1b3...   68481315   \n17822  https://a0.muscache.com/pictures/195f53ba-8e82...   23204045   \n17823  https://a0.muscache.com/pictures/prohost-api/H...   26206455   \n17824  https://a0.muscache.com/pictures/4f5ef2a4-655a...   37752619   \n\n                                          host_url  ...  \\\n17820  https://www.airbnb.com/users/show/395882585  ...   \n17821   https://www.airbnb.com/users/show/68481315  ...   \n17822   https://www.airbnb.com/users/show/23204045  ...   \n17823   https://www.airbnb.com/users/show/26206455  ...   \n17824   https://www.airbnb.com/users/show/37752619  ...   \n\n      review_scores_communication review_scores_location review_scores_value  \\\n17820                         NaN                    NaN                 NaN   \n17821                         NaN                    NaN                 NaN   \n17822                         NaN                    NaN                 NaN   \n17823                         NaN                    NaN                 NaN   \n17824                         NaN                    NaN                 NaN   \n\n                        license instant_bookable  \\\n17820  0363 B62C 0694 FC6B 277F                t   \n17821  0363 A169 C048 6ED8 1C00                t   \n17822      03631DCF0C172B758647                f   \n17823                    Exempt                t   \n17824                    Exempt                t   \n\n      calculated_host_listings_count  \\\n17820                              1   \n17821                              1   \n17822                              1   \n17823                              1   \n17824                              6   \n\n      calculated_host_listings_count_entire_homes  \\\n17820                                           0   \n17821                                           1   \n17822                                           1   \n17823                                           1   \n17824                                           6   \n\n      calculated_host_listings_count_private_rooms  \\\n17820                                            1   \n17821                                            0   \n17822                                            0   \n17823                                            0   \n17824                                            0   \n\n      calculated_host_listings_count_shared_rooms reviews_per_month  \n17820                                           0               NaN  \n17821                                           0               NaN  \n17822                                           0               NaN  \n17823                                           0               NaN  \n17824                                           0               NaN  \n\n[5 rows x 74 columns]",
      "text/html": "<div>\n<style scoped>\n    .dataframe tbody tr th:only-of-type {\n        vertical-align: middle;\n    }\n\n    .dataframe tbody tr th {\n        vertical-align: top;\n    }\n\n    .dataframe thead th {\n        text-align: right;\n    }\n</style>\n<table border=\"1\" class=\"dataframe\">\n  <thead>\n    <tr style=\"text-align: right;\">\n      <th></th>\n      <th>id</th>\n      <th>listing_url</th>\n      <th>scrape_id</th>\n      <th>last_scraped</th>\n      <th>name</th>\n      <th>description</th>\n      <th>neighborhood_overview</th>\n      <th>picture_url</th>\n      <th>host_id</th>\n      <th>host_url</th>\n      <th>...</th>\n      <th>review_scores_communication</th>\n      <th>review_scores_location</th>\n      <th>review_scores_value</th>\n      <th>license</th>\n      <th>instant_bookable</th>\n      <th>calculated_host_listings_count</th>\n      <th>calculated_host_listings_count_entire_homes</th>\n      <th>calculated_host_listings_count_private_rooms</th>\n      <th>calculated_host_listings_count_shared_rooms</th>\n      <th>reviews_per_month</th>\n    </tr>\n  </thead>\n  <tbody>\n    <tr>\n      <th>17820</th>\n      <td>49085366</td>\n      <td>https://www.airbnb.com/rooms/49085366</td>\n      <td>20210409161549</td>\n      <td>2021-04-11</td>\n      <td>Kloveniers Studio</td>\n      <td>Great studio to enjoy a couple of days in Amst...</td>\n      <td>An oasis of calm in the middle of the city of ...</td>\n      <td>https://a0.muscache.com/pictures/f306ad6d-aa82...</td>\n      <td>395882585</td>\n      <td>https://www.airbnb.com/users/show/395882585</td>\n      <td>...</td>\n      <td>NaN</td>\n      <td>NaN</td>\n      <td>NaN</td>\n      <td>0363 B62C 0694 FC6B 277F</td>\n      <td>t</td>\n      <td>1</td>\n      <td>0</td>\n      <td>1</td>\n      <td>0</td>\n      <td>NaN</td>\n    </tr>\n    <tr>\n      <th>17821</th>\n      <td>49089176</td>\n      <td>https://www.airbnb.com/rooms/49089176</td>\n      <td>20210409161549</td>\n      <td>2021-04-11</td>\n      <td>Prachtig, gerenoveerd appartement in de Pijp!</td>\n      <td>Dit volledig gerenoveerde appartement is gesch...</td>\n      <td>NaN</td>\n      <td>https://a0.muscache.com/pictures/0692f782-b1b3...</td>\n      <td>68481315</td>\n      <td>https://www.airbnb.com/users/show/68481315</td>\n      <td>...</td>\n      <td>NaN</td>\n      <td>NaN</td>\n      <td>NaN</td>\n      <td>0363 A169 C048 6ED8 1C00</td>\n      <td>t</td>\n      <td>1</td>\n      <td>1</td>\n      <td>0</td>\n      <td>0</td>\n      <td>NaN</td>\n    </tr>\n    <tr>\n      <th>17822</th>\n      <td>49101225</td>\n      <td>https://www.airbnb.com/rooms/49101225</td>\n      <td>20210409161549</td>\n      <td>2021-04-12</td>\n      <td>Beautiful luxury loft close to city centre</td>\n      <td>THIS APARTMENT IS IN TRANSVAALBUURT: \"HAPPY NE...</td>\n      <td>The apartment is in Transvaalbuurt, a characte...</td>\n      <td>https://a0.muscache.com/pictures/195f53ba-8e82...</td>\n      <td>23204045</td>\n      <td>https://www.airbnb.com/users/show/23204045</td>\n      <td>...</td>\n      <td>NaN</td>\n      <td>NaN</td>\n      <td>NaN</td>\n      <td>03631DCF0C172B758647</td>\n      <td>f</td>\n      <td>1</td>\n      <td>1</td>\n      <td>0</td>\n      <td>0</td>\n      <td>NaN</td>\n    </tr>\n    <tr>\n      <th>17823</th>\n      <td>49102514</td>\n      <td>https://www.airbnb.com/rooms/49102514</td>\n      <td>20210409161549</td>\n      <td>2021-04-11</td>\n      <td>Cedo Nulli Dutch Holiday Boats</td>\n      <td>Brand new holiday boats with free parking loca...</td>\n      <td>Marina het Bosch is ideally located in Amsterd...</td>\n      <td>https://a0.muscache.com/pictures/prohost-api/H...</td>\n      <td>26206455</td>\n      <td>https://www.airbnb.com/users/show/26206455</td>\n      <td>...</td>\n      <td>NaN</td>\n      <td>NaN</td>\n      <td>NaN</td>\n      <td>Exempt</td>\n      <td>t</td>\n      <td>1</td>\n      <td>1</td>\n      <td>0</td>\n      <td>0</td>\n      <td>NaN</td>\n    </tr>\n    <tr>\n      <th>17824</th>\n      <td>49119460</td>\n      <td>https://www.airbnb.com/rooms/49119460</td>\n      <td>20210409161549</td>\n      <td>2021-04-11</td>\n      <td>New amazing 4 person Jordaan Apartment</td>\n      <td>Very luxurious and spacious apartment in the b...</td>\n      <td>NaN</td>\n      <td>https://a0.muscache.com/pictures/4f5ef2a4-655a...</td>\n      <td>37752619</td>\n      <td>https://www.airbnb.com/users/show/37752619</td>\n      <td>...</td>\n      <td>NaN</td>\n      <td>NaN</td>\n      <td>NaN</td>\n      <td>Exempt</td>\n      <td>t</td>\n      <td>6</td>\n      <td>6</td>\n      <td>0</td>\n      <td>0</td>\n      <td>NaN</td>\n    </tr>\n  </tbody>\n</table>\n<p>5 rows × 74 columns</p>\n</div>"
     },
     "metadata": {}
    }
   ]
  },
  {
   "cell_type": "code",
   "metadata": {
    "tags": [],
    "cell_id": "00002-18560ce5-7b08-4709-bdcb-7a40323d62a4",
    "deepnote_to_be_reexecuted": false,
    "source_hash": "dcf8f548",
    "execution_start": 1621854353904,
    "execution_millis": 73,
    "deepnote_cell_type": "code"
   },
   "source": "df[[\"beds\", \"accommodates\"]].describe()",
   "execution_count": 3,
   "outputs": [
    {
     "output_type": "execute_result",
     "execution_count": 3,
     "data": {
      "application/vnd.deepnote.dataframe.v2+json": {
       "row_count": 8,
       "column_count": 2,
       "columns": [
        {
         "name": "beds",
         "dtype": "float64",
         "stats": {
          "unique_count": 7,
          "nan_count": 0,
          "min": "0.0",
          "max": "17711.0",
          "histogram": [
           {
            "bin_start": 0,
            "bin_end": 1771.1,
            "count": 7
           },
           {
            "bin_start": 1771.1,
            "bin_end": 3542.2,
            "count": 0
           },
           {
            "bin_start": 3542.2,
            "bin_end": 5313.299999999999,
            "count": 0
           },
           {
            "bin_start": 5313.299999999999,
            "bin_end": 7084.4,
            "count": 0
           },
           {
            "bin_start": 7084.4,
            "bin_end": 8855.5,
            "count": 0
           },
           {
            "bin_start": 8855.5,
            "bin_end": 10626.599999999999,
            "count": 0
           },
           {
            "bin_start": 10626.599999999999,
            "bin_end": 12397.699999999999,
            "count": 0
           },
           {
            "bin_start": 12397.699999999999,
            "bin_end": 14168.8,
            "count": 0
           },
           {
            "bin_start": 14168.8,
            "bin_end": 15939.9,
            "count": 0
           },
           {
            "bin_start": 15939.9,
            "bin_end": 17711,
            "count": 1
           }
          ]
         }
        },
        {
         "name": "accommodates",
         "dtype": "float64",
         "stats": {
          "unique_count": 7,
          "nan_count": 0,
          "min": "0.0",
          "max": "17825.0",
          "histogram": [
           {
            "bin_start": 0,
            "bin_end": 1782.5,
            "count": 7
           },
           {
            "bin_start": 1782.5,
            "bin_end": 3565,
            "count": 0
           },
           {
            "bin_start": 3565,
            "bin_end": 5347.5,
            "count": 0
           },
           {
            "bin_start": 5347.5,
            "bin_end": 7130,
            "count": 0
           },
           {
            "bin_start": 7130,
            "bin_end": 8912.5,
            "count": 0
           },
           {
            "bin_start": 8912.5,
            "bin_end": 10695,
            "count": 0
           },
           {
            "bin_start": 10695,
            "bin_end": 12477.5,
            "count": 0
           },
           {
            "bin_start": 12477.5,
            "bin_end": 14260,
            "count": 0
           },
           {
            "bin_start": 14260,
            "bin_end": 16042.5,
            "count": 0
           },
           {
            "bin_start": 16042.5,
            "bin_end": 17825,
            "count": 1
           }
          ]
         }
        },
        {
         "name": "_deepnote_index_column",
         "dtype": "object"
        }
       ],
       "rows_top": [
        {
         "beds": 17711,
         "accommodates": 17825,
         "_deepnote_index_column": "count"
        },
        {
         "beds": 1.7655129580486704,
         "accommodates": 2.8385413744740533,
         "_deepnote_index_column": "mean"
        },
        {
         "beds": 1.4760113686571665,
         "accommodates": 1.2994121132174465,
         "_deepnote_index_column": "std"
        },
        {
         "beds": 0,
         "accommodates": 0,
         "_deepnote_index_column": "min"
        },
        {
         "beds": 1,
         "accommodates": 2,
         "_deepnote_index_column": "25%"
        },
        {
         "beds": 1,
         "accommodates": 2,
         "_deepnote_index_column": "50%"
        },
        {
         "beds": 2,
         "accommodates": 4,
         "_deepnote_index_column": "75%"
        },
        {
         "beds": 35,
         "accommodates": 16,
         "_deepnote_index_column": "max"
        }
       ],
       "rows_bottom": null
      },
      "text/plain": "               beds  accommodates\ncount  17711.000000  17825.000000\nmean       1.765513      2.838541\nstd        1.476011      1.299412\nmin        0.000000      0.000000\n25%        1.000000      2.000000\n50%        1.000000      2.000000\n75%        2.000000      4.000000\nmax       35.000000     16.000000",
      "text/html": "<div>\n<style scoped>\n    .dataframe tbody tr th:only-of-type {\n        vertical-align: middle;\n    }\n\n    .dataframe tbody tr th {\n        vertical-align: top;\n    }\n\n    .dataframe thead th {\n        text-align: right;\n    }\n</style>\n<table border=\"1\" class=\"dataframe\">\n  <thead>\n    <tr style=\"text-align: right;\">\n      <th></th>\n      <th>beds</th>\n      <th>accommodates</th>\n    </tr>\n  </thead>\n  <tbody>\n    <tr>\n      <th>count</th>\n      <td>17711.000000</td>\n      <td>17825.000000</td>\n    </tr>\n    <tr>\n      <th>mean</th>\n      <td>1.765513</td>\n      <td>2.838541</td>\n    </tr>\n    <tr>\n      <th>std</th>\n      <td>1.476011</td>\n      <td>1.299412</td>\n    </tr>\n    <tr>\n      <th>min</th>\n      <td>0.000000</td>\n      <td>0.000000</td>\n    </tr>\n    <tr>\n      <th>25%</th>\n      <td>1.000000</td>\n      <td>2.000000</td>\n    </tr>\n    <tr>\n      <th>50%</th>\n      <td>1.000000</td>\n      <td>2.000000</td>\n    </tr>\n    <tr>\n      <th>75%</th>\n      <td>2.000000</td>\n      <td>4.000000</td>\n    </tr>\n    <tr>\n      <th>max</th>\n      <td>35.000000</td>\n      <td>16.000000</td>\n    </tr>\n  </tbody>\n</table>\n</div>"
     },
     "metadata": {}
    }
   ]
  },
  {
   "cell_type": "markdown",
   "source": "Problem with rows beds and accommodates... max beds is 35, but max accommodates is 16. Min for both is 0 which doesn't make sense ",
   "metadata": {
    "tags": [],
    "cell_id": "00003-116ec048-8d07-414c-bf98-09f36660d45b",
    "deepnote_cell_type": "text-cell-p"
   }
  },
  {
   "cell_type": "code",
   "metadata": {
    "tags": [],
    "cell_id": "00005-74e219c9-fdde-4535-8bf7-75762b7562a9",
    "deepnote_to_be_reexecuted": false,
    "source_hash": "25d43fa0",
    "execution_start": 1621854353994,
    "execution_millis": 7,
    "deepnote_cell_type": "code"
   },
   "source": "df.columns",
   "execution_count": 4,
   "outputs": [
    {
     "output_type": "execute_result",
     "execution_count": 4,
     "data": {
      "text/plain": "Index(['id', 'listing_url', 'scrape_id', 'last_scraped', 'name', 'description',\n       'neighborhood_overview', 'picture_url', 'host_id', 'host_url',\n       'host_name', 'host_since', 'host_location', 'host_about',\n       'host_response_time', 'host_response_rate', 'host_acceptance_rate',\n       'host_is_superhost', 'host_thumbnail_url', 'host_picture_url',\n       'host_neighbourhood', 'host_listings_count',\n       'host_total_listings_count', 'host_verifications',\n       'host_has_profile_pic', 'host_identity_verified', 'neighbourhood',\n       'neighbourhood_cleansed', 'neighbourhood_group_cleansed', 'latitude',\n       'longitude', 'property_type', 'room_type', 'accommodates', 'bathrooms',\n       'bathrooms_text', 'bedrooms', 'beds', 'amenities', 'price',\n       'minimum_nights', 'maximum_nights', 'minimum_minimum_nights',\n       'maximum_minimum_nights', 'minimum_maximum_nights',\n       'maximum_maximum_nights', 'minimum_nights_avg_ntm',\n       'maximum_nights_avg_ntm', 'calendar_updated', 'has_availability',\n       'availability_30', 'availability_60', 'availability_90',\n       'availability_365', 'calendar_last_scraped', 'number_of_reviews',\n       'number_of_reviews_ltm', 'number_of_reviews_l30d', 'first_review',\n       'last_review', 'review_scores_rating', 'review_scores_accuracy',\n       'review_scores_cleanliness', 'review_scores_checkin',\n       'review_scores_communication', 'review_scores_location',\n       'review_scores_value', 'license', 'instant_bookable',\n       'calculated_host_listings_count',\n       'calculated_host_listings_count_entire_homes',\n       'calculated_host_listings_count_private_rooms',\n       'calculated_host_listings_count_shared_rooms', 'reviews_per_month'],\n      dtype='object')"
     },
     "metadata": {}
    }
   ]
  },
  {
   "cell_type": "code",
   "metadata": {
    "tags": [],
    "cell_id": "00004-319e893f-fd02-436f-83f7-b004820c7c31",
    "deepnote_to_be_reexecuted": false,
    "source_hash": "2f7b2c29",
    "execution_start": 1621854354045,
    "execution_millis": 319,
    "deepnote_cell_type": "code"
   },
   "source": "df_clean=df.drop([\"neighbourhood\",\"host_acceptance_rate\", 'host_url','host_name', 'host_since', 'host_location', 'host_about','host_response_time', 'host_response_rate',\"bathrooms\",\"neighbourhood_group_cleansed\",\"listing_url\", \"scrape_id\", \"last_scraped\", \"neighborhood_overview\", \"picture_url\", 'license', 'instant_bookable','calculated_host_listings_count','first_review','last_review','minimum_nights', 'maximum_nights', 'minimum_minimum_nights','maximum_minimum_nights', 'minimum_maximum_nights','maximum_maximum_nights', 'minimum_nights_avg_ntm','maximum_nights_avg_ntm', 'calendar_updated', 'has_availability','availability_30', 'availability_60', 'availability_90','availability_365', 'calendar_last_scraped', 'host_thumbnail_url', 'host_picture_url','host_neighbourhood', 'host_listings_count', 'host_total_listings_count', 'host_verifications', 'host_has_profile_pic', 'host_identity_verified'],axis=1)\ndf_clean.describe(include=\"all\")",
   "execution_count": 5,
   "outputs": [
    {
     "output_type": "execute_result",
     "execution_count": 5,
     "data": {
      "application/vnd.deepnote.dataframe.v2+json": {
       "row_count": 11,
       "column_count": 30,
       "columns": [
        {
         "name": "id",
         "dtype": "float64",
         "stats": {
          "unique_count": 8,
          "nan_count": 3,
          "min": "2818.0",
          "max": "49119460.0",
          "histogram": [
           {
            "bin_start": 2818,
            "bin_end": 4914482.2,
            "count": 2
           },
           {
            "bin_start": 4914482.2,
            "bin_end": 9826146.4,
            "count": 0
           },
           {
            "bin_start": 9826146.4,
            "bin_end": 14737810.600000001,
            "count": 2
           },
           {
            "bin_start": 14737810.600000001,
            "bin_end": 19649474.8,
            "count": 1
           },
           {
            "bin_start": 19649474.8,
            "bin_end": 24561139,
            "count": 1
           },
           {
            "bin_start": 24561139,
            "bin_end": 29472803.200000003,
            "count": 0
           },
           {
            "bin_start": 29472803.200000003,
            "bin_end": 34384467.4,
            "count": 1
           },
           {
            "bin_start": 34384467.4,
            "bin_end": 39296131.6,
            "count": 0
           },
           {
            "bin_start": 39296131.6,
            "bin_end": 44207795.800000004,
            "count": 0
           },
           {
            "bin_start": 44207795.800000004,
            "bin_end": 49119460,
            "count": 1
           }
          ]
         }
        },
        {
         "name": "name",
         "dtype": "object",
         "stats": {
          "unique_count": 4,
          "nan_count": 7,
          "categories": [
           {
            "name": "17793",
            "count": 1
           },
           {
            "name": "3 others",
            "count": 3
           },
           {
            "name": "Missing",
            "count": 7
           }
          ]
         }
        },
        {
         "name": "description",
         "dtype": "object",
         "stats": {
          "unique_count": 4,
          "nan_count": 7,
          "categories": [
           {
            "name": "17536",
            "count": 1
           },
           {
            "name": "3 others",
            "count": 3
           },
           {
            "name": "Missing",
            "count": 7
           }
          ]
         }
        },
        {
         "name": "host_id",
         "dtype": "float64",
         "stats": {
          "unique_count": 8,
          "nan_count": 3,
          "min": "3159.0",
          "max": "395882585.0",
          "histogram": [
           {
            "bin_start": 3159,
            "bin_end": 39591101.6,
            "count": 4
           },
           {
            "bin_start": 39591101.6,
            "bin_end": 79179044.2,
            "count": 1
           },
           {
            "bin_start": 79179044.2,
            "bin_end": 118766986.80000001,
            "count": 2
           },
           {
            "bin_start": 118766986.80000001,
            "bin_end": 158354929.4,
            "count": 0
           },
           {
            "bin_start": 158354929.4,
            "bin_end": 197942872,
            "count": 0
           },
           {
            "bin_start": 197942872,
            "bin_end": 237530814.60000002,
            "count": 0
           },
           {
            "bin_start": 237530814.60000002,
            "bin_end": 277118757.2,
            "count": 0
           },
           {
            "bin_start": 277118757.2,
            "bin_end": 316706699.8,
            "count": 0
           },
           {
            "bin_start": 316706699.8,
            "bin_end": 356294642.40000004,
            "count": 0
           },
           {
            "bin_start": 356294642.40000004,
            "bin_end": 395882585,
            "count": 1
           }
          ]
         }
        },
        {
         "name": "host_is_superhost",
         "dtype": "object",
         "stats": {
          "unique_count": 4,
          "nan_count": 7,
          "categories": [
           {
            "name": "17230",
            "count": 1
           },
           {
            "name": "3 others",
            "count": 3
           },
           {
            "name": "Missing",
            "count": 7
           }
          ]
         }
        },
        {
         "name": "neighbourhood_cleansed",
         "dtype": "object",
         "stats": {
          "unique_count": 4,
          "nan_count": 7,
          "categories": [
           {
            "name": "17825",
            "count": 1
           },
           {
            "name": "3 others",
            "count": 3
           },
           {
            "name": "Missing",
            "count": 7
           }
          ]
         }
        },
        {
         "name": "latitude",
         "dtype": "float64",
         "stats": {
          "unique_count": 8,
          "nan_count": 3,
          "min": "0.016582737746899882",
          "max": "17825.0",
          "histogram": [
           {
            "bin_start": 0.016582737746899882,
            "bin_end": 1782.5149244639722,
            "count": 7
           },
           {
            "bin_start": 1782.5149244639722,
            "bin_end": 3565.0132661901976,
            "count": 0
           },
           {
            "bin_start": 3565.0132661901976,
            "bin_end": 5347.511607916423,
            "count": 0
           },
           {
            "bin_start": 5347.511607916423,
            "bin_end": 7130.009949642648,
            "count": 0
           },
           {
            "bin_start": 7130.009949642648,
            "bin_end": 8912.508291368875,
            "count": 0
           },
           {
            "bin_start": 8912.508291368875,
            "bin_end": 10695.0066330951,
            "count": 0
           },
           {
            "bin_start": 10695.0066330951,
            "bin_end": 12477.504974821326,
            "count": 0
           },
           {
            "bin_start": 12477.504974821326,
            "bin_end": 14260.00331654755,
            "count": 0
           },
           {
            "bin_start": 14260.00331654755,
            "bin_end": 16042.501658273775,
            "count": 0
           },
           {
            "bin_start": 16042.501658273775,
            "bin_end": 17825,
            "count": 1
           }
          ]
         }
        },
        {
         "name": "longitude",
         "dtype": "float64",
         "stats": {
          "unique_count": 8,
          "nan_count": 3,
          "min": "0.035860915716857705",
          "max": "17825.0",
          "histogram": [
           {
            "bin_start": 0.035860915716857705,
            "bin_end": 1782.5322748241454,
            "count": 7
           },
           {
            "bin_start": 1782.5322748241454,
            "bin_end": 3565.0286887325738,
            "count": 0
           },
           {
            "bin_start": 3565.0286887325738,
            "bin_end": 5347.5251026410015,
            "count": 0
           },
           {
            "bin_start": 5347.5251026410015,
            "bin_end": 7130.02151654943,
            "count": 0
           },
           {
            "bin_start": 7130.02151654943,
            "bin_end": 8912.51793045786,
            "count": 0
           },
           {
            "bin_start": 8912.51793045786,
            "bin_end": 10695.014344366287,
            "count": 0
           },
           {
            "bin_start": 10695.014344366287,
            "bin_end": 12477.510758274717,
            "count": 0
           },
           {
            "bin_start": 12477.510758274717,
            "bin_end": 14260.007172183145,
            "count": 0
           },
           {
            "bin_start": 14260.007172183145,
            "bin_end": 16042.503586091572,
            "count": 0
           },
           {
            "bin_start": 16042.503586091572,
            "bin_end": 17825,
            "count": 1
           }
          ]
         }
        },
        {
         "name": "property_type",
         "dtype": "object",
         "stats": {
          "unique_count": 4,
          "nan_count": 7,
          "categories": [
           {
            "name": "17825",
            "count": 1
           },
           {
            "name": "3 others",
            "count": 3
           },
           {
            "name": "Missing",
            "count": 7
           }
          ]
         }
        },
        {
         "name": "room_type",
         "dtype": "object",
         "stats": {
          "unique_count": 4,
          "nan_count": 7,
          "categories": [
           {
            "name": "17825",
            "count": 1
           },
           {
            "name": "3 others",
            "count": 3
           },
           {
            "name": "Missing",
            "count": 7
           }
          ]
         }
        },
        {
         "name": "accommodates",
         "dtype": "float64",
         "stats": {
          "unique_count": 7,
          "nan_count": 3,
          "min": "0.0",
          "max": "17825.0",
          "histogram": [
           {
            "bin_start": 0,
            "bin_end": 1782.5,
            "count": 7
           },
           {
            "bin_start": 1782.5,
            "bin_end": 3565,
            "count": 0
           },
           {
            "bin_start": 3565,
            "bin_end": 5347.5,
            "count": 0
           },
           {
            "bin_start": 5347.5,
            "bin_end": 7130,
            "count": 0
           },
           {
            "bin_start": 7130,
            "bin_end": 8912.5,
            "count": 0
           },
           {
            "bin_start": 8912.5,
            "bin_end": 10695,
            "count": 0
           },
           {
            "bin_start": 10695,
            "bin_end": 12477.5,
            "count": 0
           },
           {
            "bin_start": 12477.5,
            "bin_end": 14260,
            "count": 0
           },
           {
            "bin_start": 14260,
            "bin_end": 16042.5,
            "count": 0
           },
           {
            "bin_start": 16042.5,
            "bin_end": 17825,
            "count": 1
           }
          ]
         }
        },
        {
         "name": "bathrooms_text",
         "dtype": "object",
         "stats": {
          "unique_count": 4,
          "nan_count": 7,
          "categories": [
           {
            "name": "17803",
            "count": 1
           },
           {
            "name": "3 others",
            "count": 3
           },
           {
            "name": "Missing",
            "count": 7
           }
          ]
         }
        },
        {
         "name": "bedrooms",
         "dtype": "float64",
         "stats": {
          "unique_count": 6,
          "nan_count": 3,
          "min": "0.9649499086058957",
          "max": "16858.0",
          "histogram": [
           {
            "bin_start": 0.9649499086058957,
            "bin_end": 1686.6684549177453,
            "count": 7
           },
           {
            "bin_start": 1686.6684549177453,
            "bin_end": 3372.3719599268848,
            "count": 0
           },
           {
            "bin_start": 3372.3719599268848,
            "bin_end": 5058.075464936024,
            "count": 0
           },
           {
            "bin_start": 5058.075464936024,
            "bin_end": 6743.778969945164,
            "count": 0
           },
           {
            "bin_start": 6743.778969945164,
            "bin_end": 8429.482474954304,
            "count": 0
           },
           {
            "bin_start": 8429.482474954304,
            "bin_end": 10115.185979963442,
            "count": 0
           },
           {
            "bin_start": 10115.185979963442,
            "bin_end": 11800.889484972582,
            "count": 0
           },
           {
            "bin_start": 11800.889484972582,
            "bin_end": 13486.592989981722,
            "count": 0
           },
           {
            "bin_start": 13486.592989981722,
            "bin_end": 15172.296494990862,
            "count": 0
           },
           {
            "bin_start": 15172.296494990862,
            "bin_end": 16858,
            "count": 1
           }
          ]
         }
        },
        {
         "name": "beds",
         "dtype": "float64",
         "stats": {
          "unique_count": 7,
          "nan_count": 3,
          "min": "0.0",
          "max": "17711.0",
          "histogram": [
           {
            "bin_start": 0,
            "bin_end": 1771.1,
            "count": 7
           },
           {
            "bin_start": 1771.1,
            "bin_end": 3542.2,
            "count": 0
           },
           {
            "bin_start": 3542.2,
            "bin_end": 5313.299999999999,
            "count": 0
           },
           {
            "bin_start": 5313.299999999999,
            "bin_end": 7084.4,
            "count": 0
           },
           {
            "bin_start": 7084.4,
            "bin_end": 8855.5,
            "count": 0
           },
           {
            "bin_start": 8855.5,
            "bin_end": 10626.599999999999,
            "count": 0
           },
           {
            "bin_start": 10626.599999999999,
            "bin_end": 12397.699999999999,
            "count": 0
           },
           {
            "bin_start": 12397.699999999999,
            "bin_end": 14168.8,
            "count": 0
           },
           {
            "bin_start": 14168.8,
            "bin_end": 15939.9,
            "count": 0
           },
           {
            "bin_start": 15939.9,
            "bin_end": 17711,
            "count": 1
           }
          ]
         }
        },
        {
         "name": "amenities",
         "dtype": "object",
         "stats": {
          "unique_count": 4,
          "nan_count": 7,
          "categories": [
           {
            "name": "17825",
            "count": 1
           },
           {
            "name": "3 others",
            "count": 3
           },
           {
            "name": "Missing",
            "count": 7
           }
          ]
         }
        },
        {
         "name": "price",
         "dtype": "object",
         "stats": {
          "unique_count": 4,
          "nan_count": 7,
          "categories": [
           {
            "name": "17825",
            "count": 1
           },
           {
            "name": "3 others",
            "count": 3
           },
           {
            "name": "Missing",
            "count": 7
           }
          ]
         }
        },
        {
         "name": "number_of_reviews",
         "dtype": "float64",
         "stats": {
          "unique_count": 8,
          "nan_count": 3,
          "min": "0.0",
          "max": "17825.0",
          "histogram": [
           {
            "bin_start": 0,
            "bin_end": 1782.5,
            "count": 7
           },
           {
            "bin_start": 1782.5,
            "bin_end": 3565,
            "count": 0
           },
           {
            "bin_start": 3565,
            "bin_end": 5347.5,
            "count": 0
           },
           {
            "bin_start": 5347.5,
            "bin_end": 7130,
            "count": 0
           },
           {
            "bin_start": 7130,
            "bin_end": 8912.5,
            "count": 0
           },
           {
            "bin_start": 8912.5,
            "bin_end": 10695,
            "count": 0
           },
           {
            "bin_start": 10695,
            "bin_end": 12477.5,
            "count": 0
           },
           {
            "bin_start": 12477.5,
            "bin_end": 14260,
            "count": 0
           },
           {
            "bin_start": 14260,
            "bin_end": 16042.5,
            "count": 0
           },
           {
            "bin_start": 16042.5,
            "bin_end": 17825,
            "count": 1
           }
          ]
         }
        },
        {
         "name": "number_of_reviews_ltm",
         "dtype": "float64",
         "stats": {
          "unique_count": 5,
          "nan_count": 3,
          "min": "0.0",
          "max": "17825.0",
          "histogram": [
           {
            "bin_start": 0,
            "bin_end": 1782.5,
            "count": 7
           },
           {
            "bin_start": 1782.5,
            "bin_end": 3565,
            "count": 0
           },
           {
            "bin_start": 3565,
            "bin_end": 5347.5,
            "count": 0
           },
           {
            "bin_start": 5347.5,
            "bin_end": 7130,
            "count": 0
           },
           {
            "bin_start": 7130,
            "bin_end": 8912.5,
            "count": 0
           },
           {
            "bin_start": 8912.5,
            "bin_end": 10695,
            "count": 0
           },
           {
            "bin_start": 10695,
            "bin_end": 12477.5,
            "count": 0
           },
           {
            "bin_start": 12477.5,
            "bin_end": 14260,
            "count": 0
           },
           {
            "bin_start": 14260,
            "bin_end": 16042.5,
            "count": 0
           },
           {
            "bin_start": 16042.5,
            "bin_end": 17825,
            "count": 1
           }
          ]
         }
        },
        {
         "name": "number_of_reviews_l30d",
         "dtype": "float64",
         "stats": {
          "unique_count": 5,
          "nan_count": 3,
          "min": "0.0",
          "max": "17825.0",
          "histogram": [
           {
            "bin_start": 0,
            "bin_end": 1782.5,
            "count": 7
           },
           {
            "bin_start": 1782.5,
            "bin_end": 3565,
            "count": 0
           },
           {
            "bin_start": 3565,
            "bin_end": 5347.5,
            "count": 0
           },
           {
            "bin_start": 5347.5,
            "bin_end": 7130,
            "count": 0
           },
           {
            "bin_start": 7130,
            "bin_end": 8912.5,
            "count": 0
           },
           {
            "bin_start": 8912.5,
            "bin_end": 10695,
            "count": 0
           },
           {
            "bin_start": 10695,
            "bin_end": 12477.5,
            "count": 0
           },
           {
            "bin_start": 12477.5,
            "bin_end": 14260,
            "count": 0
           },
           {
            "bin_start": 14260,
            "bin_end": 16042.5,
            "count": 0
           },
           {
            "bin_start": 16042.5,
            "bin_end": 17825,
            "count": 1
           }
          ]
         }
        },
        {
         "name": "review_scores_rating",
         "dtype": "float64",
         "stats": {
          "unique_count": 7,
          "nan_count": 3,
          "min": "7.192616972026163",
          "max": "15187.0",
          "histogram": [
           {
            "bin_start": 7.192616972026163,
            "bin_end": 1525.1733552748235,
            "count": 7
           },
           {
            "bin_start": 1525.1733552748235,
            "bin_end": 3043.154093577621,
            "count": 0
           },
           {
            "bin_start": 3043.154093577621,
            "bin_end": 4561.1348318804185,
            "count": 0
           },
           {
            "bin_start": 4561.1348318804185,
            "bin_end": 6079.115570183216,
            "count": 0
           },
           {
            "bin_start": 6079.115570183216,
            "bin_end": 7597.096308486013,
            "count": 0
           },
           {
            "bin_start": 7597.096308486013,
            "bin_end": 9115.07704678881,
            "count": 0
           },
           {
            "bin_start": 9115.07704678881,
            "bin_end": 10633.057785091607,
            "count": 0
           },
           {
            "bin_start": 10633.057785091607,
            "bin_end": 12151.038523394405,
            "count": 0
           },
           {
            "bin_start": 12151.038523394405,
            "bin_end": 13669.019261697204,
            "count": 0
           },
           {
            "bin_start": 13669.019261697204,
            "bin_end": 15187,
            "count": 1
           }
          ]
         }
        },
        {
         "name": "review_scores_accuracy",
         "dtype": "float64",
         "stats": {
          "unique_count": 5,
          "nan_count": 3,
          "min": "0.7462662004135756",
          "max": "15177.0",
          "histogram": [
           {
            "bin_start": 0.7462662004135756,
            "bin_end": 1518.3716395803724,
            "count": 7
           },
           {
            "bin_start": 1518.3716395803724,
            "bin_end": 3035.997012960331,
            "count": 0
           },
           {
            "bin_start": 3035.997012960331,
            "bin_end": 4553.62238634029,
            "count": 0
           },
           {
            "bin_start": 4553.62238634029,
            "bin_end": 6071.247759720249,
            "count": 0
           },
           {
            "bin_start": 6071.247759720249,
            "bin_end": 7588.873133100207,
            "count": 0
           },
           {
            "bin_start": 7588.873133100207,
            "bin_end": 9106.498506480166,
            "count": 0
           },
           {
            "bin_start": 9106.498506480166,
            "bin_end": 10624.123879860124,
            "count": 0
           },
           {
            "bin_start": 10624.123879860124,
            "bin_end": 12141.749253240083,
            "count": 0
           },
           {
            "bin_start": 12141.749253240083,
            "bin_end": 13659.374626620041,
            "count": 0
           },
           {
            "bin_start": 13659.374626620041,
            "bin_end": 15177,
            "count": 1
           }
          ]
         }
        },
        {
         "name": "review_scores_cleanliness",
         "dtype": "float64",
         "stats": {
          "unique_count": 6,
          "nan_count": 3,
          "min": "0.9238967979479121",
          "max": "15177.0",
          "histogram": [
           {
            "bin_start": 0.9238967979479121,
            "bin_end": 1518.5315071181533,
            "count": 7
           },
           {
            "bin_start": 1518.5315071181533,
            "bin_end": 3036.1391174383584,
            "count": 0
           },
           {
            "bin_start": 3036.1391174383584,
            "bin_end": 4553.746727758565,
            "count": 0
           },
           {
            "bin_start": 4553.746727758565,
            "bin_end": 6071.35433807877,
            "count": 0
           },
           {
            "bin_start": 6071.35433807877,
            "bin_end": 7588.9619483989745,
            "count": 0
           },
           {
            "bin_start": 7588.9619483989745,
            "bin_end": 9106.56955871918,
            "count": 0
           },
           {
            "bin_start": 9106.56955871918,
            "bin_end": 10624.177169039385,
            "count": 0
           },
           {
            "bin_start": 10624.177169039385,
            "bin_end": 12141.78477935959,
            "count": 0
           },
           {
            "bin_start": 12141.78477935959,
            "bin_end": 13659.392389679795,
            "count": 0
           },
           {
            "bin_start": 13659.392389679795,
            "bin_end": 15177,
            "count": 1
           }
          ]
         }
        },
        {
         "name": "review_scores_checkin",
         "dtype": "float64",
         "stats": {
          "unique_count": 5,
          "nan_count": 3,
          "min": "0.6770479772692042",
          "max": "15169.0",
          "histogram": [
           {
            "bin_start": 0.6770479772692042,
            "bin_end": 1517.5093431795424,
            "count": 7
           },
           {
            "bin_start": 1517.5093431795424,
            "bin_end": 3034.3416383818153,
            "count": 0
           },
           {
            "bin_start": 3034.3416383818153,
            "bin_end": 4551.173933584088,
            "count": 0
           },
           {
            "bin_start": 4551.173933584088,
            "bin_end": 6068.006228786362,
            "count": 0
           },
           {
            "bin_start": 6068.006228786362,
            "bin_end": 7584.838523988636,
            "count": 0
           },
           {
            "bin_start": 7584.838523988636,
            "bin_end": 9101.670819190907,
            "count": 0
           },
           {
            "bin_start": 9101.670819190907,
            "bin_end": 10618.503114393181,
            "count": 0
           },
           {
            "bin_start": 10618.503114393181,
            "bin_end": 12135.335409595455,
            "count": 0
           },
           {
            "bin_start": 12135.335409595455,
            "bin_end": 13652.167704797728,
            "count": 0
           },
           {
            "bin_start": 13652.167704797728,
            "bin_end": 15169,
            "count": 1
           }
          ]
         }
        },
        {
         "name": "review_scores_communication",
         "dtype": "float64",
         "stats": {
          "unique_count": 5,
          "nan_count": 3,
          "min": "0.6530718332752242",
          "max": "15176.0",
          "histogram": [
           {
            "bin_start": 0.6530718332752242,
            "bin_end": 1518.1877646499474,
            "count": 7
           },
           {
            "bin_start": 1518.1877646499474,
            "bin_end": 3035.7224574666197,
            "count": 0
           },
           {
            "bin_start": 3035.7224574666197,
            "bin_end": 4553.257150283292,
            "count": 0
           },
           {
            "bin_start": 4553.257150283292,
            "bin_end": 6070.791843099964,
            "count": 0
           },
           {
            "bin_start": 6070.791843099964,
            "bin_end": 7588.326535916637,
            "count": 0
           },
           {
            "bin_start": 7588.326535916637,
            "bin_end": 9105.861228733309,
            "count": 0
           },
           {
            "bin_start": 9105.861228733309,
            "bin_end": 10623.395921549982,
            "count": 0
           },
           {
            "bin_start": 10623.395921549982,
            "bin_end": 12140.930614366654,
            "count": 0
           },
           {
            "bin_start": 12140.930614366654,
            "bin_end": 13658.465307183327,
            "count": 0
           },
           {
            "bin_start": 13658.465307183327,
            "bin_end": 15176,
            "count": 1
           }
          ]
         }
        },
        {
         "name": "review_scores_location",
         "dtype": "float64",
         "stats": {
          "unique_count": 6,
          "nan_count": 3,
          "min": "0.7152639142988477",
          "max": "15171.0",
          "histogram": [
           {
            "bin_start": 0.7152639142988477,
            "bin_end": 1517.743737522869,
            "count": 7
           },
           {
            "bin_start": 1517.743737522869,
            "bin_end": 3034.772211131439,
            "count": 0
           },
           {
            "bin_start": 3034.772211131439,
            "bin_end": 4551.800684740008,
            "count": 0
           },
           {
            "bin_start": 4551.800684740008,
            "bin_end": 6068.829158348579,
            "count": 0
           },
           {
            "bin_start": 6068.829158348579,
            "bin_end": 7585.857631957149,
            "count": 0
           },
           {
            "bin_start": 7585.857631957149,
            "bin_end": 9102.886105565718,
            "count": 0
           },
           {
            "bin_start": 9102.886105565718,
            "bin_end": 10619.914579174289,
            "count": 0
           },
           {
            "bin_start": 10619.914579174289,
            "bin_end": 12136.943052782859,
            "count": 0
           },
           {
            "bin_start": 12136.943052782859,
            "bin_end": 13653.97152639143,
            "count": 0
           },
           {
            "bin_start": 13653.97152639143,
            "bin_end": 15171,
            "count": 1
           }
          ]
         }
        },
        {
         "name": "review_scores_value",
         "dtype": "float64",
         "stats": {
          "unique_count": 6,
          "nan_count": 3,
          "min": "0.8426360996292396",
          "max": "15171.0",
          "histogram": [
           {
            "bin_start": 0.8426360996292396,
            "bin_end": 1517.8583724896664,
            "count": 7
           },
           {
            "bin_start": 1517.8583724896664,
            "bin_end": 3034.8741088797033,
            "count": 0
           },
           {
            "bin_start": 3034.8741088797033,
            "bin_end": 4551.88984526974,
            "count": 0
           },
           {
            "bin_start": 4551.88984526974,
            "bin_end": 6068.905581659777,
            "count": 0
           },
           {
            "bin_start": 6068.905581659777,
            "bin_end": 7585.9213180498145,
            "count": 0
           },
           {
            "bin_start": 7585.9213180498145,
            "bin_end": 9102.937054439852,
            "count": 0
           },
           {
            "bin_start": 9102.937054439852,
            "bin_end": 10619.95279082989,
            "count": 0
           },
           {
            "bin_start": 10619.95279082989,
            "bin_end": 12136.968527219926,
            "count": 0
           },
           {
            "bin_start": 12136.968527219926,
            "bin_end": 13653.984263609962,
            "count": 0
           },
           {
            "bin_start": 13653.984263609962,
            "bin_end": 15171,
            "count": 1
           }
          ]
         }
        },
        {
         "name": "calculated_host_listings_count_entire_homes",
         "dtype": "float64",
         "stats": {
          "unique_count": 6,
          "nan_count": 3,
          "min": "0.0",
          "max": "17825.0",
          "histogram": [
           {
            "bin_start": 0,
            "bin_end": 1782.5,
            "count": 7
           },
           {
            "bin_start": 1782.5,
            "bin_end": 3565,
            "count": 0
           },
           {
            "bin_start": 3565,
            "bin_end": 5347.5,
            "count": 0
           },
           {
            "bin_start": 5347.5,
            "bin_end": 7130,
            "count": 0
           },
           {
            "bin_start": 7130,
            "bin_end": 8912.5,
            "count": 0
           },
           {
            "bin_start": 8912.5,
            "bin_end": 10695,
            "count": 0
           },
           {
            "bin_start": 10695,
            "bin_end": 12477.5,
            "count": 0
           },
           {
            "bin_start": 12477.5,
            "bin_end": 14260,
            "count": 0
           },
           {
            "bin_start": 14260,
            "bin_end": 16042.5,
            "count": 0
           },
           {
            "bin_start": 16042.5,
            "bin_end": 17825,
            "count": 1
           }
          ]
         }
        },
        {
         "name": "calculated_host_listings_count_private_rooms",
         "dtype": "float64",
         "stats": {
          "unique_count": 5,
          "nan_count": 3,
          "min": "0.0",
          "max": "17825.0",
          "histogram": [
           {
            "bin_start": 0,
            "bin_end": 1782.5,
            "count": 7
           },
           {
            "bin_start": 1782.5,
            "bin_end": 3565,
            "count": 0
           },
           {
            "bin_start": 3565,
            "bin_end": 5347.5,
            "count": 0
           },
           {
            "bin_start": 5347.5,
            "bin_end": 7130,
            "count": 0
           },
           {
            "bin_start": 7130,
            "bin_end": 8912.5,
            "count": 0
           },
           {
            "bin_start": 8912.5,
            "bin_end": 10695,
            "count": 0
           },
           {
            "bin_start": 10695,
            "bin_end": 12477.5,
            "count": 0
           },
           {
            "bin_start": 12477.5,
            "bin_end": 14260,
            "count": 0
           },
           {
            "bin_start": 14260,
            "bin_end": 16042.5,
            "count": 0
           },
           {
            "bin_start": 16042.5,
            "bin_end": 17825,
            "count": 1
           }
          ]
         }
        },
        {
         "name": "calculated_host_listings_count_shared_rooms",
         "dtype": "float64",
         "stats": {
          "unique_count": 5,
          "nan_count": 3,
          "min": "0.0",
          "max": "17825.0",
          "histogram": [
           {
            "bin_start": 0,
            "bin_end": 1782.5,
            "count": 7
           },
           {
            "bin_start": 1782.5,
            "bin_end": 3565,
            "count": 0
           },
           {
            "bin_start": 3565,
            "bin_end": 5347.5,
            "count": 0
           },
           {
            "bin_start": 5347.5,
            "bin_end": 7130,
            "count": 0
           },
           {
            "bin_start": 7130,
            "bin_end": 8912.5,
            "count": 0
           },
           {
            "bin_start": 8912.5,
            "bin_end": 10695,
            "count": 0
           },
           {
            "bin_start": 10695,
            "bin_end": 12477.5,
            "count": 0
           },
           {
            "bin_start": 12477.5,
            "bin_end": 14260,
            "count": 0
           },
           {
            "bin_start": 14260,
            "bin_end": 16042.5,
            "count": 0
           },
           {
            "bin_start": 16042.5,
            "bin_end": 17825,
            "count": 1
           }
          ]
         }
        },
        {
         "name": "reviews_per_month",
         "dtype": "float64",
         "stats": {
          "unique_count": 8,
          "nan_count": 3,
          "min": "0.01",
          "max": "15425.0",
          "histogram": [
           {
            "bin_start": 0.01,
            "bin_end": 1542.509,
            "count": 7
           },
           {
            "bin_start": 1542.509,
            "bin_end": 3085.0080000000003,
            "count": 0
           },
           {
            "bin_start": 3085.0080000000003,
            "bin_end": 4627.5070000000005,
            "count": 0
           },
           {
            "bin_start": 4627.5070000000005,
            "bin_end": 6170.006,
            "count": 0
           },
           {
            "bin_start": 6170.006,
            "bin_end": 7712.505,
            "count": 0
           },
           {
            "bin_start": 7712.505,
            "bin_end": 9255.004,
            "count": 0
           },
           {
            "bin_start": 9255.004,
            "bin_end": 10797.503,
            "count": 0
           },
           {
            "bin_start": 10797.503,
            "bin_end": 12340.002,
            "count": 0
           },
           {
            "bin_start": 12340.002,
            "bin_end": 13882.501,
            "count": 0
           },
           {
            "bin_start": 13882.501,
            "bin_end": 15425,
            "count": 1
           }
          ]
         }
        },
        {
         "name": "_deepnote_index_column",
         "dtype": "object"
        }
       ],
       "rows_top": [
        {
         "id": "17825.0",
         "name": "17793",
         "description": "17536",
         "host_id": "17825.0",
         "host_is_superhost": "17230",
         "neighbourhood_cleansed": "17825",
         "latitude": "17825.0",
         "longitude": "17825.0",
         "property_type": "17825",
         "room_type": "17825",
         "accommodates": "17825.0",
         "bathrooms_text": "17803",
         "bedrooms": "16858.0",
         "beds": "17711.0",
         "amenities": "17825",
         "price": "17825",
         "number_of_reviews": "17825.0",
         "number_of_reviews_ltm": "17825.0",
         "number_of_reviews_l30d": "17825.0",
         "review_scores_rating": "15187.0",
         "review_scores_accuracy": "15177.0",
         "review_scores_cleanliness": "15177.0",
         "review_scores_checkin": "15169.0",
         "review_scores_communication": "15176.0",
         "review_scores_location": "15171.0",
         "review_scores_value": "15171.0",
         "calculated_host_listings_count_entire_homes": "17825.0",
         "calculated_host_listings_count_private_rooms": "17825.0",
         "calculated_host_listings_count_shared_rooms": "17825.0",
         "reviews_per_month": "15425.0",
         "_deepnote_index_column": "count"
        },
        {
         "id": "nan",
         "name": "17418",
         "description": "17347",
         "host_id": "nan",
         "host_is_superhost": "2",
         "neighbourhood_cleansed": "22",
         "latitude": "nan",
         "longitude": "nan",
         "property_type": "67",
         "room_type": "4",
         "accommodates": "nan",
         "bathrooms_text": "27",
         "bedrooms": "nan",
         "beds": "nan",
         "amenities": "16236",
         "price": "519",
         "number_of_reviews": "nan",
         "number_of_reviews_ltm": "nan",
         "number_of_reviews_l30d": "nan",
         "review_scores_rating": "nan",
         "review_scores_accuracy": "nan",
         "review_scores_cleanliness": "nan",
         "review_scores_checkin": "nan",
         "review_scores_communication": "nan",
         "review_scores_location": "nan",
         "review_scores_value": "nan",
         "calculated_host_listings_count_entire_homes": "nan",
         "calculated_host_listings_count_private_rooms": "nan",
         "calculated_host_listings_count_shared_rooms": "nan",
         "reviews_per_month": "nan",
         "_deepnote_index_column": "unique"
        },
        {
         "id": "nan",
         "name": "Amsterdam",
         "description": "Hotel Jansen is a new Short Stay hotel in Amsterdam. We offer great and affordable accommodation for students, graduates, interns & young professionals from all over the world. Hotel Jansen is a place you can call home. You can also find us online.<br /><br /><b>The space</b><br />Each room in Hotel Jansen is unique. It is approximately 18m2 and has a private bathroom with shower and amenities. There's a super comfortable bed (1.40 m wide) with a hotel quality mattress, pillows and duvet. There's a great desk and a small pantry with fridge, Nespresso machine and water cooker.<br /><br /><b>Guest access</b><br />The rooms in Hotel Stay are located on the Ground Floor, where also Mama's Kitchen is a based. Mama’s is the place to be for grabbing a bite and meeting up with friends or just hanging out in friendly surroundings. Mama’s is a hybrid of sorts: it is the entrance and heart of Hotel Jansen Amsterdam where we welcome our guests, it’s the place where great food is served and where e",
         "host_id": "nan",
         "host_is_superhost": "f",
         "neighbourhood_cleansed": "De Baarsjes - Oud-West",
         "latitude": "nan",
         "longitude": "nan",
         "property_type": "Entire apartment",
         "room_type": "Entire home/apt",
         "accommodates": "nan",
         "bathrooms_text": "1 bath",
         "bedrooms": "nan",
         "beds": "nan",
         "amenities": "[\"Long term stays allowed\"]",
         "price": "$150.00",
         "number_of_reviews": "nan",
         "number_of_reviews_ltm": "nan",
         "number_of_reviews_l30d": "nan",
         "review_scores_rating": "nan",
         "review_scores_accuracy": "nan",
         "review_scores_cleanliness": "nan",
         "review_scores_checkin": "nan",
         "review_scores_communication": "nan",
         "review_scores_location": "nan",
         "review_scores_value": "nan",
         "calculated_host_listings_count_entire_homes": "nan",
         "calculated_host_listings_count_private_rooms": "nan",
         "calculated_host_listings_count_shared_rooms": "nan",
         "reviews_per_month": "nan",
         "_deepnote_index_column": "top"
        },
        {
         "id": "nan",
         "name": "30",
         "description": "13",
         "host_id": "nan",
         "host_is_superhost": "15091",
         "neighbourhood_cleansed": "2965",
         "latitude": "nan",
         "longitude": "nan",
         "property_type": "11080",
         "room_type": "13896",
         "accommodates": "nan",
         "bathrooms_text": "10371",
         "bedrooms": "nan",
         "beds": "nan",
         "amenities": "43",
         "price": "958",
         "number_of_reviews": "nan",
         "number_of_reviews_ltm": "nan",
         "number_of_reviews_l30d": "nan",
         "review_scores_rating": "nan",
         "review_scores_accuracy": "nan",
         "review_scores_cleanliness": "nan",
         "review_scores_checkin": "nan",
         "review_scores_communication": "nan",
         "review_scores_location": "nan",
         "review_scores_value": "nan",
         "calculated_host_listings_count_entire_homes": "nan",
         "calculated_host_listings_count_private_rooms": "nan",
         "calculated_host_listings_count_shared_rooms": "nan",
         "reviews_per_month": "nan",
         "_deepnote_index_column": "freq"
        },
        {
         "id": "20779721.70462833",
         "name": "nan",
         "description": "nan",
         "host_id": "67832735.54642357",
         "host_is_superhost": "nan",
         "neighbourhood_cleansed": "nan",
         "latitude": "52.36550866953198",
         "longitude": "4.889674365290156",
         "property_type": "nan",
         "room_type": "nan",
         "accommodates": "2.8385413744740533",
         "bathrooms_text": "nan",
         "bedrooms": "1.5331000118638036",
         "beds": "1.7655129580486704",
         "amenities": "nan",
         "price": "nan",
         "number_of_reviews": "23.95287517531557",
         "number_of_reviews_ltm": "1.1037307152875175",
         "number_of_reviews_l30d": "0.03809256661991585",
         "review_scores_rating": "95.06149996707711",
         "review_scores_accuracy": "9.68590630559399",
         "review_scores_cleanliness": "9.453910522501154",
         "review_scores_checkin": "9.743490012525546",
         "review_scores_communication": "9.788350026357406",
         "review_scores_location": "9.510711225364181",
         "review_scores_value": "9.199986816953398",
         "calculated_host_listings_count_entire_homes": "2.1129873772791026",
         "calculated_host_listings_count_private_rooms": "0.516914446002805",
         "calculated_host_listings_count_shared_rooms": "0.008920056100981767",
         "reviews_per_month": "0.5621996758508915",
         "_deepnote_index_column": "mean"
        },
        {
         "id": "12959994.007131498",
         "name": "nan",
         "description": "nan",
         "host_id": "87435286.19863588",
         "host_is_superhost": "nan",
         "neighbourhood_cleansed": "nan",
         "latitude": "0.016582737746899882",
         "longitude": "0.035860915716857705",
         "property_type": "nan",
         "room_type": "nan",
         "accommodates": "1.2994121132174465",
         "bathrooms_text": "nan",
         "bedrooms": "0.9649499086058957",
         "beds": "1.4760113686571665",
         "amenities": "nan",
         "price": "nan",
         "number_of_reviews": "54.8311501591915",
         "number_of_reviews_ltm": "5.770274934348138",
         "number_of_reviews_l30d": "0.34949430857621977",
         "review_scores_rating": "7.192616972026163",
         "review_scores_accuracy": "0.7462662004135756",
         "review_scores_cleanliness": "0.9238967979479121",
         "review_scores_checkin": "0.6770479772692042",
         "review_scores_communication": "0.6530718332752242",
         "review_scores_location": "0.7152639142988477",
         "review_scores_value": "0.8426360996292396",
         "calculated_host_listings_count_entire_homes": "8.587306543669072",
         "calculated_host_listings_count_private_rooms": "1.6798445826119812",
         "calculated_host_listings_count_shared_rooms": "0.13515353641098488",
         "reviews_per_month": "1.0177057424818319",
         "_deepnote_index_column": "std"
        },
        {
         "id": "2818.0",
         "name": "nan",
         "description": "nan",
         "host_id": "3159.0",
         "host_is_superhost": "nan",
         "neighbourhood_cleansed": "nan",
         "latitude": "52.29034",
         "longitude": "4.75493",
         "property_type": "nan",
         "room_type": "nan",
         "accommodates": "0.0",
         "bathrooms_text": "nan",
         "bedrooms": "1.0",
         "beds": "0.0",
         "amenities": "nan",
         "price": "nan",
         "number_of_reviews": "0.0",
         "number_of_reviews_ltm": "0.0",
         "number_of_reviews_l30d": "0.0",
         "review_scores_rating": "20.0",
         "review_scores_accuracy": "2.0",
         "review_scores_cleanliness": "2.0",
         "review_scores_checkin": "2.0",
         "review_scores_communication": "2.0",
         "review_scores_location": "2.0",
         "review_scores_value": "2.0",
         "calculated_host_listings_count_entire_homes": "0.0",
         "calculated_host_listings_count_private_rooms": "0.0",
         "calculated_host_listings_count_shared_rooms": "0.0",
         "reviews_per_month": "0.01",
         "_deepnote_index_column": "min"
        },
        {
         "id": "10182237.0",
         "name": "nan",
         "description": "nan",
         "host_id": "9426449.0",
         "host_is_superhost": "nan",
         "neighbourhood_cleansed": "nan",
         "latitude": "52.35511",
         "longitude": "4.86408",
         "property_type": "nan",
         "room_type": "nan",
         "accommodates": "2.0",
         "bathrooms_text": "nan",
         "bedrooms": "1.0",
         "beds": "1.0",
         "amenities": "nan",
         "price": "nan",
         "number_of_reviews": "2.0",
         "number_of_reviews_ltm": "0.0",
         "number_of_reviews_l30d": "0.0",
         "review_scores_rating": "93.0",
         "review_scores_accuracy": "10.0",
         "review_scores_cleanliness": "9.0",
         "review_scores_checkin": "10.0",
         "review_scores_communication": "10.0",
         "review_scores_location": "9.0",
         "review_scores_value": "9.0",
         "calculated_host_listings_count_entire_homes": "1.0",
         "calculated_host_listings_count_private_rooms": "0.0",
         "calculated_host_listings_count_shared_rooms": "0.0",
         "reviews_per_month": "0.12",
         "_deepnote_index_column": "25%"
        },
        {
         "id": "19184032.0",
         "name": "nan",
         "description": "nan",
         "host_id": "28640347.0",
         "host_is_superhost": "nan",
         "neighbourhood_cleansed": "nan",
         "latitude": "52.36485",
         "longitude": "4.88716",
         "property_type": "nan",
         "room_type": "nan",
         "accommodates": "2.0",
         "bathrooms_text": "nan",
         "bedrooms": "1.0",
         "beds": "1.0",
         "amenities": "nan",
         "price": "nan",
         "number_of_reviews": "8.0",
         "number_of_reviews_ltm": "0.0",
         "number_of_reviews_l30d": "0.0",
         "review_scores_rating": "97.0",
         "review_scores_accuracy": "10.0",
         "review_scores_cleanliness": "10.0",
         "review_scores_checkin": "10.0",
         "review_scores_communication": "10.0",
         "review_scores_location": "10.0",
         "review_scores_value": "9.0",
         "calculated_host_listings_count_entire_homes": "1.0",
         "calculated_host_listings_count_private_rooms": "0.0",
         "calculated_host_listings_count_shared_rooms": "0.0",
         "reviews_per_month": "0.26",
         "_deepnote_index_column": "50%"
        },
        {
         "id": "30548352.0",
         "name": "nan",
         "description": "nan",
         "host_id": "87714581.0",
         "host_is_superhost": "nan",
         "neighbourhood_cleansed": "nan",
         "latitude": "52.37546",
         "longitude": "4.90935",
         "property_type": "nan",
         "room_type": "nan",
         "accommodates": "4.0",
         "bathrooms_text": "nan",
         "bedrooms": "2.0",
         "beds": "2.0",
         "amenities": "nan",
         "price": "nan",
         "number_of_reviews": "21.0",
         "number_of_reviews_ltm": "0.0",
         "number_of_reviews_l30d": "0.0",
         "review_scores_rating": "100.0",
         "review_scores_accuracy": "10.0",
         "review_scores_cleanliness": "10.0",
         "review_scores_checkin": "10.0",
         "review_scores_communication": "10.0",
         "review_scores_location": "10.0",
         "review_scores_value": "10.0",
         "calculated_host_listings_count_entire_homes": "1.0",
         "calculated_host_listings_count_private_rooms": "0.0",
         "calculated_host_listings_count_shared_rooms": "0.0",
         "reviews_per_month": "0.54",
         "_deepnote_index_column": "75%"
        },
        {
         "id": "49119460.0",
         "name": "nan",
         "description": "nan",
         "host_id": "395882585.0",
         "host_is_superhost": "nan",
         "neighbourhood_cleansed": "nan",
         "latitude": "52.42639",
         "longitude": "5.02799",
         "property_type": "nan",
         "room_type": "nan",
         "accommodates": "16.0",
         "bathrooms_text": "nan",
         "bedrooms": "50.0",
         "beds": "35.0",
         "amenities": "nan",
         "price": "nan",
         "number_of_reviews": "860.0",
         "number_of_reviews_ltm": "296.0",
         "number_of_reviews_l30d": "11.0",
         "review_scores_rating": "100.0",
         "review_scores_accuracy": "10.0",
         "review_scores_cleanliness": "10.0",
         "review_scores_checkin": "10.0",
         "review_scores_communication": "10.0",
         "review_scores_location": "10.0",
         "review_scores_value": "10.0",
         "calculated_host_listings_count_entire_homes": "84.0",
         "calculated_host_listings_count_private_rooms": "21.0",
         "calculated_host_listings_count_shared_rooms": "4.0",
         "reviews_per_month": "32.19",
         "_deepnote_index_column": "max"
        }
       ],
       "rows_bottom": null
      },
      "text/plain": "                  id       name  \\\ncount   1.782500e+04      17793   \nunique           NaN      17418   \ntop              NaN  Amsterdam   \nfreq             NaN         30   \nmean    2.077972e+07        NaN   \nstd     1.295999e+07        NaN   \nmin     2.818000e+03        NaN   \n25%     1.018224e+07        NaN   \n50%     1.918403e+07        NaN   \n75%     3.054835e+07        NaN   \nmax     4.911946e+07        NaN   \n\n                                              description       host_id  \\\ncount                                               17536  1.782500e+04   \nunique                                              17347           NaN   \ntop     Hotel Jansen is a new Short Stay hotel in Amst...           NaN   \nfreq                                                   13           NaN   \nmean                                                  NaN  6.783274e+07   \nstd                                                   NaN  8.743529e+07   \nmin                                                   NaN  3.159000e+03   \n25%                                                   NaN  9.426449e+06   \n50%                                                   NaN  2.864035e+07   \n75%                                                   NaN  8.771458e+07   \nmax                                                   NaN  3.958826e+08   \n\n       host_is_superhost  neighbourhood_cleansed      latitude     longitude  \\\ncount              17230                   17825  17825.000000  17825.000000   \nunique                 2                      22           NaN           NaN   \ntop                    f  De Baarsjes - Oud-West           NaN           NaN   \nfreq               15091                    2965           NaN           NaN   \nmean                 NaN                     NaN     52.365509      4.889674   \nstd                  NaN                     NaN      0.016583      0.035861   \nmin                  NaN                     NaN     52.290340      4.754930   \n25%                  NaN                     NaN     52.355110      4.864080   \n50%                  NaN                     NaN     52.364850      4.887160   \n75%                  NaN                     NaN     52.375460      4.909350   \nmax                  NaN                     NaN     52.426390      5.027990   \n\n           property_type        room_type  ...  review_scores_accuracy  \\\ncount              17825            17825  ...            15177.000000   \nunique                67                4  ...                     NaN   \ntop     Entire apartment  Entire home/apt  ...                     NaN   \nfreq               11080            13896  ...                     NaN   \nmean                 NaN              NaN  ...                9.685906   \nstd                  NaN              NaN  ...                0.746266   \nmin                  NaN              NaN  ...                2.000000   \n25%                  NaN              NaN  ...               10.000000   \n50%                  NaN              NaN  ...               10.000000   \n75%                  NaN              NaN  ...               10.000000   \nmax                  NaN              NaN  ...               10.000000   \n\n       review_scores_cleanliness  review_scores_checkin  \\\ncount               15177.000000           15169.000000   \nunique                       NaN                    NaN   \ntop                          NaN                    NaN   \nfreq                         NaN                    NaN   \nmean                    9.453911               9.743490   \nstd                     0.923897               0.677048   \nmin                     2.000000               2.000000   \n25%                     9.000000              10.000000   \n50%                    10.000000              10.000000   \n75%                    10.000000              10.000000   \nmax                    10.000000              10.000000   \n\n        review_scores_communication review_scores_location  \\\ncount                  15176.000000           15171.000000   \nunique                          NaN                    NaN   \ntop                             NaN                    NaN   \nfreq                            NaN                    NaN   \nmean                       9.788350               9.510711   \nstd                        0.653072               0.715264   \nmin                        2.000000               2.000000   \n25%                       10.000000               9.000000   \n50%                       10.000000              10.000000   \n75%                       10.000000              10.000000   \nmax                       10.000000              10.000000   \n\n       review_scores_value  calculated_host_listings_count_entire_homes  \\\ncount         15171.000000                                 17825.000000   \nunique                 NaN                                          NaN   \ntop                    NaN                                          NaN   \nfreq                   NaN                                          NaN   \nmean              9.199987                                     2.112987   \nstd               0.842636                                     8.587307   \nmin               2.000000                                     0.000000   \n25%               9.000000                                     1.000000   \n50%               9.000000                                     1.000000   \n75%              10.000000                                     1.000000   \nmax              10.000000                                    84.000000   \n\n        calculated_host_listings_count_private_rooms  \\\ncount                                   17825.000000   \nunique                                           NaN   \ntop                                              NaN   \nfreq                                             NaN   \nmean                                        0.516914   \nstd                                         1.679845   \nmin                                         0.000000   \n25%                                         0.000000   \n50%                                         0.000000   \n75%                                         0.000000   \nmax                                        21.000000   \n\n        calculated_host_listings_count_shared_rooms  reviews_per_month  \ncount                                  17825.000000       15425.000000  \nunique                                          NaN                NaN  \ntop                                             NaN                NaN  \nfreq                                            NaN                NaN  \nmean                                       0.008920           0.562200  \nstd                                        0.135154           1.017706  \nmin                                        0.000000           0.010000  \n25%                                        0.000000           0.120000  \n50%                                        0.000000           0.260000  \n75%                                        0.000000           0.540000  \nmax                                        4.000000          32.190000  \n\n[11 rows x 30 columns]",
      "text/html": "<div>\n<style scoped>\n    .dataframe tbody tr th:only-of-type {\n        vertical-align: middle;\n    }\n\n    .dataframe tbody tr th {\n        vertical-align: top;\n    }\n\n    .dataframe thead th {\n        text-align: right;\n    }\n</style>\n<table border=\"1\" class=\"dataframe\">\n  <thead>\n    <tr style=\"text-align: right;\">\n      <th></th>\n      <th>id</th>\n      <th>name</th>\n      <th>description</th>\n      <th>host_id</th>\n      <th>host_is_superhost</th>\n      <th>neighbourhood_cleansed</th>\n      <th>latitude</th>\n      <th>longitude</th>\n      <th>property_type</th>\n      <th>room_type</th>\n      <th>...</th>\n      <th>review_scores_accuracy</th>\n      <th>review_scores_cleanliness</th>\n      <th>review_scores_checkin</th>\n      <th>review_scores_communication</th>\n      <th>review_scores_location</th>\n      <th>review_scores_value</th>\n      <th>calculated_host_listings_count_entire_homes</th>\n      <th>calculated_host_listings_count_private_rooms</th>\n      <th>calculated_host_listings_count_shared_rooms</th>\n      <th>reviews_per_month</th>\n    </tr>\n  </thead>\n  <tbody>\n    <tr>\n      <th>count</th>\n      <td>1.782500e+04</td>\n      <td>17793</td>\n      <td>17536</td>\n      <td>1.782500e+04</td>\n      <td>17230</td>\n      <td>17825</td>\n      <td>17825.000000</td>\n      <td>17825.000000</td>\n      <td>17825</td>\n      <td>17825</td>\n      <td>...</td>\n      <td>15177.000000</td>\n      <td>15177.000000</td>\n      <td>15169.000000</td>\n      <td>15176.000000</td>\n      <td>15171.000000</td>\n      <td>15171.000000</td>\n      <td>17825.000000</td>\n      <td>17825.000000</td>\n      <td>17825.000000</td>\n      <td>15425.000000</td>\n    </tr>\n    <tr>\n      <th>unique</th>\n      <td>NaN</td>\n      <td>17418</td>\n      <td>17347</td>\n      <td>NaN</td>\n      <td>2</td>\n      <td>22</td>\n      <td>NaN</td>\n      <td>NaN</td>\n      <td>67</td>\n      <td>4</td>\n      <td>...</td>\n      <td>NaN</td>\n      <td>NaN</td>\n      <td>NaN</td>\n      <td>NaN</td>\n      <td>NaN</td>\n      <td>NaN</td>\n      <td>NaN</td>\n      <td>NaN</td>\n      <td>NaN</td>\n      <td>NaN</td>\n    </tr>\n    <tr>\n      <th>top</th>\n      <td>NaN</td>\n      <td>Amsterdam</td>\n      <td>Hotel Jansen is a new Short Stay hotel in Amst...</td>\n      <td>NaN</td>\n      <td>f</td>\n      <td>De Baarsjes - Oud-West</td>\n      <td>NaN</td>\n      <td>NaN</td>\n      <td>Entire apartment</td>\n      <td>Entire home/apt</td>\n      <td>...</td>\n      <td>NaN</td>\n      <td>NaN</td>\n      <td>NaN</td>\n      <td>NaN</td>\n      <td>NaN</td>\n      <td>NaN</td>\n      <td>NaN</td>\n      <td>NaN</td>\n      <td>NaN</td>\n      <td>NaN</td>\n    </tr>\n    <tr>\n      <th>freq</th>\n      <td>NaN</td>\n      <td>30</td>\n      <td>13</td>\n      <td>NaN</td>\n      <td>15091</td>\n      <td>2965</td>\n      <td>NaN</td>\n      <td>NaN</td>\n      <td>11080</td>\n      <td>13896</td>\n      <td>...</td>\n      <td>NaN</td>\n      <td>NaN</td>\n      <td>NaN</td>\n      <td>NaN</td>\n      <td>NaN</td>\n      <td>NaN</td>\n      <td>NaN</td>\n      <td>NaN</td>\n      <td>NaN</td>\n      <td>NaN</td>\n    </tr>\n    <tr>\n      <th>mean</th>\n      <td>2.077972e+07</td>\n      <td>NaN</td>\n      <td>NaN</td>\n      <td>6.783274e+07</td>\n      <td>NaN</td>\n      <td>NaN</td>\n      <td>52.365509</td>\n      <td>4.889674</td>\n      <td>NaN</td>\n      <td>NaN</td>\n      <td>...</td>\n      <td>9.685906</td>\n      <td>9.453911</td>\n      <td>9.743490</td>\n      <td>9.788350</td>\n      <td>9.510711</td>\n      <td>9.199987</td>\n      <td>2.112987</td>\n      <td>0.516914</td>\n      <td>0.008920</td>\n      <td>0.562200</td>\n    </tr>\n    <tr>\n      <th>std</th>\n      <td>1.295999e+07</td>\n      <td>NaN</td>\n      <td>NaN</td>\n      <td>8.743529e+07</td>\n      <td>NaN</td>\n      <td>NaN</td>\n      <td>0.016583</td>\n      <td>0.035861</td>\n      <td>NaN</td>\n      <td>NaN</td>\n      <td>...</td>\n      <td>0.746266</td>\n      <td>0.923897</td>\n      <td>0.677048</td>\n      <td>0.653072</td>\n      <td>0.715264</td>\n      <td>0.842636</td>\n      <td>8.587307</td>\n      <td>1.679845</td>\n      <td>0.135154</td>\n      <td>1.017706</td>\n    </tr>\n    <tr>\n      <th>min</th>\n      <td>2.818000e+03</td>\n      <td>NaN</td>\n      <td>NaN</td>\n      <td>3.159000e+03</td>\n      <td>NaN</td>\n      <td>NaN</td>\n      <td>52.290340</td>\n      <td>4.754930</td>\n      <td>NaN</td>\n      <td>NaN</td>\n      <td>...</td>\n      <td>2.000000</td>\n      <td>2.000000</td>\n      <td>2.000000</td>\n      <td>2.000000</td>\n      <td>2.000000</td>\n      <td>2.000000</td>\n      <td>0.000000</td>\n      <td>0.000000</td>\n      <td>0.000000</td>\n      <td>0.010000</td>\n    </tr>\n    <tr>\n      <th>25%</th>\n      <td>1.018224e+07</td>\n      <td>NaN</td>\n      <td>NaN</td>\n      <td>9.426449e+06</td>\n      <td>NaN</td>\n      <td>NaN</td>\n      <td>52.355110</td>\n      <td>4.864080</td>\n      <td>NaN</td>\n      <td>NaN</td>\n      <td>...</td>\n      <td>10.000000</td>\n      <td>9.000000</td>\n      <td>10.000000</td>\n      <td>10.000000</td>\n      <td>9.000000</td>\n      <td>9.000000</td>\n      <td>1.000000</td>\n      <td>0.000000</td>\n      <td>0.000000</td>\n      <td>0.120000</td>\n    </tr>\n    <tr>\n      <th>50%</th>\n      <td>1.918403e+07</td>\n      <td>NaN</td>\n      <td>NaN</td>\n      <td>2.864035e+07</td>\n      <td>NaN</td>\n      <td>NaN</td>\n      <td>52.364850</td>\n      <td>4.887160</td>\n      <td>NaN</td>\n      <td>NaN</td>\n      <td>...</td>\n      <td>10.000000</td>\n      <td>10.000000</td>\n      <td>10.000000</td>\n      <td>10.000000</td>\n      <td>10.000000</td>\n      <td>9.000000</td>\n      <td>1.000000</td>\n      <td>0.000000</td>\n      <td>0.000000</td>\n      <td>0.260000</td>\n    </tr>\n    <tr>\n      <th>75%</th>\n      <td>3.054835e+07</td>\n      <td>NaN</td>\n      <td>NaN</td>\n      <td>8.771458e+07</td>\n      <td>NaN</td>\n      <td>NaN</td>\n      <td>52.375460</td>\n      <td>4.909350</td>\n      <td>NaN</td>\n      <td>NaN</td>\n      <td>...</td>\n      <td>10.000000</td>\n      <td>10.000000</td>\n      <td>10.000000</td>\n      <td>10.000000</td>\n      <td>10.000000</td>\n      <td>10.000000</td>\n      <td>1.000000</td>\n      <td>0.000000</td>\n      <td>0.000000</td>\n      <td>0.540000</td>\n    </tr>\n    <tr>\n      <th>max</th>\n      <td>4.911946e+07</td>\n      <td>NaN</td>\n      <td>NaN</td>\n      <td>3.958826e+08</td>\n      <td>NaN</td>\n      <td>NaN</td>\n      <td>52.426390</td>\n      <td>5.027990</td>\n      <td>NaN</td>\n      <td>NaN</td>\n      <td>...</td>\n      <td>10.000000</td>\n      <td>10.000000</td>\n      <td>10.000000</td>\n      <td>10.000000</td>\n      <td>10.000000</td>\n      <td>10.000000</td>\n      <td>84.000000</td>\n      <td>21.000000</td>\n      <td>4.000000</td>\n      <td>32.190000</td>\n    </tr>\n  </tbody>\n</table>\n<p>11 rows × 30 columns</p>\n</div>"
     },
     "metadata": {}
    }
   ]
  },
  {
   "cell_type": "code",
   "metadata": {
    "tags": [],
    "cell_id": "00006-5e3a2dd1-99a2-45e2-b918-16f4129bae3c",
    "deepnote_to_be_reexecuted": false,
    "source_hash": "d8ecabc0",
    "execution_start": 1621854354362,
    "execution_millis": 11,
    "deepnote_cell_type": "code"
   },
   "source": "df[\"bathrooms\"].describe()",
   "execution_count": 6,
   "outputs": [
    {
     "output_type": "execute_result",
     "execution_count": 6,
     "data": {
      "text/plain": "count    0.0\nmean     NaN\nstd      NaN\nmin      NaN\n25%      NaN\n50%      NaN\n75%      NaN\nmax      NaN\nName: bathrooms, dtype: float64"
     },
     "metadata": {}
    }
   ]
  },
  {
   "cell_type": "code",
   "metadata": {
    "tags": [],
    "cell_id": "00007-a3548b50-989d-4e80-bb75-259475374889",
    "deepnote_to_be_reexecuted": false,
    "source_hash": "895f2af7",
    "execution_start": 1621854354383,
    "execution_millis": 18,
    "deepnote_cell_type": "code"
   },
   "source": "df_clean.info()",
   "execution_count": 7,
   "outputs": [
    {
     "name": "stdout",
     "text": "<class 'pandas.core.frame.DataFrame'>\nRangeIndex: 17825 entries, 0 to 17824\nData columns (total 30 columns):\n #   Column                                        Non-Null Count  Dtype  \n---  ------                                        --------------  -----  \n 0   id                                            17825 non-null  int64  \n 1   name                                          17793 non-null  object \n 2   description                                   17536 non-null  object \n 3   host_id                                       17825 non-null  int64  \n 4   host_is_superhost                             17230 non-null  object \n 5   neighbourhood_cleansed                        17825 non-null  object \n 6   latitude                                      17825 non-null  float64\n 7   longitude                                     17825 non-null  float64\n 8   property_type                                 17825 non-null  object \n 9   room_type                                     17825 non-null  object \n 10  accommodates                                  17825 non-null  int64  \n 11  bathrooms_text                                17803 non-null  object \n 12  bedrooms                                      16858 non-null  float64\n 13  beds                                          17711 non-null  float64\n 14  amenities                                     17825 non-null  object \n 15  price                                         17825 non-null  object \n 16  number_of_reviews                             17825 non-null  int64  \n 17  number_of_reviews_ltm                         17825 non-null  int64  \n 18  number_of_reviews_l30d                        17825 non-null  int64  \n 19  review_scores_rating                          15187 non-null  float64\n 20  review_scores_accuracy                        15177 non-null  float64\n 21  review_scores_cleanliness                     15177 non-null  float64\n 22  review_scores_checkin                         15169 non-null  float64\n 23  review_scores_communication                   15176 non-null  float64\n 24  review_scores_location                        15171 non-null  float64\n 25  review_scores_value                           15171 non-null  float64\n 26  calculated_host_listings_count_entire_homes   17825 non-null  int64  \n 27  calculated_host_listings_count_private_rooms  17825 non-null  int64  \n 28  calculated_host_listings_count_shared_rooms   17825 non-null  int64  \n 29  reviews_per_month                             15425 non-null  float64\ndtypes: float64(12), int64(9), object(9)\nmemory usage: 4.1+ MB\n",
     "output_type": "stream"
    }
   ]
  },
  {
   "cell_type": "code",
   "metadata": {
    "tags": [],
    "cell_id": "00008-73ded5b4-673d-4675-a1db-ccd75ee154da",
    "deepnote_to_be_reexecuted": false,
    "source_hash": "895f2af7",
    "execution_start": 1621854354411,
    "execution_millis": 14,
    "deepnote_cell_type": "code"
   },
   "source": "df_clean.info()",
   "execution_count": 8,
   "outputs": [
    {
     "name": "stdout",
     "text": "<class 'pandas.core.frame.DataFrame'>\nRangeIndex: 17825 entries, 0 to 17824\nData columns (total 30 columns):\n #   Column                                        Non-Null Count  Dtype  \n---  ------                                        --------------  -----  \n 0   id                                            17825 non-null  int64  \n 1   name                                          17793 non-null  object \n 2   description                                   17536 non-null  object \n 3   host_id                                       17825 non-null  int64  \n 4   host_is_superhost                             17230 non-null  object \n 5   neighbourhood_cleansed                        17825 non-null  object \n 6   latitude                                      17825 non-null  float64\n 7   longitude                                     17825 non-null  float64\n 8   property_type                                 17825 non-null  object \n 9   room_type                                     17825 non-null  object \n 10  accommodates                                  17825 non-null  int64  \n 11  bathrooms_text                                17803 non-null  object \n 12  bedrooms                                      16858 non-null  float64\n 13  beds                                          17711 non-null  float64\n 14  amenities                                     17825 non-null  object \n 15  price                                         17825 non-null  object \n 16  number_of_reviews                             17825 non-null  int64  \n 17  number_of_reviews_ltm                         17825 non-null  int64  \n 18  number_of_reviews_l30d                        17825 non-null  int64  \n 19  review_scores_rating                          15187 non-null  float64\n 20  review_scores_accuracy                        15177 non-null  float64\n 21  review_scores_cleanliness                     15177 non-null  float64\n 22  review_scores_checkin                         15169 non-null  float64\n 23  review_scores_communication                   15176 non-null  float64\n 24  review_scores_location                        15171 non-null  float64\n 25  review_scores_value                           15171 non-null  float64\n 26  calculated_host_listings_count_entire_homes   17825 non-null  int64  \n 27  calculated_host_listings_count_private_rooms  17825 non-null  int64  \n 28  calculated_host_listings_count_shared_rooms   17825 non-null  int64  \n 29  reviews_per_month                             15425 non-null  float64\ndtypes: float64(12), int64(9), object(9)\nmemory usage: 4.1+ MB\n",
     "output_type": "stream"
    }
   ]
  },
  {
   "cell_type": "code",
   "metadata": {
    "tags": [],
    "cell_id": "00009-69e89756-d41c-4243-865b-cffdaf8362fb",
    "deepnote_to_be_reexecuted": false,
    "source_hash": "91295e4b",
    "execution_start": 1621854354423,
    "execution_millis": 33,
    "deepnote_cell_type": "code"
   },
   "source": "df_clean[[\"calculated_host_listings_count_entire_homes\", \"calculated_host_listings_count_private_rooms\", \"calculated_host_listings_count_shared_rooms\"]].describe()",
   "execution_count": 9,
   "outputs": [
    {
     "output_type": "execute_result",
     "execution_count": 9,
     "data": {
      "application/vnd.deepnote.dataframe.v2+json": {
       "row_count": 8,
       "column_count": 3,
       "columns": [
        {
         "name": "calculated_host_listings_count_entire_homes",
         "dtype": "float64",
         "stats": {
          "unique_count": 6,
          "nan_count": 0,
          "min": "0.0",
          "max": "17825.0",
          "histogram": [
           {
            "bin_start": 0,
            "bin_end": 1782.5,
            "count": 7
           },
           {
            "bin_start": 1782.5,
            "bin_end": 3565,
            "count": 0
           },
           {
            "bin_start": 3565,
            "bin_end": 5347.5,
            "count": 0
           },
           {
            "bin_start": 5347.5,
            "bin_end": 7130,
            "count": 0
           },
           {
            "bin_start": 7130,
            "bin_end": 8912.5,
            "count": 0
           },
           {
            "bin_start": 8912.5,
            "bin_end": 10695,
            "count": 0
           },
           {
            "bin_start": 10695,
            "bin_end": 12477.5,
            "count": 0
           },
           {
            "bin_start": 12477.5,
            "bin_end": 14260,
            "count": 0
           },
           {
            "bin_start": 14260,
            "bin_end": 16042.5,
            "count": 0
           },
           {
            "bin_start": 16042.5,
            "bin_end": 17825,
            "count": 1
           }
          ]
         }
        },
        {
         "name": "calculated_host_listings_count_private_rooms",
         "dtype": "float64",
         "stats": {
          "unique_count": 5,
          "nan_count": 0,
          "min": "0.0",
          "max": "17825.0",
          "histogram": [
           {
            "bin_start": 0,
            "bin_end": 1782.5,
            "count": 7
           },
           {
            "bin_start": 1782.5,
            "bin_end": 3565,
            "count": 0
           },
           {
            "bin_start": 3565,
            "bin_end": 5347.5,
            "count": 0
           },
           {
            "bin_start": 5347.5,
            "bin_end": 7130,
            "count": 0
           },
           {
            "bin_start": 7130,
            "bin_end": 8912.5,
            "count": 0
           },
           {
            "bin_start": 8912.5,
            "bin_end": 10695,
            "count": 0
           },
           {
            "bin_start": 10695,
            "bin_end": 12477.5,
            "count": 0
           },
           {
            "bin_start": 12477.5,
            "bin_end": 14260,
            "count": 0
           },
           {
            "bin_start": 14260,
            "bin_end": 16042.5,
            "count": 0
           },
           {
            "bin_start": 16042.5,
            "bin_end": 17825,
            "count": 1
           }
          ]
         }
        },
        {
         "name": "calculated_host_listings_count_shared_rooms",
         "dtype": "float64",
         "stats": {
          "unique_count": 5,
          "nan_count": 0,
          "min": "0.0",
          "max": "17825.0",
          "histogram": [
           {
            "bin_start": 0,
            "bin_end": 1782.5,
            "count": 7
           },
           {
            "bin_start": 1782.5,
            "bin_end": 3565,
            "count": 0
           },
           {
            "bin_start": 3565,
            "bin_end": 5347.5,
            "count": 0
           },
           {
            "bin_start": 5347.5,
            "bin_end": 7130,
            "count": 0
           },
           {
            "bin_start": 7130,
            "bin_end": 8912.5,
            "count": 0
           },
           {
            "bin_start": 8912.5,
            "bin_end": 10695,
            "count": 0
           },
           {
            "bin_start": 10695,
            "bin_end": 12477.5,
            "count": 0
           },
           {
            "bin_start": 12477.5,
            "bin_end": 14260,
            "count": 0
           },
           {
            "bin_start": 14260,
            "bin_end": 16042.5,
            "count": 0
           },
           {
            "bin_start": 16042.5,
            "bin_end": 17825,
            "count": 1
           }
          ]
         }
        },
        {
         "name": "_deepnote_index_column",
         "dtype": "object"
        }
       ],
       "rows_top": [
        {
         "calculated_host_listings_count_entire_homes": 17825,
         "calculated_host_listings_count_private_rooms": 17825,
         "calculated_host_listings_count_shared_rooms": 17825,
         "_deepnote_index_column": "count"
        },
        {
         "calculated_host_listings_count_entire_homes": 2.1129873772791026,
         "calculated_host_listings_count_private_rooms": 0.516914446002805,
         "calculated_host_listings_count_shared_rooms": 0.008920056100981767,
         "_deepnote_index_column": "mean"
        },
        {
         "calculated_host_listings_count_entire_homes": 8.587306543669072,
         "calculated_host_listings_count_private_rooms": 1.6798445826119812,
         "calculated_host_listings_count_shared_rooms": 0.13515353641098488,
         "_deepnote_index_column": "std"
        },
        {
         "calculated_host_listings_count_entire_homes": 0,
         "calculated_host_listings_count_private_rooms": 0,
         "calculated_host_listings_count_shared_rooms": 0,
         "_deepnote_index_column": "min"
        },
        {
         "calculated_host_listings_count_entire_homes": 1,
         "calculated_host_listings_count_private_rooms": 0,
         "calculated_host_listings_count_shared_rooms": 0,
         "_deepnote_index_column": "25%"
        },
        {
         "calculated_host_listings_count_entire_homes": 1,
         "calculated_host_listings_count_private_rooms": 0,
         "calculated_host_listings_count_shared_rooms": 0,
         "_deepnote_index_column": "50%"
        },
        {
         "calculated_host_listings_count_entire_homes": 1,
         "calculated_host_listings_count_private_rooms": 0,
         "calculated_host_listings_count_shared_rooms": 0,
         "_deepnote_index_column": "75%"
        },
        {
         "calculated_host_listings_count_entire_homes": 84,
         "calculated_host_listings_count_private_rooms": 21,
         "calculated_host_listings_count_shared_rooms": 4,
         "_deepnote_index_column": "max"
        }
       ],
       "rows_bottom": null
      },
      "text/plain": "       calculated_host_listings_count_entire_homes  \\\ncount                                 17825.000000   \nmean                                      2.112987   \nstd                                       8.587307   \nmin                                       0.000000   \n25%                                       1.000000   \n50%                                       1.000000   \n75%                                       1.000000   \nmax                                      84.000000   \n\n       calculated_host_listings_count_private_rooms  \\\ncount                                  17825.000000   \nmean                                       0.516914   \nstd                                        1.679845   \nmin                                        0.000000   \n25%                                        0.000000   \n50%                                        0.000000   \n75%                                        0.000000   \nmax                                       21.000000   \n\n       calculated_host_listings_count_shared_rooms  \ncount                                 17825.000000  \nmean                                      0.008920  \nstd                                       0.135154  \nmin                                       0.000000  \n25%                                       0.000000  \n50%                                       0.000000  \n75%                                       0.000000  \nmax                                       4.000000  ",
      "text/html": "<div>\n<style scoped>\n    .dataframe tbody tr th:only-of-type {\n        vertical-align: middle;\n    }\n\n    .dataframe tbody tr th {\n        vertical-align: top;\n    }\n\n    .dataframe thead th {\n        text-align: right;\n    }\n</style>\n<table border=\"1\" class=\"dataframe\">\n  <thead>\n    <tr style=\"text-align: right;\">\n      <th></th>\n      <th>calculated_host_listings_count_entire_homes</th>\n      <th>calculated_host_listings_count_private_rooms</th>\n      <th>calculated_host_listings_count_shared_rooms</th>\n    </tr>\n  </thead>\n  <tbody>\n    <tr>\n      <th>count</th>\n      <td>17825.000000</td>\n      <td>17825.000000</td>\n      <td>17825.000000</td>\n    </tr>\n    <tr>\n      <th>mean</th>\n      <td>2.112987</td>\n      <td>0.516914</td>\n      <td>0.008920</td>\n    </tr>\n    <tr>\n      <th>std</th>\n      <td>8.587307</td>\n      <td>1.679845</td>\n      <td>0.135154</td>\n    </tr>\n    <tr>\n      <th>min</th>\n      <td>0.000000</td>\n      <td>0.000000</td>\n      <td>0.000000</td>\n    </tr>\n    <tr>\n      <th>25%</th>\n      <td>1.000000</td>\n      <td>0.000000</td>\n      <td>0.000000</td>\n    </tr>\n    <tr>\n      <th>50%</th>\n      <td>1.000000</td>\n      <td>0.000000</td>\n      <td>0.000000</td>\n    </tr>\n    <tr>\n      <th>75%</th>\n      <td>1.000000</td>\n      <td>0.000000</td>\n      <td>0.000000</td>\n    </tr>\n    <tr>\n      <th>max</th>\n      <td>84.000000</td>\n      <td>21.000000</td>\n      <td>4.000000</td>\n    </tr>\n  </tbody>\n</table>\n</div>"
     },
     "metadata": {}
    }
   ]
  },
  {
   "cell_type": "code",
   "metadata": {
    "tags": [],
    "cell_id": "00010-ce423fbb-24de-4a56-9b9f-7fee4a0354c1",
    "deepnote_to_be_reexecuted": false,
    "source_hash": "9418b161",
    "execution_start": 1621854354458,
    "execution_millis": 23,
    "deepnote_cell_type": "code"
   },
   "source": "print(df_clean.loc[df['calculated_host_listings_count_shared_rooms'] != 0])",
   "execution_count": 10,
   "outputs": [
    {
     "name": "stdout",
     "text": "             id                                               name  \\\n334      760599           Private guest apartment on a shared boat   \n461      987355                      Nice Room in Centre Amsterdam   \n570     1195964                      Toplocation Amadeus Amsterdam   \n847     1818037                 cozy appartment in westerpark area   \n1268    2964680  Beautiful MasterBedroom in apartment with garden!   \n...         ...                                                ...   \n17383  45539834  STAY TOGETHER IN OUR BUNK ROOM FOR 3 WITH EN-S...   \n17384  45539870   STAY SOCIAL IN OUR BUNK ROOM FOR 5 WITH EN-SUITE   \n17385  45539926  STAY FRIENDLY IN OUR BUNK ROOM FOR 4 WITH EN-S...   \n17626  47434446                                       Big Sea room   \n17710  48077862   Luxury Longstay Apartment at the canal district.   \n\n                                             description    host_id  \\\n334    Private apartment (with bedroom, bathroom, kit...    4009374   \n461    <b>The space</b><br />The room is conveniently...    5417945   \n570    Quiet Apartment:Amsterdam:Toplocation:<br /> A...    6535544   \n847    Hello, are you looking for a nice small appart...    6717803   \n1268   Beautiful 55 square meters apartment with 42 s...   12027723   \n...                                                  ...        ...   \n17383  BUNK Hotel Amsterdam is situated in the hip, u...  243878598   \n17384  BUNK Hotel Amsterdam is situated in the hip, u...  243878598   \n17385  BUNK Hotel Amsterdam is situated in the hip, u...  243878598   \n17626    <b>License number</b><br />0363D97D489E918ECE61     711896   \n17710  Beautiful Long stay apartment located in the h...  198405490   \n\n      host_is_superhost  neighbourhood_cleansed  latitude  longitude  \\\n334                   f            Centrum-Oost  52.36733    4.90085   \n461                   f            Centrum-West  52.37486    4.89338   \n570                   f  De Baarsjes - Oud-West  52.36135    4.87024   \n847                   f              Westerpark  52.38329    4.87357   \n1268                  f           Bos en Lommer  52.37535    4.84738   \n...                 ...                     ...       ...        ...   \n17383                 f               Oud-Noord  52.38810    4.91438   \n17384                 f               Oud-Noord  52.38810    4.91438   \n17385                 f               Oud-Noord  52.38810    4.91438   \n17626               NaN   Gaasperdam - Driemond  52.30568    4.97764   \n17710                 t            Centrum-West  52.37798    4.88597   \n\n                     property_type     room_type  ...  review_scores_accuracy  \\\n334       Shared room in houseboat   Shared room  ...                     9.0   \n461       Shared room in apartment   Shared room  ...                    10.0   \n570       Shared room in apartment   Shared room  ...                    10.0   \n847           Shared room in house   Shared room  ...                     9.0   \n1268      Shared room in apartment   Shared room  ...                     9.0   \n...                            ...           ...  ...                     ...   \n17383       Room in boutique hotel  Private room  ...                     NaN   \n17384       Room in boutique hotel  Private room  ...                     NaN   \n17385       Room in boutique hotel  Private room  ...                     NaN   \n17626  Private room in condominium  Private room  ...                     NaN   \n17710    Private room in apartment  Private room  ...                     NaN   \n\n      review_scores_cleanliness  review_scores_checkin  \\\n334                         9.0                    9.0   \n461                         9.0                   10.0   \n570                        10.0                   10.0   \n847                         8.0                   10.0   \n1268                        9.0                    9.0   \n...                         ...                    ...   \n17383                       NaN                    NaN   \n17384                       NaN                    NaN   \n17385                       NaN                    NaN   \n17626                       NaN                    NaN   \n17710                       NaN                    NaN   \n\n       review_scores_communication review_scores_location review_scores_value  \\\n334                            9.0                   10.0                 9.0   \n461                           10.0                   10.0                 9.0   \n570                           10.0                   10.0                10.0   \n847                           10.0                    9.0                 9.0   \n1268                           9.0                    9.0                 9.0   \n...                            ...                    ...                 ...   \n17383                          NaN                    NaN                 NaN   \n17384                          NaN                    NaN                 NaN   \n17385                          NaN                    NaN                 NaN   \n17626                          NaN                    NaN                 NaN   \n17710                          NaN                    NaN                 NaN   \n\n       calculated_host_listings_count_entire_homes  \\\n334                                              0   \n461                                              0   \n570                                              0   \n847                                              0   \n1268                                             0   \n...                                            ...   \n17383                                            0   \n17384                                            0   \n17385                                            0   \n17626                                            1   \n17710                                            9   \n\n       calculated_host_listings_count_private_rooms  \\\n334                                               0   \n461                                               0   \n570                                               0   \n847                                               0   \n1268                                              0   \n...                                             ...   \n17383                                            10   \n17384                                            10   \n17385                                            10   \n17626                                             2   \n17710                                             1   \n\n       calculated_host_listings_count_shared_rooms  reviews_per_month  \n334                                              1               0.68  \n461                                              1               3.07  \n570                                              1               0.64  \n847                                              1               0.27  \n1268                                             1               0.66  \n...                                            ...                ...  \n17383                                            2                NaN  \n17384                                            2                NaN  \n17385                                            2                NaN  \n17626                                            1                NaN  \n17710                                            2                NaN  \n\n[102 rows x 30 columns]\n",
     "output_type": "stream"
    }
   ]
  },
  {
   "cell_type": "code",
   "metadata": {
    "tags": [],
    "cell_id": "00011-f6de3288-c58b-438e-ab29-49a04928f162",
    "deepnote_to_be_reexecuted": false,
    "source_hash": "d0ee1c3c",
    "execution_start": 1621854354497,
    "execution_millis": 11,
    "deepnote_cell_type": "code"
   },
   "source": "df_clean.isna().sum()",
   "execution_count": 11,
   "outputs": [
    {
     "output_type": "execute_result",
     "execution_count": 11,
     "data": {
      "text/plain": "id                                                 0\nname                                              32\ndescription                                      289\nhost_id                                            0\nhost_is_superhost                                595\nneighbourhood_cleansed                             0\nlatitude                                           0\nlongitude                                          0\nproperty_type                                      0\nroom_type                                          0\naccommodates                                       0\nbathrooms_text                                    22\nbedrooms                                         967\nbeds                                             114\namenities                                          0\nprice                                              0\nnumber_of_reviews                                  0\nnumber_of_reviews_ltm                              0\nnumber_of_reviews_l30d                             0\nreview_scores_rating                            2638\nreview_scores_accuracy                          2648\nreview_scores_cleanliness                       2648\nreview_scores_checkin                           2656\nreview_scores_communication                     2649\nreview_scores_location                          2654\nreview_scores_value                             2654\ncalculated_host_listings_count_entire_homes        0\ncalculated_host_listings_count_private_rooms       0\ncalculated_host_listings_count_shared_rooms        0\nreviews_per_month                               2400\ndtype: int64"
     },
     "metadata": {}
    }
   ]
  },
  {
   "cell_type": "code",
   "metadata": {
    "tags": [],
    "cell_id": "00012-a5205d76-57de-4315-b51d-b8ee898c7ffe",
    "deepnote_to_be_reexecuted": false,
    "source_hash": "e3fd63a4",
    "execution_start": 1621854354537,
    "execution_millis": 67,
    "deepnote_cell_type": "code"
   },
   "source": "df.host_is_superhost #t/f boolean. some are NaN ",
   "execution_count": 12,
   "outputs": [
    {
     "output_type": "execute_result",
     "execution_count": 12,
     "data": {
      "text/plain": "0        t\n1        f\n2        t\n3        t\n4        t\n        ..\n17820    f\n17821    f\n17822    f\n17823    f\n17824    f\nName: host_is_superhost, Length: 17825, dtype: object"
     },
     "metadata": {}
    }
   ]
  },
  {
   "cell_type": "code",
   "metadata": {
    "tags": [],
    "cell_id": "00013-b14856fb-4fb3-42ab-ac05-0db809139bf8",
    "deepnote_to_be_reexecuted": false,
    "source_hash": "547e6bb",
    "execution_start": 1621854354538,
    "execution_millis": 1,
    "deepnote_cell_type": "code"
   },
   "source": "superhost_column=df_clean.host_is_superhost.replace(to_replace =\"t\", value =True)\nsuperhost_column=superhost_column.replace(to_replace =\"f\", value =False)\nsuperhost_column=superhost_column.fillna(False) #convert this colun to tru false",
   "execution_count": 13,
   "outputs": []
  },
  {
   "cell_type": "code",
   "metadata": {
    "tags": [],
    "cell_id": "00014-893911ae-acb5-40ae-88f8-52934a9b177b",
    "deepnote_to_be_reexecuted": false,
    "source_hash": "6c12a0dd",
    "execution_start": 1621854354539,
    "execution_millis": 65,
    "deepnote_cell_type": "code"
   },
   "source": "df_clean.host_is_superhost=superhost_column\ndf_clean.host_is_superhost ",
   "execution_count": 14,
   "outputs": [
    {
     "output_type": "execute_result",
     "execution_count": 14,
     "data": {
      "text/plain": "0         True\n1        False\n2         True\n3         True\n4         True\n         ...  \n17820    False\n17821    False\n17822    False\n17823    False\n17824    False\nName: host_is_superhost, Length: 17825, dtype: bool"
     },
     "metadata": {}
    }
   ]
  },
  {
   "cell_type": "code",
   "metadata": {
    "tags": [],
    "cell_id": "00013-13e948cf-c131-4416-a916-295fe617c060",
    "deepnote_to_be_reexecuted": false,
    "source_hash": "7448f1f5",
    "execution_start": 1621854354546,
    "execution_millis": 58,
    "deepnote_cell_type": "code"
   },
   "source": "row= df_clean.loc[17626,:]\nrow",
   "execution_count": 15,
   "outputs": [
    {
     "output_type": "execute_result",
     "execution_count": 15,
     "data": {
      "text/plain": "id                                                                                       47434446\nname                                                                                 Big Sea room\ndescription                                       <b>License number</b><br />0363D97D489E918ECE61\nhost_id                                                                                    711896\nhost_is_superhost                                                                           False\nneighbourhood_cleansed                                                      Gaasperdam - Driemond\nlatitude                                                                                 52.30568\nlongitude                                                                                 4.97764\nproperty_type                                                         Private room in condominium\nroom_type                                                                            Private room\naccommodates                                                                                    4\nbathrooms_text                                                                     0 shared baths\nbedrooms                                                                                      2.0\nbeds                                                                                          3.0\namenities                                       [\"Essentials\", \"First aid kit\", \"Long term sta...\nprice                                                                                      $32.00\nnumber_of_reviews                                                                               0\nnumber_of_reviews_ltm                                                                           0\nnumber_of_reviews_l30d                                                                          0\nreview_scores_rating                                                                          NaN\nreview_scores_accuracy                                                                        NaN\nreview_scores_cleanliness                                                                     NaN\nreview_scores_checkin                                                                         NaN\nreview_scores_communication                                                                   NaN\nreview_scores_location                                                                        NaN\nreview_scores_value                                                                           NaN\ncalculated_host_listings_count_entire_homes                                                     1\ncalculated_host_listings_count_private_rooms                                                    2\ncalculated_host_listings_count_shared_rooms                                                     1\nreviews_per_month                                                                             NaN\nName: 17626, dtype: object"
     },
     "metadata": {}
    }
   ]
  },
  {
   "cell_type": "code",
   "metadata": {
    "tags": [],
    "cell_id": "00016-94013bf4-b02c-4f8f-9604-edc26189bae5",
    "deepnote_to_be_reexecuted": false,
    "source_hash": "9b75415",
    "execution_start": 1621854354549,
    "execution_millis": 1,
    "deepnote_cell_type": "code"
   },
   "source": "na_rows=df_clean.reviews_per_month.isna()",
   "execution_count": 16,
   "outputs": []
  },
  {
   "cell_type": "code",
   "metadata": {
    "tags": [],
    "cell_id": "00017-5cb3b114-92b4-4a75-884f-fc5820c756f0",
    "deepnote_to_be_reexecuted": false,
    "source_hash": "3e8f2042",
    "execution_start": 1621854354555,
    "execution_millis": 49,
    "deepnote_cell_type": "code"
   },
   "source": "row= df_clean.loc[:,\"description\"]\nrow",
   "execution_count": 17,
   "outputs": [
    {
     "output_type": "execute_result",
     "execution_count": 17,
     "data": {
      "text/plain": "0        Quiet Garden View Room & Super Fast WiFi<br />...\n1        17th century Dutch townhouse in the heart of t...\n2        Lovely apt in Centre ( lift & fireplace) near ...\n3        Stylish and romantic houseboat on fantastic hi...\n4        <b>The space</b><br />In a monumental house ri...\n                               ...                        \n17820    Great studio to enjoy a couple of days in Amst...\n17821    Dit volledig gerenoveerde appartement is gesch...\n17822    THIS APARTMENT IS IN TRANSVAALBUURT: \"HAPPY NE...\n17823    Brand new holiday boats with free parking loca...\n17824    Very luxurious and spacious apartment in the b...\nName: description, Length: 17825, dtype: object"
     },
     "metadata": {}
    }
   ]
  },
  {
   "cell_type": "code",
   "metadata": {
    "tags": [],
    "cell_id": "00018-6f791640-75c2-4dd1-8d01-3f2b4980f965",
    "deepnote_to_be_reexecuted": false,
    "source_hash": "35c19558",
    "execution_start": 1621854354567,
    "execution_millis": 48,
    "deepnote_cell_type": "code"
   },
   "source": "df_clean.loc[:,\"reviews_per_month\"]",
   "execution_count": 18,
   "outputs": [
    {
     "output_type": "execute_result",
     "execution_count": 18,
     "data": {
      "text/plain": "0        1.90\n1        2.50\n2        0.13\n3        1.94\n4        2.59\n         ... \n17820     NaN\n17821     NaN\n17822     NaN\n17823     NaN\n17824     NaN\nName: reviews_per_month, Length: 17825, dtype: float64"
     },
     "metadata": {}
    }
   ]
  },
  {
   "cell_type": "markdown",
   "source": "<a style='text-decoration:none;line-height:16px;display:flex;color:#5B5B62;padding:10px;justify-content:end;' href='https://deepnote.com?utm_source=created-in-deepnote-cell&projectId=12efa9a5-d3d7-432c-bbd5-938ba450dd47' target=\"_blank\">\n<img alt='Created in deepnote.com' style='display:inline;max-height:16px;margin:0px;margin-right:7.5px;' src='data:image/svg+xml;base64,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' > </img>\nCreated in <span style='font-weight:600;margin-left:4px;'>Deepnote</span></a>",
   "metadata": {
    "tags": [],
    "created_in_deepnote_cell": true,
    "deepnote_cell_type": "markdown"
   }
  }
 ],
 "nbformat": 4,
 "nbformat_minor": 2,
 "metadata": {
  "orig_nbformat": 2,
  "deepnote": {
   "is_reactive": false
  },
  "deepnote_notebook_id": "2d021e73-8555-42e2-a6c1-8e2e46f89bd2",
  "deepnote_execution_queue": []
 }
}