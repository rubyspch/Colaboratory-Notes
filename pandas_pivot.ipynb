{
  "nbformat": 4,
  "nbformat_minor": 0,
  "metadata": {
    "colab": {
      "name": "Untitled2.ipynb",
      "provenance": [],
      "authorship_tag": "ABX9TyNW3E5hXVpJnrxjHp5pNC5K",
      "include_colab_link": true
    },
    "kernelspec": {
      "name": "python3",
      "display_name": "Python 3"
    },
    "language_info": {
      "name": "python"
    }
  },
  "cells": [
    {
      "cell_type": "markdown",
      "metadata": {
        "id": "view-in-github",
        "colab_type": "text"
      },
      "source": [
        "<a href=\"https://colab.research.google.com/github/rubyspch/Colaboratory-Notes/blob/main/pandas_pivot.ipynb\" target=\"_parent\"><img src=\"https://colab.research.google.com/assets/colab-badge.svg\" alt=\"Open In Colab\"/></a>"
      ]
    },
    {
      "cell_type": "code",
      "metadata": {
        "id": "3Gliqz0hDznW"
      },
      "source": [
        "import pandas as pd"
      ],
      "execution_count": 2,
      "outputs": []
    },
    {
      "cell_type": "markdown",
      "metadata": {
        "id": "FC4l2YqVD79U"
      },
      "source": [
        "This lesson: using pivot to change how the df presents the data."
      ]
    },
    {
      "cell_type": "code",
      "metadata": {
        "colab": {
          "base_uri": "https://localhost:8080/",
          "height": 318
        },
        "id": "QfAI2hWJB-At",
        "outputId": "9867a43c-a4ef-42da-8a67-acf2e1fcc3e3"
      },
      "source": [
        "df= pd.DataFrame({\n",
        "    \"date\": [\"5/1/2020\", \"5/2/2020\", \"5/3/2020\", \"5/1/2020\", \"5/2/2020\", \"5/3/2020\",\"5/1/2020\", \"5/2/2020\", \"5/3/2020\"],\n",
        "    \"city\": [\"new york\", \"new york\", \"new york\", \"mumbai\", \"mumbai\", \"mumbai\",\"beijing\", \"beijing\",\"beijing\" ],\n",
        "    \"tempurature\": [65, 66, 67, 75, 74, 74, 82, 82, 80],\n",
        "    \"humidity\": [55, 56,54, 60, 80, 75, 26, 30, 35]\n",
        "})\n",
        "df"
      ],
      "execution_count": 4,
      "outputs": [
        {
          "output_type": "execute_result",
          "data": {
            "text/html": [
              "<div>\n",
              "<style scoped>\n",
              "    .dataframe tbody tr th:only-of-type {\n",
              "        vertical-align: middle;\n",
              "    }\n",
              "\n",
              "    .dataframe tbody tr th {\n",
              "        vertical-align: top;\n",
              "    }\n",
              "\n",
              "    .dataframe thead th {\n",
              "        text-align: right;\n",
              "    }\n",
              "</style>\n",
              "<table border=\"1\" class=\"dataframe\">\n",
              "  <thead>\n",
              "    <tr style=\"text-align: right;\">\n",
              "      <th></th>\n",
              "      <th>date</th>\n",
              "      <th>city</th>\n",
              "      <th>tempurature</th>\n",
              "      <th>humidity</th>\n",
              "    </tr>\n",
              "  </thead>\n",
              "  <tbody>\n",
              "    <tr>\n",
              "      <th>0</th>\n",
              "      <td>5/1/2020</td>\n",
              "      <td>new york</td>\n",
              "      <td>65</td>\n",
              "      <td>55</td>\n",
              "    </tr>\n",
              "    <tr>\n",
              "      <th>1</th>\n",
              "      <td>5/2/2020</td>\n",
              "      <td>new york</td>\n",
              "      <td>66</td>\n",
              "      <td>56</td>\n",
              "    </tr>\n",
              "    <tr>\n",
              "      <th>2</th>\n",
              "      <td>5/3/2020</td>\n",
              "      <td>new york</td>\n",
              "      <td>67</td>\n",
              "      <td>54</td>\n",
              "    </tr>\n",
              "    <tr>\n",
              "      <th>3</th>\n",
              "      <td>5/1/2020</td>\n",
              "      <td>mumbai</td>\n",
              "      <td>75</td>\n",
              "      <td>60</td>\n",
              "    </tr>\n",
              "    <tr>\n",
              "      <th>4</th>\n",
              "      <td>5/2/2020</td>\n",
              "      <td>mumbai</td>\n",
              "      <td>74</td>\n",
              "      <td>80</td>\n",
              "    </tr>\n",
              "    <tr>\n",
              "      <th>5</th>\n",
              "      <td>5/3/2020</td>\n",
              "      <td>mumbai</td>\n",
              "      <td>74</td>\n",
              "      <td>75</td>\n",
              "    </tr>\n",
              "    <tr>\n",
              "      <th>6</th>\n",
              "      <td>5/1/2020</td>\n",
              "      <td>beijing</td>\n",
              "      <td>82</td>\n",
              "      <td>26</td>\n",
              "    </tr>\n",
              "    <tr>\n",
              "      <th>7</th>\n",
              "      <td>5/2/2020</td>\n",
              "      <td>beijing</td>\n",
              "      <td>82</td>\n",
              "      <td>30</td>\n",
              "    </tr>\n",
              "    <tr>\n",
              "      <th>8</th>\n",
              "      <td>5/3/2020</td>\n",
              "      <td>beijing</td>\n",
              "      <td>80</td>\n",
              "      <td>35</td>\n",
              "    </tr>\n",
              "  </tbody>\n",
              "</table>\n",
              "</div>"
            ],
            "text/plain": [
              "       date      city  tempurature  humidity\n",
              "0  5/1/2020  new york           65        55\n",
              "1  5/2/2020  new york           66        56\n",
              "2  5/3/2020  new york           67        54\n",
              "3  5/1/2020    mumbai           75        60\n",
              "4  5/2/2020    mumbai           74        80\n",
              "5  5/3/2020    mumbai           74        75\n",
              "6  5/1/2020   beijing           82        26\n",
              "7  5/2/2020   beijing           82        30\n",
              "8  5/3/2020   beijing           80        35"
            ]
          },
          "metadata": {
            "tags": []
          },
          "execution_count": 4
        }
      ]
    },
    {
      "cell_type": "markdown",
      "metadata": {
        "id": "UJ4mlxTlD6q8"
      },
      "source": [
        "If you want to change around the axis and how the dataframe looks use pivot:"
      ]
    },
    {
      "cell_type": "code",
      "metadata": {
        "colab": {
          "base_uri": "https://localhost:8080/",
          "height": 198
        },
        "id": "fhqGJLHZEGWi",
        "outputId": "8f1187fc-8172-4018-e079-dabd626184bb"
      },
      "source": [
        "df.pivot(index=\"date\", columns=\"city\") #sets the indea and the columns"
      ],
      "execution_count": 5,
      "outputs": [
        {
          "output_type": "execute_result",
          "data": {
            "text/html": [
              "<div>\n",
              "<style scoped>\n",
              "    .dataframe tbody tr th:only-of-type {\n",
              "        vertical-align: middle;\n",
              "    }\n",
              "\n",
              "    .dataframe tbody tr th {\n",
              "        vertical-align: top;\n",
              "    }\n",
              "\n",
              "    .dataframe thead tr th {\n",
              "        text-align: left;\n",
              "    }\n",
              "\n",
              "    .dataframe thead tr:last-of-type th {\n",
              "        text-align: right;\n",
              "    }\n",
              "</style>\n",
              "<table border=\"1\" class=\"dataframe\">\n",
              "  <thead>\n",
              "    <tr>\n",
              "      <th></th>\n",
              "      <th colspan=\"3\" halign=\"left\">tempurature</th>\n",
              "      <th colspan=\"3\" halign=\"left\">humidity</th>\n",
              "    </tr>\n",
              "    <tr>\n",
              "      <th>city</th>\n",
              "      <th>beijing</th>\n",
              "      <th>mumbai</th>\n",
              "      <th>new york</th>\n",
              "      <th>beijing</th>\n",
              "      <th>mumbai</th>\n",
              "      <th>new york</th>\n",
              "    </tr>\n",
              "    <tr>\n",
              "      <th>date</th>\n",
              "      <th></th>\n",
              "      <th></th>\n",
              "      <th></th>\n",
              "      <th></th>\n",
              "      <th></th>\n",
              "      <th></th>\n",
              "    </tr>\n",
              "  </thead>\n",
              "  <tbody>\n",
              "    <tr>\n",
              "      <th>5/1/2020</th>\n",
              "      <td>82</td>\n",
              "      <td>75</td>\n",
              "      <td>65</td>\n",
              "      <td>26</td>\n",
              "      <td>60</td>\n",
              "      <td>55</td>\n",
              "    </tr>\n",
              "    <tr>\n",
              "      <th>5/2/2020</th>\n",
              "      <td>82</td>\n",
              "      <td>74</td>\n",
              "      <td>66</td>\n",
              "      <td>30</td>\n",
              "      <td>80</td>\n",
              "      <td>56</td>\n",
              "    </tr>\n",
              "    <tr>\n",
              "      <th>5/3/2020</th>\n",
              "      <td>80</td>\n",
              "      <td>74</td>\n",
              "      <td>67</td>\n",
              "      <td>35</td>\n",
              "      <td>75</td>\n",
              "      <td>54</td>\n",
              "    </tr>\n",
              "  </tbody>\n",
              "</table>\n",
              "</div>"
            ],
            "text/plain": [
              "         tempurature                 humidity                \n",
              "city         beijing mumbai new york  beijing mumbai new york\n",
              "date                                                         \n",
              "5/1/2020          82     75       65       26     60       55\n",
              "5/2/2020          82     74       66       30     80       56\n",
              "5/3/2020          80     74       67       35     75       54"
            ]
          },
          "metadata": {
            "tags": []
          },
          "execution_count": 5
        }
      ]
    },
    {
      "cell_type": "markdown",
      "metadata": {
        "id": "beNmi97jEZx2"
      },
      "source": [
        "attribute values tells df what values to show. eg just humidity:"
      ]
    },
    {
      "cell_type": "code",
      "metadata": {
        "colab": {
          "base_uri": "https://localhost:8080/",
          "height": 168
        },
        "id": "Ya1jGgbZESP5",
        "outputId": "e79f6ecc-2fe0-4fba-f3fd-5b585876cb16"
      },
      "source": [
        "df.pivot(index=\"date\", columns=\"city\", values=\"humidity\")"
      ],
      "execution_count": 6,
      "outputs": [
        {
          "output_type": "execute_result",
          "data": {
            "text/html": [
              "<div>\n",
              "<style scoped>\n",
              "    .dataframe tbody tr th:only-of-type {\n",
              "        vertical-align: middle;\n",
              "    }\n",
              "\n",
              "    .dataframe tbody tr th {\n",
              "        vertical-align: top;\n",
              "    }\n",
              "\n",
              "    .dataframe thead th {\n",
              "        text-align: right;\n",
              "    }\n",
              "</style>\n",
              "<table border=\"1\" class=\"dataframe\">\n",
              "  <thead>\n",
              "    <tr style=\"text-align: right;\">\n",
              "      <th>city</th>\n",
              "      <th>beijing</th>\n",
              "      <th>mumbai</th>\n",
              "      <th>new york</th>\n",
              "    </tr>\n",
              "    <tr>\n",
              "      <th>date</th>\n",
              "      <th></th>\n",
              "      <th></th>\n",
              "      <th></th>\n",
              "    </tr>\n",
              "  </thead>\n",
              "  <tbody>\n",
              "    <tr>\n",
              "      <th>5/1/2020</th>\n",
              "      <td>26</td>\n",
              "      <td>60</td>\n",
              "      <td>55</td>\n",
              "    </tr>\n",
              "    <tr>\n",
              "      <th>5/2/2020</th>\n",
              "      <td>30</td>\n",
              "      <td>80</td>\n",
              "      <td>56</td>\n",
              "    </tr>\n",
              "    <tr>\n",
              "      <th>5/3/2020</th>\n",
              "      <td>35</td>\n",
              "      <td>75</td>\n",
              "      <td>54</td>\n",
              "    </tr>\n",
              "  </tbody>\n",
              "</table>\n",
              "</div>"
            ],
            "text/plain": [
              "city      beijing  mumbai  new york\n",
              "date                               \n",
              "5/1/2020       26      60        55\n",
              "5/2/2020       30      80        56\n",
              "5/3/2020       35      75        54"
            ]
          },
          "metadata": {
            "tags": []
          },
          "execution_count": 6
        }
      ]
    },
    {
      "cell_type": "markdown",
      "metadata": {
        "id": "rAfLm66jEoHN"
      },
      "source": [
        "There is also pivot table: this allows you to summarize and aggregate your tabular data by creating a spreadsheet-style table..."
      ]
    },
    {
      "cell_type": "code",
      "metadata": {
        "colab": {
          "base_uri": "https://localhost:8080/",
          "height": 288
        },
        "id": "lIiUveDQEw_X",
        "outputId": "9bed4103-0c11-4cec-a186-f86c6e0247da"
      },
      "source": [
        "df2= pd.DataFrame({\n",
        "    \"date\": [\"5/1/2020\", \"5/1/2020\", \"5/2/2020\", \"5/2/2020\", \"5/1/2020\", \"5/1/2020\", \"5/2/2020\", \"5/2/2020\"],\n",
        "    \"city\": [\"new york\", \"new york\", \"new york\", \"new york\", \"mumbai\", \"mumbai\", \"mumbai\", \"mumbai\"],\n",
        "    \"tempurature\": [65, 63, 61, 58, 80, 83, 81, 85],\n",
        "    \"humidity\": [60,59,55,59,80,80,73,85]\n",
        "})\n",
        "df2"
      ],
      "execution_count": 7,
      "outputs": [
        {
          "output_type": "execute_result",
          "data": {
            "text/html": [
              "<div>\n",
              "<style scoped>\n",
              "    .dataframe tbody tr th:only-of-type {\n",
              "        vertical-align: middle;\n",
              "    }\n",
              "\n",
              "    .dataframe tbody tr th {\n",
              "        vertical-align: top;\n",
              "    }\n",
              "\n",
              "    .dataframe thead th {\n",
              "        text-align: right;\n",
              "    }\n",
              "</style>\n",
              "<table border=\"1\" class=\"dataframe\">\n",
              "  <thead>\n",
              "    <tr style=\"text-align: right;\">\n",
              "      <th></th>\n",
              "      <th>date</th>\n",
              "      <th>city</th>\n",
              "      <th>tempurature</th>\n",
              "      <th>humidity</th>\n",
              "    </tr>\n",
              "  </thead>\n",
              "  <tbody>\n",
              "    <tr>\n",
              "      <th>0</th>\n",
              "      <td>5/1/2020</td>\n",
              "      <td>new york</td>\n",
              "      <td>65</td>\n",
              "      <td>60</td>\n",
              "    </tr>\n",
              "    <tr>\n",
              "      <th>1</th>\n",
              "      <td>5/1/2020</td>\n",
              "      <td>new york</td>\n",
              "      <td>63</td>\n",
              "      <td>59</td>\n",
              "    </tr>\n",
              "    <tr>\n",
              "      <th>2</th>\n",
              "      <td>5/2/2020</td>\n",
              "      <td>new york</td>\n",
              "      <td>61</td>\n",
              "      <td>55</td>\n",
              "    </tr>\n",
              "    <tr>\n",
              "      <th>3</th>\n",
              "      <td>5/2/2020</td>\n",
              "      <td>new york</td>\n",
              "      <td>58</td>\n",
              "      <td>59</td>\n",
              "    </tr>\n",
              "    <tr>\n",
              "      <th>4</th>\n",
              "      <td>5/1/2020</td>\n",
              "      <td>mumbai</td>\n",
              "      <td>80</td>\n",
              "      <td>80</td>\n",
              "    </tr>\n",
              "    <tr>\n",
              "      <th>5</th>\n",
              "      <td>5/1/2020</td>\n",
              "      <td>mumbai</td>\n",
              "      <td>83</td>\n",
              "      <td>80</td>\n",
              "    </tr>\n",
              "    <tr>\n",
              "      <th>6</th>\n",
              "      <td>5/2/2020</td>\n",
              "      <td>mumbai</td>\n",
              "      <td>81</td>\n",
              "      <td>73</td>\n",
              "    </tr>\n",
              "    <tr>\n",
              "      <th>7</th>\n",
              "      <td>5/2/2020</td>\n",
              "      <td>mumbai</td>\n",
              "      <td>85</td>\n",
              "      <td>85</td>\n",
              "    </tr>\n",
              "  </tbody>\n",
              "</table>\n",
              "</div>"
            ],
            "text/plain": [
              "       date      city  tempurature  humidity\n",
              "0  5/1/2020  new york           65        60\n",
              "1  5/1/2020  new york           63        59\n",
              "2  5/2/2020  new york           61        55\n",
              "3  5/2/2020  new york           58        59\n",
              "4  5/1/2020    mumbai           80        80\n",
              "5  5/1/2020    mumbai           83        80\n",
              "6  5/2/2020    mumbai           81        73\n",
              "7  5/2/2020    mumbai           85        85"
            ]
          },
          "metadata": {
            "tags": []
          },
          "execution_count": 7
        }
      ]
    },
    {
      "cell_type": "markdown",
      "metadata": {
        "id": "x8rbIpXfFl_e"
      },
      "source": [
        "for this df there is a morning and evening temp for both cities on 2 different days.\n",
        "we want to create an average for each day:"
      ]
    },
    {
      "cell_type": "code",
      "metadata": {
        "colab": {
          "base_uri": "https://localhost:8080/",
          "height": 168
        },
        "id": "L-F_cR6FFt2K",
        "outputId": "688f7e98-d640-4908-ad9d-7e60898a850f"
      },
      "source": [
        "df2.pivot_table(index=\"city\", columns=\"date\")"
      ],
      "execution_count": 9,
      "outputs": [
        {
          "output_type": "execute_result",
          "data": {
            "text/html": [
              "<div>\n",
              "<style scoped>\n",
              "    .dataframe tbody tr th:only-of-type {\n",
              "        vertical-align: middle;\n",
              "    }\n",
              "\n",
              "    .dataframe tbody tr th {\n",
              "        vertical-align: top;\n",
              "    }\n",
              "\n",
              "    .dataframe thead tr th {\n",
              "        text-align: left;\n",
              "    }\n",
              "\n",
              "    .dataframe thead tr:last-of-type th {\n",
              "        text-align: right;\n",
              "    }\n",
              "</style>\n",
              "<table border=\"1\" class=\"dataframe\">\n",
              "  <thead>\n",
              "    <tr>\n",
              "      <th></th>\n",
              "      <th colspan=\"2\" halign=\"left\">humidity</th>\n",
              "      <th colspan=\"2\" halign=\"left\">tempurature</th>\n",
              "    </tr>\n",
              "    <tr>\n",
              "      <th>date</th>\n",
              "      <th>5/1/2020</th>\n",
              "      <th>5/2/2020</th>\n",
              "      <th>5/1/2020</th>\n",
              "      <th>5/2/2020</th>\n",
              "    </tr>\n",
              "    <tr>\n",
              "      <th>city</th>\n",
              "      <th></th>\n",
              "      <th></th>\n",
              "      <th></th>\n",
              "      <th></th>\n",
              "    </tr>\n",
              "  </thead>\n",
              "  <tbody>\n",
              "    <tr>\n",
              "      <th>mumbai</th>\n",
              "      <td>80.0</td>\n",
              "      <td>79.0</td>\n",
              "      <td>81.5</td>\n",
              "      <td>83.0</td>\n",
              "    </tr>\n",
              "    <tr>\n",
              "      <th>new york</th>\n",
              "      <td>59.5</td>\n",
              "      <td>57.0</td>\n",
              "      <td>64.0</td>\n",
              "      <td>59.5</td>\n",
              "    </tr>\n",
              "  </tbody>\n",
              "</table>\n",
              "</div>"
            ],
            "text/plain": [
              "         humidity          tempurature         \n",
              "date     5/1/2020 5/2/2020    5/1/2020 5/2/2020\n",
              "city                                           \n",
              "mumbai       80.0     79.0        81.5     83.0\n",
              "new york     59.5     57.0        64.0     59.5"
            ]
          },
          "metadata": {
            "tags": []
          },
          "execution_count": 9
        }
      ]
    },
    {
      "cell_type": "markdown",
      "metadata": {
        "id": "nnUWpnkZGMjF"
      },
      "source": [
        "it create average by default as the aggregate function. could also do sum if you wanted..."
      ]
    },
    {
      "cell_type": "code",
      "metadata": {
        "colab": {
          "base_uri": "https://localhost:8080/",
          "height": 168
        },
        "id": "l67fZIqmGStR",
        "outputId": "6ecc1ddb-fa7d-484f-f2b8-412857a047b0"
      },
      "source": [
        "df2.pivot_table(index=\"city\", columns=\"date\", aggfunc=\"sum\")"
      ],
      "execution_count": 10,
      "outputs": [
        {
          "output_type": "execute_result",
          "data": {
            "text/html": [
              "<div>\n",
              "<style scoped>\n",
              "    .dataframe tbody tr th:only-of-type {\n",
              "        vertical-align: middle;\n",
              "    }\n",
              "\n",
              "    .dataframe tbody tr th {\n",
              "        vertical-align: top;\n",
              "    }\n",
              "\n",
              "    .dataframe thead tr th {\n",
              "        text-align: left;\n",
              "    }\n",
              "\n",
              "    .dataframe thead tr:last-of-type th {\n",
              "        text-align: right;\n",
              "    }\n",
              "</style>\n",
              "<table border=\"1\" class=\"dataframe\">\n",
              "  <thead>\n",
              "    <tr>\n",
              "      <th></th>\n",
              "      <th colspan=\"2\" halign=\"left\">humidity</th>\n",
              "      <th colspan=\"2\" halign=\"left\">tempurature</th>\n",
              "    </tr>\n",
              "    <tr>\n",
              "      <th>date</th>\n",
              "      <th>5/1/2020</th>\n",
              "      <th>5/2/2020</th>\n",
              "      <th>5/1/2020</th>\n",
              "      <th>5/2/2020</th>\n",
              "    </tr>\n",
              "    <tr>\n",
              "      <th>city</th>\n",
              "      <th></th>\n",
              "      <th></th>\n",
              "      <th></th>\n",
              "      <th></th>\n",
              "    </tr>\n",
              "  </thead>\n",
              "  <tbody>\n",
              "    <tr>\n",
              "      <th>mumbai</th>\n",
              "      <td>160</td>\n",
              "      <td>158</td>\n",
              "      <td>163</td>\n",
              "      <td>166</td>\n",
              "    </tr>\n",
              "    <tr>\n",
              "      <th>new york</th>\n",
              "      <td>119</td>\n",
              "      <td>114</td>\n",
              "      <td>128</td>\n",
              "      <td>119</td>\n",
              "    </tr>\n",
              "  </tbody>\n",
              "</table>\n",
              "</div>"
            ],
            "text/plain": [
              "         humidity          tempurature         \n",
              "date     5/1/2020 5/2/2020    5/1/2020 5/2/2020\n",
              "city                                           \n",
              "mumbai        160      158         163      166\n",
              "new york      119      114         128      119"
            ]
          },
          "metadata": {
            "tags": []
          },
          "execution_count": 10
        }
      ]
    },
    {
      "cell_type": "code",
      "metadata": {
        "colab": {
          "base_uri": "https://localhost:8080/",
          "height": 168
        },
        "id": "2O78O-R3GdJU",
        "outputId": "403681c4-12c9-471f-ec6f-44928d43fedc"
      },
      "source": [
        "df2.pivot_table(index=\"city\", columns=\"date\", aggfunc=\"count\")"
      ],
      "execution_count": 11,
      "outputs": [
        {
          "output_type": "execute_result",
          "data": {
            "text/html": [
              "<div>\n",
              "<style scoped>\n",
              "    .dataframe tbody tr th:only-of-type {\n",
              "        vertical-align: middle;\n",
              "    }\n",
              "\n",
              "    .dataframe tbody tr th {\n",
              "        vertical-align: top;\n",
              "    }\n",
              "\n",
              "    .dataframe thead tr th {\n",
              "        text-align: left;\n",
              "    }\n",
              "\n",
              "    .dataframe thead tr:last-of-type th {\n",
              "        text-align: right;\n",
              "    }\n",
              "</style>\n",
              "<table border=\"1\" class=\"dataframe\">\n",
              "  <thead>\n",
              "    <tr>\n",
              "      <th></th>\n",
              "      <th colspan=\"2\" halign=\"left\">humidity</th>\n",
              "      <th colspan=\"2\" halign=\"left\">tempurature</th>\n",
              "    </tr>\n",
              "    <tr>\n",
              "      <th>date</th>\n",
              "      <th>5/1/2020</th>\n",
              "      <th>5/2/2020</th>\n",
              "      <th>5/1/2020</th>\n",
              "      <th>5/2/2020</th>\n",
              "    </tr>\n",
              "    <tr>\n",
              "      <th>city</th>\n",
              "      <th></th>\n",
              "      <th></th>\n",
              "      <th></th>\n",
              "      <th></th>\n",
              "    </tr>\n",
              "  </thead>\n",
              "  <tbody>\n",
              "    <tr>\n",
              "      <th>mumbai</th>\n",
              "      <td>2</td>\n",
              "      <td>2</td>\n",
              "      <td>2</td>\n",
              "      <td>2</td>\n",
              "    </tr>\n",
              "    <tr>\n",
              "      <th>new york</th>\n",
              "      <td>2</td>\n",
              "      <td>2</td>\n",
              "      <td>2</td>\n",
              "      <td>2</td>\n",
              "    </tr>\n",
              "  </tbody>\n",
              "</table>\n",
              "</div>"
            ],
            "text/plain": [
              "         humidity          tempurature         \n",
              "date     5/1/2020 5/2/2020    5/1/2020 5/2/2020\n",
              "city                                           \n",
              "mumbai          2        2           2        2\n",
              "new york        2        2           2        2"
            ]
          },
          "metadata": {
            "tags": []
          },
          "execution_count": 11
        }
      ]
    },
    {
      "cell_type": "markdown",
      "metadata": {
        "id": "FIrMnsHgGfF0"
      },
      "source": [
        "Another argument is margins. default is equal to false. It includes columns+row for the averages of values. if you make it true:"
      ]
    },
    {
      "cell_type": "code",
      "metadata": {
        "colab": {
          "base_uri": "https://localhost:8080/",
          "height": 198
        },
        "id": "0x5VfUfcH1kw",
        "outputId": "681b3b57-22fb-49fa-fdb9-19111643ea0b"
      },
      "source": [
        "df2.pivot_table(index=\"city\", columns=\"date\", margins=True)"
      ],
      "execution_count": 12,
      "outputs": [
        {
          "output_type": "execute_result",
          "data": {
            "text/html": [
              "<div>\n",
              "<style scoped>\n",
              "    .dataframe tbody tr th:only-of-type {\n",
              "        vertical-align: middle;\n",
              "    }\n",
              "\n",
              "    .dataframe tbody tr th {\n",
              "        vertical-align: top;\n",
              "    }\n",
              "\n",
              "    .dataframe thead tr th {\n",
              "        text-align: left;\n",
              "    }\n",
              "\n",
              "    .dataframe thead tr:last-of-type th {\n",
              "        text-align: right;\n",
              "    }\n",
              "</style>\n",
              "<table border=\"1\" class=\"dataframe\">\n",
              "  <thead>\n",
              "    <tr>\n",
              "      <th></th>\n",
              "      <th colspan=\"3\" halign=\"left\">humidity</th>\n",
              "      <th colspan=\"3\" halign=\"left\">tempurature</th>\n",
              "    </tr>\n",
              "    <tr>\n",
              "      <th>date</th>\n",
              "      <th>5/1/2020</th>\n",
              "      <th>5/2/2020</th>\n",
              "      <th>All</th>\n",
              "      <th>5/1/2020</th>\n",
              "      <th>5/2/2020</th>\n",
              "      <th>All</th>\n",
              "    </tr>\n",
              "    <tr>\n",
              "      <th>city</th>\n",
              "      <th></th>\n",
              "      <th></th>\n",
              "      <th></th>\n",
              "      <th></th>\n",
              "      <th></th>\n",
              "      <th></th>\n",
              "    </tr>\n",
              "  </thead>\n",
              "  <tbody>\n",
              "    <tr>\n",
              "      <th>mumbai</th>\n",
              "      <td>80.00</td>\n",
              "      <td>79.0</td>\n",
              "      <td>79.500</td>\n",
              "      <td>81.50</td>\n",
              "      <td>83.00</td>\n",
              "      <td>82.25</td>\n",
              "    </tr>\n",
              "    <tr>\n",
              "      <th>new york</th>\n",
              "      <td>59.50</td>\n",
              "      <td>57.0</td>\n",
              "      <td>58.250</td>\n",
              "      <td>64.00</td>\n",
              "      <td>59.50</td>\n",
              "      <td>61.75</td>\n",
              "    </tr>\n",
              "    <tr>\n",
              "      <th>All</th>\n",
              "      <td>69.75</td>\n",
              "      <td>68.0</td>\n",
              "      <td>68.875</td>\n",
              "      <td>72.75</td>\n",
              "      <td>71.25</td>\n",
              "      <td>72.00</td>\n",
              "    </tr>\n",
              "  </tbody>\n",
              "</table>\n",
              "</div>"
            ],
            "text/plain": [
              "         humidity                  tempurature                \n",
              "date     5/1/2020 5/2/2020     All    5/1/2020 5/2/2020    All\n",
              "city                                                          \n",
              "mumbai      80.00     79.0  79.500       81.50    83.00  82.25\n",
              "new york    59.50     57.0  58.250       64.00    59.50  61.75\n",
              "All         69.75     68.0  68.875       72.75    71.25  72.00"
            ]
          },
          "metadata": {
            "tags": []
          },
          "execution_count": 12
        }
      ]
    },
    {
      "cell_type": "markdown",
      "metadata": {
        "id": "55kpX6EbIa-J"
      },
      "source": [
        "Same city, diff dates.\n",
        "\n",
        "Grouping dates using pivot_table + pd.Grouper"
      ]
    },
    {
      "cell_type": "code",
      "metadata": {
        "colab": {
          "base_uri": "https://localhost:8080/"
        },
        "id": "FrMVW1IiIetS",
        "outputId": "e8cdf4fe-e7a4-4079-ada6-cd70f848f980"
      },
      "source": [
        "dataframe1= pd.DataFrame({\n",
        "    \"date\": [\"05/01/2020\", \"05/02/2020\", \"05/03/2020\", \"12/08/2020\", \"12/09/2020\", \"12/10/2020\"],\n",
        "    \"city\": [\"new york\", \"new york\", \"new york\", \"new york\", \"new york\", \"new york\"],\n",
        "    \"tempurature\": [65, 63, 61, 20, 23,28],\n",
        "    \"humidity\": [60,59,59,40,44,30]\n",
        "})\n",
        "dataframe1.info()"
      ],
      "execution_count": 41,
      "outputs": [
        {
          "output_type": "stream",
          "text": [
            "<class 'pandas.core.frame.DataFrame'>\n",
            "RangeIndex: 6 entries, 0 to 5\n",
            "Data columns (total 4 columns):\n",
            " #   Column       Non-Null Count  Dtype \n",
            "---  ------       --------------  ----- \n",
            " 0   date         6 non-null      object\n",
            " 1   city         6 non-null      object\n",
            " 2   tempurature  6 non-null      int64 \n",
            " 3   humidity     6 non-null      int64 \n",
            "dtypes: int64(2), object(2)\n",
            "memory usage: 320.0+ bytes\n"
          ],
          "name": "stdout"
        }
      ]
    },
    {
      "cell_type": "code",
      "metadata": {
        "colab": {
          "base_uri": "https://localhost:8080/"
        },
        "id": "WAutp4H-MoV5",
        "outputId": "241200b0-0147-43e0-81fb-a0b06cbf0116"
      },
      "source": [
        "#date is an object so first need to convert dates to date type\n",
        "dataframe1[\"date\"]=pd.to_datetime(dataframe1[\"date\"])\n",
        "dataframe1.info()"
      ],
      "execution_count": 42,
      "outputs": [
        {
          "output_type": "stream",
          "text": [
            "<class 'pandas.core.frame.DataFrame'>\n",
            "RangeIndex: 6 entries, 0 to 5\n",
            "Data columns (total 4 columns):\n",
            " #   Column       Non-Null Count  Dtype         \n",
            "---  ------       --------------  -----         \n",
            " 0   date         6 non-null      datetime64[ns]\n",
            " 1   city         6 non-null      object        \n",
            " 2   tempurature  6 non-null      int64         \n",
            " 3   humidity     6 non-null      int64         \n",
            "dtypes: datetime64[ns](1), int64(2), object(1)\n",
            "memory usage: 320.0+ bytes\n"
          ],
          "name": "stdout"
        }
      ]
    },
    {
      "cell_type": "code",
      "metadata": {
        "colab": {
          "base_uri": "https://localhost:8080/",
          "height": 168
        },
        "id": "_vWf0evKMOKM",
        "outputId": "e4c5ca8e-4dcb-46e1-db94-9b6f7472c388"
      },
      "source": [
        "#grouper groups by the frequency you specify + averages them\n",
        "dataframe1.pivot_table(index=pd.Grouper(freq=\"M\", key=\"date\"), columns=\"city\")"
      ],
      "execution_count": 45,
      "outputs": [
        {
          "output_type": "execute_result",
          "data": {
            "text/html": [
              "<div>\n",
              "<style scoped>\n",
              "    .dataframe tbody tr th:only-of-type {\n",
              "        vertical-align: middle;\n",
              "    }\n",
              "\n",
              "    .dataframe tbody tr th {\n",
              "        vertical-align: top;\n",
              "    }\n",
              "\n",
              "    .dataframe thead tr th {\n",
              "        text-align: left;\n",
              "    }\n",
              "\n",
              "    .dataframe thead tr:last-of-type th {\n",
              "        text-align: right;\n",
              "    }\n",
              "</style>\n",
              "<table border=\"1\" class=\"dataframe\">\n",
              "  <thead>\n",
              "    <tr>\n",
              "      <th></th>\n",
              "      <th>humidity</th>\n",
              "      <th>tempurature</th>\n",
              "    </tr>\n",
              "    <tr>\n",
              "      <th>city</th>\n",
              "      <th>new york</th>\n",
              "      <th>new york</th>\n",
              "    </tr>\n",
              "    <tr>\n",
              "      <th>date</th>\n",
              "      <th></th>\n",
              "      <th></th>\n",
              "    </tr>\n",
              "  </thead>\n",
              "  <tbody>\n",
              "    <tr>\n",
              "      <th>2020-05-31</th>\n",
              "      <td>59.333333</td>\n",
              "      <td>63.000000</td>\n",
              "    </tr>\n",
              "    <tr>\n",
              "      <th>2020-12-31</th>\n",
              "      <td>38.000000</td>\n",
              "      <td>23.666667</td>\n",
              "    </tr>\n",
              "  </tbody>\n",
              "</table>\n",
              "</div>"
            ],
            "text/plain": [
              "             humidity tempurature\n",
              "city         new york    new york\n",
              "date                             \n",
              "2020-05-31  59.333333   63.000000\n",
              "2020-12-31  38.000000   23.666667"
            ]
          },
          "metadata": {
            "tags": []
          },
          "execution_count": 45
        }
      ]
    }
  ]
}