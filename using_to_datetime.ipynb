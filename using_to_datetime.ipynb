{
  "nbformat": 4,
  "nbformat_minor": 0,
  "metadata": {
    "colab": {
      "name": "Untitled7.ipynb",
      "provenance": [],
      "authorship_tag": "ABX9TyPCpJUc4+R6JSbi3CmoTQQO",
      "include_colab_link": true
    },
    "kernelspec": {
      "name": "python3",
      "display_name": "Python 3"
    },
    "language_info": {
      "name": "python"
    }
  },
  "cells": [
    {
      "cell_type": "markdown",
      "metadata": {
        "id": "view-in-github",
        "colab_type": "text"
      },
      "source": [
        "<a href=\"https://colab.research.google.com/github/rubyspch/Colaboratory-Notes/blob/main/using_to_datetime.ipynb\" target=\"_parent\"><img src=\"https://colab.research.google.com/assets/colab-badge.svg\" alt=\"Open In Colab\"/></a>"
      ]
    },
    {
      "cell_type": "markdown",
      "metadata": {
        "id": "Ecf1VleQDzSs"
      },
      "source": [
        "Use to_datetime to solve problem of inconsistency of the format of date data..."
      ]
    },
    {
      "cell_type": "code",
      "metadata": {
        "id": "owg2Qsv4Dvyx"
      },
      "source": [
        "import pandas as pd\n",
        "dates = ['2017-01-05', 'Jan 5, 2017', '01/05/2017', '2017.01.05', '2017/01/05','20170105']"
      ],
      "execution_count": 1,
      "outputs": []
    },
    {
      "cell_type": "code",
      "metadata": {
        "colab": {
          "base_uri": "https://localhost:8080/"
        },
        "id": "uNOFeAXtEPqz",
        "outputId": "798ee788-696f-4116-81a8-036c41398b1d"
      },
      "source": [
        "pd.to_datetime(dates) #pass the list through this and it converts them"
      ],
      "execution_count": 2,
      "outputs": [
        {
          "output_type": "execute_result",
          "data": {
            "text/plain": [
              "DatetimeIndex(['2017-01-05', '2017-01-05', '2017-01-05', '2017-01-05',\n",
              "               '2017-01-05', '2017-01-05'],\n",
              "              dtype='datetime64[ns]', freq=None)"
            ]
          },
          "metadata": {
            "tags": []
          },
          "execution_count": 2
        }
      ]
    },
    {
      "cell_type": "code",
      "metadata": {
        "colab": {
          "base_uri": "https://localhost:8080/"
        },
        "id": "YdctHCjZEZeB",
        "outputId": "742cedc4-fc98-40fa-e9ac-72652bc34f38"
      },
      "source": [
        "datesTime = ['2017-01-05', 'Jan 5, 2017', '01/05/2017 14:30:00', '2017.01.05', '2017/01/05','20170105']\n",
        "pd.to_datetime(datesTime) #it can also handle it if you add a time to one of the dates "
      ],
      "execution_count": 3,
      "outputs": [
        {
          "output_type": "execute_result",
          "data": {
            "text/plain": [
              "DatetimeIndex(['2017-01-05 00:00:00', '2017-01-05 00:00:00',\n",
              "               '2017-01-05 14:30:00', '2017-01-05 00:00:00',\n",
              "               '2017-01-05 00:00:00', '2017-01-05 00:00:00'],\n",
              "              dtype='datetime64[ns]', freq=None)"
            ]
          },
          "metadata": {
            "tags": []
          },
          "execution_count": 3
        }
      ]
    },
    {
      "cell_type": "markdown",
      "metadata": {
        "id": "oYNHawQtEpUb"
      },
      "source": [
        "Default it does mm/dd/yyyy. To switch date format bw us and eu format:"
      ]
    },
    {
      "cell_type": "code",
      "metadata": {
        "colab": {
          "base_uri": "https://localhost:8080/"
        },
        "id": "fq5hkzoTE_Cp",
        "outputId": "c971ad6d-3338-4272-a5df-8f1b3ebd1791"
      },
      "source": [
        "pd.to_datetime(datesTime, dayfirst=True) #dayfirst attrib"
      ],
      "execution_count": 4,
      "outputs": [
        {
          "output_type": "execute_result",
          "data": {
            "text/plain": [
              "DatetimeIndex(['2017-01-05 00:00:00', '2017-01-05 00:00:00',\n",
              "               '2017-05-01 14:30:00', '2017-01-05 00:00:00',\n",
              "               '2017-01-05 00:00:00', '2017-01-05 00:00:00'],\n",
              "              dtype='datetime64[ns]', freq=None)"
            ]
          },
          "metadata": {
            "tags": []
          },
          "execution_count": 4
        }
      ]
    },
    {
      "cell_type": "code",
      "metadata": {
        "colab": {
          "base_uri": "https://localhost:8080/"
        },
        "id": "PR6ZhEb1FIQ-",
        "outputId": "ea8ebd44-edc6-4799-8e21-d8dc8d12a7e2"
      },
      "source": [
        "pd.to_datetime('4#5#2017', format='%d#%m#%Y') #format argument,  create template for the datetime supplied to tell pd how to convert it"
      ],
      "execution_count": 14,
      "outputs": [
        {
          "output_type": "execute_result",
          "data": {
            "text/plain": [
              "Timestamp('2017-05-04 00:00:00')"
            ]
          },
          "metadata": {
            "tags": []
          },
          "execution_count": 14
        }
      ]
    },
    {
      "cell_type": "code",
      "metadata": {
        "id": "siYMXjlbGUTc"
      },
      "source": [
        ""
      ],
      "execution_count": null,
      "outputs": []
    },
    {
      "cell_type": "markdown",
      "metadata": {
        "id": "UPkX39kZGVDX"
      },
      "source": [
        "if list includes a string that pd cant convert, it will throw up an error. To avoid this use errors attrib. :\n",
        "\n",
        "```\n",
        "pd.to_datetime(datesErr, errors='ignore')\n",
        "```\n",
        "^ this will stop the conversion, pd will abandon and nothing will get converted. To ignore just the error:\n",
        "```\n",
        "pd.to_datetime(datesErr, errors='coerce')\n",
        "```\n"
      ]
    },
    {
      "cell_type": "code",
      "metadata": {
        "colab": {
          "base_uri": "https://localhost:8080/"
        },
        "id": "qcrqHS84GMQR",
        "outputId": "ff31758a-74ae-4750-ef6f-87d850153ee3"
      },
      "source": [
        "datesErr = ['2017-01-05', 'Jan 5, 2017', 'abc', '01/05/2017', '2017.01.05', '2017/01/05','20170105']\n",
        "pd.to_datetime(datesErr, errors='coerce') "
      ],
      "execution_count": 16,
      "outputs": [
        {
          "output_type": "execute_result",
          "data": {
            "text/plain": [
              "DatetimeIndex(['2017-01-05', '2017-01-05',        'NaT', '2017-01-05',\n",
              "               '2017-01-05', '2017-01-05', '2017-01-05'],\n",
              "              dtype='datetime64[ns]', freq=None)"
            ]
          },
          "metadata": {
            "tags": []
          },
          "execution_count": 16
        }
      ]
    },
    {
      "cell_type": "markdown",
      "metadata": {
        "id": "kMZLPq8yHHd5"
      },
      "source": [
        "Epoch converter is number of seconds since jan 1 1970. "
      ]
    },
    {
      "cell_type": "code",
      "metadata": {
        "colab": {
          "base_uri": "https://localhost:8080/"
        },
        "id": "Q9bcBN4_HWDa",
        "outputId": "fa8768a8-ba0c-4b09-e11d-b65abff8820e"
      },
      "source": [
        "current_epoch = 1501324478\n",
        "pd.to_datetime(current_epoch, unit='s')"
      ],
      "execution_count": 17,
      "outputs": [
        {
          "output_type": "execute_result",
          "data": {
            "text/plain": [
              "Timestamp('2017-07-29 10:34:38')"
            ]
          },
          "metadata": {
            "tags": []
          },
          "execution_count": 17
        }
      ]
    },
    {
      "cell_type": "code",
      "metadata": {
        "colab": {
          "base_uri": "https://localhost:8080/"
        },
        "id": "Swt0DZVmHYyr",
        "outputId": "fe9933c4-596a-425c-f0a2-3d7107a477bf"
      },
      "source": [
        "pd.to_datetime(current_epoch*1000, unit='ms')\n"
      ],
      "execution_count": 18,
      "outputs": [
        {
          "output_type": "execute_result",
          "data": {
            "text/plain": [
              "Timestamp('2017-07-29 10:34:38')"
            ]
          },
          "metadata": {
            "tags": []
          },
          "execution_count": 18
        }
      ]
    },
    {
      "cell_type": "code",
      "metadata": {
        "colab": {
          "base_uri": "https://localhost:8080/"
        },
        "id": "yR0LF6XHHdEk",
        "outputId": "250f781a-0dfe-40a9-a725-b16ee33be9c9"
      },
      "source": [
        "t = pd.to_datetime([current_epoch], unit='s')\n",
        "t"
      ],
      "execution_count": 19,
      "outputs": [
        {
          "output_type": "execute_result",
          "data": {
            "text/plain": [
              "DatetimeIndex(['2017-07-29 10:34:38'], dtype='datetime64[ns]', freq=None)"
            ]
          },
          "metadata": {
            "tags": []
          },
          "execution_count": 19
        }
      ]
    },
    {
      "cell_type": "code",
      "metadata": {
        "colab": {
          "base_uri": "https://localhost:8080/"
        },
        "id": "7DQBYKAEHgor",
        "outputId": "7cc1f36b-7473-4968-ed77-9701d0104699"
      },
      "source": [
        "t.view('int64') #gets back the epoch time, with zeros for nano seconds."
      ],
      "execution_count": 20,
      "outputs": [
        {
          "output_type": "execute_result",
          "data": {
            "text/plain": [
              "array([1501324478000000000])"
            ]
          },
          "metadata": {
            "tags": []
          },
          "execution_count": 20
        }
      ]
    },
    {
      "cell_type": "code",
      "metadata": {
        "id": "sOgkhhdzHhmI"
      },
      "source": [
        ""
      ],
      "execution_count": null,
      "outputs": []
    }
  ]
}