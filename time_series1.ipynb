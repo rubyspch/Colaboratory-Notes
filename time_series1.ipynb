{
  "nbformat": 4,
  "nbformat_minor": 0,
  "metadata": {
    "colab": {
      "name": "Untitled5.ipynb",
      "provenance": [],
      "authorship_tag": "ABX9TyM4pEm9RNoz4knEB/ef4dGS",
      "include_colab_link": true
    },
    "kernelspec": {
      "name": "python3",
      "display_name": "Python 3"
    },
    "language_info": {
      "name": "python"
    }
  },
  "cells": [
    {
      "cell_type": "markdown",
      "metadata": {
        "id": "view-in-github",
        "colab_type": "text"
      },
      "source": [
        "<a href=\"https://colab.research.google.com/github/rubyspch/Colaboratory-Notes/blob/main/time_series1.ipynb\" target=\"_parent\"><img src=\"https://colab.research.google.com/assets/colab-badge.svg\" alt=\"Open In Colab\"/></a>"
      ]
    },
    {
      "cell_type": "markdown",
      "metadata": {
        "id": "HG1Dno8TP1L6"
      },
      "source": [
        "Time Series Analysis.\n",
        "\n",
        "time series- a set of data points indexed in time order.\n",
        "\n",
        "here we are working with historical prices of apple stock downloaded from google finance."
      ]
    },
    {
      "cell_type": "markdown",
      "metadata": {
        "id": "deSIbfdlP1IO"
      },
      "source": [
        "Date-time index:"
      ]
    },
    {
      "cell_type": "code",
      "metadata": {
        "id": "6yccUlaiP0K1"
      },
      "source": [
        "import pandas as pd"
      ],
      "execution_count": null,
      "outputs": []
    },
    {
      "cell_type": "code",
      "metadata": {
        "colab": {
          "base_uri": "https://localhost:8080/",
          "height": 228
        },
        "id": "WTMdaALLQckq",
        "outputId": "d168f94d-ca73-45bb-fd60-568c1f363b22"
      },
      "source": [
        "df=pd.read_csv(\"/content/aapl.csv\", parse_dates=[\"Date\"], index_col=\"Date\")\n",
        "df.head() "
      ],
      "execution_count": null,
      "outputs": [
        {
          "output_type": "execute_result",
          "data": {
            "text/html": [
              "<div>\n",
              "<style scoped>\n",
              "    .dataframe tbody tr th:only-of-type {\n",
              "        vertical-align: middle;\n",
              "    }\n",
              "\n",
              "    .dataframe tbody tr th {\n",
              "        vertical-align: top;\n",
              "    }\n",
              "\n",
              "    .dataframe thead th {\n",
              "        text-align: right;\n",
              "    }\n",
              "</style>\n",
              "<table border=\"1\" class=\"dataframe\">\n",
              "  <thead>\n",
              "    <tr style=\"text-align: right;\">\n",
              "      <th></th>\n",
              "      <th>Open</th>\n",
              "      <th>High</th>\n",
              "      <th>Low</th>\n",
              "      <th>Close</th>\n",
              "      <th>Volume</th>\n",
              "    </tr>\n",
              "    <tr>\n",
              "      <th>Date</th>\n",
              "      <th></th>\n",
              "      <th></th>\n",
              "      <th></th>\n",
              "      <th></th>\n",
              "      <th></th>\n",
              "    </tr>\n",
              "  </thead>\n",
              "  <tbody>\n",
              "    <tr>\n",
              "      <th>2017-07-07</th>\n",
              "      <td>142.90</td>\n",
              "      <td>144.75</td>\n",
              "      <td>142.90</td>\n",
              "      <td>144.18</td>\n",
              "      <td>19201712</td>\n",
              "    </tr>\n",
              "    <tr>\n",
              "      <th>2017-07-06</th>\n",
              "      <td>143.02</td>\n",
              "      <td>143.50</td>\n",
              "      <td>142.41</td>\n",
              "      <td>142.73</td>\n",
              "      <td>24128782</td>\n",
              "    </tr>\n",
              "    <tr>\n",
              "      <th>2017-07-05</th>\n",
              "      <td>143.69</td>\n",
              "      <td>144.79</td>\n",
              "      <td>142.72</td>\n",
              "      <td>144.09</td>\n",
              "      <td>21569557</td>\n",
              "    </tr>\n",
              "    <tr>\n",
              "      <th>2017-07-03</th>\n",
              "      <td>144.88</td>\n",
              "      <td>145.30</td>\n",
              "      <td>143.10</td>\n",
              "      <td>143.50</td>\n",
              "      <td>14277848</td>\n",
              "    </tr>\n",
              "    <tr>\n",
              "      <th>2017-06-30</th>\n",
              "      <td>144.45</td>\n",
              "      <td>144.96</td>\n",
              "      <td>143.78</td>\n",
              "      <td>144.02</td>\n",
              "      <td>23024107</td>\n",
              "    </tr>\n",
              "  </tbody>\n",
              "</table>\n",
              "</div>"
            ],
            "text/plain": [
              "              Open    High     Low   Close    Volume\n",
              "Date                                                \n",
              "2017-07-07  142.90  144.75  142.90  144.18  19201712\n",
              "2017-07-06  143.02  143.50  142.41  142.73  24128782\n",
              "2017-07-05  143.69  144.79  142.72  144.09  21569557\n",
              "2017-07-03  144.88  145.30  143.10  143.50  14277848\n",
              "2017-06-30  144.45  144.96  143.78  144.02  23024107"
            ]
          },
          "metadata": {
            "tags": []
          },
          "execution_count": 9
        }
      ]
    },
    {
      "cell_type": "code",
      "metadata": {
        "colab": {
          "base_uri": "https://localhost:8080/"
        },
        "id": "TtuBVfFLRBGb",
        "outputId": "2c5cb64a-eb1f-44f1-9ad1-d44ec96d3bc5"
      },
      "source": [
        "type(df.Date) #date column is read auto as string, you add arg 'parse_dates'to read_csv to make them dates"
      ],
      "execution_count": null,
      "outputs": [
        {
          "output_type": "execute_result",
          "data": {
            "text/plain": [
              "pandas.core.series.Series"
            ]
          },
          "metadata": {
            "tags": []
          },
          "execution_count": 6
        }
      ]
    },
    {
      "cell_type": "code",
      "metadata": {
        "colab": {
          "base_uri": "https://localhost:8080/"
        },
        "id": "hfpwT4XxRKhP",
        "outputId": "bc9acc18-e2ca-498b-bd8f-cb0bac70880c"
      },
      "source": [
        "#read_csv adds an index but use index_col to specify the date column as the index\n",
        "df.index #shows type of index is 'DatetimeIndex'"
      ],
      "execution_count": null,
      "outputs": [
        {
          "output_type": "execute_result",
          "data": {
            "text/plain": [
              "DatetimeIndex(['2017-07-07', '2017-07-06', '2017-07-05', '2017-07-03',\n",
              "               '2017-06-30', '2017-06-29', '2017-06-28', '2017-06-27',\n",
              "               '2017-06-26', '2017-06-23',\n",
              "               ...\n",
              "               '2016-07-22', '2016-07-21', '2016-07-20', '2016-07-19',\n",
              "               '2016-07-18', '2016-07-15', '2016-07-14', '2016-07-13',\n",
              "               '2016-07-12', '2016-07-11'],\n",
              "              dtype='datetime64[ns]', name='Date', length=251, freq=None)"
            ]
          },
          "metadata": {
            "tags": []
          },
          "execution_count": 10
        }
      ]
    },
    {
      "cell_type": "code",
      "metadata": {
        "colab": {
          "base_uri": "https://localhost:8080/",
          "height": 768
        },
        "id": "lT3nheDJRs0b",
        "outputId": "33871d3d-ed4b-4928-aeb6-16b73b5ee7ef"
      },
      "source": [
        "#benefit of it reading index as datetime is that you can specify timestamps for it to show you:\n",
        "df[\"2017-03\"] #specifies data for march 2017"
      ],
      "execution_count": null,
      "outputs": [
        {
          "output_type": "execute_result",
          "data": {
            "text/html": [
              "<div>\n",
              "<style scoped>\n",
              "    .dataframe tbody tr th:only-of-type {\n",
              "        vertical-align: middle;\n",
              "    }\n",
              "\n",
              "    .dataframe tbody tr th {\n",
              "        vertical-align: top;\n",
              "    }\n",
              "\n",
              "    .dataframe thead th {\n",
              "        text-align: right;\n",
              "    }\n",
              "</style>\n",
              "<table border=\"1\" class=\"dataframe\">\n",
              "  <thead>\n",
              "    <tr style=\"text-align: right;\">\n",
              "      <th></th>\n",
              "      <th>Open</th>\n",
              "      <th>High</th>\n",
              "      <th>Low</th>\n",
              "      <th>Close</th>\n",
              "      <th>Volume</th>\n",
              "    </tr>\n",
              "    <tr>\n",
              "      <th>Date</th>\n",
              "      <th></th>\n",
              "      <th></th>\n",
              "      <th></th>\n",
              "      <th></th>\n",
              "      <th></th>\n",
              "    </tr>\n",
              "  </thead>\n",
              "  <tbody>\n",
              "    <tr>\n",
              "      <th>2017-03-31</th>\n",
              "      <td>143.72</td>\n",
              "      <td>144.27</td>\n",
              "      <td>143.01</td>\n",
              "      <td>143.66</td>\n",
              "      <td>19661651</td>\n",
              "    </tr>\n",
              "    <tr>\n",
              "      <th>2017-03-30</th>\n",
              "      <td>144.19</td>\n",
              "      <td>144.50</td>\n",
              "      <td>143.50</td>\n",
              "      <td>143.93</td>\n",
              "      <td>21207252</td>\n",
              "    </tr>\n",
              "    <tr>\n",
              "      <th>2017-03-29</th>\n",
              "      <td>143.68</td>\n",
              "      <td>144.49</td>\n",
              "      <td>143.19</td>\n",
              "      <td>144.12</td>\n",
              "      <td>29189955</td>\n",
              "    </tr>\n",
              "    <tr>\n",
              "      <th>2017-03-28</th>\n",
              "      <td>140.91</td>\n",
              "      <td>144.04</td>\n",
              "      <td>140.62</td>\n",
              "      <td>143.80</td>\n",
              "      <td>33374805</td>\n",
              "    </tr>\n",
              "    <tr>\n",
              "      <th>2017-03-27</th>\n",
              "      <td>139.39</td>\n",
              "      <td>141.22</td>\n",
              "      <td>138.62</td>\n",
              "      <td>140.88</td>\n",
              "      <td>23575094</td>\n",
              "    </tr>\n",
              "    <tr>\n",
              "      <th>2017-03-24</th>\n",
              "      <td>141.50</td>\n",
              "      <td>141.74</td>\n",
              "      <td>140.35</td>\n",
              "      <td>140.64</td>\n",
              "      <td>22395563</td>\n",
              "    </tr>\n",
              "    <tr>\n",
              "      <th>2017-03-23</th>\n",
              "      <td>141.26</td>\n",
              "      <td>141.58</td>\n",
              "      <td>140.61</td>\n",
              "      <td>140.92</td>\n",
              "      <td>20346301</td>\n",
              "    </tr>\n",
              "    <tr>\n",
              "      <th>2017-03-22</th>\n",
              "      <td>139.84</td>\n",
              "      <td>141.60</td>\n",
              "      <td>139.76</td>\n",
              "      <td>141.42</td>\n",
              "      <td>25860165</td>\n",
              "    </tr>\n",
              "    <tr>\n",
              "      <th>2017-03-21</th>\n",
              "      <td>142.11</td>\n",
              "      <td>142.80</td>\n",
              "      <td>139.73</td>\n",
              "      <td>139.84</td>\n",
              "      <td>39529912</td>\n",
              "    </tr>\n",
              "    <tr>\n",
              "      <th>2017-03-20</th>\n",
              "      <td>140.40</td>\n",
              "      <td>141.50</td>\n",
              "      <td>140.23</td>\n",
              "      <td>141.46</td>\n",
              "      <td>21542038</td>\n",
              "    </tr>\n",
              "    <tr>\n",
              "      <th>2017-03-17</th>\n",
              "      <td>141.00</td>\n",
              "      <td>141.00</td>\n",
              "      <td>139.89</td>\n",
              "      <td>139.99</td>\n",
              "      <td>43884952</td>\n",
              "    </tr>\n",
              "    <tr>\n",
              "      <th>2017-03-16</th>\n",
              "      <td>140.72</td>\n",
              "      <td>141.02</td>\n",
              "      <td>140.26</td>\n",
              "      <td>140.69</td>\n",
              "      <td>19231998</td>\n",
              "    </tr>\n",
              "    <tr>\n",
              "      <th>2017-03-15</th>\n",
              "      <td>139.41</td>\n",
              "      <td>140.75</td>\n",
              "      <td>139.02</td>\n",
              "      <td>140.46</td>\n",
              "      <td>25691774</td>\n",
              "    </tr>\n",
              "    <tr>\n",
              "      <th>2017-03-14</th>\n",
              "      <td>139.30</td>\n",
              "      <td>139.65</td>\n",
              "      <td>138.84</td>\n",
              "      <td>138.99</td>\n",
              "      <td>15309065</td>\n",
              "    </tr>\n",
              "    <tr>\n",
              "      <th>2017-03-13</th>\n",
              "      <td>138.85</td>\n",
              "      <td>139.43</td>\n",
              "      <td>138.82</td>\n",
              "      <td>139.20</td>\n",
              "      <td>17421717</td>\n",
              "    </tr>\n",
              "    <tr>\n",
              "      <th>2017-03-10</th>\n",
              "      <td>139.25</td>\n",
              "      <td>139.36</td>\n",
              "      <td>138.64</td>\n",
              "      <td>139.14</td>\n",
              "      <td>19612801</td>\n",
              "    </tr>\n",
              "    <tr>\n",
              "      <th>2017-03-09</th>\n",
              "      <td>138.74</td>\n",
              "      <td>138.79</td>\n",
              "      <td>137.05</td>\n",
              "      <td>138.68</td>\n",
              "      <td>22155904</td>\n",
              "    </tr>\n",
              "    <tr>\n",
              "      <th>2017-03-08</th>\n",
              "      <td>138.95</td>\n",
              "      <td>139.80</td>\n",
              "      <td>138.82</td>\n",
              "      <td>139.00</td>\n",
              "      <td>18707236</td>\n",
              "    </tr>\n",
              "    <tr>\n",
              "      <th>2017-03-07</th>\n",
              "      <td>139.06</td>\n",
              "      <td>139.98</td>\n",
              "      <td>138.79</td>\n",
              "      <td>139.52</td>\n",
              "      <td>17446297</td>\n",
              "    </tr>\n",
              "    <tr>\n",
              "      <th>2017-03-06</th>\n",
              "      <td>139.36</td>\n",
              "      <td>139.77</td>\n",
              "      <td>138.60</td>\n",
              "      <td>139.34</td>\n",
              "      <td>21750044</td>\n",
              "    </tr>\n",
              "    <tr>\n",
              "      <th>2017-03-03</th>\n",
              "      <td>138.78</td>\n",
              "      <td>139.83</td>\n",
              "      <td>138.59</td>\n",
              "      <td>139.78</td>\n",
              "      <td>21571121</td>\n",
              "    </tr>\n",
              "    <tr>\n",
              "      <th>2017-03-02</th>\n",
              "      <td>140.00</td>\n",
              "      <td>140.28</td>\n",
              "      <td>138.76</td>\n",
              "      <td>138.96</td>\n",
              "      <td>26210984</td>\n",
              "    </tr>\n",
              "    <tr>\n",
              "      <th>2017-03-01</th>\n",
              "      <td>137.89</td>\n",
              "      <td>140.15</td>\n",
              "      <td>137.60</td>\n",
              "      <td>139.79</td>\n",
              "      <td>36414585</td>\n",
              "    </tr>\n",
              "  </tbody>\n",
              "</table>\n",
              "</div>"
            ],
            "text/plain": [
              "              Open    High     Low   Close    Volume\n",
              "Date                                                \n",
              "2017-03-31  143.72  144.27  143.01  143.66  19661651\n",
              "2017-03-30  144.19  144.50  143.50  143.93  21207252\n",
              "2017-03-29  143.68  144.49  143.19  144.12  29189955\n",
              "2017-03-28  140.91  144.04  140.62  143.80  33374805\n",
              "2017-03-27  139.39  141.22  138.62  140.88  23575094\n",
              "2017-03-24  141.50  141.74  140.35  140.64  22395563\n",
              "2017-03-23  141.26  141.58  140.61  140.92  20346301\n",
              "2017-03-22  139.84  141.60  139.76  141.42  25860165\n",
              "2017-03-21  142.11  142.80  139.73  139.84  39529912\n",
              "2017-03-20  140.40  141.50  140.23  141.46  21542038\n",
              "2017-03-17  141.00  141.00  139.89  139.99  43884952\n",
              "2017-03-16  140.72  141.02  140.26  140.69  19231998\n",
              "2017-03-15  139.41  140.75  139.02  140.46  25691774\n",
              "2017-03-14  139.30  139.65  138.84  138.99  15309065\n",
              "2017-03-13  138.85  139.43  138.82  139.20  17421717\n",
              "2017-03-10  139.25  139.36  138.64  139.14  19612801\n",
              "2017-03-09  138.74  138.79  137.05  138.68  22155904\n",
              "2017-03-08  138.95  139.80  138.82  139.00  18707236\n",
              "2017-03-07  139.06  139.98  138.79  139.52  17446297\n",
              "2017-03-06  139.36  139.77  138.60  139.34  21750044\n",
              "2017-03-03  138.78  139.83  138.59  139.78  21571121\n",
              "2017-03-02  140.00  140.28  138.76  138.96  26210984\n",
              "2017-03-01  137.89  140.15  137.60  139.79  36414585"
            ]
          },
          "metadata": {
            "tags": []
          },
          "execution_count": 11
        }
      ]
    },
    {
      "cell_type": "markdown",
      "metadata": {
        "id": "TTYHvfX0R8QO"
      },
      "source": [
        "To find average price of stock of a month or day:"
      ]
    },
    {
      "cell_type": "code",
      "metadata": {
        "colab": {
          "base_uri": "https://localhost:8080/"
        },
        "id": "2Za2GxBiSEAB",
        "outputId": "e9955555-8318-4262-c36b-d8ac9f70cc05"
      },
      "source": [
        "df[\"2017-03\"].Close.mean()"
      ],
      "execution_count": null,
      "outputs": [
        {
          "output_type": "execute_result",
          "data": {
            "text/plain": [
              "140.6178260869565"
            ]
          },
          "metadata": {
            "tags": []
          },
          "execution_count": 15
        }
      ]
    },
    {
      "cell_type": "code",
      "metadata": {
        "colab": {
          "base_uri": "https://localhost:8080/"
        },
        "id": "OI9H0qGnSXCO",
        "outputId": "c673fffe-402b-4d1b-e25a-8aca3e3b2e7e"
      },
      "source": [
        "df[\"2017-03-30\"].Close.mean()"
      ],
      "execution_count": null,
      "outputs": [
        {
          "output_type": "execute_result",
          "data": {
            "text/plain": [
              "143.93"
            ]
          },
          "metadata": {
            "tags": []
          },
          "execution_count": 16
        }
      ]
    },
    {
      "cell_type": "code",
      "metadata": {
        "colab": {
          "base_uri": "https://localhost:8080/",
          "height": 348
        },
        "id": "svo-bGGpSYi9",
        "outputId": "673a8cc0-541e-4cde-9444-1d20fced1b6e"
      },
      "source": [
        "df[\"2017-03-30\":\"2017-03-20\"] #use : to specify range"
      ],
      "execution_count": null,
      "outputs": [
        {
          "output_type": "execute_result",
          "data": {
            "text/html": [
              "<div>\n",
              "<style scoped>\n",
              "    .dataframe tbody tr th:only-of-type {\n",
              "        vertical-align: middle;\n",
              "    }\n",
              "\n",
              "    .dataframe tbody tr th {\n",
              "        vertical-align: top;\n",
              "    }\n",
              "\n",
              "    .dataframe thead th {\n",
              "        text-align: right;\n",
              "    }\n",
              "</style>\n",
              "<table border=\"1\" class=\"dataframe\">\n",
              "  <thead>\n",
              "    <tr style=\"text-align: right;\">\n",
              "      <th></th>\n",
              "      <th>Open</th>\n",
              "      <th>High</th>\n",
              "      <th>Low</th>\n",
              "      <th>Close</th>\n",
              "      <th>Volume</th>\n",
              "    </tr>\n",
              "    <tr>\n",
              "      <th>Date</th>\n",
              "      <th></th>\n",
              "      <th></th>\n",
              "      <th></th>\n",
              "      <th></th>\n",
              "      <th></th>\n",
              "    </tr>\n",
              "  </thead>\n",
              "  <tbody>\n",
              "    <tr>\n",
              "      <th>2017-03-30</th>\n",
              "      <td>144.19</td>\n",
              "      <td>144.50</td>\n",
              "      <td>143.50</td>\n",
              "      <td>143.93</td>\n",
              "      <td>21207252</td>\n",
              "    </tr>\n",
              "    <tr>\n",
              "      <th>2017-03-29</th>\n",
              "      <td>143.68</td>\n",
              "      <td>144.49</td>\n",
              "      <td>143.19</td>\n",
              "      <td>144.12</td>\n",
              "      <td>29189955</td>\n",
              "    </tr>\n",
              "    <tr>\n",
              "      <th>2017-03-28</th>\n",
              "      <td>140.91</td>\n",
              "      <td>144.04</td>\n",
              "      <td>140.62</td>\n",
              "      <td>143.80</td>\n",
              "      <td>33374805</td>\n",
              "    </tr>\n",
              "    <tr>\n",
              "      <th>2017-03-27</th>\n",
              "      <td>139.39</td>\n",
              "      <td>141.22</td>\n",
              "      <td>138.62</td>\n",
              "      <td>140.88</td>\n",
              "      <td>23575094</td>\n",
              "    </tr>\n",
              "    <tr>\n",
              "      <th>2017-03-24</th>\n",
              "      <td>141.50</td>\n",
              "      <td>141.74</td>\n",
              "      <td>140.35</td>\n",
              "      <td>140.64</td>\n",
              "      <td>22395563</td>\n",
              "    </tr>\n",
              "    <tr>\n",
              "      <th>2017-03-23</th>\n",
              "      <td>141.26</td>\n",
              "      <td>141.58</td>\n",
              "      <td>140.61</td>\n",
              "      <td>140.92</td>\n",
              "      <td>20346301</td>\n",
              "    </tr>\n",
              "    <tr>\n",
              "      <th>2017-03-22</th>\n",
              "      <td>139.84</td>\n",
              "      <td>141.60</td>\n",
              "      <td>139.76</td>\n",
              "      <td>141.42</td>\n",
              "      <td>25860165</td>\n",
              "    </tr>\n",
              "    <tr>\n",
              "      <th>2017-03-21</th>\n",
              "      <td>142.11</td>\n",
              "      <td>142.80</td>\n",
              "      <td>139.73</td>\n",
              "      <td>139.84</td>\n",
              "      <td>39529912</td>\n",
              "    </tr>\n",
              "    <tr>\n",
              "      <th>2017-03-20</th>\n",
              "      <td>140.40</td>\n",
              "      <td>141.50</td>\n",
              "      <td>140.23</td>\n",
              "      <td>141.46</td>\n",
              "      <td>21542038</td>\n",
              "    </tr>\n",
              "  </tbody>\n",
              "</table>\n",
              "</div>"
            ],
            "text/plain": [
              "              Open    High     Low   Close    Volume\n",
              "Date                                                \n",
              "2017-03-30  144.19  144.50  143.50  143.93  21207252\n",
              "2017-03-29  143.68  144.49  143.19  144.12  29189955\n",
              "2017-03-28  140.91  144.04  140.62  143.80  33374805\n",
              "2017-03-27  139.39  141.22  138.62  140.88  23575094\n",
              "2017-03-24  141.50  141.74  140.35  140.64  22395563\n",
              "2017-03-23  141.26  141.58  140.61  140.92  20346301\n",
              "2017-03-22  139.84  141.60  139.76  141.42  25860165\n",
              "2017-03-21  142.11  142.80  139.73  139.84  39529912\n",
              "2017-03-20  140.40  141.50  140.23  141.46  21542038"
            ]
          },
          "metadata": {
            "tags": []
          },
          "execution_count": 26
        }
      ]
    },
    {
      "cell_type": "code",
      "metadata": {
        "colab": {
          "base_uri": "https://localhost:8080/",
          "height": 295
        },
        "id": "Aeh8LzkoVQAm",
        "outputId": "c16bc487-e8e5-43d2-a719-1c312d83c3ee"
      },
      "source": [
        "df.Close.plot()"
      ],
      "execution_count": null,
      "outputs": [
        {
          "output_type": "execute_result",
          "data": {
            "text/plain": [
              "<matplotlib.axes._subplots.AxesSubplot at 0x7ff0014e9810>"
            ]
          },
          "metadata": {
            "tags": []
          },
          "execution_count": 30
        },
        {
          "output_type": "display_data",
          "data": {
            "image/png": "[encoded data removed]",
            "text/plain": [
              "<Figure size 432x288 with 1 Axes>"
            ]
          },
          "metadata": {
            "tags": [],
            "needs_background": "light"
          }
        }
      ]
    },
    {
      "cell_type": "markdown",
      "metadata": {
        "id": "WHOCnK9xTFOY"
      },
      "source": [
        "# Resampling:\n",
        "\n",
        "This is useful for plotting because it groups the data. if you plot straight from the df it will plot every data point, e.g the line above is very granular. "
      ]
    },
    {
      "cell_type": "code",
      "metadata": {
        "colab": {
          "base_uri": "https://localhost:8080/"
        },
        "id": "ICxWnx5-TI8t",
        "outputId": "75ca2208-ebd4-4d83-891a-b42541efc127"
      },
      "source": [
        "df.Close.resample('M').mean()\n",
        "\n",
        "#specify close column, resample it based on 'M' (month), and find mean"
      ],
      "execution_count": null,
      "outputs": [
        {
          "output_type": "execute_result",
          "data": {
            "text/plain": [
              "Date\n",
              "2016-07-31     99.473333\n",
              "2016-08-31    107.665217\n",
              "2016-09-30    110.857143\n",
              "2016-10-31    115.707143\n",
              "2016-11-30    110.154286\n",
              "2016-12-31    114.335714\n",
              "2017-01-31    119.570000\n",
              "2017-02-28    133.713684\n",
              "2017-03-31    140.617826\n",
              "2017-04-30    142.886842\n",
              "2017-05-31    152.227727\n",
              "2017-06-30    147.831364\n",
              "2017-07-31    143.625000\n",
              "Freq: M, Name: Close, dtype: float64"
            ]
          },
          "metadata": {
            "tags": []
          },
          "execution_count": 27
        }
      ]
    },
    {
      "cell_type": "code",
      "metadata": {
        "colab": {
          "base_uri": "https://localhost:8080/"
        },
        "id": "6IH5JjfGTe32",
        "outputId": "a90a437d-70c5-4d80-df76-bab94884555b"
      },
      "source": [
        "%matplotlib inline #import matplotlib to .plot() the series;\n",
        "\n",
        "df.Close.resample('M').mean().plot()\n"
      ],
      "execution_count": null,
      "outputs": [
        {
          "output_type": "stream",
          "text": [
            "UsageError: unrecognized arguments: #import matplotlib to .plot() the series;\n"
          ],
          "name": "stderr"
        }
      ]
    },
    {
      "cell_type": "markdown",
      "metadata": {
        "id": "eIjrNIPHT32S"
      },
      "source": [
        "Frequencies are called offset aliases, string aliases for time periods:\n",
        "Offset aliases\n",
        "A number of string aliases are given to useful common time series frequencies. We will refer to these aliases as offset aliases.\n",
        "\n",
        "\n",
        "\n",
        "B - business day frequency\n",
        "\n",
        "C -custom business day frequency\n",
        "\n",
        "D - calendar day frequency\n",
        "\n",
        "W - weekly frequency\n",
        "\n",
        "M - month end frequency\n",
        "\n",
        "SM - semi-month end frequency (15th and end of month)\n",
        "\n",
        "BM -business month end frequency\n",
        "\n",
        "CBM - custom business month end frequency\n",
        "\n",
        "MS - month start frequency\n",
        "\n",
        "SMS - semi-month start frequency (1st and 15th)\n",
        "\n",
        "BMS - business month start frequency\n",
        "\n",
        "CBMS - custom business month start frequency\n",
        "\n",
        "Q - quarter end frequency\n",
        "\n",
        "BQ - business quarter end frequency\n",
        "\n",
        "QS - quarter start frequency\n",
        "\n",
        "BQS - business quarter start frequency\n",
        "\n",
        "A, Y year end frequency\n",
        "\n",
        "BA, BY business year end frequency\n",
        "\n",
        "AS, YS - year start frequency\n",
        "\n",
        "BAS, BYS - business year start frequency\n",
        "\n",
        "BH - business hour frequency\n",
        "\n",
        "H - hourly frequency\n",
        "\n",
        "T, min - minutely frequency\n",
        "\n",
        "S - secondly frequency\n",
        "\n",
        "L, ms - milliseconds\n",
        "\n",
        "U, us - microseconds\n",
        "\n",
        "N - nanoseconds"
      ]
    },
    {
      "cell_type": "code",
      "metadata": {
        "colab": {
          "base_uri": "https://localhost:8080/",
          "height": 392
        },
        "id": "rLLLVI3hUuGC",
        "outputId": "323bd572-9ba5-41f2-c663-f6ad633b3391"
      },
      "source": [
        "df.Close.resample('Q').mean().plot(kind=\"bar\") #quarterly bar plot"
      ],
      "execution_count": null,
      "outputs": [
        {
          "output_type": "execute_result",
          "data": {
            "text/plain": [
              "<matplotlib.axes._subplots.AxesSubplot at 0x7ff0014504d0>"
            ]
          },
          "metadata": {
            "tags": []
          },
          "execution_count": 47
        },
        {
          "output_type": "display_data",
          "data": {
            "image/png": "[encoded data removed]",
            "text/plain": [
              "<Figure size 432x288 with 1 Axes>"
            ]
          },
          "metadata": {
            "tags": [],
            "needs_background": "light"
          }
        }
      ]
    }
  ]
}