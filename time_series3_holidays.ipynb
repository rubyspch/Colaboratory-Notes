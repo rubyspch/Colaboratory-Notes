{
  "nbformat": 4,
  "nbformat_minor": 0,
  "metadata": {
    "colab": {
      "name": "Untitled7.ipynb",
      "provenance": [],
      "collapsed_sections": [],
      "authorship_tag": "ABX9TyOR0jz8j3q/LKcTMd/ipWzX",
      "include_colab_link": true
    },
    "kernelspec": {
      "name": "python3",
      "display_name": "Python 3"
    },
    "language_info": {
      "name": "python"
    }
  },
  "cells": [
    {
      "cell_type": "markdown",
      "metadata": {
        "id": "view-in-github",
        "colab_type": "text"
      },
      "source": [
        "<a href=\"https://colab.research.google.com/github/rubyspch/Colaboratory-Notes/blob/main/time_series3_holidays.ipynb\" target=\"_parent\"><img src=\"https://colab.research.google.com/assets/colab-badge.svg\" alt=\"Open In Colab\"/></a>"
      ]
    },
    {
      "cell_type": "code",
      "metadata": {
        "colab": {
          "base_uri": "https://localhost:8080/",
          "height": 498
        },
        "id": "AfZxS9GmiRoq",
        "outputId": "3626e2eb-fdc5-441e-8ec1-4b8d32b4044c"
      },
      "source": [
        "import pandas as pd\n",
        "df= pd.read_csv(\"/content/july11-29 - Sheet1.csv\") #data from july 2016\n",
        "df"
      ],
      "execution_count": 8,
      "outputs": [
        {
          "output_type": "execute_result",
          "data": {
            "text/html": [
              "<div>\n",
              "<style scoped>\n",
              "    .dataframe tbody tr th:only-of-type {\n",
              "        vertical-align: middle;\n",
              "    }\n",
              "\n",
              "    .dataframe tbody tr th {\n",
              "        vertical-align: top;\n",
              "    }\n",
              "\n",
              "    .dataframe thead th {\n",
              "        text-align: right;\n",
              "    }\n",
              "</style>\n",
              "<table border=\"1\" class=\"dataframe\">\n",
              "  <thead>\n",
              "    <tr style=\"text-align: right;\">\n",
              "      <th></th>\n",
              "      <th>Open</th>\n",
              "      <th>High</th>\n",
              "      <th>Low</th>\n",
              "      <th>Close</th>\n",
              "      <th>Volume</th>\n",
              "    </tr>\n",
              "  </thead>\n",
              "  <tbody>\n",
              "    <tr>\n",
              "      <th>0</th>\n",
              "      <td>96.75</td>\n",
              "      <td>97.65</td>\n",
              "      <td>96.73</td>\n",
              "      <td>96.98</td>\n",
              "      <td>23794945</td>\n",
              "    </tr>\n",
              "    <tr>\n",
              "      <th>1</th>\n",
              "      <td>97.17</td>\n",
              "      <td>97.70</td>\n",
              "      <td>97.12</td>\n",
              "      <td>97.42</td>\n",
              "      <td>24167463</td>\n",
              "    </tr>\n",
              "    <tr>\n",
              "      <th>2</th>\n",
              "      <td>97.41</td>\n",
              "      <td>97.67</td>\n",
              "      <td>96.84</td>\n",
              "      <td>96.87</td>\n",
              "      <td>25892171</td>\n",
              "    </tr>\n",
              "    <tr>\n",
              "      <th>3</th>\n",
              "      <td>97.39</td>\n",
              "      <td>98.99</td>\n",
              "      <td>97.32</td>\n",
              "      <td>98.79</td>\n",
              "      <td>38918997</td>\n",
              "    </tr>\n",
              "    <tr>\n",
              "      <th>4</th>\n",
              "      <td>98.92</td>\n",
              "      <td>99.30</td>\n",
              "      <td>98.50</td>\n",
              "      <td>98.78</td>\n",
              "      <td>30136990</td>\n",
              "    </tr>\n",
              "    <tr>\n",
              "      <th>5</th>\n",
              "      <td>98.70</td>\n",
              "      <td>100.13</td>\n",
              "      <td>98.60</td>\n",
              "      <td>99.83</td>\n",
              "      <td>36493867</td>\n",
              "    </tr>\n",
              "    <tr>\n",
              "      <th>6</th>\n",
              "      <td>99.56</td>\n",
              "      <td>100.00</td>\n",
              "      <td>99.34</td>\n",
              "      <td>99.87</td>\n",
              "      <td>23779924</td>\n",
              "    </tr>\n",
              "    <tr>\n",
              "      <th>7</th>\n",
              "      <td>100.00</td>\n",
              "      <td>100.46</td>\n",
              "      <td>99.74</td>\n",
              "      <td>99.96</td>\n",
              "      <td>26275968</td>\n",
              "    </tr>\n",
              "    <tr>\n",
              "      <th>8</th>\n",
              "      <td>99.83</td>\n",
              "      <td>101.00</td>\n",
              "      <td>99.13</td>\n",
              "      <td>99.43</td>\n",
              "      <td>32702028</td>\n",
              "    </tr>\n",
              "    <tr>\n",
              "      <th>9</th>\n",
              "      <td>99.26</td>\n",
              "      <td>99.30</td>\n",
              "      <td>98.31</td>\n",
              "      <td>98.66</td>\n",
              "      <td>28313669</td>\n",
              "    </tr>\n",
              "    <tr>\n",
              "      <th>10</th>\n",
              "      <td>98.25</td>\n",
              "      <td>98.84</td>\n",
              "      <td>96.92</td>\n",
              "      <td>97.34</td>\n",
              "      <td>40382921</td>\n",
              "    </tr>\n",
              "    <tr>\n",
              "      <th>11</th>\n",
              "      <td>96.82</td>\n",
              "      <td>97.97</td>\n",
              "      <td>96.42</td>\n",
              "      <td>96.67</td>\n",
              "      <td>56239822</td>\n",
              "    </tr>\n",
              "    <tr>\n",
              "      <th>12</th>\n",
              "      <td>104.26</td>\n",
              "      <td>104.35</td>\n",
              "      <td>102.75</td>\n",
              "      <td>102.95</td>\n",
              "      <td>92344820</td>\n",
              "    </tr>\n",
              "    <tr>\n",
              "      <th>13</th>\n",
              "      <td>102.83</td>\n",
              "      <td>104.45</td>\n",
              "      <td>102.82</td>\n",
              "      <td>104.34</td>\n",
              "      <td>39869839</td>\n",
              "    </tr>\n",
              "    <tr>\n",
              "      <th>14</th>\n",
              "      <td>104.19</td>\n",
              "      <td>104.55</td>\n",
              "      <td>103.68</td>\n",
              "      <td>104.21</td>\n",
              "      <td>27733688</td>\n",
              "    </tr>\n",
              "  </tbody>\n",
              "</table>\n",
              "</div>"
            ],
            "text/plain": [
              "      Open    High     Low   Close    Volume\n",
              "0    96.75   97.65   96.73   96.98  23794945\n",
              "1    97.17   97.70   97.12   97.42  24167463\n",
              "2    97.41   97.67   96.84   96.87  25892171\n",
              "3    97.39   98.99   97.32   98.79  38918997\n",
              "4    98.92   99.30   98.50   98.78  30136990\n",
              "5    98.70  100.13   98.60   99.83  36493867\n",
              "6    99.56  100.00   99.34   99.87  23779924\n",
              "7   100.00  100.46   99.74   99.96  26275968\n",
              "8    99.83  101.00   99.13   99.43  32702028\n",
              "9    99.26   99.30   98.31   98.66  28313669\n",
              "10   98.25   98.84   96.92   97.34  40382921\n",
              "11   96.82   97.97   96.42   96.67  56239822\n",
              "12  104.26  104.35  102.75  102.95  92344820\n",
              "13  102.83  104.45  102.82  104.34  39869839\n",
              "14  104.19  104.55  103.68  104.21  27733688"
            ]
          },
          "metadata": {
            "tags": []
          },
          "execution_count": 8
        }
      ]
    },
    {
      "cell_type": "code",
      "metadata": {
        "colab": {
          "base_uri": "https://localhost:8080/"
        },
        "id": "9ORsH9SGkQOO",
        "outputId": "fcb2e5f5-b49e-4857-8b74-ae42d63d524b"
      },
      "source": [
        "dates=pd.date_range(start=\"7/1/2016\", end=\"7/22/2016\", freq=\"B\")\n",
        "dates #this includes 4th july, but this is a holiday and they don't trade, so need to upload us holiday dates..."
      ],
      "execution_count": 10,
      "outputs": [
        {
          "output_type": "execute_result",
          "data": {
            "text/plain": [
              "DatetimeIndex(['2016-07-01', '2016-07-04', '2016-07-05', '2016-07-06',\n",
              "               '2016-07-07', '2016-07-08', '2016-07-11', '2016-07-12',\n",
              "               '2016-07-13', '2016-07-14', '2016-07-15', '2016-07-18',\n",
              "               '2016-07-19', '2016-07-20', '2016-07-21', '2016-07-22'],\n",
              "              dtype='datetime64[ns]', freq='B')"
            ]
          },
          "metadata": {
            "tags": []
          },
          "execution_count": 10
        }
      ]
    },
    {
      "cell_type": "code",
      "metadata": {
        "colab": {
          "base_uri": "https://localhost:8080/"
        },
        "id": "9L1R_I3ZlHvB",
        "outputId": "e9c16211-0a17-46ee-92e8-08b7b780b4c8"
      },
      "source": [
        "from pandas.tseries.holiday import USFederalHolidayCalendar\n",
        "from pandas.tseries.offsets import CustomBusinessDay\n",
        "\n",
        "usb=CustomBusinessDay(calendar=USFederalHolidayCalendar()) #makes usb the freq to use...\n",
        "usb"
      ],
      "execution_count": 9,
      "outputs": [
        {
          "output_type": "execute_result",
          "data": {
            "text/plain": [
              "<CustomBusinessDay>"
            ]
          },
          "metadata": {
            "tags": []
          },
          "execution_count": 9
        }
      ]
    },
    {
      "cell_type": "code",
      "metadata": {
        "id": "_rbiN5eMly-R"
      },
      "source": [
        "july_range=pd.date_range(start=\"7/1/2016\", end=\"7/22/2016\", freq=usb)\n",
        "# you can now add this to the july data as it excludes holidyas and weekends"
      ],
      "execution_count": 15,
      "outputs": []
    },
    {
      "cell_type": "code",
      "metadata": {
        "colab": {
          "base_uri": "https://localhost:8080/",
          "height": 498
        },
        "id": "XBesQax8ldVS",
        "outputId": "c1c528df-59cd-493e-dfa9-0eeeec43fa60"
      },
      "source": [
        "df.set_index(july_range, inplace=True)\n",
        "df"
      ],
      "execution_count": 17,
      "outputs": [
        {
          "output_type": "execute_result",
          "data": {
            "text/html": [
              "<div>\n",
              "<style scoped>\n",
              "    .dataframe tbody tr th:only-of-type {\n",
              "        vertical-align: middle;\n",
              "    }\n",
              "\n",
              "    .dataframe tbody tr th {\n",
              "        vertical-align: top;\n",
              "    }\n",
              "\n",
              "    .dataframe thead th {\n",
              "        text-align: right;\n",
              "    }\n",
              "</style>\n",
              "<table border=\"1\" class=\"dataframe\">\n",
              "  <thead>\n",
              "    <tr style=\"text-align: right;\">\n",
              "      <th></th>\n",
              "      <th>Open</th>\n",
              "      <th>High</th>\n",
              "      <th>Low</th>\n",
              "      <th>Close</th>\n",
              "      <th>Volume</th>\n",
              "    </tr>\n",
              "  </thead>\n",
              "  <tbody>\n",
              "    <tr>\n",
              "      <th>2016-07-01</th>\n",
              "      <td>96.75</td>\n",
              "      <td>97.65</td>\n",
              "      <td>96.73</td>\n",
              "      <td>96.98</td>\n",
              "      <td>23794945</td>\n",
              "    </tr>\n",
              "    <tr>\n",
              "      <th>2016-07-05</th>\n",
              "      <td>97.17</td>\n",
              "      <td>97.70</td>\n",
              "      <td>97.12</td>\n",
              "      <td>97.42</td>\n",
              "      <td>24167463</td>\n",
              "    </tr>\n",
              "    <tr>\n",
              "      <th>2016-07-06</th>\n",
              "      <td>97.41</td>\n",
              "      <td>97.67</td>\n",
              "      <td>96.84</td>\n",
              "      <td>96.87</td>\n",
              "      <td>25892171</td>\n",
              "    </tr>\n",
              "    <tr>\n",
              "      <th>2016-07-07</th>\n",
              "      <td>97.39</td>\n",
              "      <td>98.99</td>\n",
              "      <td>97.32</td>\n",
              "      <td>98.79</td>\n",
              "      <td>38918997</td>\n",
              "    </tr>\n",
              "    <tr>\n",
              "      <th>2016-07-08</th>\n",
              "      <td>98.92</td>\n",
              "      <td>99.30</td>\n",
              "      <td>98.50</td>\n",
              "      <td>98.78</td>\n",
              "      <td>30136990</td>\n",
              "    </tr>\n",
              "    <tr>\n",
              "      <th>2016-07-11</th>\n",
              "      <td>98.70</td>\n",
              "      <td>100.13</td>\n",
              "      <td>98.60</td>\n",
              "      <td>99.83</td>\n",
              "      <td>36493867</td>\n",
              "    </tr>\n",
              "    <tr>\n",
              "      <th>2016-07-12</th>\n",
              "      <td>99.56</td>\n",
              "      <td>100.00</td>\n",
              "      <td>99.34</td>\n",
              "      <td>99.87</td>\n",
              "      <td>23779924</td>\n",
              "    </tr>\n",
              "    <tr>\n",
              "      <th>2016-07-13</th>\n",
              "      <td>100.00</td>\n",
              "      <td>100.46</td>\n",
              "      <td>99.74</td>\n",
              "      <td>99.96</td>\n",
              "      <td>26275968</td>\n",
              "    </tr>\n",
              "    <tr>\n",
              "      <th>2016-07-14</th>\n",
              "      <td>99.83</td>\n",
              "      <td>101.00</td>\n",
              "      <td>99.13</td>\n",
              "      <td>99.43</td>\n",
              "      <td>32702028</td>\n",
              "    </tr>\n",
              "    <tr>\n",
              "      <th>2016-07-15</th>\n",
              "      <td>99.26</td>\n",
              "      <td>99.30</td>\n",
              "      <td>98.31</td>\n",
              "      <td>98.66</td>\n",
              "      <td>28313669</td>\n",
              "    </tr>\n",
              "    <tr>\n",
              "      <th>2016-07-18</th>\n",
              "      <td>98.25</td>\n",
              "      <td>98.84</td>\n",
              "      <td>96.92</td>\n",
              "      <td>97.34</td>\n",
              "      <td>40382921</td>\n",
              "    </tr>\n",
              "    <tr>\n",
              "      <th>2016-07-19</th>\n",
              "      <td>96.82</td>\n",
              "      <td>97.97</td>\n",
              "      <td>96.42</td>\n",
              "      <td>96.67</td>\n",
              "      <td>56239822</td>\n",
              "    </tr>\n",
              "    <tr>\n",
              "      <th>2016-07-20</th>\n",
              "      <td>104.26</td>\n",
              "      <td>104.35</td>\n",
              "      <td>102.75</td>\n",
              "      <td>102.95</td>\n",
              "      <td>92344820</td>\n",
              "    </tr>\n",
              "    <tr>\n",
              "      <th>2016-07-21</th>\n",
              "      <td>102.83</td>\n",
              "      <td>104.45</td>\n",
              "      <td>102.82</td>\n",
              "      <td>104.34</td>\n",
              "      <td>39869839</td>\n",
              "    </tr>\n",
              "    <tr>\n",
              "      <th>2016-07-22</th>\n",
              "      <td>104.19</td>\n",
              "      <td>104.55</td>\n",
              "      <td>103.68</td>\n",
              "      <td>104.21</td>\n",
              "      <td>27733688</td>\n",
              "    </tr>\n",
              "  </tbody>\n",
              "</table>\n",
              "</div>"
            ],
            "text/plain": [
              "              Open    High     Low   Close    Volume\n",
              "2016-07-01   96.75   97.65   96.73   96.98  23794945\n",
              "2016-07-05   97.17   97.70   97.12   97.42  24167463\n",
              "2016-07-06   97.41   97.67   96.84   96.87  25892171\n",
              "2016-07-07   97.39   98.99   97.32   98.79  38918997\n",
              "2016-07-08   98.92   99.30   98.50   98.78  30136990\n",
              "2016-07-11   98.70  100.13   98.60   99.83  36493867\n",
              "2016-07-12   99.56  100.00   99.34   99.87  23779924\n",
              "2016-07-13  100.00  100.46   99.74   99.96  26275968\n",
              "2016-07-14   99.83  101.00   99.13   99.43  32702028\n",
              "2016-07-15   99.26   99.30   98.31   98.66  28313669\n",
              "2016-07-18   98.25   98.84   96.92   97.34  40382921\n",
              "2016-07-19   96.82   97.97   96.42   96.67  56239822\n",
              "2016-07-20  104.26  104.35  102.75  102.95  92344820\n",
              "2016-07-21  102.83  104.45  102.82  104.34  39869839\n",
              "2016-07-22  104.19  104.55  103.68  104.21  27733688"
            ]
          },
          "metadata": {
            "tags": []
          },
          "execution_count": 17
        }
      ]
    },
    {
      "cell_type": "markdown",
      "metadata": {
        "id": "qxhfKncxmQ4c"
      },
      "source": [
        "pandas library has holidays for US built in as an example, and you can use the class to create a custom holiday calendar:\n",
        "\n",
        "first copy the usfederalcalendar clas from the pandas [github](https://github.com/pandas-dev/pandas/blob/master/pandas/tseries/holiday.py):\n",
        "\n",
        "```\n",
        "class USFederalHolidayCalendar(AbstractHolidayCalendar):\n",
        "    \"\"\"\n",
        "    US Federal Government Holiday Calendar based on rules specified by:\n",
        "    https://www.opm.gov/policy-data-oversight/\n",
        "       snow-dismissal-procedures/federal-holidays/\n",
        "    \"\"\"\n",
        "\n",
        "    rules = [\n",
        "        Holiday(\"New Years Day\", month=1, day=1, observance=nearest_workday),\n",
        "        USMartinLutherKingJr,\n",
        "        USPresidentsDay,\n",
        "        USMemorialDay,\n",
        "        Holiday(\"July 4th\", month=7, day=4, observance=nearest_workday),\n",
        "        USLaborDay,\n",
        "        USColumbusDay,\n",
        "        Holiday(\"Veterans Day\", month=11, day=11, observance=nearest_workday),\n",
        "        USThanksgivingDay,\n",
        "        Holiday(\"Christmas\", month=12, day=25, observance=nearest_workday),\n",
        "    ]\n",
        "```\n",
        "\n"
      ]
    },
    {
      "cell_type": "code",
      "metadata": {
        "colab": {
          "base_uri": "https://localhost:8080/"
        },
        "id": "FUt28Ol9nqkj",
        "outputId": "3fe01a38-5fe2-4864-c4c2-624aa03500a6"
      },
      "source": [
        "#create your birthday as a holiday using this class template: \n",
        "from pandas.tseries.holiday import AbstractHolidayCalendar, nearest_workday, Holiday\n",
        "\n",
        "class myBirthdayCalendar(AbstractHolidayCalendar):\n",
        "    \"\"\"\n",
        "    US Federal Government Holiday Calendar based on rules specified by:\n",
        "    https://www.opm.gov/policy-data-oversight/\n",
        "       snow-dismissal-procedures/federal-holidays/\n",
        "    \"\"\"\n",
        "\n",
        "    rules = [\n",
        "        Holiday(\"Ruby's Birthday\", month=3, day=23) #, observance=nearest_workday),\n",
        "    ]\n",
        "\n",
        "myCal=CustomBusinessDay(calendar=myBirthdayCalendar())\n",
        "myCal #creates an instance of  business calendar"
      ],
      "execution_count": 21,
      "outputs": [
        {
          "output_type": "execute_result",
          "data": {
            "text/plain": [
              "<CustomBusinessDay>"
            ]
          },
          "metadata": {
            "tags": []
          },
          "execution_count": 21
        }
      ]
    },
    {
      "cell_type": "code",
      "metadata": {
        "colab": {
          "base_uri": "https://localhost:8080/"
        },
        "id": "yLdE3WPJoqcC",
        "outputId": "dac06595-bead-487a-8b26-74b46ac188ac"
      },
      "source": [
        "pd.date_range(start=\"03/01/2020\", end=\"03/31/2020\", freq=myCal) #shows a timeseries without 23rd, as that a holiday on the myCal freq"
      ],
      "execution_count": 22,
      "outputs": [
        {
          "output_type": "execute_result",
          "data": {
            "text/plain": [
              "DatetimeIndex(['2020-03-02', '2020-03-03', '2020-03-04', '2020-03-05',\n",
              "               '2020-03-06', '2020-03-09', '2020-03-10', '2020-03-11',\n",
              "               '2020-03-12', '2020-03-13', '2020-03-16', '2020-03-17',\n",
              "               '2020-03-18', '2020-03-19', '2020-03-20', '2020-03-24',\n",
              "               '2020-03-25', '2020-03-26', '2020-03-27', '2020-03-30',\n",
              "               '2020-03-31'],\n",
              "              dtype='datetime64[ns]', freq='C')"
            ]
          },
          "metadata": {
            "tags": []
          },
          "execution_count": 22
        }
      ]
    },
    {
      "cell_type": "markdown",
      "metadata": {
        "id": "Oq2Pb5l5pDaf"
      },
      "source": [
        "to make the holiday observable on the following weekday, or previous friday, comment in the 'observance= nearest_workday' when making the rules for the calendar.\n",
        "\n",
        "More ways to use CustomBusinessDay:"
      ]
    },
    {
      "cell_type": "code",
      "metadata": {
        "colab": {
          "base_uri": "https://localhost:8080/"
        },
        "id": "7axdXBkBpVDu",
        "outputId": "ddb271de-c3d5-4437-b008-c383e13b6bf8"
      },
      "source": [
        "b = CustomBusinessDay(weekmask=\"Sun Mon Tue Wed Thu\") #apply this as freq to create custom weekends\n",
        "pd.date_range(start=\"03/01/2020\", end=\"03/31/2020\", freq=b)"
      ],
      "execution_count": 23,
      "outputs": [
        {
          "output_type": "execute_result",
          "data": {
            "text/plain": [
              "DatetimeIndex(['2020-03-01', '2020-03-02', '2020-03-03', '2020-03-04',\n",
              "               '2020-03-05', '2020-03-08', '2020-03-09', '2020-03-10',\n",
              "               '2020-03-11', '2020-03-12', '2020-03-15', '2020-03-16',\n",
              "               '2020-03-17', '2020-03-18', '2020-03-19', '2020-03-22',\n",
              "               '2020-03-23', '2020-03-24', '2020-03-25', '2020-03-26',\n",
              "               '2020-03-29', '2020-03-30', '2020-03-31'],\n",
              "              dtype='datetime64[ns]', freq='C')"
            ]
          },
          "metadata": {
            "tags": []
          },
          "execution_count": 23
        }
      ]
    },
    {
      "cell_type": "code",
      "metadata": {
        "colab": {
          "base_uri": "https://localhost:8080/"
        },
        "id": "-KvFCjzhq11I",
        "outputId": "f48f7951-d264-413b-bf10-8345a3d9d6c6"
      },
      "source": [
        "c = CustomBusinessDay(weekmask=\"Sun Mon Tue Wed Thu\", holidays=[\"2020-03-23\"]) #add holiday rule to add a holiday to CustomBusinessDay\n",
        "pd.date_range(start=\"03/01/2020\", end=\"03/31/2020\", freq=c)"
      ],
      "execution_count": 24,
      "outputs": [
        {
          "output_type": "execute_result",
          "data": {
            "text/plain": [
              "DatetimeIndex(['2020-03-01', '2020-03-02', '2020-03-03', '2020-03-04',\n",
              "               '2020-03-05', '2020-03-08', '2020-03-09', '2020-03-10',\n",
              "               '2020-03-11', '2020-03-12', '2020-03-15', '2020-03-16',\n",
              "               '2020-03-17', '2020-03-18', '2020-03-19', '2020-03-22',\n",
              "               '2020-03-24', '2020-03-25', '2020-03-26', '2020-03-29',\n",
              "               '2020-03-30', '2020-03-31'],\n",
              "              dtype='datetime64[ns]', freq='C')"
            ]
          },
          "metadata": {
            "tags": []
          },
          "execution_count": 24
        }
      ]
    }
  ]
}