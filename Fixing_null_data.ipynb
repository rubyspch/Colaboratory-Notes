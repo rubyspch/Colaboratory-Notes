{
  "nbformat": 4,
  "nbformat_minor": 0,
  "metadata": {
    "colab": {
      "name": "Fixing_null_data.ipynb",
      "provenance": [],
      "authorship_tag": "ABX9TyOPbuoQw/JVk1/YyXcY+D0u",
      "include_colab_link": true
    },
    "kernelspec": {
      "name": "python3",
      "display_name": "Python 3"
    },
    "language_info": {
      "name": "python"
    }
  },
  "cells": [
    {
      "cell_type": "markdown",
      "metadata": {
        "id": "view-in-github",
        "colab_type": "text"
      },
      "source": [
        "<a href=\"https://colab.research.google.com/github/rubyspch/Colaboratory-Notes/blob/main/Fixing_null_data.ipynb\" target=\"_parent\"><img src=\"https://colab.research.google.com/assets/colab-badge.svg\" alt=\"Open In Colab\"/></a>"
      ]
    },
    {
      "cell_type": "markdown",
      "metadata": {
        "id": "WW6mAD2HWwh_"
      },
      "source": [
        "Cleaning data.\n",
        "What to do with data that is NOT null, there is data there, but it is an invalid response. \n",
        "A number of methods to do this.\n"
      ]
    },
    {
      "cell_type": "code",
      "metadata": {
        "id": "XNOAsTsUWdMK"
      },
      "source": [
        "import numpy as np\n",
        "import pandas as pd"
      ],
      "execution_count": 1,
      "outputs": []
    },
    {
      "cell_type": "code",
      "metadata": {
        "id": "u0zLyz3GX4KV"
      },
      "source": [
        "df = pd.DataFrame({\n",
        "    'Sex': ['M', 'F', 'F', 'D', '?'],\n",
        "    'Age': [29, 30, 24, 290, 25],\n",
        "})"
      ],
      "execution_count": 2,
      "outputs": []
    },
    {
      "cell_type": "markdown",
      "metadata": {
        "id": "zCkaHX4hX60N"
      },
      "source": [
        "Sex here is defined as m or f. \n",
        "Some values are not m or f.\n",
        "You can find these with:"
      ]
    },
    {
      "cell_type": "code",
      "metadata": {
        "colab": {
          "base_uri": "https://localhost:8080/"
        },
        "id": "vRHQtboDYFGr",
        "outputId": "28040ce4-b8eb-43a8-e64f-2136edf9f612"
      },
      "source": [
        "df['Sex'].unique() #this tells you each value given"
      ],
      "execution_count": 3,
      "outputs": [
        {
          "output_type": "execute_result",
          "data": {
            "text/plain": [
              "array(['M', 'F', 'D', '?'], dtype=object)"
            ]
          },
          "metadata": {
            "tags": []
          },
          "execution_count": 3
        }
      ]
    },
    {
      "cell_type": "code",
      "metadata": {
        "colab": {
          "base_uri": "https://localhost:8080/"
        },
        "id": "7Vivbw8kYOsk",
        "outputId": "2b8284d9-8c1a-414e-a6c1-36fcee52afc8"
      },
      "source": [
        "df['Sex'].value_counts() #this gives you the different values and a count of each"
      ],
      "execution_count": 4,
      "outputs": [
        {
          "output_type": "execute_result",
          "data": {
            "text/plain": [
              "F    2\n",
              "?    1\n",
              "D    1\n",
              "M    1\n",
              "Name: Sex, dtype: int64"
            ]
          },
          "metadata": {
            "tags": []
          },
          "execution_count": 4
        }
      ]
    },
    {
      "cell_type": "markdown",
      "metadata": {
        "id": "MoiYyHc3YbZU"
      },
      "source": [
        "Once you have found them you can fix the problem by replacing them:"
      ]
    },
    {
      "cell_type": "code",
      "metadata": {
        "colab": {
          "base_uri": "https://localhost:8080/"
        },
        "id": "VZ7oGaSnYiTq",
        "outputId": "dcc7092b-f0c3-45c0-edaa-32350c96c970"
      },
      "source": [
        "df['Sex'].replace('D', 'F')"
      ],
      "execution_count": 5,
      "outputs": [
        {
          "output_type": "execute_result",
          "data": {
            "text/plain": [
              "0    M\n",
              "1    F\n",
              "2    F\n",
              "3    F\n",
              "4    ?\n",
              "Name: Sex, dtype: object"
            ]
          },
          "metadata": {
            "tags": []
          },
          "execution_count": 5
        }
      ]
    },
    {
      "cell_type": "code",
      "metadata": {
        "colab": {
          "base_uri": "https://localhost:8080/"
        },
        "id": "eGVE0C9YZpbK",
        "outputId": "f178beea-71b5-4e80-80f3-f61800a063e4"
      },
      "source": [
        "df['Sex'].replace({'D': 'F'}) #replace can be done with a dictionary, this is how you change multiple at once."
      ],
      "execution_count": 7,
      "outputs": [
        {
          "output_type": "execute_result",
          "data": {
            "text/plain": [
              "0    M\n",
              "1    F\n",
              "2    F\n",
              "3    F\n",
              "4    ?\n",
              "Name: Sex, dtype: object"
            ]
          },
          "metadata": {
            "tags": []
          },
          "execution_count": 7
        }
      ]
    },
    {
      "cell_type": "code",
      "metadata": {
        "id": "XWAfEHttZ5Bp"
      },
      "source": [
        "df.replace({\n",
        "    'Sex': {\n",
        "        'D': 'F',\n",
        "        'N': 'M'\n",
        "    },\n",
        "    'Age': {\n",
        "        290: 29\n",
        "    }\n",
        "}) #this is the syntax for replacing data in more than once column at once"
      ],
      "execution_count": null,
      "outputs": []
    },
    {
      "cell_type": "markdown",
      "metadata": {
        "id": "JbCpqGy0Yogk"
      },
      "source": [
        "For the problem with age, one value is higher than human age can be, you need a more complex fix.\n",
        "\n",
        "Here the 0 is a type and it should be 29. You can account for any instance that this error was made by dividing any age over 100 by 10:"
      ]
    },
    {
      "cell_type": "code",
      "metadata": {
        "id": "NhcYhYbhZgAk"
      },
      "source": [
        "df.loc[df['Age'] > 100, 'Age'] = df.loc[df['Age'] > 100, 'Age'] / 10\n"
      ],
      "execution_count": null,
      "outputs": []
    },
    {
      "cell_type": "markdown",
      "metadata": {
        "id": "i49I65rebgN8"
      },
      "source": [
        "Duplicates in Series:\n",
        "Important methods `duplicated()` and `drop_duplicates()`"
      ]
    },
    {
      "cell_type": "code",
      "metadata": {
        "id": "kC5qqYwnbfaS"
      },
      "source": [
        "ambassadors = pd.Series([\n",
        "    'France',\n",
        "    'United Kingdom',\n",
        "    'United Kingdom',\n",
        "    'Italy',\n",
        "    'Germany',\n",
        "    'Germany',\n",
        "    'Germany',\n",
        "], index=[\n",
        "    'Gérard Araud',\n",
        "    'Kim Darroch',\n",
        "    'Peter Westmacott',\n",
        "    'Armando Varricchio',\n",
        "    'Peter Wittig',\n",
        "    'Peter Ammon',\n",
        "    'Klaus Scharioth '\n",
        "])"
      ],
      "execution_count": 8,
      "outputs": []
    },
    {
      "cell_type": "code",
      "metadata": {
        "colab": {
          "base_uri": "https://localhost:8080/"
        },
        "id": "zhJj2uxmbweB",
        "outputId": "83383c22-d404-49ae-9496-f39bdbae73d5"
      },
      "source": [
        "ambassadors.duplicated()\n"
      ],
      "execution_count": 9,
      "outputs": [
        {
          "output_type": "execute_result",
          "data": {
            "text/plain": [
              "Gérard Araud          False\n",
              "Kim Darroch           False\n",
              "Peter Westmacott       True\n",
              "Armando Varricchio    False\n",
              "Peter Wittig          False\n",
              "Peter Ammon            True\n",
              "Klaus Scharioth        True\n",
              "dtype: bool"
            ]
          },
          "metadata": {
            "tags": []
          },
          "execution_count": 9
        }
      ]
    },
    {
      "cell_type": "markdown",
      "metadata": {
        "id": "BijhsU3Bb3U3"
      },
      "source": [
        "working top-down, the code counts the duplicates. The first instance of a country does not count as duplicate, but subsequent ones do.\n",
        "\n",
        "Adding attribute `keep=last` flips it, so the code keeps the last mention of a country.\n",
        "Attribute `keep=False` makes dupes true and non dupes false"
      ]
    },
    {
      "cell_type": "code",
      "metadata": {
        "colab": {
          "base_uri": "https://localhost:8080/"
        },
        "id": "scusMf6XdDHF",
        "outputId": "25f7964f-5c18-4fac-d004-178ad09f12da"
      },
      "source": [
        "ambassadors.duplicated(keep=False)"
      ],
      "execution_count": 10,
      "outputs": [
        {
          "output_type": "execute_result",
          "data": {
            "text/plain": [
              "Gérard Araud          False\n",
              "Kim Darroch            True\n",
              "Peter Westmacott       True\n",
              "Armando Varricchio    False\n",
              "Peter Wittig           True\n",
              "Peter Ammon            True\n",
              "Klaus Scharioth        True\n",
              "dtype: bool"
            ]
          },
          "metadata": {
            "tags": []
          },
          "execution_count": 10
        }
      ]
    },
    {
      "cell_type": "markdown",
      "metadata": {
        "id": "a22ZmkKkd1W9"
      },
      "source": [
        "Drop:\n",
        "gets rid of duplicated, doesn't return a Boolean"
      ]
    },
    {
      "cell_type": "code",
      "metadata": {
        "colab": {
          "base_uri": "https://localhost:8080/"
        },
        "id": "Kt5J1pgFdJOY",
        "outputId": "d2ffdea5-2b9c-4a31-c188-fba3e044400c"
      },
      "source": [
        "ambassadors.drop_duplicates() #gets rid of the duplicated cases"
      ],
      "execution_count": 11,
      "outputs": [
        {
          "output_type": "execute_result",
          "data": {
            "text/plain": [
              "Gérard Araud                  France\n",
              "Kim Darroch           United Kingdom\n",
              "Armando Varricchio             Italy\n",
              "Peter Wittig                 Germany\n",
              "dtype: object"
            ]
          },
          "metadata": {
            "tags": []
          },
          "execution_count": 11
        }
      ]
    },
    {
      "cell_type": "markdown",
      "metadata": {
        "id": "-SDBPtUMeAZw"
      },
      "source": [
        "keep last and keep false work with drop- they do the same as duplicated but they drop the values instead of returning a Boolean"
      ]
    },
    {
      "cell_type": "markdown",
      "metadata": {
        "id": "0tirTfJCedBD"
      },
      "source": [
        "Duplicates with DataFrames\n",
        "\n",
        "If 2 rows are exactly the same they are considered duplicates."
      ]
    },
    {
      "cell_type": "code",
      "metadata": {
        "colab": {
          "base_uri": "https://localhost:8080/"
        },
        "id": "tOea4ifUengp",
        "outputId": "99120c56-8e6e-485f-ae07-81e80a4c41e5"
      },
      "source": [
        "players = pd.DataFrame({\n",
        "    'Name': [\n",
        "        'Kobe Bryant',\n",
        "        'LeBron James',\n",
        "        'Kobe Bryant',\n",
        "        'Carmelo Anthony',\n",
        "        'Kobe Bryant',\n",
        "    ],\n",
        "    'Pos': [\n",
        "        'SG',\n",
        "        'SF',\n",
        "        'SG',\n",
        "        'SF',\n",
        "        'SF'\n",
        "    ]\n",
        "})\n",
        "players.duplicated()"
      ],
      "execution_count": 13,
      "outputs": [
        {
          "output_type": "execute_result",
          "data": {
            "text/plain": [
              "0    False\n",
              "1    False\n",
              "2     True\n",
              "3    False\n",
              "4    False\n",
              "dtype: bool"
            ]
          },
          "metadata": {
            "tags": []
          },
          "execution_count": 13
        }
      ]
    },
    {
      "cell_type": "markdown",
      "metadata": {
        "id": "9KHPKEL0eqrN"
      },
      "source": [
        "^Here the Kobe at [2] is a dupe of [0]. But the Kob at [4] is not, because the 'Pos' is different for that one.\n",
        "\n",
        "Adding attribute subset = 'column-name' asks the code to check dupes within a specific column. e.g:"
      ]
    },
    {
      "cell_type": "code",
      "metadata": {
        "colab": {
          "base_uri": "https://localhost:8080/"
        },
        "id": "P66cClWifTnp",
        "outputId": "bb092a76-d29e-4c66-84c2-1daf9f3fac7b"
      },
      "source": [
        "players.duplicated(subset=['Name'])"
      ],
      "execution_count": 14,
      "outputs": [
        {
          "output_type": "execute_result",
          "data": {
            "text/plain": [
              "0    False\n",
              "1    False\n",
              "2     True\n",
              "3    False\n",
              "4     True\n",
              "dtype: bool"
            ]
          },
          "metadata": {
            "tags": []
          },
          "execution_count": 14
        }
      ]
    },
    {
      "cell_type": "markdown",
      "metadata": {
        "id": "RWwBwkOxfXwb"
      },
      "source": [
        "^Now the Kobe at [4] is considered a dupe.\n",
        "\n",
        "Keep last and false still can apply. And this can all apply to drop_duplicates() too."
      ]
    },
    {
      "cell_type": "markdown",
      "metadata": {
        "id": "qRQ0yyvef0Z1"
      },
      "source": [
        "**Text Handling**\n",
        "\n",
        "Dealing with invalid text data using example df:"
      ]
    },
    {
      "cell_type": "code",
      "metadata": {
        "id": "5SYVSD63f9xh"
      },
      "source": [
        "df = pd.DataFrame({\n",
        "    'Data': [\n",
        "        '1987_M_US _1',\n",
        "        '1990?_M_UK_1',\n",
        "        '1992_F_US_2',\n",
        "        '1970?_M_   IT_1',\n",
        "        '1985_F_I  T_2'\n",
        "]})"
      ],
      "execution_count": 20,
      "outputs": []
    },
    {
      "cell_type": "markdown",
      "metadata": {
        "id": "0qWQgHe2iJBO"
      },
      "source": [
        "Use info to find out the attribute of the data. category, string, datetime all have different methods that can be used with them. Str methods are similar to pure python methods (e.g. split, replace)"
      ]
    },
    {
      "cell_type": "markdown",
      "metadata": {
        "id": "CEiOZ-mtgLOq"
      },
      "source": [
        "You can use split to separate the data, as the data follows a pattern where the answers are split by underscores. So:"
      ]
    },
    {
      "cell_type": "code",
      "metadata": {
        "colab": {
          "base_uri": "https://localhost:8080/"
        },
        "id": "-e1FkKnngVYb",
        "outputId": "071a16fd-f50b-41ad-a231-77f8ae4a0349"
      },
      "source": [
        "df['Data'].str.split('_')"
      ],
      "execution_count": 21,
      "outputs": [
        {
          "output_type": "execute_result",
          "data": {
            "text/plain": [
              "0       [1987, M, US , 1]\n",
              "1       [1990?, M, UK, 1]\n",
              "2        [1992, F, US, 2]\n",
              "3    [1970?, M,    IT, 1]\n",
              "4      [1985, F, I  T, 2]\n",
              "Name: Data, dtype: object"
            ]
          },
          "metadata": {
            "tags": []
          },
          "execution_count": 21
        }
      ]
    },
    {
      "cell_type": "code",
      "metadata": {
        "id": "TrHtS4nmgavC"
      },
      "source": [
        "df= df['Data'].str.split('_', expand=True) #expand means the splits create new columns. Assign it to df."
      ],
      "execution_count": 22,
      "outputs": []
    },
    {
      "cell_type": "code",
      "metadata": {
        "id": "MhJu4aQyg4xK"
      },
      "source": [
        "df.columns=['Year','Sex','Country','Children'] #add your own columns bc they are indexed by default when expanded"
      ],
      "execution_count": 23,
      "outputs": []
    },
    {
      "cell_type": "code",
      "metadata": {
        "colab": {
          "base_uri": "https://localhost:8080/",
          "height": 198
        },
        "id": "4XjYz7l9hTXP",
        "outputId": "3a441221-d2f6-4cad-95ed-088f829f03dd"
      },
      "source": [
        "df"
      ],
      "execution_count": 24,
      "outputs": [
        {
          "output_type": "execute_result",
          "data": {
            "text/html": [
              "<div>\n",
              "<style scoped>\n",
              "    .dataframe tbody tr th:only-of-type {\n",
              "        vertical-align: middle;\n",
              "    }\n",
              "\n",
              "    .dataframe tbody tr th {\n",
              "        vertical-align: top;\n",
              "    }\n",
              "\n",
              "    .dataframe thead th {\n",
              "        text-align: right;\n",
              "    }\n",
              "</style>\n",
              "<table border=\"1\" class=\"dataframe\">\n",
              "  <thead>\n",
              "    <tr style=\"text-align: right;\">\n",
              "      <th></th>\n",
              "      <th>Year</th>\n",
              "      <th>Sex</th>\n",
              "      <th>Country</th>\n",
              "      <th>Children</th>\n",
              "    </tr>\n",
              "  </thead>\n",
              "  <tbody>\n",
              "    <tr>\n",
              "      <th>0</th>\n",
              "      <td>1987</td>\n",
              "      <td>M</td>\n",
              "      <td>US</td>\n",
              "      <td>1</td>\n",
              "    </tr>\n",
              "    <tr>\n",
              "      <th>1</th>\n",
              "      <td>1990?</td>\n",
              "      <td>M</td>\n",
              "      <td>UK</td>\n",
              "      <td>1</td>\n",
              "    </tr>\n",
              "    <tr>\n",
              "      <th>2</th>\n",
              "      <td>1992</td>\n",
              "      <td>F</td>\n",
              "      <td>US</td>\n",
              "      <td>2</td>\n",
              "    </tr>\n",
              "    <tr>\n",
              "      <th>3</th>\n",
              "      <td>1970?</td>\n",
              "      <td>M</td>\n",
              "      <td>IT</td>\n",
              "      <td>1</td>\n",
              "    </tr>\n",
              "    <tr>\n",
              "      <th>4</th>\n",
              "      <td>1985</td>\n",
              "      <td>F</td>\n",
              "      <td>I  T</td>\n",
              "      <td>2</td>\n",
              "    </tr>\n",
              "  </tbody>\n",
              "</table>\n",
              "</div>"
            ],
            "text/plain": [
              "    Year Sex Country Children\n",
              "0   1987   M     US         1\n",
              "1  1990?   M      UK        1\n",
              "2   1992   F      US        2\n",
              "3  1970?   M      IT        1\n",
              "4   1985   F    I  T        2"
            ]
          },
          "metadata": {
            "tags": []
          },
          "execution_count": 24
        }
      ]
    },
    {
      "cell_type": "code",
      "metadata": {
        "colab": {
          "base_uri": "https://localhost:8080/"
        },
        "id": "wajr4FNohUz5",
        "outputId": "68b70a84-0819-41be-fdf6-d2e4b3ded322"
      },
      "source": [
        "df['Year'].str.contains('\\?') #use contains to create a Boolean mask for where the ? are"
      ],
      "execution_count": 25,
      "outputs": [
        {
          "output_type": "execute_result",
          "data": {
            "text/plain": [
              "0    False\n",
              "1     True\n",
              "2    False\n",
              "3     True\n",
              "4    False\n",
              "Name: Year, dtype: bool"
            ]
          },
          "metadata": {
            "tags": []
          },
          "execution_count": 25
        }
      ]
    },
    {
      "cell_type": "code",
      "metadata": {
        "colab": {
          "base_uri": "https://localhost:8080/"
        },
        "id": "i8vlJaoXhmHP",
        "outputId": "b2a0b9c8-123d-46cd-a0a4-51f58da423aa"
      },
      "source": [
        "df['Country'].str.strip() #use strip to remove whitespace OR replace:\n",
        "df['Country'].str.replace(' ', '')"
      ],
      "execution_count": 27,
      "outputs": [
        {
          "output_type": "execute_result",
          "data": {
            "text/plain": [
              "0    US\n",
              "1    UK\n",
              "2    US\n",
              "3    IT\n",
              "4    IT\n",
              "Name: Country, dtype: object"
            ]
          },
          "metadata": {
            "tags": []
          },
          "execution_count": 27
        }
      ]
    },
    {
      "cell_type": "code",
      "metadata": {
        "id": "v9qQssdfiq5w"
      },
      "source": [
        "df['Year'].str.replace(r'(?P<year>\\d{4})\\?', lambda m: m.group('year'))\n",
        "\n",
        "#can use regular expressions here to replace."
      ],
      "execution_count": null,
      "outputs": []
    }
  ]
}